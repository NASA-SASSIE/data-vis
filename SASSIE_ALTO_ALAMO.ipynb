{
 "cells": [
  {
   "cell_type": "code",
   "execution_count": null,
   "id": "fd6144cb-10bc-4994-a0ac-67e169c4d91b",
   "metadata": {
    "tags": []
   },
   "outputs": [],
   "source": [
    "###SASSIE ALTO_ALAMO DATA USE AND VISUALIZATION##\n",
    "import numpy as np\n",
    "import xarray as xr\n",
    "import glob \n",
    "from datetime import datetime, timedelta \n",
    "import matplotlib.pyplot as plt\n",
    "import cartopy\n",
    "import matplotlib\n",
    "import os\n",
    "import sys\n",
    "import pandas as pd\n",
    "\n",
    "#local directory where the Profiling Float data is stored\n",
    "dir_in = '/Users/westbrooke/Library/CloudStorage/OneDrive-UNC-Wilmington/SASSIE/L2/ALAMO_ALTO/'\n",
    "\n",
    "#local directory where figures will be saved\n",
    "fig_dir = '/Users/westbrooke/Library/CloudStorage/OneDrive-UNC-Wilmington/SASSIE/communication/notebooks_images/ALAMO_ALTO/'\n",
    "if not os.path.exists(fig_dir):\n",
    "    os.makedirs(fig_dir)\n"
   ]
  },
  {
   "cell_type": "code",
   "execution_count": null,
   "id": "49233cc4-782c-45fb-984f-04bfe2ba0eb5",
   "metadata": {
    "tags": []
   },
   "outputs": [],
   "source": [
    "##LOAD IN THE NETCDF FILES AND LOOK AT THEIR METADATA  \n",
    "files = sorted(glob.glob(dir_in + '/*.nc'))\n",
    "for file in files:\n",
    "    ##SHOWS THE GLOBAL METEADATA AND WHICH VARIABLES ARE IN THE FILE\n",
    "    ds = xr.open_dataset(file)\n",
    "    #print(ds)\n",
    "    \n",
    "    ##SHOW THE VARIABLE ATTRIBUTES FOR ANY GIVEN VARIABLE WITHIN THE FILE. Replace \"salinity\" with your variable of interest:\n",
    "    variable_info = ds.time\n",
    "    #print(variable_info)"
   ]
  },
  {
   "cell_type": "code",
   "execution_count": null,
   "id": "2b8df94b-c853-4de3-a08a-23ccac715efa",
   "metadata": {
    "tags": []
   },
   "outputs": [],
   "source": [
    "def define_variable_attributes(var):\n",
    "    if var =='salinity':\n",
    "        colormap = 'viridis'\n",
    "        var_label = 'Salinity'\n",
    "    if var =='temperature':\n",
    "        colormap = 'plasma'\n",
    "        var_label = 'Water Temperature ($^{\\circ}$C)'\n",
    "    return colormap,var_label"
   ]
  },
  {
   "cell_type": "code",
   "execution_count": null,
   "id": "234e93de-9052-4c61-8a23-ffc9cdfa0288",
   "metadata": {
    "tags": []
   },
   "outputs": [],
   "source": [
    "#PLOT THE PATHS OF THE FLOATS\n",
    "def map_float_paths():\n",
    "\n",
    "    #LOAD SHIP TRACK DATA\n",
    "    ds_ship = xr.open_dataset('/Users/westbrooke/Library/CloudStorage/OneDrive-UNC-Wilmington/SASSIE/L2/TSG/SASSIE_Fall_2022_Shipboard_TSG.nc')\n",
    "    ship_time = np.squeeze(ds_ship['time'])\n",
    "    ship_lat = np.squeeze(ds_ship['latitude'])\n",
    "    ship_lon = np.squeeze(ds_ship['longitude'])\n",
    "    \n",
    "    ##CREATE A MAP WITH LAND AND CITY MARKERS  \n",
    "    latmin = 70\n",
    "    latmax =74\n",
    "    lonmin=-157\n",
    "    lonmax=-144\n",
    "    \n",
    "    fig = plt.figure(figsize=(10,8))\n",
    "    ax = plt.axes(projection=cartopy.crs.NorthPolarStereo(central_longitude=-150))\n",
    "    ax.set_extent([lonmin,lonmax,latmin,latmax], crs=cartopy.crs.PlateCarree())\n",
    "    ax.coastlines(color='k')  \n",
    "    ax.add_feature(cartopy.feature.LAND, facecolor = '0.50')\n",
    "    ax.add_feature(cartopy.feature.RIVERS,facecolor='blue')\n",
    "\n",
    "    \n",
    "    gl = ax.gridlines(draw_labels=True, dms=True, x_inline=False, y_inline=False, alpha=0.3) \n",
    "    ax.set_title('ALTO/ALAMO Float Paths',fontsize=22,pad=1) \n",
    "    gl.ylocator = matplotlib.ticker.FixedLocator(np.arange(60,75,1))\n",
    "    gl.xlocator = matplotlib.ticker.FixedLocator(np.arange(-170,-140,2))\n",
    "    gl.top_labels = False\n",
    "    gl.bottom_labels = True\n",
    "    gl.right_labels = False\n",
    "    \n",
    "    if (latmin<71.2906) & (lonmin<-156.7886):\n",
    "        utqiagvik = ax.scatter(-156.7886,71.2906,s=100,transform=cartopy.crs.PlateCarree(),c='red',marker = '*',label='Utqiagvik, AK',zorder=2)\n",
    "    if (latmin<70.2002) & (lonmax>-148.4597):\n",
    "        deadhorse = ax.scatter(-148.4597,70.2002,s=100,c='cyan',transform=cartopy.crs.PlateCarree(),marker = '*',label='Deadhorse, AK',zorder=2)\n",
    "    plt.legend(loc=2)\n",
    "    \n",
    "    \n",
    "    ##APPLY SHIP DATA\n",
    "    track = ax.plot(ship_lon, \n",
    "                 ship_lat,linewidth = 0.5,\n",
    "                 c='black',\n",
    "                   transform=cartopy.crs.PlateCarree(),label = 'Ship Track',zorder=1)\n",
    "    plt.legend(loc=2)\n",
    "    \n",
    "    #LOAD AND APPLY FLOAT DATA\n",
    "    for file in files: \n",
    "        ds = xr.open_dataset(file)\n",
    "        float_time = np.squeeze(ds['time'])\n",
    "        float_lat = np.squeeze(ds['latitude'])\n",
    "        float_lon = np.squeeze(ds['longitude'])\n",
    "        casts = ax.scatter(float_lon,float_lat,s = 10,\n",
    "                           c = float_time,cmap = 'jet',\n",
    "                           transform=cartopy.crs.PlateCarree(),zorder=2,\n",
    "                          vmin=min(ship_time.values), vmax=max(float_time.values))\n",
    "\n",
    "    cbar = fig.colorbar(casts, ax=ax, orientation=\"horizontal\", pad=0.1)\n",
    "    cbar.set_label(label='Date',size='large',weight='bold')\n",
    "    cbar_tick_array=(np.linspace(ship_time.values[0].astype('int64'),float_time.values[-1].astype('int64'),5))\n",
    "    cbar.set_ticks(cbar_tick_array)\n",
    "    cbar.set_ticklabels(pd.to_datetime(cbar_tick_array).date)\n",
    "    \n",
    "    ##SAVE FIGURE \n",
    "    if not os.path.exists(fig_dir+'map/'):\n",
    "        os.makedirs(fig_dir+'map/')\n",
    "    \n",
    "    print('Saving Output Image:  '+fig_dir+'map/ALTO_ALAMO_paths.png')\n",
    "    plt.savefig(fig_dir+'map/ALTO_ALAMO_paths.png',dpi='figure',format='png')\n",
    "    \n",
    "    \n"
   ]
  },
  {
   "cell_type": "code",
   "execution_count": null,
   "id": "cf2c07af-f841-4f0d-9bec-2be68a779e59",
   "metadata": {
    "tags": []
   },
   "outputs": [],
   "source": [
    "map_float_paths()"
   ]
  },
  {
   "cell_type": "code",
   "execution_count": null,
   "id": "ea95ea66-2930-4ea0-9d04-adb0b61f2151",
   "metadata": {
    "tags": []
   },
   "outputs": [],
   "source": [
    "##USE TO PLOT THE PROFILES TAKEN BY ANY GIVEN FLOAT \n",
    "def float_profiles(float_number,var):\n",
    "    \n",
    "    #GET FLOAT DATA\n",
    "    file = '/Users/westbrooke/Library/CloudStorage/OneDrive-UNC-Wilmington/SASSIE/L2/ALAMO_ALTO/SASSIE_Fall_2022_ALAMO_ALTO_'+str(float_number)+'.nc'\n",
    "    ds_float = xr.open_dataset(file)\n",
    "    float_lat = ds_float['latitude']\n",
    "    float_lon = ds_float['longitude']\n",
    "    float_depth = ds_float['depth']\n",
    "    float_var = ds_float[var]\n",
    "    \n",
    "    [lat,depth] = np.meshgrid(float_lat,float_depth)\n",
    "    [lon,depth] = np.meshgrid(float_lon,float_depth)\n",
    "    \n",
    "    \n",
    "    ##CREATE 3D PLOT \n",
    "    colormap,var_label = define_variable_attributes(var)\n",
    "\n",
    "    #To show the whole campaign area, use latmin = 70, latmax =74,lonmin=-157,lonmax=-140\n",
    "    latmin = min(float_lat.values)\n",
    "    latmax = max(float_lat.values)\n",
    "    lonmin = min(float_lon.values)\n",
    "    lonmax = max(float_lon.values)\n",
    "    dmin = min(float_depth.values)\n",
    "    dmax = max(float_depth.values)+0.5\n",
    "    \n",
    "      \n",
    "    fig = plt.figure(figsize=(10,8))\n",
    "    ax = plt.axes(projection='3d',computed_zorder=False)\n",
    "    ax.xaxis.pane.fill = False\n",
    "    ax.yaxis.pane.fill = False\n",
    "    ax.zaxis.pane.fill = False    \n",
    "    \n",
    "    ax.set_title('ALTO/ALAMO'+' '+var_label+' '+'Readings from Float '+str(float_number),fontsize=15,pad=None)\n",
    "\n",
    "    ax.set_xlim(lonmin, lonmax); ax.set_ylim(latmin,latmax); ax.set_zlim(dmin,dmax);\n",
    "    ax.get_xaxis().get_major_formatter().set_useOffset(False)\n",
    "    xticks = list(np.linspace(lonmin,lonmax,4))\n",
    "    ax.set_xticks(np.around(xticks,2))\n",
    "    yticks = list(np.linspace(latmin,latmax,4))\n",
    "    ax.set_yticks(np.around(yticks,2))\n",
    "    zticks = list(np.linspace(dmin,dmax,4))\n",
    "    ax.set_zticks(np.around(zticks,2))\n",
    "    ax.set_xlabel('Longitude')\n",
    "    ax.set_ylabel('Latitude')\n",
    "    ax.set_zlabel('Depth (m)')\n",
    "    ax.view_init(210,60)\n",
    "\n",
    "        \n",
    "    ##APPLY FLOAT DATA   \n",
    "    a = ax.scatter(lon,lat,depth,c=(float_var.values),cmap = colormap,s=2,zorder=1)    \n",
    "    fig.colorbar(a,label = var_label)\n",
    "    \n",
    "    ##ADD BLACK AT TOP OF EACH PROFILE FOR CLARITY\n",
    "    b = ax.plot(float_lon,float_lat,linewidth=2,\n",
    "                 color='black',label = 'Float Path',zorder=1)\n",
    "    \n",
    "    plt.legend()\n",
    "    \n",
    "    ## SAVE THE FIGURE\n",
    "    if not os.path.exists(fig_dir+var+'/'):\n",
    "        os.makedirs(fig_dir+var+'/')\n",
    "    \n",
    "    print('Saving Output Image:  '+fig_dir+var+'/'+'ALTO_ALAMO_'+var+'_Float_'+str(float_number)+'.png')\n",
    "    plt.savefig(fig_dir+var+'/'+'ALTO_ALAMO_'+var+'_Float_'+str(float_number)+'.png',dpi='figure',format='png')\n",
    "    "
   ]
  },
  {
   "cell_type": "code",
   "execution_count": null,
   "id": "703c7626-b0de-40b1-8a92-e9a43098a35f",
   "metadata": {
    "tags": []
   },
   "outputs": [],
   "source": [
    "float_profiles(11132,'temperature')\n",
    "float_profiles(11133,'temperature')\n",
    "float_profiles(11136,'temperature')\n",
    "float_profiles(9097,'temperature')\n",
    "float_profiles(9098,'temperature')\n",
    "float_profiles(9101,'temperature')\n",
    "float_profiles(11131,'temperature')"
   ]
  },
  {
   "cell_type": "code",
   "execution_count": null,
   "id": "c23d45c8-fd43-4539-8780-2823e1f85a66",
   "metadata": {
    "tags": []
   },
   "outputs": [],
   "source": [
    "float_profiles(11132,'salinity')\n",
    "float_profiles(11133,'salinity')\n",
    "float_profiles(11136,'salinity')\n",
    "float_profiles(9097,'salinity')\n",
    "float_profiles(9098,'salinity')\n",
    "float_profiles(9101,'salinity')\n",
    "float_profiles(11131,'salinity')"
   ]
  },
  {
   "cell_type": "code",
   "execution_count": null,
   "id": "ee464743-b801-42de-8c2c-325699285980",
   "metadata": {
    "tags": []
   },
   "outputs": [],
   "source": [
    "##PLOT TEMP/SALINITY PROFILE FROM A GIVEN FLOAT CLOSEST TO A GIVEN TIME: \n",
    "def plot_float_profile_by_date(float_number,time):\n",
    "    \n",
    "    #GET ALL FLOAT DATA\n",
    "    file = '/Users/westbrooke/Library/CloudStorage/OneDrive-UNC-Wilmington/SASSIE/L2/ALAMO_ALTO/SASSIE_Fall_2022_ALAMO_ALTO_'+str(float_number)+'.nc'\n",
    "    ds_float = xr.open_dataset(file)\n",
    "    float_time = ds_float['time'].astype('int64')\n",
    "    \n",
    "    ##FIND THE CLOSES TIME TO THE TIME SPECIFIED\n",
    "    time_difference = abs((float_time.values)-np.datetime64(time,'ns').astype('int64'))\n",
    "    cast_indx = np.squeeze(np.where(time_difference == min(time_difference)))\n",
    "    \n",
    "    #PULL OUT LAT,LON,TIME,AND DATA OF CAST\n",
    "    cast_time = ds_float['time'].values[cast_indx]\n",
    "    float_lat = ds_float['latitude'].values[cast_indx]\n",
    "    float_lon = ds_float['longitude'].values[cast_indx]\n",
    "    float_depth = ds_float['depth'].values\n",
    "    float_temp = ds_float['temperature'].values[:,cast_indx]\n",
    "    float_sal = ds_float['salinity'].values[:,cast_indx]\n",
    "    \n",
    "    \n",
    "    ## PLOT THE DATA\n",
    "    fig,ax1 = plt.subplots()\n",
    "    ax2 = ax1.twiny()\n",
    "    ax1.plot(float_temp,float_depth,linewidth=0.4,c='blue')\n",
    "    ax1.invert_yaxis()\n",
    "    ax1.set_xlabel('Temperature ($^{\\circ}$C)',color = 'blue')\n",
    "    ax1.set_ylabel('Depth (m)')\n",
    "    ax2.plot(float_sal,float_depth,linewidth=0.4,c='red')\n",
    "    ax2.set_xlabel('Salinity',color ='red')\n",
    "    fig.suptitle('ALTO/ALAMO Float '+str(float_number)+' Salinity and Temperature Profile on '+str(pd.to_datetime(cast_time).year).zfill(2)+'/'+str(pd.to_datetime(cast_time).month).zfill(2)+'/'+str(pd.to_datetime(cast_time).day).zfill(2)+' at '+str(pd.to_datetime(cast_time).hour).zfill(2)+':'+str(pd.to_datetime(cast_time).minute).zfill(2)+':'+str(pd.to_datetime(cast_time).second).zfill(2)+'\\n'+str(float_lat)+' $^{\\circ}$N, '+str(float_lon)+' $^{\\circ}$E',y=1.05)\n",
    "    \n",
    "    \n",
    "    ## SAVE THE FIGURE\n",
    "    if not os.path.exists(fig_dir+'profiles/'):\n",
    "        os.makedirs(fig_dir+'profiles/')\n",
    "    print('Saving Output Image:  '+fig_dir+'profiles/'+'float'+str(float_number)+'_profile_'+str(pd.to_datetime(cast_time).year)+str(pd.to_datetime(cast_time).month).zfill(2)+str(pd.to_datetime(cast_time).day).zfill(2)+str(pd.to_datetime(cast_time).hour).zfill(2)+str(pd.to_datetime(cast_time).minute).zfill(2)+str(pd.to_datetime(cast_time).second).zfill(2)+'.png')\n",
    "    plt.savefig(fig_dir+'profiles/'+'float'+str(float_number)+'_profile_'+str(pd.to_datetime(cast_time).year)+str(pd.to_datetime(cast_time).month).zfill(2)+str(pd.to_datetime(cast_time).day).zfill(2)+str(pd.to_datetime(cast_time).hour).zfill(2)+str(pd.to_datetime(cast_time).minute).zfill(2)+str(pd.to_datetime(cast_time).second).zfill(2)+'.png',dpi='figure',format='png')\n",
    "\n"
   ]
  },
  {
   "cell_type": "code",
   "execution_count": null,
   "id": "e8240514-f12c-4668-9b4f-7cdc0d5bc41f",
   "metadata": {
    "tags": []
   },
   "outputs": [],
   "source": [
    "plot_float_profile_by_date(9101,'2022-09-21T03:30')\n"
   ]
  },
  {
   "cell_type": "code",
   "execution_count": null,
   "id": "3edd613c-424f-470b-abb2-8198f1957ba6",
   "metadata": {},
   "outputs": [],
   "source": []
  }
 ],
 "metadata": {
  "kernelspec": {
   "display_name": "Python 3 (ipykernel)",
   "language": "python",
   "name": "python3"
  },
  "language_info": {
   "codemirror_mode": {
    "name": "ipython",
    "version": 3
   },
   "file_extension": ".py",
   "mimetype": "text/x-python",
   "name": "python",
   "nbconvert_exporter": "python",
   "pygments_lexer": "ipython3",
   "version": "3.9.16"
  }
 },
 "nbformat": 4,
 "nbformat_minor": 5
}
