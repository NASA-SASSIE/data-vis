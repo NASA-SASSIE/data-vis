{
 "cells": [
  {
   "cell_type": "markdown",
   "id": "9bfd244c-10d2-4670-b73f-df741c4080a8",
   "metadata": {
    "tags": []
   },
   "source": [
    "<h1>SASSIE Jet SSP Data Use and Visualization</h1>\n",
    "<p> The Jet SSP is a remotely operated platform that was used to take additional measurements of physical variables near the ship track durring some parts of the campaign with fixed-depth CTD sensors and meteorlogical sensors. Jet SSP data are downloaded and plotted using the code below! <b>Please run the 'Data Download and Metadata Viewing' and 'Supporting Code' sections in order before running the 'Figure Making Code'.</b> </p>\n",
    "    <p>The aim of this notebook is to assist the end user in exploratory data analysis by downloading the SASSIE data from NASA's PODAAC, opening the dataset and displaying it's associated metadata, and creating a few visualizations. This notebook was created by Elizabeth Westbrook. For questions and trouble shooting, please email westbrooke@uncw.edu.</p>"
   ]
  },
  {
   "cell_type": "markdown",
   "id": "922a5f8f-b980-40a4-83de-0023ef0b9bc5",
   "metadata": {
    "jp-MarkdownHeadingCollapsed": true,
    "tags": []
   },
   "source": [
    "# Data Download and Metadata Viewing\n",
    "The code in this section will download the dataset from PO.DAAC and open it as an xarray object for metadata and variable attribute viewing."
   ]
  },
  {
   "cell_type": "code",
   "execution_count": null,
   "id": "600ac878-61f6-446c-a46f-e2673385cc19",
   "metadata": {
    "tags": []
   },
   "outputs": [],
   "source": [
    "import numpy as np\n",
    "import xarray as xr\n",
    "import glob \n",
    "from datetime import datetime, timedelta \n",
    "import matplotlib.pyplot as plt\n",
    "import cartopy\n",
    "import matplotlib\n",
    "import os\n",
    "import sys\n",
    "import pandas as pd\n",
    "from mpl_toolkits import mplot3d\n",
    "import math\n",
    "import requests"
   ]
  },
  {
   "cell_type": "markdown",
   "id": "990e6953-5c12-43bb-adf7-5bba298fefb6",
   "metadata": {
    "jp-MarkdownHeadingCollapsed": true,
    "tags": []
   },
   "source": [
    "<h2>Download The Jet SSP data from PO.DAAC</h2>\n",
    "<p> All data from the SASSIE campaign is stored on NASA's PO.DAAC. The code in this section of the notebook will download SASSIE Jet SSP data from PO.DAAC, which is accessed through earthdata. If you do not already have an earthdata account, you can create one <a href=\"https://urs.earthdata.nasa.gov/\">here</a> . </p>\n",
    "    <p>Please enter your earthdata credentials below.</p>"
   ]
  },
  {
   "cell_type": "code",
   "execution_count": null,
   "id": "421c8abe-ef8d-46ff-9178-00f3e8c5b19c",
   "metadata": {},
   "outputs": [],
   "source": [
    "username = 'your_username'\n",
    "password = 'your_password'\n",
    "earthdata = requests.auth.HTTPBasicAuth(username, password)\n",
    "\n",
    "##LOCAL DIRECTORY TO DATA\n",
    "dir_in = 'Data/jetSSP/' "
   ]
  },
  {
   "cell_type": "markdown",
   "id": "59da9df8-fd25-41a2-a7d8-2f5e79c263ac",
   "metadata": {},
   "source": [
    "The next block of code creates the directory specified above and downloads the shipboard TSG file to your binder session if it has not already been downloaded.<b> To download the dataset to your local disk from here, right click on the file you want to download and click 'download'. </b>"
   ]
  },
  {
   "cell_type": "code",
   "execution_count": null,
   "id": "342a4a70-88a9-4228-bf77-1321d56e39a8",
   "metadata": {
    "tags": []
   },
   "outputs": [],
   "source": [
    "##SASSIE DATA DIR\n",
    "if not os.path.exists(dir_in):\n",
    "    os.makedirs(dir_in)\n",
    "\n",
    "deployment_date = ['10','11','17','20','21','25','26']\n",
    "for date in deployment_date:\n",
    "    filename = 'SASSIE_Fall_2022_JetSSP_202209'+date+'.nc'\n",
    "    if os.path.isfile(dir_in+filename)==False:\n",
    "        url = 'https://archive.podaac.earthdata.nasa.gov/podaac-ops-cumulus-protected/SASSIE_L2_JET_SSP_V1/'+filename\n",
    "        with requests.Session() as session:\n",
    "                session.auth = (username, password)\n",
    "                r1 = session.request('get', url)\n",
    "                r = session.get(r1.url, auth=(username, password))\n",
    "                if r.status_code == 200:\n",
    "                    if r.ok:\n",
    "                        with open(dir_in+filename, 'wb') as f:\n",
    "                            f.write(r.content) \n",
    "                            print('Saving Input File: ' + dir_in+filename) \n",
    "                else:\n",
    "                    print(\"Error:\", r.status_code)\n",
    "                    if r.status_code == 401:\n",
    "                        print ('Your Username and/or password are incorrect. Please try again')\n",
    "    else: \n",
    "        print('JetSSP Deployment on 09/'+ date+'/2022 file is already in binder directory')"
   ]
  },
  {
   "cell_type": "markdown",
   "id": "b9575b37-cada-4516-9fe3-4f12bc891da8",
   "metadata": {
    "jp-MarkdownHeadingCollapsed": true,
    "tags": []
   },
   "source": [
    "<h2> View The Metadata Inside the JetSSP Files</h2>\n",
    "\n",
    "The netCDF file has global metadata attributes and attributes associated with each variable. This next block will load data and metadata of the netCDF file into an xarray object (ds). <br> The data set will then be displayed in a clickable HTML format. "
   ]
  },
  {
   "cell_type": "code",
   "execution_count": null,
   "id": "8ba562fe-e548-431c-962d-a81cb64f67cc",
   "metadata": {},
   "outputs": [],
   "source": [
    "print('Displaying just 1/7 JetSSP files')\n",
    "#See information about the entire dataset:\n",
    "files = sorted(glob.glob(dir_in + '/*.nc'))\n",
    "ds = xr.open_dataset(files[0])\n",
    "ds"
   ]
  },
  {
   "cell_type": "markdown",
   "id": "5429d367-b235-40e8-907b-a1b3df3f731e",
   "metadata": {
    "jp-MarkdownHeadingCollapsed": true,
    "tags": []
   },
   "source": [
    "# Supporting Code \n",
    "The code in this section provides a set up for the figure making code below by defining directories for data and figures and creating functions that will be called to actually map the data"
   ]
  },
  {
   "cell_type": "markdown",
   "id": "f34a1b75-4c1b-41b3-a44e-8177d0cd0843",
   "metadata": {
    "jp-MarkdownHeadingCollapsed": true,
    "tags": []
   },
   "source": [
    "<h3>Create a Directory to Save Figures</h3>"
   ]
  },
  {
   "cell_type": "code",
   "execution_count": null,
   "id": "571f9cf9-5db7-4b45-82ae-2e0cfa87fdeb",
   "metadata": {
    "tags": []
   },
   "outputs": [],
   "source": [
    "#LOCAL DIRECTORY TO SAVE FIGURES\n",
    "fig_dir ='Figures/JetSSP/'\n",
    "#FIGURE DIR \n",
    "if not os.path.exists(fig_dir):\n",
    "    os.makedirs(fig_dir)"
   ]
  },
  {
   "cell_type": "markdown",
   "id": "7e3798c8-ff3b-4c95-ae6d-e945488507d2",
   "metadata": {
    "jp-MarkdownHeadingCollapsed": true,
    "tags": []
   },
   "source": [
    "<h3>Define a Colormap and Label for Each Variable in the File</h3>\n",
    "Within SASSIE's collection of jupyter notebooks, the colormaps used for each variable are held as consistant as possible across all datasets. This function defines the colormap and a label for the variable of interest. "
   ]
  },
  {
   "cell_type": "code",
   "execution_count": null,
   "id": "71eb06fc-4ce2-4cf1-a840-b9d2a0808d82",
   "metadata": {},
   "outputs": [],
   "source": [
    "#DEFINES COLORMAPS AND LABELS OF EACH VARIABLE IN THIS DATA SET\n",
    "def define_variable_attributes(var):\n",
    "    if (var=='wind_speed'): \n",
    "        colormap = 'cividis'\n",
    "        var_label = 'Wind Speed (m/s)'\n",
    "    if (var=='wind_direction'):\n",
    "        colormap = 'twilight'\n",
    "        var_label = 'Wind Direction ($^{\\circ}$N)'\n",
    "    if (var =='air_temperature'):\n",
    "        colormap = 'magma'\n",
    "        var_label = 'Air Temperature ($^{\\circ}$C)'\n",
    "    if (var == 'air_pressure'):\n",
    "        colormap = 'Blues'\n",
    "        var_label= 'Air Pressure (Pa)'\n",
    "    if var =='salinity':\n",
    "        colormap = 'viridis'\n",
    "        var_label = 'Salinity'\n",
    "    if var =='temperature':\n",
    "        colormap = 'plasma'\n",
    "        var_label = 'Water Temperature ($^{\\circ}$C)'\n",
    "    if var == 'time':\n",
    "        colormap = 'jet'\n",
    "        var_label = 'Date'\n",
    "    if var=='pressure':\n",
    "        colormap='Oranges'\n",
    "        var_label = 'Pressure (dbar)'\n",
    "    return colormap,var_label"
   ]
  },
  {
   "cell_type": "markdown",
   "id": "1b3b9973-f184-49e5-8ad4-70585fc26dae",
   "metadata": {
    "jp-MarkdownHeadingCollapsed": true,
    "tags": []
   },
   "source": [
    "<h3>Define a Function to Create a Map of the Study Area</h3>\n",
    "The following function creates a map of the SASSIE study area, which is defined by minimum and maximum lat/lon values. These ranges can be changed later when the function is called to zoom in/out on the study area."
   ]
  },
  {
   "cell_type": "code",
   "execution_count": null,
   "id": "35d9e4f5-4520-44da-956a-7ffad008cac5",
   "metadata": {
    "tags": []
   },
   "outputs": [],
   "source": [
    "def map_study_area(latmin,latmax,lonmin,lonmax):\n",
    "    \n",
    "    global fig \n",
    "    global ax\n",
    "    \n",
    "    #create the map as a figure, set the lat and lon ranges, and add land + river data:\n",
    "    fig = plt.figure(figsize=(10,8))\n",
    "    ax = plt.axes(projection=cartopy.crs.NorthPolarStereo(central_longitude=-150))\n",
    "    ax.set_extent([lonmin,lonmax,latmin,latmax], crs=cartopy.crs.PlateCarree())\n",
    "    ax.coastlines(color='k')  \n",
    "    ax.add_feature(cartopy.feature.LAND, facecolor = '0.50',zorder=1)\n",
    "    ax.add_feature(cartopy.feature.RIVERS,facecolor='blue')\n",
    "    #Add lat and lon gridlines and labels:\n",
    "    gl = ax.gridlines(draw_labels=True, dms=True, x_inline=False, y_inline=False, alpha=0.3) #draw_labels=True gives lat labels.\n",
    "    gl.ylocator = matplotlib.ticker.FixedLocator(np.arange(60,90,1))\n",
    "    gl.xlocator = matplotlib.ticker.FixedLocator(np.arange(-180,180,2))\n",
    "    gl.top_labels = False\n",
    "    gl.bottom_labels = True \n",
    "    gl.right_labels = False\n",
    "    \n",
    "    #Add markers for reference cities on the coast:\n",
    "    if (latmin<71.2906) & (lonmin<-156.7886):\n",
    "        utqiagvik = ax.scatter(-156.7886,71.2906,s=100,transform=cartopy.crs.PlateCarree(),c='red',marker = '*',label='Utqiagvik, AK',zorder=2)\n",
    "    if (latmin<70.2002) & (lonmax>-148.4597):\n",
    "        deadhorse = ax.scatter(-148.4597,70.2002,s=100,c='cyan',transform=cartopy.crs.PlateCarree(),marker = '*',label='Deadhorse, AK',zorder=2)\n",
    "        "
   ]
  },
  {
   "cell_type": "markdown",
   "id": "39d5a9a4-2ca0-4b10-9ed8-ba35cfc8c280",
   "metadata": {
    "jp-MarkdownHeadingCollapsed": true,
    "tags": []
   },
   "source": [
    "<h3>Define a Function to Create a 3D Grid of Latitude, Longitude, and Depth</h3>\n",
    "The following function creates a 3D grid for plotting 3 dimensional cast data from the castaway CTD. "
   ]
  },
  {
   "cell_type": "code",
   "execution_count": null,
   "id": "64d86e78-f942-41f8-aba1-1a089a83d7fe",
   "metadata": {},
   "outputs": [],
   "source": [
    "def make_3d_grid(latmin,latmax,lonmin,lonmax,dmin,dmax):    \n",
    "        global fig \n",
    "        global ax\n",
    "        \n",
    "        fig = plt.figure(figsize=(10,8))\n",
    "        ax = plt.axes(projection='3d',computed_zorder=False)\n",
    "        ax.xaxis.pane.fill = False\n",
    "        ax.yaxis.pane.fill = False\n",
    "        ax.zaxis.pane.fill = False    \n",
    "\n",
    "\n",
    "        ax.set_xlim(lonmin, lonmax); ax.set_ylim(latmin,latmax); ax.set_zlim(dmin,dmax);\n",
    "        ax.get_xaxis().get_major_formatter().set_useOffset(False)\n",
    "        xticks = list(np.linspace(lonmin,lonmax,4))\n",
    "        ax.set_xticks(np.around(xticks,2))\n",
    "        ax.set_xticklabels(np.around(xticks,2),rotation=30, ha='center',va='center', minor=False,size='small')\n",
    "\n",
    "        yticks = list(np.linspace(latmin,latmax,4))\n",
    "        ax.set_yticks(np.around(yticks,2))\n",
    "        ax.invert_yaxis()\n",
    "        ax.set_yticklabels(np.around(yticks,2),rotation=-15,va='bottom', minor=False,size='small')\n",
    "\n",
    "        zticks = list(np.linspace(dmin,dmax,4))\n",
    "        ax.set_zticks(np.around(zticks,2))\n",
    "        ax.set_zticklabels(np.around(zticks,2),ha='center',va='center', minor=False,size='small')\n",
    "\n",
    "        ax.set_xlabel('Longitude',fontsize=13,labelpad=10,fontweight='bold')\n",
    "        ax.set_ylabel('Latitude',fontsize=13,labelpad = 7,fontweight='bold')\n",
    "        ax.set_zlabel('Depth (m)',fontsize=13,labelpad = 16,fontweight='bold')\n",
    "        ax.view_init(195,280)\n",
    "        fig.canvas.draw()\n",
    "        plt.tight_layout()"
   ]
  },
  {
   "cell_type": "markdown",
   "id": "f81b4d6a-8e8e-4663-9448-4a5f2927ee84",
   "metadata": {
    "jp-MarkdownHeadingCollapsed": true,
    "tags": []
   },
   "source": [
    "<h3>Configure Supporting Data to Add to Maps</h3>\n",
    "<p>The functions for viewing and plotting this data set below have options to include bathymetry, ice,  and/or shiptrack data to add context to maps. If you are using these options, run\n",
    "    <br>the following code blocks to:\n",
    "    <br>1. Create a directory for SASSIE Ship Track data, download and add AMSR Ice Data and acess bathymetry data from NOAA\n",
    "    <br>2. Define functions that add these data to your map when called.</p>"
   ]
  },
  {
   "cell_type": "markdown",
   "id": "b941715a-a942-44f3-9d69-a6ae75cd1270",
   "metadata": {
    "jp-MarkdownHeadingCollapsed": true,
    "tags": []
   },
   "source": [
    "<h4>Define a Function to Add Ice Data to a Map</h4>\n",
    "This function will download the AMSR ice product at the date specified specified and add it to the plot in blue. "
   ]
  },
  {
   "cell_type": "code",
   "execution_count": null,
   "id": "5738d476-aa09-4e0d-a9f0-7c910c28a475",
   "metadata": {},
   "outputs": [],
   "source": [
    "# DIRECTORY TO ICE DATA:\n",
    "ice_dir = 'Ice_Data/'\n",
    "\n",
    "#ICE DATA DIR\n",
    "if not os.path.exists(ice_dir):\n",
    "    os.makedirs(ice_dir)\n",
    "\n",
    "def add_ice_data(ice_date):\n",
    "        #get ice data at ice_date\n",
    "        play_start = ice_date\n",
    "        filename_si='AMSR_U2_L3_SeaIce12km_B04_'+str(play_start.year)+str(play_start.month).zfill(2)+str(play_start.day).zfill(2)+'.he5' \n",
    "        i=0\n",
    "        time_tmp=play_start - timedelta(days=i)\n",
    "        while os.path.isfile(ice_dir+filename_si)==False and i<15:\n",
    "            time_tmp=play_start - timedelta(days=i)\n",
    "            filename_si='AMSR_U2_L3_SeaIce12km_B04_'+str(time_tmp.year)+str(time_tmp.month).zfill(2)+str(time_tmp.day).zfill(2)+'.he5'\n",
    "            url = requests.get('https://n5eil01u.ecs.nsidc.org/AMSA/AU_SI12.001/'+str(time_tmp.year)+'.'+str(time_tmp.month).zfill(2)+'.'+str(time_tmp.day).zfill(2)+'/'+filename_si)\n",
    "            with open(ice_dir+filename_si, 'wb') as f:\n",
    "                f.write(url.content)\n",
    "            i=i+1\n",
    "\n",
    "        #apply ice data at ice_date in blue\n",
    "        filename_si='AMSR_U2_L3_SeaIce12km_B04_'+str(play_start.year)+str(play_start.month).zfill(2)+str(play_start.day).zfill(2)+'.he5' \n",
    "        if os.path.isfile(ice_dir+filename_si):\n",
    "            dsc = xr.open_dataset(ice_dir+filename_si,group='HDFEOS/GRIDS/NpPolarGrid12km')\n",
    "            dsd = xr.open_dataset(ice_dir+filename_si,group='HDFEOS/GRIDS/NpPolarGrid12km/Data Fields') \n",
    "            var1 = np.array(dsd.SI_12km_NH_ICECON_DAY.squeeze().values)\n",
    "            indx = np.where((var1==120) | (var1==0))\n",
    "            var1[indx] = 0\n",
    "            ice_location = np.ma.masked_where(var1==0,var1)\n",
    "\n",
    "            pp = ax.pcolormesh(dsc.lon,dsc.lat,ice_location, \n",
    "                            vmin=0,vmax=100, # Set max and min values for plotting\n",
    "                            cmap='Blues_r', shading='auto',   # shading='auto' to avoid warning\n",
    "                            transform=cartopy.crs.PlateCarree())\n",
    "        "
   ]
  },
  {
   "cell_type": "markdown",
   "id": "4b079135-f1e8-445e-82a7-277b58141805",
   "metadata": {
    "jp-MarkdownHeadingCollapsed": true,
    "tags": []
   },
   "source": [
    "<h4>Create Directory for Shiptrack Data and Access Bathymetry Data </h4>"
   ]
  },
  {
   "cell_type": "code",
   "execution_count": null,
   "id": "2517e92c-50b9-475e-83e8-71b5e58d73a0",
   "metadata": {
    "tags": []
   },
   "outputs": [],
   "source": [
    "## DIRECTORY TO SHIP TRACK DATA\n",
    "ship_dir =  'Data/TSG/' \n",
    "\n",
    "#DOWLOAD SHIPTRACK DATA\n",
    "if not os.path.isfile(ship_dir+'SASSIE_Fall_2022_Shipboard_TSG.nc'):\n",
    "    os.makedirs(ship_dir)\n",
    "    url = 'https://archive.podaac.earthdata.nasa.gov/podaac-ops-cumulus-protected/SASSIE_L2_SHIPBOARD_TSG_V1/SASSIE_Fall_2022_Shipboard_TSG.nc'\n",
    "    with requests.Session() as session:\n",
    "            session.auth = (username, password)\n",
    "            r1 = session.request('get', url)\n",
    "            r = session.get(r1.url, auth=(username, password))\n",
    "            if r.status_code == 200:\n",
    "                if r.ok:\n",
    "                    with open(ship_dir+'SASSIE_Fall_2022_Shipboard_TSG.nc', 'wb') as f:\n",
    "                        f.write(r.content) \n",
    "                        print('Saving Input File: ' + ship_dir+'SASSIE_Fall_2022_Shipboard_TSG.nc') \n",
    "            else:\n",
    "                print(\"Error:\", r.status_code)\n",
    "                if r.status_code == 401:\n",
    "                    print ('Your Username and/or password are incorrect. Please try again')\n",
    "else: \n",
    "    print('Shipboard TSG file is already in local directory')\n",
    "    \n",
    "    \n",
    "#READ IN TOPOGRAPHY/BATHYMETRY DATA\n",
    "url = 'http://ferret.pmel.noaa.gov/thredds/dodsC/data/PMEL/etopo2.nc'\n",
    "etopodata = xr.open_dataset(url) "
   ]
  },
  {
   "cell_type": "markdown",
   "id": "50a1f57c-869d-486c-a516-6c165685a171",
   "metadata": {
    "jp-MarkdownHeadingCollapsed": true,
    "tags": []
   },
   "source": [
    "<h4>Define a Function to Index Relevant Bathymetry Data and Add it to the Map</h4>\n",
    "This function will index bathymetry data from NOAA within the appropriate spatial range and add it to the map. \n"
   ]
  },
  {
   "cell_type": "code",
   "execution_count": null,
   "id": "8b1a55d3-8096-4dab-92d5-81c259889816",
   "metadata": {},
   "outputs": [],
   "source": [
    "def add_bathy_data(latmin,latmax,lonmin,lonmax):\n",
    "        topoin = etopodata.rose.values[0:-1:5,1:-1:5]\n",
    "        lons = etopodata.etopo2_x.values[0:-1:5]\n",
    "        lats = etopodata.etopo2_y.values[0:-1:5]\n",
    "        lons_in_range = lons[np.where((lons >lonmin-1) & (lons<lonmax+1))]\n",
    "        lats_in_range = lats[np.where((lats >latmin-1) & (lats<latmax+1))]\n",
    "        topo_in_range = np.squeeze(topoin[np.squeeze(np.where((lats >latmin-1) & (lats<latmax+1))),:][:,np.where((lons >lonmin-1) & (lons<lonmax+1))])\n",
    "        [bathy_lon,bathy_lat] = np.meshgrid(lons_in_range,lats_in_range)\n",
    "        \n",
    "        bathy = ax.contour(bathy_lon,bathy_lat,topo_in_range,np.arange(-6000,-1000,300),transform=cartopy.crs.PlateCarree(),cmap='gray',alpha = 0.2,zorder = 0)"
   ]
  },
  {
   "cell_type": "markdown",
   "id": "33d51c78-4219-4631-812e-de4d382f9657",
   "metadata": {
    "jp-MarkdownHeadingCollapsed": true,
    "tags": []
   },
   "source": [
    "<h4>Define a Function to Add Shiptrack Data to a Map</h4>\n",
    "This function will pull the lat/lon data from the SASSIE Shipboard TSG file and put it onto a map. "
   ]
  },
  {
   "cell_type": "code",
   "execution_count": null,
   "id": "cfeca877-1c9f-4c7b-99bc-e6d9e0320a50",
   "metadata": {},
   "outputs": [],
   "source": [
    "def add_ship_track():\n",
    "        ds_ship = xr.open_dataset(ship_dir+'/SASSIE_Fall_2022_Shipboard_TSG.nc')\n",
    "        ship_time = np.squeeze(ds_ship['time'])\n",
    "        ship_lat = np.squeeze(ds_ship['latitude'])\n",
    "        ship_lon = np.squeeze(ds_ship['longitude'])\n",
    "       \n",
    "        track = ax.plot(ship_lon, \n",
    "                     ship_lat,linewidth = 0.5,\n",
    "                     c='black',\n",
    "                       transform=cartopy.crs.PlateCarree(),label = 'Ship Track',zorder=1)"
   ]
  },
  {
   "cell_type": "markdown",
   "id": "bd05971c-3bf5-4cb9-b013-0ef2f5467f1e",
   "metadata": {
    "jp-MarkdownHeadingCollapsed": true,
    "tags": []
   },
   "source": [
    "# Figure Making Code"
   ]
  },
  {
   "cell_type": "markdown",
   "id": "53b2ff82-948b-4437-ba64-f1b85e5c8d64",
   "metadata": {
    "jp-MarkdownHeadingCollapsed": true,
    "tags": []
   },
   "source": [
    "<h2>Make Maps of This Data</h2>\n",
    "<p>Using the code in this section, the user can plot the JetSSP data on a map colored by time, sea surface temperature, or sea surface salinity. The code blocks in the 'supporting code' section should be run first. The user will need to input a local directory to save figures and ice data for these to work properly. </p>"
   ]
  },
  {
   "cell_type": "markdown",
   "id": "82fa0095-22a6-4bae-aebc-9e2f290dd459",
   "metadata": {
    "jp-MarkdownHeadingCollapsed": true,
    "tags": []
   },
   "source": [
    "<h3> Mapping the Time and Location of JetSSP Data Collection</h3>\n",
    "\n",
    "The map_jetSSP_tracks function shows the track of the JetSSP on a map, colored by time. Various features of this function:\n",
    "    <br>1. The function automatically adds the track of the R/V Woldstad in Black for reference. \n",
    "    <br>2. This function adds bathymetry contours showing the position of the continental shelf by default for reference. "
   ]
  },
  {
   "cell_type": "code",
   "execution_count": null,
   "id": "de99cd59-985c-438b-8646-fd781e258846",
   "metadata": {
    "tags": []
   },
   "outputs": [],
   "source": [
    "##MAP JET SSP DEPLOYMENT LOCATIONS ON THE SHIP TRACK\n",
    "def map_jetSSP_tracks(ship_track=True,bathymetry_data=True):\n",
    "    \n",
    "    ##CREATE A MAP WITH LAND AND CITY MARKERS  \n",
    "    latmin = 70\n",
    "    latmax =74\n",
    "    lonmin=-157\n",
    "    lonmax=-144\n",
    "    \n",
    "    var_label = 'Date'\n",
    "    colormap = 'jet'\n",
    "    \n",
    "    #make the map \n",
    "    map_study_area(latmin,latmax,lonmin,lonmax)\n",
    "    \n",
    "    #add a title\n",
    "    ax.set_title('Jet SSP Tracks',fontsize=18) \n",
    "        \n",
    "    ##OPTIONAL MAP ADD-ONs\n",
    "    if ship_track==True:\n",
    "        add_ship_track()\n",
    "        \n",
    "    if bathymetry_data == True:    \n",
    "        add_bathy_data(latmin,latmax,lonmin,lonmax)\n",
    "        \n",
    "    ##ADD JETSSP TRACKS  \n",
    "    for file in files: \n",
    "        ssp_ds = xr.open_dataset(file)\n",
    "        ssp_dep_lat = ssp_ds['latitude'].values\n",
    "        ssp_dep_lon = ssp_ds['longitude'].values\n",
    "        ssp_dep_time = ssp_ds['time'].values\n",
    "        plt.legend(loc=2)\n",
    "        ssp_track = ax.scatter(ssp_dep_lon,ssp_dep_lat,s=1,c=ssp_dep_time,cmap = 'jet',\n",
    "                       transform=cartopy.crs.PlateCarree(),zorder=1,vmin = xr.open_dataset(files[0])['time'].values[0],vmax =xr.open_dataset(files[-1])['time'].values[-1])\n",
    "    cbar = fig.colorbar(ssp_track, ax=ax, orientation=\"horizontal\", pad=0.1)\n",
    "    cbar.set_label(label=var_label,size='large',weight='bold')\n",
    "    cbar_tick_array=(np.linspace(xr.open_dataset(files[0])['time'].values[0].astype('int64'),xr.open_dataset(files[-1])['time'].values[-1].astype('int64'),5))\n",
    "    cbar.set_ticks(cbar_tick_array)\n",
    "    cbar.set_ticklabels(pd.to_datetime(cbar_tick_array).date)\n",
    "    \n",
    "    ##SAVE FIGURE\n",
    "    if not os.path.exists(fig_dir+'deployment_map'):\n",
    "        os.makedirs(fig_dir+'deployment_map')\n",
    "    print('Saving Output Image:  '+fig_dir+'deployment_map/'+'SASSIE_jetSSP_deployments.png')\n",
    "    plt.savefig(fig_dir+'deployment_map/'+'SASSIE_jetSSP_deployments.png',dpi='figure',format='png')\n",
    "    \n",
    "    "
   ]
  },
  {
   "cell_type": "code",
   "execution_count": null,
   "id": "a35a3eeb-0461-449d-a3ae-d79a4f042fd0",
   "metadata": {
    "tags": []
   },
   "outputs": [],
   "source": [
    "map_jetSSP_tracks()"
   ]
  },
  {
   "cell_type": "markdown",
   "id": "0fd96d03-acbc-44ba-849f-ddeac73b3c59",
   "metadata": {
    "jp-MarkdownHeadingCollapsed": true,
    "tags": []
   },
   "source": [
    "<h3>Mapping Physical Measurement Sea Surface and Atmospheric Jet SSP Data </h3>"
   ]
  },
  {
   "cell_type": "markdown",
   "id": "5b42e4d5-3343-4d3c-8abb-3e3ad1a9d376",
   "metadata": {
    "jp-MarkdownHeadingCollapsed": true,
    "tags": []
   },
   "source": [
    "<h4> Simple Colored Track </h4>\n",
    "\n",
    "<p>The map_jetssp_surface_data function shows the track of the JetSSP on a map, colored by a physical measurement variable it recorded. Various features of this function: </p>\n",
    "    <p>1. The user must to specify a specific deployment (there were 7 total) and physical measurement variable from the file (see xarray clickable table above) to show on the map. \n",
    "    <br>2. This function adds bathymetry contours showing the position of the continental shelf by default for reference. \n",
    "    <br>3. The user has the option to add the AMSR ice product on the date of the deployment by inputting ice_data=True.\n",
    "    <br>4. The user must specify the variable to be plotted, as well as the minimum and maximum value for that variable.</p>"
   ]
  },
  {
   "cell_type": "code",
   "execution_count": null,
   "id": "b3ade0fe-fec1-48d0-abba-450c484f4f94",
   "metadata": {
    "tags": []
   },
   "outputs": [],
   "source": [
    "## USE FOR SURFACE VARIABLES\n",
    "def plot_jetssp_surface_data(deployment,var,var_min,var_max,ship_track=True,bathymetry_data=False,ice_data=False):\n",
    "    \n",
    "    #define a colormap and variable label\n",
    "    colormap,var_label = define_variable_attributes(var)\n",
    "    \n",
    "    #GET JET SSP DATA\n",
    "    ds = xr.open_dataset(files[deployment-1])\n",
    "    dates = pd.to_datetime(ds.time.values).date\n",
    "    deployment_date = dates[0]\n",
    "    \n",
    "    if (var == 'temperature') | (var=='salinity') | (var=='pressure'):\n",
    "        var_arr_1 = ds[var]\n",
    "        if deployment ==1:\n",
    "            var_arr = var_arr_1[1,:]\n",
    "        else:\n",
    "            var_arr = var_arr_1[0,:]\n",
    "        lat = np.squeeze(ds['latitude'])\n",
    "        lon = np.squeeze(ds['longitude'])\n",
    "    else:\n",
    "        var_arr = ds[var]\n",
    "        lat = np.squeeze(ds['latitude'])\n",
    "        lon = np.squeeze(ds['longitude'])\n",
    "    \n",
    "    ##CREATE A MAP WITH LAND AND CITY MARKERS \n",
    "    #To show the whole campaign area, use latmin = 70, latmax =74,lonmin=-157,lonmax=-140\n",
    "    if (deployment == 1) | (deployment == 3):\n",
    "        latmin = min(lat.values)-0.01\n",
    "        latmax = max(lat.values)+0.01\n",
    "        lonmin = min(lon.values)-0.1\n",
    "        lonmax = max(lon.values)+0.1\n",
    "    else:\n",
    "        latmin = min(lat.values)-0.1\n",
    "        latmax = max(lat.values)+0.1\n",
    "        lonmin = min(lon.values)-0.1\n",
    "        lonmax = max(lon.values)+0.1\n",
    "     \n",
    "    #make the map:\n",
    "    map_study_area(latmin,latmax,lonmin,lonmax)\n",
    "    \n",
    "    #give it a title:\n",
    "    ax.set_title('Jet SSP ' + str(deployment_date) +' '+ var_label +' Measurements',fontsize=15)\n",
    "\n",
    "    \n",
    "    ##OPTIONAL MAP ADD-ONs\n",
    "    if ship_track==True:\n",
    "        add_ship_track()\n",
    "        \n",
    "    if bathymetry_data == True:    \n",
    "        add_bathy_data(latmin,latmax,lonmin,lonmax)\n",
    "        \n",
    "    if ice_data==True:\n",
    "        ice_date = min(dates)\n",
    "        add_ice_data(ice_date)\n",
    "        \n",
    "    ##APPLY JET SSP DATA TO THE MAP\n",
    "    jet_ssp_track = ax.scatter(lon, \n",
    "                 lat,s=0.01, \n",
    "                 c=var_arr,cmap=colormap,\n",
    "                   transform=cartopy.crs.PlateCarree(),\n",
    "                      vmin = var_min,\n",
    "                      vmax = var_max,zorder = 2)\n",
    "    \n",
    "    jet_ssp_start = ax.scatter(lon[0], \n",
    "                lat[0],s=60, \n",
    "                c='black',\n",
    "                 transform=cartopy.crs.PlateCarree(),zorder = 3)\n",
    "    jet_ssp_end = ax.scatter(lon[lon.size-1], \n",
    "                lat[lat.size-1],s=160, \n",
    "                c='black',marker = '*',\n",
    "                 transform=cartopy.crs.PlateCarree(),zorder = 3)\n",
    "                        \n",
    "    matplotlib.pyplot.colorbar(jet_ssp_track, ax=ax, orientation=\"horizontal\", pad=0.2).set_label(label=var_label,size='large',weight='bold')\n",
    "    \n",
    "    \n",
    "    ##SAVE FIGURE\n",
    "    if not os.path.exists(fig_dir+'/'+var+'/maps'):\n",
    "        os.makedirs(fig_dir+'/'+var+'/maps')\n",
    "        \n",
    "    print('Saving Output Image:  '+fig_dir+'/'+var+'/maps/SASSIE_jetSSP_Deployment'+str(deployment)+'_'+var+'_surface.png')\n",
    "    plt.savefig(fig_dir+'/'+var+'/maps/SASSIE_jet_SSP_Deployment'+str(deployment)+'_'+var+'_surface.png',dpi='figure',format='png')\n",
    "    \n",
    "    "
   ]
  },
  {
   "cell_type": "code",
   "execution_count": null,
   "id": "4402a870-3f68-4dbe-8943-435bac0eb417",
   "metadata": {
    "tags": []
   },
   "outputs": [],
   "source": [
    "plot_jetssp_surface_data(4,'temperature',-0.5,2.5)\n",
    "plot_jetssp_surface_data(4,'salinity',25,28)"
   ]
  },
  {
   "cell_type": "markdown",
   "id": "7dfb2233-1128-4c8f-a12f-13ce6815833a",
   "metadata": {
    "jp-MarkdownHeadingCollapsed": true,
    "tags": []
   },
   "source": [
    "<h4> Colored Track with Quiver Arrows </h4>\n",
    "\n",
    "<p>The plot_wind_data function shows the track of the JetSSP on a map, colored by a physical measurement variable it recorded with quiver arrows showing the speed and direction of the wind. Various features of this function: </p>\n",
    "    <p>1. The user must to specify a specific deployment (there were 7 total) and physical measurement variable from the file (see xarray clickable table above) to show on the map. \n",
    "    <br>2. This function adds bathymetry contours showing the position of the continental shelf by default for reference. \n",
    "    <br>4. The user must specify the variable to be plotted, as well as the minimum and maximum value for that variable.</p>"
   ]
  },
  {
   "cell_type": "code",
   "execution_count": null,
   "id": "84f2bf5a-3a5f-4d31-80c9-29dabaed47de",
   "metadata": {},
   "outputs": [],
   "source": [
    "##USE TO MAKE A QUIVER MAP USING JET SSP WIND SPEED AND DIRECTION DATA## \n",
    "def plot_wind_data(deployment,var,varmin,varmax,subset_res = 300,bathymetry_data=True,ship_track=True):\n",
    "    if deployment==1: \n",
    "        print('No wind data taken for deployment 1')\n",
    "    else:\n",
    "        colormap,var_label = define_variable_attributes(var)\n",
    "\n",
    "        #LOAD DATA FOR SELECTED DEPLOYMENT \n",
    "        ds = xr.open_dataset(files[deployment-1])\n",
    "        dates = pd.to_datetime(ds.time.values).date\n",
    "        deployment_date = dates[0]\n",
    "        np_wdir = np.squeeze(ds['wind_direction'])\n",
    "        np_wdir_adjusted = -np_wdir+90\n",
    "        np_wspd = np.squeeze(ds['wind_speed'])\n",
    "        np_var = np.squeeze(ds[var])[0,:]\n",
    "        np_lat = np.squeeze(ds['latitude'])\n",
    "        np_lon = np.squeeze(ds['longitude'])\n",
    "\n",
    "        ##SUBSAMPLING OF VARIABLES \n",
    "        wdir = np_wdir_adjusted[0::subset_res]\n",
    "        wspd = np_wspd[0::subset_res]\n",
    "        var_data = np_var[0::subset_res]\n",
    "        lat = np_lat[0::subset_res]\n",
    "        lon = np_lon[0::subset_res]\n",
    "\n",
    "        ##CREATE A MAP WITH LAND, CITY MARKERS, BATHYMETRY DATA(optional), AND AMSR ICE DATA AT START AND END OF PLAY(optional).\n",
    "        #To show the whole campaign area, use latmin = 70, latmax =74,lonmin=-157,lonmax=-140\n",
    "        if (deployment == 1) | (deployment == 3):\n",
    "            latmin = min(np_lat.values)-0.01\n",
    "            latmax = max(np_lat.values)+0.01\n",
    "            lonmin = min(np_lon.values)-0.1\n",
    "            lonmax = max(np_lon.values)+0.1\n",
    "        else:\n",
    "            latmin = min(np_lat.values)-0.1\n",
    "            latmax = max(np_lat.values)+0.1\n",
    "            lonmin = min(np_lon.values)-0.1\n",
    "            lonmax = max(np_lon.values)+0.1\n",
    "\n",
    "        #make the map: \n",
    "        map_study_area(latmin,latmax,lonmin,lonmax)\n",
    "        \n",
    "        #give it a title:\n",
    "        ax.set_title('Jet SSP Wind Data \\n'+str(deployment_date)+' Deployment',fontsize=18) \n",
    "\n",
    "        \n",
    "        ##OPTIONAL MAP ADD ONS\n",
    "\n",
    "        if ship_track==True:\n",
    "            add_ship_track()\n",
    "            \n",
    "        if bathymetry_data==True: \n",
    "            add_bathy_data(latmin,latmax,lonmin,lonmax)\n",
    "            \n",
    "        ##APPLY WIND DATA\n",
    "        u = np_wspd * np.cos(np.radians(wdir))\n",
    "        v = np_wspd * np.sin(np.radians(wdir))\n",
    "\n",
    "        p = ax.plot(np_lon.values,np_lat.values,\n",
    "                    linewidth = 0.5,\n",
    "                    c='black',\n",
    "                    transform=cartopy.crs.PlateCarree(),label = 'Jet SSP Track',zorder=1)\n",
    "        if deployment != 3:\n",
    "            q = ax.quiver(lon.values,lat.values, u, v,var_data,scale = 60,width = 0.01,cmap = colormap,clim=[varmin,varmax],transform=cartopy.crs.PlateCarree())\n",
    "            plt.colorbar(q, ax=ax, orientation=\"vertical\", pad=0.1).set_label(label=var_label,size='large',weight='bold')\n",
    "            \n",
    "        #ADD REFERENCE ARROW\n",
    "        lat_ref = latmin + abs(latmax-latmin)/8\n",
    "        lon_ref = lonmax - abs(lonmax-lonmin)/4\n",
    "        angle_ref = [-45+90]\n",
    "        speed_ref = [10]\n",
    "\n",
    "        u_ref = speed_ref * np.cos(np.radians(angle_ref))\n",
    "        v_ref = speed_ref * np.sin(np.radians(angle_ref))\n",
    "\n",
    "        ##SETTING REFERNCE ARROW SIZE AND LOCATION FOR EACH PLOT. \n",
    "\n",
    "        if deployment==2:\n",
    "            text = 'Reference Arrow \\n10 m/s \\n45 Degrees \\nClockwise of North)'\n",
    "            plt.text(lon_ref-0.02,lat_ref-0.025,text,transform=cartopy.crs.PlateCarree(),va='center',ha='center',multialignment='center')\n",
    "            q_ref = ax.quiver(np.array([lon_ref]),np.array([lat_ref]),np.array([u_ref]),np.array([v_ref]),scale = 60,width = 0.01,transform=cartopy.crs.PlateCarree())\n",
    "        elif deployment==3:\n",
    "            lon_ref = lonmin + abs(lonmax-lonmin)/4\n",
    "            lat_ref = latmin + abs(latmax-latmin)/3\n",
    "            text = 'Reference Arrow \\n10 m/s \\n45 Degrees \\nClockwise of North)'\n",
    "            plt.text(lon_ref,lat_ref-0.007,text,transform=cartopy.crs.PlateCarree(),va='center',ha='center',multialignment='center')\n",
    "            q_ref = ax.quiver(np.array([lon_ref]),np.array([lat_ref]),np.array([u_ref]),np.array([v_ref]),scale = 150,width = 0.007,transform=cartopy.crs.PlateCarree())\n",
    "            q = ax.quiver(lon.values,lat.values, u, v,var_data,scale =150,width = 0.007,cmap = colormap,clim=[varmin,varmax],transform=cartopy.crs.PlateCarree())\n",
    "            plt.colorbar(q, ax=ax, orientation=\"vertical\", pad=0.1).set_label(label=var_label,size='large',weight='bold')\n",
    "        elif deployment==4: \n",
    "            lon_ref = lonmin + abs(lonmax-lonmin)/4\n",
    "            lat_ref = latmin + abs(latmax-latmin)/3\n",
    "            text = 'Reference Arrow \\n10 m/s \\n45 Degrees \\nClockwise of North)'\n",
    "            plt.text(lon_ref+0.04,lat_ref-0.055,text,transform=cartopy.crs.PlateCarree(),va='center',ha='center',multialignment='center')\n",
    "            q_ref = ax.quiver(np.array([lon_ref]),np.array([lat_ref]),np.array([u_ref]),np.array([v_ref]),scale = 150,width = 0.007,transform=cartopy.crs.PlateCarree())\n",
    "        elif deployment==5: \n",
    "            lon_ref = lonmin + abs(lonmax-lonmin)/4\n",
    "            lat_ref = latmin + abs(latmax-latmin)/3\n",
    "            text = 'Reference Arrow \\n10 m/s \\n45 Degrees \\nClockwise of North)'\n",
    "            plt.text(lon_ref+0.08,lat_ref-0.04,text,transform=cartopy.crs.PlateCarree(),va='center',ha='center',multialignment='center')\n",
    "            q_ref = ax.quiver(np.array([lon_ref+0.04]),np.array([lat_ref]),np.array([u_ref]),np.array([v_ref]),scale = 150,width = 0.007,transform=cartopy.crs.PlateCarree())\n",
    "        elif deployment==6: \n",
    "            lon_ref = lonmin + abs(lonmax-lonmin)/4\n",
    "            lat_ref = latmin + abs(latmax-latmin)/3\n",
    "            text = 'Reference Arrow \\n10 m/s \\n45 Degrees \\nClockwise of North)'\n",
    "            plt.text(lon_ref+0.08,lat_ref-0.04,text,transform=cartopy.crs.PlateCarree(),va='center',ha='center',multialignment='center')\n",
    "            q_ref = ax.quiver(np.array([lon_ref+0.1]),np.array([lat_ref]),np.array([u_ref]),np.array([v_ref]),scale = 150,width = 0.007,transform=cartopy.crs.PlateCarree())\n",
    "\n",
    "        plt.legend(loc=1,fontsize = 10)\n",
    "        \n",
    "    ##SAVE FIGURE\n",
    "    if not os.path.exists(fig_dir+'quiver_plots/'):\n",
    "        os.makedirs(fig_dir+'quiver_plots/')\n",
    "        \n",
    "    print('Saving Output Image:  '+fig_dir+'quiver_plots/SASSIE_jetSSP_Deployment'+str(deployment)+'_'+var+'_wind.png')\n",
    "    plt.savefig(fig_dir+'quiver_plots/SASSIE_jet_SSP_Deployment'+str(deployment)+'_'+var+'_wind.png',dpi='figure',format='png')\n",
    "    "
   ]
  },
  {
   "cell_type": "code",
   "execution_count": null,
   "id": "8ae9f05b-84e8-41c4-a801-874760ae45ac",
   "metadata": {},
   "outputs": [],
   "source": [
    "plot_wind_data(5,'temperature',0,3)"
   ]
  },
  {
   "cell_type": "markdown",
   "id": "552cc31a-fc94-4368-999e-0235c943d808",
   "metadata": {
    "jp-MarkdownHeadingCollapsed": true,
    "tags": []
   },
   "source": [
    "<h2>Three Dimensional Representation of Sub-Sea Surface Trajectory Data</h2>\n",
    "Use the code in this section to plot location and depth data of a selected deployment on a 3D grid, colored by a physical ocean measurement variable from the file (temperature or salinity). The user must select a deplotment (there were 7 total)"
   ]
  },
  {
   "cell_type": "code",
   "execution_count": null,
   "id": "f296084b-86cb-435f-afe1-48d16c0b68a9",
   "metadata": {
    "tags": []
   },
   "outputs": [],
   "source": [
    "## USE TO PLOT DATA VARIABLES WITH A DEPTH DIMENSION ON A 3D GRID###\n",
    "def plot_jetssp_data(deployment,var):\n",
    "    \n",
    "    colormap,var_label = define_variable_attributes(var)\n",
    "\n",
    "    #GET JET SSP DATA\n",
    "    ds = xr.open_dataset(files[deployment-1])\n",
    "    dates = pd.to_datetime(ds.time.values).date\n",
    "    deployment_date = dates[0]\n",
    "    var_arr = ds[var]\n",
    "    lat = np.squeeze(ds['latitude'])\n",
    "    lon = np.squeeze(ds['longitude'])\n",
    "    depth = np.squeeze(ds['depth'])\n",
    "    \n",
    "    ##CREATE 3D PLOT \n",
    "    latmin = min(lat.values)\n",
    "    latmax = max(lat.values)\n",
    "    lonmin = min(lon.values)\n",
    "    lonmax = max(lon.values)\n",
    "    dmin = min(depth.values)\n",
    "    dmax = max(depth.values)+0.5\n",
    "    \n",
    "    make_3d_grid(latmin,latmax,lonmin,lonmax,dmin,dmax)\n",
    "    \n",
    "    #give it a title\n",
    "    ax.set_title('JetSSP'+ ' '+str(deployment_date)+' '+var_label,fontsize=15)\n",
    "    \n",
    "    #APPLY JET SSP DATA\n",
    "    z_1 = np.full((1,lat.size), depth.values[0])\n",
    "    z_2 = np.full((1,lat.size), depth.values[1])\n",
    "    z_3 = np.full((1,lat.size), depth.values[2])\n",
    "    z_4 = np.full((1,lat.size), depth.values[3])\n",
    "    \n",
    "    z = np.concatenate((z_1,z_2,z_3,z_4),axis=1)\n",
    "    all_lon = np.concatenate((lon.values,lon.values,lon.values,lon.values), axis=0)\n",
    "    all_lat = np.concatenate((lat.values,lat.values,lat.values,lat.values), axis=0)\n",
    "     \n",
    "    a = ax.scatter(all_lon,all_lat,z,c=(var_arr.values),cmap = colormap,s=0.5,zorder=1)\n",
    "    \n",
    "    fig.colorbar(a,label = var_label)\n",
    "    \n",
    "    if deployment == 1:\n",
    "        surface = 0.29\n",
    "    else:\n",
    "        surface = 0.05\n",
    "        \n",
    "    b = ax.scatter(all_lon[0],all_lat[0],surface,c='cyan',s=40,zorder=2)\n",
    "    c = ax.scatter(all_lon[all_lon.size-1],all_lat[all_lat.size-1],surface,c='cyan',s=80,zorder=2,marker='*')\n",
    "    \n",
    "\n",
    "    ##SAVE FIGURE  \n",
    "    if not os.path.exists(fig_dir+var+'/profiles'):\n",
    "        os.makedirs(fig_dir+var+'/profiles') \n",
    "    print('Saving Output Image:  '+fig_dir+var+'/profiles/SASSIE_jetSSP_Deployment'+str(deployment)+'_'+var+'.png')\n",
    "    plt.savefig(fig_dir+var+'/profiles/SASSIE_jet_SSP_Deployment'+str(deployment)+'_'+var+'.png',dpi='figure',format='png')\n",
    "    \n",
    "\n"
   ]
  },
  {
   "cell_type": "code",
   "execution_count": null,
   "id": "51443683-2d73-45a8-a858-a0b2421b45da",
   "metadata": {
    "tags": []
   },
   "outputs": [],
   "source": [
    "plot_jetssp_data(5,'temperature')\n",
    "plot_jetssp_data(5,'salinity')"
   ]
  },
  {
   "cell_type": "markdown",
   "id": "e04bb81b-0b48-48e2-9e38-bee40c794279",
   "metadata": {
    "jp-MarkdownHeadingCollapsed": true,
    "tags": []
   },
   "source": [
    "<h2>Make Timeseries Plots on a 2D Axis</h2>\n",
    "The function in this section plots temperature and salinity collected from the JetSSP durring a selected Deployment on a 3 panneled time series figure."
   ]
  },
  {
   "cell_type": "code",
   "execution_count": null,
   "id": "3051d899-0b54-4aae-9c17-a878511914e2",
   "metadata": {
    "tags": []
   },
   "outputs": [],
   "source": [
    "def plot_jetSSP_timeseries(deployment,var1,var2,var3): \n",
    "    \n",
    "    #SECLECT AND LOAD JET SSP DATA\n",
    "    ds = xr.open_dataset(files[deployment-1])\n",
    "    deployment_date = pd.to_datetime(ds.time.values).date[0]\n",
    "    time_data = ds['time']\n",
    "    [colormap,var1_label] = define_variable_attributes(var1)\n",
    "    [colormap,var2_label] = define_variable_attributes(var2)\n",
    "    [colormap,var3_label] = define_variable_attributes(var3)\n",
    "    var1_data = ds[var1]\n",
    "    var2_data = ds[var2]\n",
    "    var3_data = ds[var3]\n",
    "        \n",
    "    #MAKE A THREE PANELED TIME SERIES PLOT\n",
    "    fig,axs = plt.subplots(3,sharex=True)\n",
    "    \n",
    "    if var1_data.ndim < 2:\n",
    "        axs[0].plot(time_data,var1_data,linewidth=0.4,c='black')\n",
    "    else:\n",
    "        axs[0].plot(time_data,var1_data[0,:],linewidth=0.4,c = 'blue',label = '0.05m')\n",
    "        axs[0].plot(time_data,var1_data[1,:],linewidth=0.4,c = 'red',label = '0.25m')\n",
    "        axs[0].plot(time_data,var1_data[2,:],linewidth=0.4,c = 'green',label = '0.65m')\n",
    "        axs[0].plot(time_data,var1_data[3,:],linewidth=0.4,c = 'cyan',label = '1.05m')\n",
    "    axs[0].set(ylabel=var1_label)\n",
    "    \n",
    "    if var2_data.ndim<2:\n",
    "        axs[1].plot(time_data,var2_data,linewidth=0.4,c='black')\n",
    "    else: \n",
    "        axs[1].plot(time_data,var2_data[0,:],linewidth=0.4,c = 'blue',label = '0.05m')\n",
    "        axs[1].plot(time_data,var2_data[1,:],linewidth=0.4,c='red',label = '0.25m')\n",
    "        axs[1].plot(time_data,var2_data[2,:],linewidth=0.4,c='green',label = '0.65m')\n",
    "        axs[1].plot(time_data,var2_data[3,:],linewidth=0.4,c='cyan',label = '1.05m')\n",
    "    axs[1].set(ylabel=var2_label)\n",
    "    \n",
    "    if var3_data.ndim<2:\n",
    "        axs[2].plot(time_data,var3_data,linewidth=0.4,c='black')\n",
    "    else: \n",
    "        axs[2].plot(time_data,var3_data[0,:],c='blue',linewidth=0.4)\n",
    "        axs[2].plot(time_data,var3_data[1,:],c='red',linewidth=0.4)\n",
    "        axs[2].plot(time_data,var3_data[2,:],c='green',linewidth=0.4)\n",
    "        axs[2].plot(time_data,var3_data[3,:],c='cyan',linewidth=0.4)\n",
    "    axs[2].set(ylabel=var3_label,xlabel = 'Date')\n",
    "    plt.xticks(pd.date_range(start=time_data.values[0],end=time_data.values[-1],periods=3))\n",
    "    fig.suptitle(var1_label+', '+var2_label+', and '+var3_label+' Data from JetSSP '+str(deployment_date),fontsize=10)\n",
    "    \n",
    "    #Ideal location for legend may vary depending on which data is plotted \n",
    "    if any([var1_data.ndim>1,var2_data.ndim>1,var3_data.ndim>1]):\n",
    "        #axs[1].legend(loc=1,bbox_to_anchor=(1.25,1.0))\n",
    "        axs[0].legend(loc=3,ncol=4,fontsize=9)\n",
    "\n",
    "    \n",
    "        \n",
    "    ##SAVE FIGURE \n",
    "    if not os.path.exists(fig_dir+'/timeseries'):\n",
    "        os.makedirs(fig_dir+'/timeseries')\n",
    "    print('Saving Output Image:  '+fig_dir+'/timeseries/JetSSP_Deployment_'+str(deployment)+'_'+var1+'_'+var2+'_'+var3+'.png')\n",
    "    plt.savefig(fig_dir+'/timeseries/JetSSP_Deployment_'+str(deployment)+'_'+var1+'_'+var2+'_'+var3+'.png',dpi='figure',format='png')\n",
    "    "
   ]
  },
  {
   "cell_type": "code",
   "execution_count": null,
   "id": "58fa5749-b6d3-4f66-ad95-37e1dbc39832",
   "metadata": {
    "tags": []
   },
   "outputs": [],
   "source": [
    "plot_jetSSP_timeseries(4,'temperature','salinity','wind_speed')"
   ]
  },
  {
   "cell_type": "code",
   "execution_count": null,
   "id": "2f374f42-1014-4e84-a1f0-8f2d7b5b0c2e",
   "metadata": {},
   "outputs": [],
   "source": []
  }
 ],
 "metadata": {
  "kernelspec": {
   "display_name": "Python 3 (ipykernel)",
   "language": "python",
   "name": "python3"
  },
  "language_info": {
   "codemirror_mode": {
    "name": "ipython",
    "version": 3
   },
   "file_extension": ".py",
   "mimetype": "text/x-python",
   "name": "python",
   "nbconvert_exporter": "python",
   "pygments_lexer": "ipython3",
   "version": "3.9.16"
  }
 },
 "nbformat": 4,
 "nbformat_minor": 5
}
