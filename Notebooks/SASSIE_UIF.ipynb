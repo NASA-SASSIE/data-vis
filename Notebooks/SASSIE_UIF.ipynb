{
 "cells": [
  {
   "cell_type": "markdown",
   "id": "6f04f3d2-7ff0-4779-844f-c6b8856c16f5",
   "metadata": {
    "tags": []
   },
   "source": [
    "<h1>SASSIE Under Ice Float Data Use and Visualization</h1>\n",
    "\n",
    "<p> The UIF is a drifting platforms that operate similarly to Argo Float under the sea ice. UIF data are downloaded and plotted using the code below! <b>Please run the 'Data Download and Metadata Viewing' and 'Supporting Code' sections in order before running the 'Figure Making Code'.</b></p>\n",
    "\n",
    "<p>The aim of this notebook is to assist the end user in exploratory data analysis by downloading the SASSIE data from NASA's PODAAC, opening the dataset and displaying it's associated metadata, and creating a few visualizations. This notebook was created by Elizabeth Westbrook. For questions and trouble shooting, please email westbrooke@uncw.edu.</p>"
   ]
  },
  {
   "cell_type": "markdown",
   "id": "8728f734-4753-4552-8746-06afbee87bbf",
   "metadata": {
    "jp-MarkdownHeadingCollapsed": true,
    "tags": []
   },
   "source": [
    "# Data Download and Metadata Viewing\n",
    "\n",
    "The code in this section will download the dataset from PO.DAAC and open it as an xarray object for metadata and variable attribute viewing."
   ]
  },
  {
   "cell_type": "code",
   "execution_count": null,
   "id": "30939786-40bc-4615-8d44-3038ad9d79aa",
   "metadata": {
    "tags": []
   },
   "outputs": [],
   "source": [
    "import numpy as np\n",
    "import xarray as xr\n",
    "import glob \n",
    "from datetime import datetime, timedelta \n",
    "import matplotlib.pyplot as plt\n",
    "import cartopy\n",
    "import matplotlib\n",
    "import os\n",
    "import sys\n",
    "import pandas as pd\n",
    "import requests "
   ]
  },
  {
   "cell_type": "markdown",
   "id": "3ceada1e-db4d-4a83-a8ca-07b8f33190c5",
   "metadata": {
    "jp-MarkdownHeadingCollapsed": true,
    "tags": []
   },
   "source": [
    "<h2>Download The UIF data from PO.DAAC</h2>\n",
    "<p> All data from the SASSIE campaign is stored on NASA's PO.DAAC. The code in this section of the notebook will download SASSIE ALTO/ALAMO Float data from PO.DAAC, which is accessed through earthdata. If you do not already have an earthdata account, you can create one <a href=\"https://urs.earthdata.nasa.gov/\">here</a> . </p>\n",
    "    <p>Please enter your earthdata credentials below.</p>"
   ]
  },
  {
   "cell_type": "code",
   "execution_count": null,
   "id": "10b8b0f8-bf61-4eea-b534-4d71689f1f5a",
   "metadata": {},
   "outputs": [],
   "source": [
    "username = 'your_username'\n",
    "password = 'your_password'\n",
    "earthdata = requests.auth.HTTPBasicAuth(username, password)\n",
    "\n",
    "##LOCAL DIRECTORY TO SAVE FLOAT DATA\n",
    "dir_in = 'Data/UIF/'"
   ]
  },
  {
   "cell_type": "markdown",
   "id": "50db117f-a947-47e4-a3a3-e8740d573d6c",
   "metadata": {},
   "source": [
    "The next block of code creates the directory specified above and downloads the Under Ice Float file to your binder session if it has not already been downloaded.<b> To download the dataset to your local disk from here, right click on the file you want to download and click 'download'. </b>"
   ]
  },
  {
   "cell_type": "code",
   "execution_count": null,
   "id": "d7d06abb-8cd7-4877-bdab-cef31ce2bbce",
   "metadata": {},
   "outputs": [],
   "source": [
    "#if the file has not already been downloaded, it is downloaded here.     \n",
    "if not os.path.isfile(dir_in+'SASSIE_Fall_2022_under_ice_float.nc'):\n",
    "    os.makedirs(dir_in)\n",
    "    url = 'https://archive.podaac.earthdata.nasa.gov/podaac-ops-cumulus-protected/SASSIE_L2_UNDER_ICE_FLOAT_V1/SASSIE_Fall_2022_under_ice_float.nc'\n",
    "    with requests.Session() as session:\n",
    "            session.auth = (username, password)\n",
    "            r1 = session.request('get', url)\n",
    "            r = session.get(r1.url, auth=(username, password))\n",
    "            if r.status_code == 200:\n",
    "                if r.ok:\n",
    "                    with open(dir_in+'SASSIE_Fall_2022_under_ice_float.nc', 'wb') as f:\n",
    "                        f.write(r.content) \n",
    "                        print('Saving Input File: ' + dir_in+'SASSIE_Fall_2022_under_ice_float.nc') \n",
    "            else:\n",
    "                print(\"Error:\", r.status_code)\n",
    "                if r.status_code == 401:\n",
    "                    print ('Your Username and/or password are incorrect. Please try again')\n",
    "else: \n",
    "    print('Under Ice Float file is already in binder directory')"
   ]
  },
  {
   "cell_type": "markdown",
   "id": "00a03a13-e44a-43d4-9646-ee17925c0659",
   "metadata": {
    "jp-MarkdownHeadingCollapsed": true,
    "tags": []
   },
   "source": [
    "<h2> View The Metadata Inside the UIF File</h2>\n",
    "\n",
    "The netCDF file has global metadata attributes and attributes associated with each variable. This next block will load data and metadata of the netCDF file into an xarray object (ds). <br> The data set will then be displayed in a clickable HTML format. \n"
   ]
  },
  {
   "cell_type": "code",
   "execution_count": null,
   "id": "a8546458-412c-499b-925a-d156b690a3a9",
   "metadata": {},
   "outputs": [],
   "source": [
    "#See information about the entire dataset:\n",
    "file = dir_in+'SASSIE_Fall_2022_under_ice_float.nc'\n",
    "ds = xr.open_dataset(file)\n",
    "ds"
   ]
  },
  {
   "cell_type": "markdown",
   "id": "c491d948-71ec-4d95-ab79-623f3acec147",
   "metadata": {
    "jp-MarkdownHeadingCollapsed": true,
    "tags": []
   },
   "source": [
    "# Supporting Code \n",
    "The code in this section provides a set up for the figure making code below by defining directories for data and figures and creating functions that will be called to actually map the data"
   ]
  },
  {
   "cell_type": "markdown",
   "id": "348fb491-f337-4ff7-b05a-1a490c423f34",
   "metadata": {
    "jp-MarkdownHeadingCollapsed": true,
    "tags": []
   },
   "source": [
    "<h3>Create a Directory to Save Figures</h3>"
   ]
  },
  {
   "cell_type": "code",
   "execution_count": null,
   "id": "9fdcb2a1-3105-4394-92e1-dea7da29447d",
   "metadata": {},
   "outputs": [],
   "source": [
    "#LOCAL DIRECTORY TO SAVE FIGURES\n",
    "fig_dir ='Figures/UIF/'\n",
    "#FIGURE DIR \n",
    "if not os.path.exists(fig_dir):\n",
    "    os.makedirs(fig_dir)"
   ]
  },
  {
   "cell_type": "markdown",
   "id": "31a45b59-bc78-4b38-acfc-bf7dddc06c16",
   "metadata": {
    "jp-MarkdownHeadingCollapsed": true,
    "tags": []
   },
   "source": [
    "<h3>Define a Colormap and Label for Each Variable in the File</h3>"
   ]
  },
  {
   "cell_type": "markdown",
   "id": "89b75bc2-3fed-4a3e-b522-404301d7f6db",
   "metadata": {
    "jp-MarkdownHeadingCollapsed": true,
    "tags": []
   },
   "source": [
    "Within SASSIE's collection of jupyter notebooks, the colormaps used for each variable are held as consistant as possible across all datasets. This function defines the colormap and a label for the variable of interest. "
   ]
  },
  {
   "cell_type": "code",
   "execution_count": null,
   "id": "d1d73df0-cd76-422e-8870-2de7029638a9",
   "metadata": {},
   "outputs": [],
   "source": [
    "#DEFINES COLORMAPS AND LABELS OF EACH VARIABLE IN THIS DATA SET###\n",
    "def define_variable_attributes(var):\n",
    "    if (var =='salinity')|(var=='salinity_HRCTD'):\n",
    "        colormap = 'viridis'\n",
    "        var_label = 'Salinity'\n",
    "    if (var =='temperature')|(var=='temperature_HRCTD'):\n",
    "        colormap = 'plasma'\n",
    "        var_label = 'Water Temperature ($^{\\circ}$C)'\n",
    "    return colormap,var_label"
   ]
  },
  {
   "cell_type": "markdown",
   "id": "39dc186d-c678-41a2-a6aa-90e66816ad96",
   "metadata": {
    "jp-MarkdownHeadingCollapsed": true,
    "tags": []
   },
   "source": [
    "<h3>Define a Function to Create a Map of the Study Area</h3>"
   ]
  },
  {
   "cell_type": "markdown",
   "id": "abd04814-a4f5-467c-ae60-f32f31330b3d",
   "metadata": {
    "jp-MarkdownHeadingCollapsed": true,
    "tags": []
   },
   "source": [
    "The following function creates a map of the SASSIE study area, which is defined by minimum and maximum lat/lon values. These ranges can be changed later when the function is called to zoom in/out on the study area."
   ]
  },
  {
   "cell_type": "code",
   "execution_count": null,
   "id": "983e8c38-2cfd-47e1-ba06-dd23e254401b",
   "metadata": {},
   "outputs": [],
   "source": [
    "def map_study_area(latmin, latmax,lonmin,lonmax):\n",
    "    \n",
    "    global fig \n",
    "    global ax\n",
    "    \n",
    "    #create the map as a figure, set the lat and lon ranges, and add land + river data:\n",
    "    fig = plt.figure(figsize=(10,8))\n",
    "    ax = plt.axes(projection=cartopy.crs.NorthPolarStereo(central_longitude=-150))\n",
    "    ax.set_extent([lonmin,lonmax,latmin,latmax], crs=cartopy.crs.PlateCarree())\n",
    "    ax.coastlines(color='k')  \n",
    "    ax.add_feature(cartopy.feature.LAND, facecolor = '0.50',zorder=1)\n",
    "    ax.add_feature(cartopy.feature.RIVERS,facecolor='blue')\n",
    "    #Add lat and lon gridlines and labels:\n",
    "    gl = ax.gridlines(draw_labels=True, dms=True, x_inline=False, y_inline=False, alpha=0.3) #draw_labels=True gives lat labels.\n",
    "    gl.ylocator = matplotlib.ticker.FixedLocator(np.arange(60,75,1))\n",
    "    gl.xlocator = matplotlib.ticker.FixedLocator(np.arange(-170,-140,2))\n",
    "    gl.top_labels = False\n",
    "    gl.bottom_labels = True \n",
    "    gl.right_labels = False\n",
    "    \n",
    "    #Add markers for reference cities on the coast:\n",
    "    if (latmin<71.2906) & (lonmin<-156.7886):\n",
    "        utqiagvik = ax.scatter(-156.7886,71.2906,s=100,transform=cartopy.crs.PlateCarree(),c='red',marker = '*',label='Utqiagvik, AK',zorder=2)\n",
    "    if (latmin<70.2002) & (lonmax>-148.4597):\n",
    "        deadhorse = ax.scatter(-148.4597,70.2002,s=100,c='cyan',transform=cartopy.crs.PlateCarree(),marker = '*',label='Deadhorse, AK',zorder=2)\n",
    "        "
   ]
  },
  {
   "cell_type": "markdown",
   "id": "00c43abe-574c-45ac-a8f9-c2d97f3713c4",
   "metadata": {
    "jp-MarkdownHeadingCollapsed": true,
    "tags": []
   },
   "source": [
    "<h3>Define a Function to Create a 3D Grid of Latitude, Longitude, and Depth</h3>"
   ]
  },
  {
   "cell_type": "markdown",
   "id": "02af0386-774d-4bad-967d-532cc191e5ae",
   "metadata": {},
   "source": [
    "The following function creates a 3D grid for plotting 3 dimensional profile data from the UIF"
   ]
  },
  {
   "cell_type": "code",
   "execution_count": null,
   "id": "172660e2-d64c-4167-a99c-36386b4c2de1",
   "metadata": {},
   "outputs": [],
   "source": [
    "def make_3d_grid(latmin,latmax,lonmin,lonmax,dmin,dmax):    \n",
    "        global fig \n",
    "        global ax\n",
    "        \n",
    "        fig = plt.figure(figsize=(10,8))\n",
    "        ax = plt.axes(projection='3d',computed_zorder=False)\n",
    "        ax.xaxis.pane.fill = False\n",
    "        ax.yaxis.pane.fill = False\n",
    "        ax.zaxis.pane.fill = False    \n",
    "\n",
    "\n",
    "        ax.set_xlim(lonmin, lonmax); ax.set_ylim(latmin,latmax); ax.set_zlim(dmin,dmax);\n",
    "        ax.get_xaxis().get_major_formatter().set_useOffset(False)\n",
    "        xticks = list(np.linspace(lonmin,lonmax,4))\n",
    "        ax.set_xticks(np.around(xticks,2))\n",
    "        ax.set_xticklabels(np.around(xticks,2),rotation=30, ha='center',va='center', minor=False,size='small')\n",
    "\n",
    "        yticks = list(np.linspace(latmin,latmax,4))\n",
    "        ax.set_yticks(np.around(yticks,2))\n",
    "        ax.invert_yaxis()\n",
    "        ax.set_yticklabels(np.around(yticks,2),rotation=-15,va='bottom', minor=False,size='small')\n",
    "\n",
    "        zticks = list(np.linspace(dmin,dmax,4))\n",
    "        ax.set_zticks(np.around(zticks,2))\n",
    "        ax.set_zticklabels(np.around(zticks,2),ha='center',va='center', minor=False,size='small')\n",
    "\n",
    "        ax.set_xlabel('Longitude',fontsize=13,labelpad=10,fontweight='bold')\n",
    "        ax.set_ylabel('Latitude',fontsize=13,labelpad = 7,fontweight='bold')\n",
    "        ax.set_zlabel('Pressure (dbar)',fontsize=13,labelpad = 16,fontweight='bold')\n",
    "        ax.view_init(195,280)\n",
    "        fig.canvas.draw()\n",
    "        plt.tight_layout()"
   ]
  },
  {
   "cell_type": "markdown",
   "id": "59ab777f-465a-40a5-b90d-549d39a289fe",
   "metadata": {
    "jp-MarkdownHeadingCollapsed": true,
    "tags": []
   },
   "source": [
    "<h3>Configure Supporting Data to Add to Maps</h3>"
   ]
  },
  {
   "cell_type": "markdown",
   "id": "3fc50fc7-56a8-452a-b15f-db671b21b027",
   "metadata": {
    "jp-MarkdownHeadingCollapsed": true,
    "tags": []
   },
   "source": [
    "<p>The functions for viewing and plotting this data set below have options to include bathymetr and/or shiptrack data to add context to maps. If you are using these options, run\n",
    "    <br>the following code blocks to:\n",
    "    <br>1. Create a directory for SASSIE Ship Track data and acess bathymetry data from NOAA\n",
    "    <br>2. Define functions that add these data to your map when called.</p>"
   ]
  },
  {
   "cell_type": "markdown",
   "id": "470aae83-e240-4aa7-bf6c-1caebc3af85a",
   "metadata": {
    "jp-MarkdownHeadingCollapsed": true,
    "tags": []
   },
   "source": [
    "<h4>Create Directory for Shiptrack Data and Access Bathymetry Data </h4>"
   ]
  },
  {
   "cell_type": "code",
   "execution_count": null,
   "id": "ccc748a7-0094-414c-b9c5-a473b62bd1e0",
   "metadata": {
    "tags": []
   },
   "outputs": [],
   "source": [
    "## DIRECTORY TO SHIP TRACK DATA\n",
    "ship_dir =  'Data/TSG/' \n",
    "\n",
    "#DOWLOAD SHIPTRACK DATA\n",
    "if not os.path.isfile(ship_dir+'SASSIE_Fall_2022_Shipboard_TSG.nc'):\n",
    "    os.makedirs(ship_dir)\n",
    "    url = 'https://archive.podaac.earthdata.nasa.gov/podaac-ops-cumulus-protected/SASSIE_L2_SHIPBOARD_TSG_V1/SASSIE_Fall_2022_Shipboard_TSG.nc'\n",
    "    with requests.Session() as session:\n",
    "            session.auth = (username, password)\n",
    "            r1 = session.request('get', url)\n",
    "            r = session.get(r1.url, auth=(username, password))\n",
    "            if r.status_code == 200:\n",
    "                if r.ok:\n",
    "                    with open(ship_dir+'SASSIE_Fall_2022_Shipboard_TSG.nc', 'wb') as f:\n",
    "                        f.write(r.content) \n",
    "                        print('Saving Input File: ' + ship_dir+'SASSIE_Fall_2022_Shipboard_TSG.nc') \n",
    "            else:\n",
    "                print(\"Error:\", r.status_code)\n",
    "                if r.status_code == 401:\n",
    "                    print ('Your Username and/or password are incorrect. Please try again')\n",
    "else: \n",
    "    print('Shipboard TSG file is already in local directory')\n",
    "    \n",
    "    \n",
    "#READ IN TOPOGRAPHY/BATHYMETRY DATA\n",
    "url = 'http://ferret.pmel.noaa.gov/thredds/dodsC/data/PMEL/etopo2.nc'\n",
    "etopodata = xr.open_dataset(url) "
   ]
  },
  {
   "cell_type": "markdown",
   "id": "4ad008f7-e6cd-46ea-a415-a086a15a122f",
   "metadata": {
    "jp-MarkdownHeadingCollapsed": true,
    "tags": []
   },
   "source": [
    "<h4>Define a Function to Index Relevant Bathymetry Data and Add it to the Map</h4>\n",
    "This function will index bathymetry data from NOAA within the appropriate spatial range and add it to the map. \n"
   ]
  },
  {
   "cell_type": "code",
   "execution_count": null,
   "id": "5666fced-e971-4612-988e-216e8eaed2c9",
   "metadata": {},
   "outputs": [],
   "source": [
    "def add_bathy_data(latmin,latmax,lonmin,lonmax):\n",
    "        topoin = etopodata.rose.values[0:-1:5,1:-1:5]\n",
    "        lons = etopodata.etopo2_x.values[0:-1:5]\n",
    "        lats = etopodata.etopo2_y.values[0:-1:5]\n",
    "        lons_in_range = lons[np.where((lons >lonmin-1) & (lons<lonmax+1))]\n",
    "        lats_in_range = lats[np.where((lats >latmin-1) & (lats<latmax+1))]\n",
    "        topo_in_range = np.squeeze(topoin[np.squeeze(np.where((lats >latmin-1) & (lats<latmax+1))),:][:,np.where((lons >lonmin-1) & (lons<lonmax+1))])\n",
    "        [bathy_lon,bathy_lat] = np.meshgrid(lons_in_range,lats_in_range)\n",
    "        \n",
    "        bathy = ax.contour(bathy_lon,bathy_lat,topo_in_range,np.arange(-6000,-1000,300),transform=cartopy.crs.PlateCarree(),cmap='gray',alpha = 0.2,zorder = 0)"
   ]
  },
  {
   "cell_type": "markdown",
   "id": "b9acc721-c9fe-4936-beb5-f7570b2ce2ae",
   "metadata": {
    "jp-MarkdownHeadingCollapsed": true,
    "tags": []
   },
   "source": [
    "<h4>Define a Function to Add Shiptrack Data to a Map</h4>\n",
    "This function will pull the lat/lon data from the SASSIE Shipboard TSG file and put it onto a map. "
   ]
  },
  {
   "cell_type": "code",
   "execution_count": null,
   "id": "dee47e75-0cf7-4f3a-82af-d32293c64a64",
   "metadata": {},
   "outputs": [],
   "source": [
    "def add_ship_track():\n",
    "        ds_ship = xr.open_dataset(ship_dir+'/SASSIE_Fall_2022_Shipboard_TSG.nc')\n",
    "        ship_time = np.squeeze(ds_ship['time'])\n",
    "        ship_lat = np.squeeze(ds_ship['latitude'])\n",
    "        ship_lon = np.squeeze(ds_ship['longitude'])\n",
    "       \n",
    "        track = ax.plot(ship_lon, \n",
    "                     ship_lat,linewidth = 0.5,\n",
    "                     c='black',\n",
    "                       transform=cartopy.crs.PlateCarree(),label = 'Ship Track',zorder=1)"
   ]
  },
  {
   "cell_type": "markdown",
   "id": "7b9ffe68-40d4-4439-afeb-adc03251d7b7",
   "metadata": {
    "jp-MarkdownHeadingCollapsed": true,
    "tags": []
   },
   "source": [
    "# Figure Making Code"
   ]
  },
  {
   "cell_type": "markdown",
   "id": "730c1ca7-01c9-4eb7-8f94-15632614b2ea",
   "metadata": {
    "jp-MarkdownHeadingCollapsed": true,
    "tags": []
   },
   "source": [
    "## Make a Map of the Surfacing Locations of the UIF Throughout the Campaign"
   ]
  },
  {
   "cell_type": "markdown",
   "id": "4f3cd3e5-680e-4c72-a74a-112863764228",
   "metadata": {
    "jp-MarkdownHeadingCollapsed": true,
    "tags": []
   },
   "source": [
    "The map_UIF_GPS function shows the track of the UIF as it surfaced on a map, colored by time. Various features of this function:\n",
    "    <br>1. The function automatically adds the track of the R/V Woldstad in Black for reference. \n",
    "    <br>2. This function adds bathymetry contours showing the position of the continental shelf by default for reference. "
   ]
  },
  {
   "cell_type": "code",
   "execution_count": null,
   "id": "e0d7eb77-94a6-4468-8fca-61956686731b",
   "metadata": {
    "tags": []
   },
   "outputs": [],
   "source": [
    "##USE THIS TO PLOT THE FLOAT SURFACING LOCATIONS ON THE WHOLE CAMPAIGN MAP \n",
    "def map_UIF_GPS(ship_track=True,bathymetry_data=True):\n",
    "    \n",
    "    ##CREATE A MAP WITH LAND AND CITY MARKERS AND SHIP TRACK. To show the whole campaign area, use latmin = 70, latmax =74,lonmin=-157,lonmax=-140.  \n",
    "    latmin = 72\n",
    "    latmax =74\n",
    "    lonmin=-156\n",
    "    lonmax=-149\n",
    "    \n",
    "\n",
    "    #make the map: \n",
    "    map_study_area(latmin,latmax,lonmin,lonmax)\n",
    "    \n",
    "    ax.set_title('Under Ice Float GPS Readings',fontsize=20,pad=1.5) \n",
    "   \n",
    "   \n",
    "    ##OPTIONAL MAP ADD-ONs\n",
    "    if ship_track==True:\n",
    "        add_ship_track()\n",
    "        \n",
    "    if bathymetry_data == True:    \n",
    "        add_bathy_data(latmin,latmax,lonmin,lonmax)\n",
    "    \n",
    "    ##APPLY THE TIME AND LOCATION DATA FROM THE GPS \n",
    "    ds_UIF = xr.open_dataset(file)\n",
    "    GPS_time = np.squeeze(ds_UIF['time_GPS'])\n",
    "    GPS_lat = np.squeeze(ds_UIF['latitude_GPS'])\n",
    "    GPS_lon = np.squeeze(ds_UIF['longitude_GPS'])\n",
    "    \n",
    "    #Set time limits of the float data\n",
    "    start_time = min(GPS_time)\n",
    "    end_time = max(GPS_time)\n",
    "\n",
    "    var_min = start_time.astype('int64')\n",
    "    var_max =end_time.astype('int64')\n",
    "\n",
    "    deployment_track = ax.scatter(GPS_lon,GPS_lat,s = 5,\n",
    "                   c = GPS_time,cmap = 'jet',\n",
    "                   transform=cartopy.crs.PlateCarree(),zorder=2,vmin=var_min,vmax=var_max)\n",
    "\n",
    "    cbar = fig.colorbar(deployment_track, ax=ax, orientation=\"horizontal\", pad=0.1)\n",
    "    cbar.set_label(label='Date',size='large',weight='bold')\n",
    "    cbar_tick_array=(np.linspace(start_time.astype('int64'),end_time.astype('int64'),5))\n",
    "    cbar.set_ticks(cbar_tick_array)\n",
    "    cbar.set_ticklabels(pd.to_datetime(cbar_tick_array).date)  \n",
    "\n",
    "    #SAVE FIGURE\n",
    "    if not os.path.exists(fig_dir+'maps/'):\n",
    "        os.makedirs(fig_dir+'maps/')\n",
    "    print('Saving Output Image:  '+fig_dir+'maps/UIF_GPS_readings.png')\n",
    "    plt.savefig(fig_dir+'maps/UIF_GPS_readings_.png',dpi='figure',format='png')\n",
    "    "
   ]
  },
  {
   "cell_type": "code",
   "execution_count": null,
   "id": "2c5e8c4c-2b18-4c34-adba-c15f582ce9a1",
   "metadata": {},
   "outputs": [],
   "source": [
    "map_UIF_GPS()"
   ]
  },
  {
   "cell_type": "markdown",
   "id": "57245708-ff9c-4095-b084-2ffd1fea9183",
   "metadata": {
    "jp-MarkdownHeadingCollapsed": true,
    "tags": []
   },
   "source": [
    "<h2>Three Dimensional Representation of Vertical Profile Data</h2>\n",
    "Use the code in this section to plot profile locations and depths of the Under Ice float on a 3D grid, colored by a physical measurement variable from the file (temperature, salinity). "
   ]
  },
  {
   "cell_type": "code",
   "execution_count": null,
   "id": "64032489-035d-46e5-9c76-52c341f5bd4d",
   "metadata": {},
   "outputs": [],
   "source": [
    "##MAKES A 3D PLOT OF THE CTD VARIABLES WITH INTERPOLATED LAT/LON FOR A TIME RANGE WITHIN THE GPS MEASUREMENTS\n",
    "def plot_CTD(start_time,end_time,CTD_unit,var):\n",
    "   \n",
    "    ##PULL OUT THE DATA WITHIN THE START AND END TIME RANGE\n",
    "    ds_limited = ds.sel(time_GPS=slice(start_time,end_time),time_CTD=slice(start_time,end_time))\n",
    "    \n",
    "    ## MAKE AN INTERPOLATED CTD LAT AND LON ARRAY FOR PLOTTING PURPOSES ONLY. PULL OUT THE VARIABLE OF INTEREST AND PRESSURE AT THESE TIMES TOO. \n",
    "    lat_array = []\n",
    "    lon_array = []\n",
    "    pres_array =[]\n",
    "    var_array = []\n",
    "    for i in range(len(ds_limited.time_GPS)-1):\n",
    "        #STEP 1 Find start and end coordinates \n",
    "        start_time_GPS = ds_limited['time_GPS'].values[i]\n",
    "        end_time_GPS = ds_limited['time_GPS'].values[i+1]\n",
    "        start_lat = ds_limited['latitude_GPS'].values[i]\n",
    "        end_lat = ds_limited['latitude_GPS.values'][i+1]\n",
    "        start_lon = ds_limited['longitude_GPS'].values[i]\n",
    "        end_lon = ds_limited['longitude_GPS'].values[i+1]\n",
    "        # STEP 2 Find the number of measurements taken between start_time and end_time \n",
    "        measurements = ds_limited.sel(time_CTD=slice(start_time_GPS,end_time_GPS))\n",
    "        number_of_measurements = len(measurements.time_CTD.values)\n",
    "        #STEP 3 create an evenly spaced array of lat and lons connecting them. \n",
    "        lat_array = np.append(lat_array,np.linspace(start_lat,end_lat,number_of_measurements))\n",
    "        lon_array = np.append(lon_array,np.linspace(start_lon,end_lon,number_of_measurements))\n",
    "        #STEP 4 create a pressure and a var array that correspond to these measurements.\n",
    "        pressure = measurements['pressure'].values[CTD_unit-1,:]\n",
    "        pres_array = np.append(pres_array,pressure)\n",
    "        var_current = measurements[var].values[CTD_unit-1,:]\n",
    "        var_array = np.append(var_array,var_current)\n",
    "    \n",
    "    ##SET UP THE 3D PLOT \n",
    "    colormap,var_label = define_variable_attributes(var)\n",
    "\n",
    "    #To show the whole campaign area, use latmin = 70, latmax =74,lonmin=-157,lonmax=-140\n",
    "    latmin = min(lat_array)\n",
    "    latmax = max(lat_array)\n",
    "    lonmin = min(lon_array)\n",
    "    lonmax = max(lon_array)\n",
    "    pmin = min(pres_array)\n",
    "    pmax = max(pres_array)+0.5\n",
    "    \n",
    "    \n",
    "    make_3d_grid(latmin,latmax,lonmin,lonmax,pmin,pmax)\n",
    "    \n",
    "    \n",
    "    ax.set_title('Under Ice Float'+' '+var_label+' '+'Readings from CTD Sensor '+str(CTD_unit)+'\\n from '+str(start_time.year)+'/'+str(start_time.month).zfill(2)+'/'+str(start_time.day).zfill(2)+' to '+str(end_time.year)+'/'+str(end_time.month).zfill(2)+'/'+str(end_time.day).zfill(2),fontsize=15,pad=None)\n",
    "\n",
    "    \n",
    "    ##APPLY THE FLOAT DATA\n",
    "    a = ax.scatter(lon_array,lat_array,pres_array,c=(var_array),cmap = colormap,s=2,zorder=1)    \n",
    "    fig.colorbar(a).set_label(label = var_label,size=15,weight='bold')\n",
    "    \n",
    "    \n",
    "    ##SAVE THE FIGURE:\n",
    "    if not os.path.exists(fig_dir+var+'/'):\n",
    "        os.makedirs(fig_dir+var+'/')\n",
    "    \n",
    "    print('Saving Output Image:  '+fig_dir+var+'/'+'UIF_CTD'+str(CTD_unit)+'_'+var+'_'+str(start_time.year)+str(start_time.month).zfill(2)+str(start_time.day).zfill(2)+str(start_time.hour).zfill(2)+str(start_time.minute).zfill(2)+'_'+str(end_time.year)+str(end_time.month).zfill(2)+str(end_time.day).zfill(2)+str(end_time.hour).zfill(2)+str(end_time.minute).zfill(2)+'.png')\n",
    "    plt.savefig(fig_dir+var+'/'+'UIF_CTD'+str(CTD_unit)+'_'+var+'_'+str(start_time.year)+str(start_time.month).zfill(2)+str(start_time.day).zfill(2)+str(start_time.hour).zfill(2)+str(start_time.minute).zfill(2)+'_'+str(end_time.year)+str(end_time.month).zfill(2)+str(end_time.day).zfill(2)+str(end_time.hour).zfill(2)+str(end_time.minute).zfill(2)+'.png',dpi='figure',format='png',bbox_inches='tight')\n",
    "    \n",
    "\n"
   ]
  },
  {
   "cell_type": "code",
   "execution_count": null,
   "id": "7badf3cb-06b5-4581-8d46-b36b3abab581",
   "metadata": {},
   "outputs": [],
   "source": [
    "plot_CTD(datetime(2022,10,14),datetime(2022,10,23),1,'temperature')\n",
    "plot_CTD(datetime(2022,10,14),datetime(2022,10,23),1,'salinity')"
   ]
  },
  {
   "cell_type": "code",
   "execution_count": null,
   "id": "45978ae2-b696-4bb9-9a9a-c40856d2c6c5",
   "metadata": {},
   "outputs": [],
   "source": [
    "##MAKES A 3D PLOT OF THE HRCTD VARIABLES WITH INTERPOLATED LAT/LON FOR A TIME RANGE WITHIN THE GPS MEASUREMENTS\n",
    "def plot_HRCTD(start_time,end_time,var,var_min,var_max):\n",
    "   \n",
    "    ##PULL OUT THE DATA WITHIN THE START AND END TIME RANGE\n",
    "    ds_limited = ds.sel(time_GPS=slice(start_time,end_time),time_HRCTD=slice(start_time,end_time))\n",
    "    \n",
    "    ## MAKE AN INTERPOLATED CTD LAT AND LON ARRAY FOR PLOTTING PURPOSES ONLY. PULL OUT THE VARIABLE OF INTEREST AND PRESSURE AT THESE TIMES TOO. \n",
    "    lat_array = []\n",
    "    lon_array = []\n",
    "    pres_array = []\n",
    "    var_array = []\n",
    "    for i in range(len(ds_limited.time_GPS)-1):\n",
    "        #STEP 1 Find start and end coordinates \n",
    "        start_time_GPS = ds_limited['time_GPS'].values[i]\n",
    "        end_time_GPS = ds_limited['time_GPS'].values[i+1]\n",
    "        start_lat = ds_limited['latitude_GPS'].values[i]\n",
    "        end_lat = ds_limited['latitude_GPS.values'][i+1]\n",
    "        start_lon = ds_limited['longitude_GPS'].values[i]\n",
    "        end_lon = ds_limited['longitude_GPS'].values[i+1]\n",
    "        # STEP 2 Find the number of measurements taken between start_time and end_time \n",
    "        measurements = ds_limited.sel(time_HRCTD=slice(start_time_GPS,end_time_GPS))\n",
    "        number_of_measurements = len(measurements.time_HRCTD.values)\n",
    "        #STEP 3 create an evenly spaced array of lat and lons connecting them. \n",
    "        lat_array = np.append(lat_array,np.linspace(start_lat,end_lat,number_of_measurements))\n",
    "        lon_array = np.append(lon_array,np.linspace(start_lon,end_lon,number_of_measurements))\n",
    "        #STEP 4 create a pressure and a var array that correspond to these measurements.\n",
    "        pressure = measurements['pressure_HRCTD'].values\n",
    "        pres_array = np.append(pres_array,pressure)\n",
    "        var_current = measurements[var+'_HRCTD'].values\n",
    "        var_array = np.append(var_array,var_current)\n",
    "    \n",
    "    \n",
    "    ##SET UP THE 3D PLOT \n",
    "    colormap,var_label = define_variable_attributes(var)\n",
    "\n",
    "    #To show the whole campaign area, use latmin = 70, latmax =74,lonmin=-157,lonmax=-140\n",
    "    latmin = min(lat_array)\n",
    "    latmax = max(lat_array)\n",
    "    lonmin = min(lon_array)\n",
    "    lonmax = max(lon_array)\n",
    "    pmin = min(pres_array)\n",
    "    pmax = max(pres_array)+0.5\n",
    "\n",
    "    \n",
    "    make_3d_grid(latmin,latmax,lonmin,lonmax,pmin,pmax)\n",
    "    \n",
    "    ax.set_title('Under Ice Float'+' '+var_label+' '+'Readings from HRCTD' +'\\n from '+str(start_time.year)+'/'+str(start_time.month).zfill(2)+'/'+str(start_time.day).zfill(2)+' to '+str(end_time.year)+'/'+str(end_time.month).zfill(2)+'/'+str(end_time.day).zfill(2),fontsize=15,pad=None)\n",
    "\n",
    "    ##APPLY THE FLOAT DATA\n",
    "    a = ax.scatter(lon_array,lat_array,pres_array,c=(var_array),cmap = colormap,s=2,zorder=1,vmin = var_min, vmax = var_max)    \n",
    "    fig.colorbar(a).set_label(label = var_label,size = 15,weight='bold')\n",
    "    \n",
    "    ##SAVE THE FIGURE:\n",
    "    if not os.path.exists(fig_dir+'HRCTD/'+var+'/'):\n",
    "        os.makedirs(fig_dir+'HRCTD/'+var+'/')\n",
    "    \n",
    "    print('Saving Output Image:  '+fig_dir+'HRCTD/'+var+'/'+'UIF_HRCTD_'+var+'_'+str(start_time.year)+str(start_time.month).zfill(2)+str(start_time.day).zfill(2)+str(start_time.hour).zfill(2)+str(start_time.minute).zfill(2)+'_'+str(end_time.year)+str(end_time.month).zfill(2)+str(end_time.day).zfill(2)+str(end_time.hour).zfill(2)+str(end_time.minute).zfill(2)+'.png')\n",
    "    plt.savefig(fig_dir+'HRCTD/'+var+'/'+'UIF_HRCTD_'+var+'_'+str(start_time.year)+str(start_time.month).zfill(2)+str(start_time.day).zfill(2)+str(start_time.hour).zfill(2)+str(start_time.minute).zfill(2)+'_'+str(end_time.year)+str(end_time.month).zfill(2)+str(end_time.day).zfill(2)+str(end_time.hour).zfill(2)+str(end_time.minute).zfill(2)+'.png',dpi='figure',format='png',bbox_inches='tight')\n",
    "    \n",
    "\n"
   ]
  },
  {
   "cell_type": "code",
   "execution_count": null,
   "id": "c9393e1a-36f5-4b21-a959-79693344bc4b",
   "metadata": {},
   "outputs": [],
   "source": [
    "plot_HRCTD(datetime(2022,10,14),datetime(2022,10,23),'temperature',-1.5,0)\n",
    "plot_HRCTD(datetime(2022,10,14),datetime(2022,10,23),'salinity',25,29)"
   ]
  },
  {
   "cell_type": "markdown",
   "id": "9381f75f-312d-497f-9f95-20bf5bbc57c3",
   "metadata": {
    "jp-MarkdownHeadingCollapsed": true,
    "tags": []
   },
   "source": [
    "<h2>Two Dimensional Representation of Vertical Profile Data</h2>\n",
    "Use the code in this section to plot profile locations and depths of the Under Ice float on a 2D grid, colored by a physical measurement variable from the file (temperature, salinity). "
   ]
  },
  {
   "cell_type": "code",
   "execution_count": null,
   "id": "f3b58189-44ee-4950-a83b-792404d39de1",
   "metadata": {},
   "outputs": [],
   "source": [
    "##MAKES A 2D PLOT OF THE CTD VARIABLES ON TIME-DEPTH AXIS (NO INTERPOLATION OF LAT/LON)\n",
    "def plot_CTD_2D(start_time,end_time,CTD_unit,var):\n",
    "   \n",
    "    ##PULL OUT THE DATA WITHIN THE START AND END TIME RANGE\n",
    "    ds_limited = ds.sel(time_CTD=slice(start_time,end_time))\n",
    "    UIF_time = ds_limited['time_CTD'].values\n",
    "    UIF_pres = ds_limited['pressure'].values[CTD_unit-1,:]\n",
    "    UIF_var = ds_limited[var].values[CTD_unit-1,:]            \n",
    "    \n",
    "    ##SET UP THE 2D PLOT \n",
    "    colormap,var_label = define_variable_attributes(var)\n",
    "\n",
    "    pmin = min(UIF_pres)\n",
    "    pmax = max(UIF_pres)\n",
    "    tmin = min(UIF_time)\n",
    "    tmax = max(UIF_time)\n",
    "                  \n",
    "    fig = plt.figure(figsize=(10,8))\n",
    "    \n",
    "    plt.title('Under Ice Float'+' '+var_label+' '+'Readings from CTD Sensor '+str(CTD_unit)+'\\n from '+str(start_time.year)+'/'+str(start_time.month).zfill(2)+'/'+str(start_time.day).zfill(2)+' to '+str(end_time.year)+'/'+str(end_time.month).zfill(2)+'/'+str(end_time.day).zfill(2),fontsize=15,pad=None)\n",
    "\n",
    "    plt.xlim(tmin, tmax); plt.ylim(pmin,pmax);\n",
    "    total_timedelta = tmax-tmin\n",
    "    third_of_timedelta = total_timedelta/3\n",
    "    plt.xticks([tmin,tmin+third_of_timedelta, tmin+ 2*third_of_timedelta, tmax])\n",
    "    ytick = list(np.arange(0,75,15))\n",
    "    plt.yticks(np.around(ytick,2))\n",
    "    plt.xlabel('Date',fontsize=16)\n",
    "    plt.ylabel('Pressure (dbar)',fontsize=16)\n",
    "    plt.gca().invert_yaxis()\n",
    "        \n",
    "    ##APPLY THE CTD DATA\n",
    "    ax = plt.scatter(UIF_time,UIF_pres,s=1,c=UIF_var,cmap=colormap)\n",
    "    fig.colorbar(ax).set_label(label = var_label,size=15,weight='bold')\n",
    "\n",
    "    ##SAVE THE FIGURE:\n",
    "    if not os.path.exists(fig_dir+var+'/2d/'):\n",
    "        os.makedirs(fig_dir+var+'/2d/')\n",
    "    \n",
    "    print('Saving Output Image:  '+fig_dir+var+'/2d/'+'UIF_CTD'+str(CTD_unit)+'_'+var+'_'+str(start_time.year)+str(start_time.month).zfill(2)+str(start_time.day).zfill(2)+str(start_time.hour).zfill(2)+str(start_time.minute).zfill(2)+'_'+str(end_time.year)+str(end_time.month).zfill(2)+str(end_time.day).zfill(2)+str(end_time.hour).zfill(2)+str(end_time.minute).zfill(2)+'.png')\n",
    "    plt.savefig(fig_dir+var+'/2d/'+'UIF_CTD'+str(CTD_unit)+'_'+var+'_'+str(start_time.year)+str(start_time.month).zfill(2)+str(start_time.day).zfill(2)+str(start_time.hour).zfill(2)+str(start_time.minute).zfill(2)+'_'+str(end_time.year)+str(end_time.month).zfill(2)+str(end_time.day).zfill(2)+str(end_time.hour).zfill(2)+str(end_time.minute).zfill(2)+'.png',dpi='figure',format='png',bbox_inches='tight')\n",
    "    \n",
    "\n"
   ]
  },
  {
   "cell_type": "code",
   "execution_count": null,
   "id": "fece9bff-fca8-4275-8028-5564f2398c65",
   "metadata": {},
   "outputs": [],
   "source": [
    "plot_CTD_2D(datetime(2022,10,14),datetime(2022,10,23),1,'temperature')\n",
    "plot_CTD_2D(datetime(2022,10,14),datetime(2022,10,23),1,'salinity')"
   ]
  },
  {
   "cell_type": "code",
   "execution_count": null,
   "id": "66514589-d511-485e-b706-2776a87ba235",
   "metadata": {},
   "outputs": [],
   "source": [
    "##MAKES A 2D PLOT OF THE CTD VARIABLES ON TIME-DEPTH AXIS (NO INTERPOLATION OF LAT/LON)\n",
    "def plot_HRCTD_2D(start_time,end_time,var,var_min,var_max):\n",
    "   \n",
    "    ##PULL OUT THE DATA WITHIN THE START AND END TIME RANGE\n",
    "    ds_limited = ds.sel(time_HRCTD=slice(start_time,end_time))\n",
    "    UIF_time = ds_limited['time_HRCTD'].values\n",
    "    UIF_pres = ds_limited['pressure_HRCTD'].values\n",
    "    UIF_var = ds_limited[var+'_HRCTD'].values            \n",
    "    \n",
    "    ##SET UP THE 2D PLOT \n",
    "    colormap,var_label = define_variable_attributes(var)\n",
    "\n",
    "    pmin = min(UIF_pres)\n",
    "    pmax = max(UIF_pres)\n",
    "    tmin = min(UIF_time)\n",
    "    tmax = max(UIF_time)\n",
    "                  \n",
    "    fig = plt.figure(figsize=(10,8))\n",
    "    \n",
    "    plt.title('Under Ice Float'+' '+var_label+' '+'Readings from HRCTD' +'\\n from '+str(start_time.year)+'/'+str(start_time.month).zfill(2)+'/'+str(start_time.day).zfill(2)+' to '+str(end_time.year)+'/'+str(end_time.month).zfill(2)+'/'+str(end_time.day).zfill(2),fontsize=15,pad=None)\n",
    "\n",
    "    plt.xlim(tmin, tmax); plt.ylim(pmin,pmax);\n",
    "    total_timedelta = tmax-tmin\n",
    "    third_of_timedelta = total_timedelta/3\n",
    "    plt.xticks([tmin,tmin+third_of_timedelta, tmin+ 2*third_of_timedelta, tmax])\n",
    "    ytick = list(np.arange(0,40,10))\n",
    "    plt.yticks(np.around(ytick,2))\n",
    "    plt.xlabel('Date',fontsize=16)\n",
    "    plt.ylabel('Pressure (dbar)',fontsize=16)\n",
    "    plt.gca().invert_yaxis()\n",
    "        \n",
    "    ##APPLY THE HRCTD DATA\n",
    "    ax = plt.scatter(UIF_time,UIF_pres,s=1,c=UIF_var,cmap=colormap,vmin = var_min, vmax = var_max)\n",
    "    fig.colorbar(ax).set_label(label = var_label,size=15,weight='bold')\n",
    "    \n",
    "    ##SAVE THE FIGURE:\n",
    "    if not os.path.exists(fig_dir+'HRCTD/'+var+'/2d/'):\n",
    "        os.makedirs(fig_dir+'HRCTD/'+var+'/2d/')\n",
    "    \n",
    "    print('Saving Output Image:  '+fig_dir+'HRCTD/'+var+'/2d/'+'UIF_HRCTD_'+var+'_'+str(start_time.year)+str(start_time.month).zfill(2)+str(start_time.day).zfill(2)+str(start_time.hour).zfill(2)+str(start_time.minute).zfill(2)+'_'+str(end_time.year)+str(end_time.month).zfill(2)+str(end_time.day).zfill(2)+str(end_time.hour).zfill(2)+str(end_time.minute).zfill(2)+'.png')\n",
    "    plt.savefig(fig_dir+'HRCTD/'+var+'/2d/'+'UIF_HRCTD_'+var+'_'+str(start_time.year)+str(start_time.month).zfill(2)+str(start_time.day).zfill(2)+str(start_time.hour).zfill(2)+str(start_time.minute).zfill(2)+'_'+str(end_time.year)+str(end_time.month).zfill(2)+str(end_time.day).zfill(2)+str(end_time.hour).zfill(2)+str(end_time.minute).zfill(2)+'.png',dpi='figure',format='png',bbox_inches='tight')\n",
    "    \n",
    "\n"
   ]
  },
  {
   "cell_type": "code",
   "execution_count": null,
   "id": "b8979d2d-4f92-4f91-97d6-de0668d3fc5b",
   "metadata": {},
   "outputs": [],
   "source": [
    "plot_HRCTD_2D(datetime(2022,10,14),datetime(2022,10,23),'temperature',-1.5,0)\n",
    "plot_HRCTD_2D(datetime(2022,10,14),datetime(2022,10,23),'salinity',25,29)"
   ]
  },
  {
   "cell_type": "code",
   "execution_count": null,
   "id": "93098343-b0a9-4b05-ba86-8be88bb441ce",
   "metadata": {},
   "outputs": [],
   "source": []
  }
 ],
 "metadata": {
  "kernelspec": {
   "display_name": "Python 3 (ipykernel)",
   "language": "python",
   "name": "python3"
  },
  "language_info": {
   "codemirror_mode": {
    "name": "ipython",
    "version": 3
   },
   "file_extension": ".py",
   "mimetype": "text/x-python",
   "name": "python",
   "nbconvert_exporter": "python",
   "pygments_lexer": "ipython3",
   "version": "3.9.16"
  }
 },
 "nbformat": 4,
 "nbformat_minor": 5
}
