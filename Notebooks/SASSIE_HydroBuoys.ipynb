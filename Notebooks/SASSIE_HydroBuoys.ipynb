{
 "cells": [
  {
   "cell_type": "markdown",
   "id": "d81e4417-0c66-49f7-877b-bf4b9aee6f1c",
   "metadata": {
    "tags": []
   },
   "source": [
    "<h1>SASSIE Hydrography Buoy Data Use and Visualization</h1>\n",
    "<p> Hydrography Buoys are drifting platforms that take temperature and salnity measurements at fixed depths as they drift. Hydrobuoy data are downloaded and plotted using the code below! <b>Please run the 'Data Download and Metadata Viewing' and 'Supporting Code' sections in order before running the 'Figure Making Code'.</b> </p>\n",
    "   <p>The aim of this notebook is to assist the end user in exploratory data analysis by downloading the SASSIE data from NASA's PODAAC, opening the dataset and displaying it's associated metadata, and creating a few visualizations. This notebook was created by Elizabeth Westbrook. For questions and trouble shooting, please email westbrooke@uncw.edu.</p>"
   ]
  },
  {
   "cell_type": "markdown",
   "id": "e6050f2f-0702-49e6-9288-d79743041fdf",
   "metadata": {
    "jp-MarkdownHeadingCollapsed": true,
    "tags": []
   },
   "source": [
    "# Credential Entry\n",
    "In this section, you shoud enter your EarthData username and password. <b> DO NOT enter usernames and passwords here which are sensitive.</b> If you do not already have an EarthData account, you can create one <a href=\"https://urs.earthdata.nasa.gov/\">here</a> . </p>\n",
    "    <p>Please enter your EarthData credentials below: </p>"
   ]
  },
  {
   "cell_type": "code",
   "execution_count": null,
   "id": "3742683c-2b34-4b46-b22f-1a190d7f8b8c",
   "metadata": {},
   "outputs": [],
   "source": [
    "#Enter Earthdata Credentials: \n",
    "username = 'your_username'\n",
    "password = 'your_password'"
   ]
  },
  {
   "cell_type": "markdown",
   "id": "dd164ade-1d2f-4f63-98b1-c5989b500a4d",
   "metadata": {
    "jp-MarkdownHeadingCollapsed": true,
    "tags": []
   },
   "source": [
    "# Data Download and Metadata Viewing\n",
    "\n",
    "The code in this section will download the dataset from PO.DAAC and open it as an xarray object for metadata and variable attribute viewing."
   ]
  },
  {
   "cell_type": "code",
   "execution_count": null,
   "id": "3ace82e5-e3fa-41aa-93f1-ebb8f9c276e8",
   "metadata": {
    "tags": []
   },
   "outputs": [],
   "source": [
    "import numpy as np\n",
    "import xarray as xr\n",
    "import cf_xarray \n",
    "import glob \n",
    "from datetime import datetime, timedelta \n",
    "import matplotlib.pyplot as plt\n",
    "import cartopy\n",
    "import matplotlib\n",
    "import os\n",
    "import sys\n",
    "import pandas as pd\n",
    "import requests \n",
    "import cmasher as cmr"
   ]
  },
  {
   "cell_type": "markdown",
   "id": "ed160b0c-37cc-4fe2-947a-40c3c4720d6e",
   "metadata": {
    "jp-MarkdownHeadingCollapsed": true,
    "tags": []
   },
   "source": [
    "<h2>Download The Hydrobuoy data from PO.DAAC</h2>\n",
    "<p> All data from the SASSIE campaign is stored on NASA's PO.DAAC. The code in this section of the notebook will download SASSIE Hydrobuoy data from PO.DAAC, which is accessed through EarthData. "
   ]
  },
  {
   "cell_type": "code",
   "execution_count": null,
   "id": "507b4c85-45f2-406a-87a7-6309979edcff",
   "metadata": {},
   "outputs": [],
   "source": [
    "##LOCAL DIRECTORY TO FLOAT DATA\n",
    "dir_in = 'Data/hydrobuoy/' "
   ]
  },
  {
   "cell_type": "markdown",
   "id": "4fc5a540-3da5-4945-8930-6995acd737a8",
   "metadata": {},
   "source": [
    "The next block of code creates the directory specified above and downloads the hydrobuoy files to your binder session if it has not already been downloaded.<b> To download the dataset to your local disk from here, right click on the file you want to download and click 'download'. </b>"
   ]
  },
  {
   "cell_type": "code",
   "execution_count": null,
   "id": "227937dd-ca74-4f28-ae33-cef82f6d7fee",
   "metadata": {
    "tags": []
   },
   "outputs": [],
   "source": [
    "##SASSIE DATA DIR\n",
    "if not os.path.exists(dir_in):\n",
    "    os.makedirs(dir_in)\n",
    "\n",
    "buoy_numbers = ['01','02','03','04','05','06','07','08','09','10','11']\n",
    "for number in buoy_numbers:\n",
    "    filename = 'SASSIE_Fall_2022_UpTempO_'+number+'_V1.nc'\n",
    "    if os.path.isfile(dir_in+filename)==False:\n",
    "        url = 'https://archive.podaac.earthdata.nasa.gov/podaac-ops-cumulus-protected/SASSIE_L2_DRIFTER_UPTEMPO_V1/'+filename\n",
    "        with requests.Session() as session:\n",
    "                session.auth = (username, password)\n",
    "                r1 = session.request('get', url)\n",
    "                r = session.get(r1.url, auth=(username, password))\n",
    "                if r.status_code == 200:\n",
    "                    if r.ok:\n",
    "                        with open(dir_in+filename, 'wb') as f:\n",
    "                            f.write(r.content) \n",
    "                            print('Saving Input File: ' + dir_in+filename) \n",
    "                else:\n",
    "                    print(\"Error:\", r.status_code)\n",
    "                    if r.status_code == 401:\n",
    "                        print ('Your Username and/or password are incorrect. Please try again')\n",
    "    else: \n",
    "        print('Buoy '+ number+' file is already in binder directory')"
   ]
  },
  {
   "cell_type": "markdown",
   "id": "2fffb8a8-4403-4add-a9b7-53ff62b15ada",
   "metadata": {
    "jp-MarkdownHeadingCollapsed": true,
    "tags": []
   },
   "source": [
    "<h2> View The Metadata Inside the Hydrobuoy Float Files</h2>\n",
    "\n",
    "The netCDF file has global metadata attributes and attributes associated with each variable. This next block will load data and metadata of the netCDF file into an xarray object (ds). <br> The data set will then be displayed in a clickable HTML format. "
   ]
  },
  {
   "cell_type": "code",
   "execution_count": null,
   "id": "2eabd151-5a8d-4e11-bdbd-62c3c71eaefe",
   "metadata": {},
   "outputs": [],
   "source": [
    "print('Displaying just 1/11 Hydrobuoy files')\n",
    "#See information about the entire dataset:\n",
    "files = sorted(glob.glob(dir_in + '/*.nc'))\n",
    "ds = xr.open_dataset(files[0])\n",
    "ds"
   ]
  },
  {
   "cell_type": "markdown",
   "id": "bd72b404-8fda-40ee-bd9d-f8b62dabd1bd",
   "metadata": {
    "jp-MarkdownHeadingCollapsed": true,
    "tags": []
   },
   "source": [
    "# Supporting Code \n",
    "The code in this section provides a set up for the figure making code below by defining directories for data and figures and creating functions that will be called to actually map the data"
   ]
  },
  {
   "cell_type": "markdown",
   "id": "cad9f6ea-dff3-4930-a3c3-f6f87d3d3ffb",
   "metadata": {
    "jp-MarkdownHeadingCollapsed": true,
    "tags": []
   },
   "source": [
    "<h3>Create a Directory to Save Figures</h3>"
   ]
  },
  {
   "cell_type": "code",
   "execution_count": null,
   "id": "d51a01c2-1596-4762-a0d1-44b2bd4bf165",
   "metadata": {
    "tags": []
   },
   "outputs": [],
   "source": [
    "#LOCAL DIRECTORY TO SAVE FIGURES\n",
    "fig_dir ='Figures/hydrobuoy/'\n",
    "#FIGURE DIR \n",
    "if not os.path.exists(fig_dir):\n",
    "    os.makedirs(fig_dir)"
   ]
  },
  {
   "cell_type": "markdown",
   "id": "5278b0dc-913b-4de3-8e96-4ab37bcc563c",
   "metadata": {
    "jp-MarkdownHeadingCollapsed": true,
    "tags": []
   },
   "source": [
    "<h3>Define a Colormap and Label for Each Variable in the File</h3>\n",
    "Within SASSIE's collection of jupyter notebooks, the colormaps used for each variable are held as consistant as possible across all datasets. This function defines the colormap and a label for the variable of interest. "
   ]
  },
  {
   "cell_type": "code",
   "execution_count": null,
   "id": "f66f9dcc-4045-4db2-b73c-ab5f7f92c8a4",
   "metadata": {},
   "outputs": [],
   "source": [
    "#DEFINES COLORMAPS AND LABELS OF EACH VARIABLE IN THIS DATA SET\n",
    "def define_variable_attributes(var):\n",
    "    if var =='salinity':\n",
    "        colormap = 'viridis'\n",
    "        var_label = 'Salinity'\n",
    "    if var =='temperature':\n",
    "        colormap = 'plasma'\n",
    "        var_label = 'Water Temperature ($^{\\circ}$C)'\n",
    "    return colormap,var_label"
   ]
  },
  {
   "cell_type": "markdown",
   "id": "0421101b-2e7a-4b11-b12f-ab0c66000041",
   "metadata": {
    "jp-MarkdownHeadingCollapsed": true,
    "tags": []
   },
   "source": [
    "<h3>Define a Function to Create a Map of the Study Area</h3>\n",
    "The following function creates a map of the SASSIE study area, which is defined by minimum and maximum lat/lon values. These ranges can be changed later when the function is called to zoom in/out on the study area."
   ]
  },
  {
   "cell_type": "code",
   "execution_count": null,
   "id": "90537d68-5ec8-4aca-8e4a-6239b3fb61a9",
   "metadata": {
    "tags": []
   },
   "outputs": [],
   "source": [
    "def map_study_area(latmin,latmax,lonmin,lonmax):\n",
    "    \n",
    "    global fig \n",
    "    global ax\n",
    "    \n",
    "    #create the map as a figure, set the lat and lon ranges, and add land + river data:\n",
    "    fig = plt.figure(figsize=(10,8))\n",
    "    ax = plt.axes(projection=cartopy.crs.NorthPolarStereo(central_longitude=-150))\n",
    "    ax.set_extent([lonmin,lonmax,latmin,latmax], crs=cartopy.crs.PlateCarree())\n",
    "    ax.coastlines(color='k')  \n",
    "    ax.add_feature(cartopy.feature.LAND, facecolor = '0.50',zorder=1)\n",
    "    ax.add_feature(cartopy.feature.RIVERS,facecolor='blue')\n",
    "    #Add lat and lon gridlines and labels:\n",
    "    gl = ax.gridlines(draw_labels=True, dms=True, x_inline=False, y_inline=False, alpha=0.3) #draw_labels=True gives lat labels.\n",
    "    gl.ylocator = matplotlib.ticker.FixedLocator(np.arange(60,90,1))\n",
    "    gl.xlocator = matplotlib.ticker.FixedLocator(np.arange(-180,180,2))\n",
    "    gl.top_labels = False; gl.bottom_labels = True; gl.right_labels = False\n",
    "    \n",
    "    #Add markers for reference cities on the coast:\n",
    "    if (latmin<71.2906) & (lonmin<-156.7886):\n",
    "        utqiagvik = ax.scatter(-156.7886,71.2906,s=100,transform=cartopy.crs.PlateCarree(),c='red',marker = '*',label='Utqiagvik, AK',zorder=2)\n",
    "    if (latmin<70.2002) & (lonmax>-148.4597):\n",
    "        deadhorse = ax.scatter(-148.4597,70.2002,s=100,c='cyan',transform=cartopy.crs.PlateCarree(),marker = '*',label='Deadhorse, AK',zorder=2)\n",
    "        "
   ]
  },
  {
   "cell_type": "markdown",
   "id": "792b5dc0-31e9-4896-b4a1-bd3e46f79c0f",
   "metadata": {
    "jp-MarkdownHeadingCollapsed": true,
    "tags": []
   },
   "source": [
    "<h3>Define a Function to Create a 3D Grid of Latitude, Longitude, and Depth</h3>\n",
    "The following function creates a 3D grid for plotting 3 dimensional trajectory data from the hydrobuoys"
   ]
  },
  {
   "cell_type": "code",
   "execution_count": null,
   "id": "7e83927c-4046-4a36-80c2-70dc05eb2f63",
   "metadata": {},
   "outputs": [],
   "source": [
    "def make_3d_grid(latmin,latmax,lonmin,lonmax,dmin,dmax):    \n",
    "        global fig \n",
    "        global ax\n",
    "        \n",
    "        fig = plt.figure(figsize=(10,8))\n",
    "        ax = plt.axes(projection='3d',computed_zorder=False)\n",
    "        ax.xaxis.pane.fill = False; ax.yaxis.pane.fill = False; ax.zaxis.pane.fill = False    \n",
    "        \n",
    "        ax.set_xlim(lonmin, lonmax); ax.set_ylim(latmin,latmax); ax.set_zlim(dmin,dmax);\n",
    "        ax.get_xaxis().get_major_formatter().set_useOffset(False)\n",
    "        xticks = list(np.linspace(lonmin,lonmax,4))\n",
    "        ax.set_xticks(np.around(xticks,2))\n",
    "        ax.set_xticklabels(np.around(xticks,2),rotation=30, ha='center',va='center', minor=False,size='small')\n",
    "\n",
    "        yticks = list(np.linspace(latmin,latmax,4))\n",
    "        ax.set_yticks(np.around(yticks,2))\n",
    "        ax.invert_yaxis()\n",
    "        ax.set_yticklabels(np.around(yticks,2),rotation=-15,va='bottom', minor=False,size='small')\n",
    "\n",
    "        zticks = list(np.linspace(dmin,dmax,4))\n",
    "        ax.set_zticks(np.around(zticks,2))\n",
    "        ax.set_zticklabels(np.around(zticks,2),ha='center',va='center', minor=False,size='small')\n",
    "\n",
    "        ax.set_xlabel('Longitude',fontsize=13,labelpad=10,fontweight='bold')\n",
    "        ax.set_ylabel('Latitude',fontsize=13,labelpad = 7,fontweight='bold')\n",
    "        ax.set_zlabel('Depth (m)',fontsize=13,labelpad = 16,fontweight='bold')\n",
    "        ax.view_init(195,280)\n",
    "        fig.canvas.draw()\n",
    "        plt.tight_layout()"
   ]
  },
  {
   "cell_type": "markdown",
   "id": "4004d8c1-66ce-4aea-be1f-18db54d38dda",
   "metadata": {
    "jp-MarkdownHeadingCollapsed": true,
    "tags": []
   },
   "source": [
    "<h3>Configure Supporting Data to Add to Maps</h3>\n",
    "<p>The functions for viewing and plotting this data set below have options to include bathymetry and/or shiptrack data to add context to maps. If you are using these options, run\n",
    "    <br>the following code blocks to:\n",
    "    <br>1. Create a directory for SASSIE Ship Track data and acess bathymetry data from NOAA\n",
    "    <br>2. Define functions that add these data to your map when called.</p>"
   ]
  },
  {
   "cell_type": "markdown",
   "id": "0ead7692-3d6a-4ee7-a61c-eb2d8be4092f",
   "metadata": {
    "jp-MarkdownHeadingCollapsed": true,
    "tags": []
   },
   "source": [
    "<h4>Create Directory for and Download Shiptrack Data</h4>"
   ]
  },
  {
   "cell_type": "code",
   "execution_count": null,
   "id": "8590ef97-7dee-4ac9-9043-ad8904e4d0af",
   "metadata": {
    "tags": []
   },
   "outputs": [],
   "source": [
    "## DIRECTORY TO SHIP TRACK DATA\n",
    "ship_dir =  'Data/TSG/' \n",
    "\n",
    "#DOWLOAD SHIPTRACK DATA\n",
    "if not os.path.isfile(ship_dir+'SASSIE_Fall_2022_Shipboard_TSG.nc'):\n",
    "    os.makedirs(ship_dir)\n",
    "    url = 'https://archive.podaac.earthdata.nasa.gov/podaac-ops-cumulus-protected/SASSIE_L2_SHIPBOARD_TSG_V1/SASSIE_Fall_2022_Shipboard_TSG.nc'\n",
    "    with requests.Session() as session:\n",
    "            session.auth = (username, password)\n",
    "            r1 = session.request('get', url)\n",
    "            r = session.get(r1.url, auth=(username, password))\n",
    "            if r.status_code == 200:\n",
    "                if r.ok:\n",
    "                    with open(ship_dir+'SASSIE_Fall_2022_Shipboard_TSG.nc', 'wb') as f:\n",
    "                        f.write(r.content) \n",
    "                        print('Saving Input File: ' + ship_dir+'SASSIE_Fall_2022_Shipboard_TSG.nc') \n",
    "            else:\n",
    "                print(\"Error:\", r.status_code)\n",
    "                if r.status_code == 401:\n",
    "                    print ('Your Username and/or password are incorrect. Please try again')\n",
    "else: \n",
    "    print('Shipboard TSG file is already in local directory') "
   ]
  },
  {
   "cell_type": "markdown",
   "id": "26cda5ba-68b0-4437-9eca-53d121a18157",
   "metadata": {
    "jp-MarkdownHeadingCollapsed": true,
    "tags": []
   },
   "source": [
    "<h4>Access NOAA Bathymetry Data</h4>"
   ]
  },
  {
   "cell_type": "code",
   "execution_count": null,
   "id": "8fe26217-c594-43ed-ae97-0857f072bf6c",
   "metadata": {
    "tags": []
   },
   "outputs": [],
   "source": [
    "#READ IN TOPOGRAPHY/BATHYMETRY DATA\n",
    "url = 'http://ferret.pmel.noaa.gov/thredds/dodsC/data/PMEL/etopo2.nc'\n",
    "etopodata = xr.open_dataset(url) "
   ]
  },
  {
   "cell_type": "markdown",
   "id": "e013f7dc-8442-4b1b-ae75-72662e79da47",
   "metadata": {
    "jp-MarkdownHeadingCollapsed": true,
    "tags": []
   },
   "source": [
    "<h4>Define a Function to Index Relevant Bathymetry Data and Add it to the Map</h4>\n",
    "This function will index bathymetry data from NOAA within the appropriate spatial range and add it to the map. \n"
   ]
  },
  {
   "cell_type": "code",
   "execution_count": null,
   "id": "1db20e53-09dd-4265-9803-ad9d23c6ded3",
   "metadata": {},
   "outputs": [],
   "source": [
    "def add_bathy_data(latmin,latmax,lonmin,lonmax):\n",
    "        topoin = etopodata.rose.values[0:-1:5,1:-1:5]\n",
    "        lons = etopodata.etopo2_x.values[0:-1:5]\n",
    "        lats = etopodata.etopo2_y.values[0:-1:5]\n",
    "        lons_in_range = lons[np.where((lons >lonmin-1) & (lons<lonmax+1))]\n",
    "        lats_in_range = lats[np.where((lats >latmin-1) & (lats<latmax+1))]\n",
    "        topo_in_range = np.squeeze(topoin[np.squeeze(np.where((lats >latmin-1) & (lats<latmax+1))),:][:,np.where((lons >lonmin-1) & (lons<lonmax+1))])\n",
    "        [bathy_lon,bathy_lat] = np.meshgrid(lons_in_range,lats_in_range)\n",
    "        \n",
    "        bathy = ax.contour(bathy_lon,bathy_lat,topo_in_range,np.arange(-6000,-1000,300),transform=cartopy.crs.PlateCarree(),cmap='gray',alpha = 0.2,zorder = 0)"
   ]
  },
  {
   "cell_type": "markdown",
   "id": "1798bf2d-2805-4d4f-b54a-bb8d23bc4236",
   "metadata": {
    "jp-MarkdownHeadingCollapsed": true,
    "tags": []
   },
   "source": [
    "<h4>Define a Function to Add Shiptrack Data to a Map</h4>\n",
    "This function will pull the lat/lon data from the SASSIE Shipboard TSG file and put it onto a map. "
   ]
  },
  {
   "cell_type": "code",
   "execution_count": null,
   "id": "0114eecf-7646-490d-952a-1a9be60c3c2f",
   "metadata": {},
   "outputs": [],
   "source": [
    "def add_ship_track():\n",
    "        ds_ship = xr.open_dataset(ship_dir+'/SASSIE_Fall_2022_Shipboard_TSG.nc')\n",
    "        ship_time = np.squeeze(ds_ship['time'])\n",
    "        ship_lat = np.squeeze(ds_ship['latitude'])\n",
    "        ship_lon = np.squeeze(ds_ship['longitude'])\n",
    "       \n",
    "        track = ax.plot(ship_lon, \n",
    "                     ship_lat,linewidth = 0.5,\n",
    "                     c='black',\n",
    "                       transform=cartopy.crs.PlateCarree(),label = 'Ship Track',zorder=1)"
   ]
  },
  {
   "cell_type": "markdown",
   "id": "a5eb4ee4-9794-4a43-ab99-f517762ffe5b",
   "metadata": {
    "jp-MarkdownHeadingCollapsed": true,
    "tags": []
   },
   "source": [
    "# Figure Making Code "
   ]
  },
  {
   "cell_type": "markdown",
   "id": "96a61f74-58ba-4461-8e85-b4d7d5b780a1",
   "metadata": {
    "jp-MarkdownHeadingCollapsed": true,
    "tags": []
   },
   "source": [
    "<h2>Make A Map of Hydrobuoy Tracks</h2>\n",
    "<p>Use the code in this section to plot the Hydrography Buoy location data on a map colored by time. The code blocks in the 'supporting code' section should be run first.</p>"
   ]
  },
  {
   "cell_type": "code",
   "execution_count": null,
   "id": "8c5b50e1-9aad-4bfb-845e-73cb0035c1cf",
   "metadata": {
    "tags": []
   },
   "outputs": [],
   "source": [
    "##USE THIS TO PLOT THE UPTEMPO TRACKS ON A MAP. ENTER 'all_data' TO MAP ALL UPTEMPO DATA AND 'campaign_data' TO MAP ONLY DATA TAKEN DURRING CAMPIGN.  \n",
    "def map_uptempo(map_view,ship_track=True,bathymetry_data=True):\n",
    "    \n",
    "    ##TIME DATA FROM BOUY 01 (deployed on September 9th and was still collecting data as of 03/13. Since this is the longest running Buoy, we use it to dfine the time range) \n",
    "    files = sorted(glob.glob(dir_in + '/*.nc'))\n",
    "    ds = xr.open_dataset(files[3])\n",
    "    time = np.squeeze(ds['time'].values)\n",
    "    start_time = min(time)\n",
    "    end_time = max(time)\n",
    "    \n",
    "    #define the time limits of the campaign:\n",
    "    campaign_start = datetime(2022,9,8,8)\n",
    "    campaign_end = datetime(2022,9,29)\n",
    "\n",
    "\n",
    "    #define the latitue and longitude boundaries of the map:\n",
    "    if map_view == 'all_data':\n",
    "        latmin = 70\n",
    "        latmax =80\n",
    "        lonmin=-177\n",
    "        lonmax=-145\n",
    "        var_min = start_time.astype('int64')\n",
    "        var_max =end_time.astype('int64')\n",
    "    if map_view == 'campaign_data':\n",
    "        latmin = 70\n",
    "        latmax =74\n",
    "        lonmin=-157\n",
    "        lonmax=-145\n",
    "        ds_ship = xr.open_dataset(ship_dir+'SASSIE_Fall_2022_Shipboard_TSG.nc')\n",
    "        ship_time = np.squeeze(ds_ship['time'])\n",
    "        var_min = min(ship_time.values).astype('int64')\n",
    "        var_max = max(ship_time.values).astype('int64')\n",
    "    \n",
    "    #make the map: \n",
    "    map_study_area(latmin,latmax,lonmin,lonmax)\n",
    "    \n",
    "    #give the map a title:\n",
    "    if map_view =='all_data':\n",
    "        ax.set_title('HydroBuoy Tracks',fontsize=20,pad=1) \n",
    "    if map_view == 'campaign_data':\n",
    "        ax.set_title('HydroBuoy Tracks Throughout SASSIE Campaign',fontsize=15,pad=1.5) \n",
    "    \n",
    "    #add optional map add-ons:\n",
    "    if ship_track==True:\n",
    "        add_ship_track()\n",
    "    \n",
    "    if bathymetry_data == True:    \n",
    "        add_bathy_data(latmin,latmax,lonmin,lonmax)\n",
    "    \n",
    "    ##APPLY THE TIME AND LOCATION DATA IN EACH UPTEMPO FILE \n",
    "    files = sorted(glob.glob(dir_in + '/*.nc'))\n",
    "    if map_view == 'all_data':\n",
    "        for file in files:\n",
    "            ds_ut = xr.open_dataset(file)\n",
    "            ut_time = np.squeeze(ds_ut['time'])\n",
    "            ut_lat = np.squeeze(ds_ut['latitude'])\n",
    "            ut_lon = np.squeeze(ds_ut['longitude'])\n",
    "\n",
    "            deployment_track = ax.scatter(ut_lon,ut_lat,s = 1,\n",
    "                           c = ut_time,cmap = cmr.neon,\n",
    "                           transform=cartopy.crs.PlateCarree(),zorder=2,vmin=var_min,vmax=var_max)\n",
    "\n",
    "\n",
    "        #add a colorbar\n",
    "        cbar = fig.colorbar(deployment_track, ax=ax, orientation=\"horizontal\", pad=0.1)\n",
    "        cbar.set_label(label='Date',size='large',weight='bold')\n",
    "        cbar_tick_array=(np.linspace(start_time.astype('int64'),end_time.astype('int64'),5))\n",
    "        cbar.set_ticks(cbar_tick_array)\n",
    "        cbar.set_ticklabels(pd.to_datetime(cbar_tick_array).date)  \n",
    "    if map_view == 'campaign_data':\n",
    "        for file in files:\n",
    "            ds_ut = xr.open_dataset(file)\n",
    "            ds_ut_campaign = ds_ut.sel(time=slice(campaign_start,campaign_end))\n",
    "            ut_time = np.squeeze(ds_ut_campaign['time'])\n",
    "            ut_lat = np.squeeze(ds_ut_campaign['latitude'])\n",
    "            ut_lon = np.squeeze(ds_ut_campaign['longitude'])\n",
    "\n",
    "            deployment_track = ax.scatter(ut_lon,ut_lat,s = 1,\n",
    "                           c = ut_time,cmap = cmr.neon,\n",
    "                           transform=cartopy.crs.PlateCarree(),zorder=2,vmin=var_min,vmax=var_max)\n",
    "\n",
    "\n",
    "        #add a colorbar\n",
    "        cbar = fig.colorbar(deployment_track, ax=ax, orientation=\"horizontal\", pad=0.1)\n",
    "        cbar.set_label(label='Date',size='large',weight='bold')\n",
    "        cbar_tick_array=(np.linspace(min(ship_time.values).astype('int64'),max(ship_time.values).astype('int64'),5))\n",
    "        cbar.set_ticks(cbar_tick_array)\n",
    "        cbar.set_ticklabels(pd.to_datetime(cbar_tick_array).date)  \n",
    "  \n",
    "    #SAVE FIGURE\n",
    "    if not os.path.exists(fig_dir+'maps/'):\n",
    "        os.makedirs(fig_dir+'maps/')\n",
    "    print('Saving Output Image:  '+fig_dir+'maps/UpTempO_Buoys'+'_'+map_view+'.png')\n",
    "    plt.savefig(fig_dir+'maps/UpTempO_Buoys'+'_'+map_view+'.png',dpi='figure',format='png')\n",
    "    "
   ]
  },
  {
   "cell_type": "code",
   "execution_count": null,
   "id": "e0b5947a-bc90-4301-b22a-86b4df962c48",
   "metadata": {},
   "outputs": [],
   "source": [
    "map_uptempo('all_data',ship_track=False)   \n",
    "map_uptempo('campaign_data')   "
   ]
  },
  {
   "cell_type": "markdown",
   "id": "574140d7-35bb-4e70-b23e-e8078180bf96",
   "metadata": {
    "jp-MarkdownHeadingCollapsed": true,
    "tags": []
   },
   "source": [
    "<h2>Three Dimensional Representation of Sub-Sea Surface Trajectory Data</h2>\n",
    "Use the code in this section to plot location and depth dataof a selected buoy on a 3D grid, colored by a physical measurement variable from the file (temperature or salinity). The user must select a buoy based on number. The buoy numbers were 1, 2, 3, 4, 5, 6, 7, 8, 9, 10, and 11. "
   ]
  },
  {
   "cell_type": "code",
   "execution_count": null,
   "id": "efe80171-3a33-4b02-8a49-5c0f183d2c5f",
   "metadata": {},
   "outputs": [],
   "source": [
    "def plot_uptempo_data(buoy,var,var_min,var_max):\n",
    "    \n",
    "    #open the selected buoy's data set:\n",
    "    file=files[buoy-1]\n",
    "    ds = xr.open_dataset(file)\n",
    "    \n",
    "    #load the coordinate variables:\n",
    "    dates = pd.to_datetime(ds.time.values).date\n",
    "    deployment_date = dates[0]\n",
    "    lat = np.squeeze(ds['latitude'])\n",
    "    lon = np.squeeze(ds['longitude'])\n",
    "    \n",
    "    if var == 'temperature':\n",
    "        standard_name = 'sea_water_temperature'\n",
    "    if var == 'salinity':\n",
    "        standard_name = 'sea_water_practical_salinity'\n",
    "    \n",
    "    #pick out the relevant pyhsical measurement variables:\n",
    "    var_ds = ds.cf[[standard_name]]\n",
    "    variables = list(var_ds.keys())\n",
    "    \n",
    "    #make an array of depth values:\n",
    "    depths = np.zeros(len(variables))\n",
    "    for i in range(len(variables)):\n",
    "        var_data = ds[variables[i]]\n",
    "        depths[i] = float(var_data.nominal_depth[0:-1])\n",
    "        \n",
    "    ##CREATE THE 3D PLOT\n",
    "    #define latitude and longitude boundaries. \n",
    "    latmin = min(lat.values)\n",
    "    latmax = max(lat.values)\n",
    "    lonmin = min(lon.values)\n",
    "    if (buoy == 4)|(buoy==9): \n",
    "        lonmax = -150\n",
    "    else: \n",
    "        lonmax = max(lon.values)\n",
    "    if ((buoy==2)|(buoy==6)|(buoy==7))&(var=='salinity'):\n",
    "            dmin = 0\n",
    "            dmax = 0.5\n",
    "    else:\n",
    "        dmin = min(depths)\n",
    "        dmax = max(depths)\n",
    "    \n",
    "    #make the 3D grid: \n",
    "    make_3d_grid(latmin,latmax,lonmin,lonmax,dmin,dmax)\n",
    "    #define a color map and variable label:\n",
    "    colormap,var_label = define_variable_attributes(var)\n",
    "    #add a title: \n",
    "    ttl = ax.set_title('Buoy'+ ' '+str(buoy)+' '+var_label+' Measurements',fontsize=20,y=0.92,x=0.6)\n",
    "    \n",
    "    #APPLY UPTEMPO DATA\n",
    "    for i in range(len(variables)):\n",
    "        var_data = ds[variables[i]]\n",
    "        depth = depths[i]\n",
    "        a = ax.scatter(lon,lat,depth,c=(var_data.values),cmap = colormap,s=0.5,zorder=1,vmin = var_min,vmax = var_max)\n",
    "    \n",
    "    cbar = fig.colorbar(a,shrink=0.6)\n",
    "    cbar.set_label(label=var_label,size=15,weight='bold',labelpad=10)\n",
    "   \n",
    "    ##SAVE FIGURE\n",
    "    if not os.path.exists(fig_dir+var):\n",
    "        os.makedirs(fig_dir+var)\n",
    "    print('Saving Output Image:  '+fig_dir+'/'+var+'/UpTempO_Buoy'+'_'+str(buoy)+'_'+var+'.png')\n",
    "    plt.savefig(fig_dir+'/'+var+'/UpTempO_Buoy'+'_'+str(buoy)+'_'+var+'.png',dpi='figure',format='png',bbox_inches='tight')"
   ]
  },
  {
   "cell_type": "code",
   "execution_count": null,
   "id": "6ab74435-e728-4f73-b9ee-cc7223580df9",
   "metadata": {},
   "outputs": [],
   "source": [
    "plot_uptempo_data(3,'temperature',-1.5,1.5)\n",
    "plot_uptempo_data(3,'salinity',20,30)"
   ]
  },
  {
   "cell_type": "code",
   "execution_count": null,
   "id": "2f71cc4a-52db-4093-a007-832401502f5e",
   "metadata": {},
   "outputs": [],
   "source": []
  }
 ],
 "metadata": {
  "kernelspec": {
   "display_name": "Python 3 (ipykernel)",
   "language": "python",
   "name": "python3"
  },
  "language_info": {
   "codemirror_mode": {
    "name": "ipython",
    "version": 3
   },
   "file_extension": ".py",
   "mimetype": "text/x-python",
   "name": "python",
   "nbconvert_exporter": "python",
   "pygments_lexer": "ipython3",
   "version": "3.9.16"
  }
 },
 "nbformat": 4,
 "nbformat_minor": 5
}
