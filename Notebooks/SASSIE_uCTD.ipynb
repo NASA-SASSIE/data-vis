{
 "cells": [
  {
   "cell_type": "markdown",
   "id": "6ff1da6e-f0a3-4f11-bf5c-6ea688716bd6",
   "metadata": {
    "tags": []
   },
   "source": [
    "<h1>SASSIE Shipboard Underway CTD Data Use and Visualization</h1>\n",
    "<p> Shipboard Underway CTD data was collected when the ship was making it's way through open water or areas of low ice, except towards the end of the campaign, when it was used in icier areas. Underway CTD data are downloaded and plotted using the code below! <b>Please run the 'Data Download and Metadata Viewing' and 'Supporting Code' sections in order before running the 'Figure Making Code'.</b> </p>\n",
    "    \n",
    "<p>The aim of this notebook is to assist the end user in exploratory data analysis by downloading the SASSIE data from NASA's PODAAC, opening the dataset and displaying it's associated metadata, and creating a few visualizations. This notebook was created by Elizabeth Westbrook. For questions and trouble shooting, please email westbrooke@uncw.edu.</p>"
   ]
  },
  {
   "cell_type": "markdown",
   "id": "9ab346e0-93cd-48ff-98a1-3cfd78ddff17",
   "metadata": {
    "jp-MarkdownHeadingCollapsed": true,
    "tags": []
   },
   "source": [
    "# Data Download and Metadata Viewing\n",
    "\n",
    "The code in this section will download the dataset from PO.DAAC and open it as an xarray object for metadata and variable attribute viewing."
   ]
  },
  {
   "cell_type": "code",
   "execution_count": null,
   "id": "3ae36940-f396-41db-a237-c8eff3a746e2",
   "metadata": {},
   "outputs": [],
   "source": [
    "import numpy as np\n",
    "import xarray as xr\n",
    "import glob \n",
    "from datetime import datetime, timedelta \n",
    "import matplotlib.pyplot as plt\n",
    "import cartopy\n",
    "import matplotlib\n",
    "import os\n",
    "import sys\n",
    "import pandas as pd\n",
    "import requests"
   ]
  },
  {
   "cell_type": "markdown",
   "id": "dc7f1cec-99d5-48f9-b4be-194617f17297",
   "metadata": {
    "jp-MarkdownHeadingCollapsed": true,
    "tags": []
   },
   "source": [
    "<h2>Download The Underway CTD data from PO.DAAC</h2>\n",
    "<p> All data from the SASSIE campaign is stored on NASA's PO.DAAC. The code in this section of the notebook will download SASSIE Castaway CTD data from PO.DAAC, which is accessed through earthdata. If you do not already have an earthdata account, you can create one <a href=\"https://urs.earthdata.nasa.gov/\">here</a> . </p>\n",
    "    <p>Please enter your earthdata credentials below.</p>"
   ]
  },
  {
   "cell_type": "code",
   "execution_count": null,
   "id": "fdfc9386-86a4-4c3f-a6a2-062b77a53d03",
   "metadata": {},
   "outputs": [],
   "source": [
    "username = 'your_username'\n",
    "password = 'your_password'\n",
    "earthdata = requests.auth.HTTPBasicAuth(username, password)\n",
    "\n",
    "##LOCAL DIRECTORY TO SAVE UNDERWAY CTD DATA\n",
    "dir_in = 'Data/underway_CTD/' "
   ]
  },
  {
   "cell_type": "markdown",
   "id": "f28e6687-2db8-4fb9-aa87-b63b4a318dfd",
   "metadata": {},
   "source": [
    "The next block of code creates the directory specified above and downloads the shipboard TSG file to your binder session if it has not already been downloaded.<b> To download the dataset to your local disk from here, right click on the file you want to download and click 'download'. </b>"
   ]
  },
  {
   "cell_type": "code",
   "execution_count": null,
   "id": "597274e5-cb48-4490-9bf0-66a9cbb83b13",
   "metadata": {},
   "outputs": [],
   "source": [
    "#if the file has not already been downloaded, it is downloaded here: \n",
    "if not os.path.isfile(dir_in+'SASSIE_Fall_2022_shipboard_underwayCTD.nc'):\n",
    "    os.makedirs(dir_in)\n",
    "    url = 'https://archive.podaac.earthdata.nasa.gov/podaac-ops-cumulus-protected/SASSIE_L2_SHIPBOARD_UCTD_V1/SASSIE_Fall_2022_shipboard_underwayCTD.nc'\n",
    "    with requests.Session() as session:\n",
    "            session.auth = (username, password)\n",
    "            r1 = session.request('get', url)\n",
    "            r = session.get(r1.url, auth=(username, password))\n",
    "            if r.status_code == 200:\n",
    "                if r.ok:\n",
    "                    with open(dir_in+'SASSIE_Fall_2022_shipboard_underwayCTD.nc', 'wb') as f:\n",
    "                        f.write(r.content) \n",
    "                        print('Saving Input File: ' + dir_in+'SASSIE_Fall_2022_shipboard_underwayCTD.nc') \n",
    "            else:\n",
    "                print(\"Error:\", r.status_code)\n",
    "                if r.status_code == 401:\n",
    "                    print ('Your Username and/or password are incorrect. Please try again')\n",
    "else: \n",
    "    print('Shipboard Underway CTD file is already in binder directory')"
   ]
  },
  {
   "cell_type": "markdown",
   "id": "67ecb78e-fbc5-4841-9672-f45aebbb3f04",
   "metadata": {
    "jp-MarkdownHeadingCollapsed": true,
    "tags": []
   },
   "source": [
    "<h2> View The Metadata Inside the Castaway CTD File</h2>\n",
    "\n",
    "The netCDF file has global metadata attributes and attributes associated with each variable. This next block will load data and metadata of the netCDF file into an xarray object (ds). <br> The data set will then be displayed in a clickable HTML format. "
   ]
  },
  {
   "cell_type": "code",
   "execution_count": null,
   "id": "fdaff7f8-8d35-4926-8918-c9b09c427b58",
   "metadata": {},
   "outputs": [],
   "source": [
    "#See information about the entire dataset\n",
    "file = dir_in + 'SASSIE_Fall_2022_shipboard_underwayCTD.nc'\n",
    "ds = xr.open_dataset(file)\n",
    "ds"
   ]
  },
  {
   "cell_type": "markdown",
   "id": "87e65aae-e2f7-4fdd-8bd7-f7c159fc0275",
   "metadata": {
    "jp-MarkdownHeadingCollapsed": true,
    "tags": []
   },
   "source": [
    "# Supporting Code \n",
    "The code in this section provides a set up for the figure making code below by defining directories for data and figures and creating functions that will be called to actually map the data"
   ]
  },
  {
   "cell_type": "markdown",
   "id": "0872d6de-e071-4be5-b9d5-5797c44eca73",
   "metadata": {
    "jp-MarkdownHeadingCollapsed": true,
    "tags": []
   },
   "source": [
    "<h3>Create a Directory to Save Figures</h3>"
   ]
  },
  {
   "cell_type": "code",
   "execution_count": null,
   "id": "84b9ffe8-bfdc-485f-b258-064c28ee1037",
   "metadata": {},
   "outputs": [],
   "source": [
    "#LOCAL DIRECTORY TO SAVE FIGURES\n",
    "fig_dir ='Figures/underway_CTD/'\n",
    "#FIGURE DIR \n",
    "if not os.path.exists(fig_dir):\n",
    "    os.makedirs(fig_dir)"
   ]
  },
  {
   "cell_type": "markdown",
   "id": "acd6ca2b-8e9d-4be1-8052-24e573435360",
   "metadata": {
    "jp-MarkdownHeadingCollapsed": true,
    "tags": []
   },
   "source": [
    "<h3>Define a Colormap and Label for Each Variable in the File</h3>"
   ]
  },
  {
   "cell_type": "markdown",
   "id": "f62250cc-6b5b-4fd9-9b64-957f0f4c90b7",
   "metadata": {
    "jp-MarkdownHeadingCollapsed": true,
    "tags": []
   },
   "source": [
    "Within SASSIE's collection of jupyter notebooks, the colormaps used for each variable are held as consistant as possible across all datasets. This function defines the colormap and a label for the variable of interest. "
   ]
  },
  {
   "cell_type": "code",
   "execution_count": null,
   "id": "7f9fcdc5-94fe-4178-825b-95afb2d3440d",
   "metadata": {},
   "outputs": [],
   "source": [
    "#DEFINES COLORMAPS AND LABELS OF EACH VARIABLE IN THIS DATA SET\n",
    "def define_variable_attributes(var):\n",
    "    if var =='salinity':\n",
    "        colormap = 'viridis'\n",
    "        var_label = 'Salinity'\n",
    "    if var =='temperature':\n",
    "        colormap = 'plasma'\n",
    "        var_label = 'Water Temperature ($^{\\circ}$C)'\n",
    "    if var == 'pressure':\n",
    "        colormap = 'jet'\n",
    "        var_label = 'Pressure (dbar)'\n",
    "    if var == 'latitude':\n",
    "        colormap = 'jet'\n",
    "        var_label = 'Latitude ($^{\\circ}$N)'\n",
    "    if var == 'longitude':\n",
    "        colormap = 'jet'\n",
    "        var_label = 'Longitude ($^{\\circ}$E)'\n",
    "    if var == 'time':\n",
    "        colormap = 'jet'\n",
    "        var_label = 'Date'\n",
    "    return colormap,var_label"
   ]
  },
  {
   "cell_type": "markdown",
   "id": "acc31268-e1d1-482f-8728-209e2c284e5a",
   "metadata": {
    "jp-MarkdownHeadingCollapsed": true,
    "tags": []
   },
   "source": [
    "<h3>Are you exploring this entire data set, or just the data collected durring a specific time period?</h3>"
   ]
  },
  {
   "cell_type": "markdown",
   "id": "c2bb11a5-a521-4e93-99a8-90a3a011ed1e",
   "metadata": {
    "jp-MarkdownHeadingCollapsed": true,
    "tags": []
   },
   "source": [
    "<p> In order to efficiently accomplish the data collection goals of the SASSIE campaign, the cruise was broken up into five destinct plays. \n",
    "    <br>\n",
    "    <br>Play 1 - Ice and Open Water Survey\n",
    "    <br>Play 2 - Zig-Zag Open Water Survey \n",
    "    <br>Play 3 - Ice Survey\n",
    "    <br>Play 4 - Drifter-Following Survey Boxes\n",
    "    <br>Play 5 - Repeated Ice to Open Water Transect</p>\n",
    "    <p>The following block of code identifies the start and end datetimes of each of these plays and puts the start dates and end dates into lists for easier acess later. </p>"
   ]
  },
  {
   "cell_type": "code",
   "execution_count": null,
   "id": "d5c412bc-0f88-4f28-a76d-22c16eeee314",
   "metadata": {},
   "outputs": [],
   "source": [
    "##Identify the start and end times of each play\n",
    "play1_start = datetime(2022,9,8,8) \n",
    "play1_end = datetime(2022,9,13)\n",
    "play2_start = datetime(2022,9,14)\n",
    "play2_end = datetime(2022,9,16)\n",
    "play3_start = datetime(2022,9,16)\n",
    "play3_end = datetime(2022,9,18)\n",
    "play4_start = datetime(2022,9,19)\n",
    "play4_end  = datetime(2022,9,23)\n",
    "play5_start = datetime(2022,9,25)\n",
    "play5_end = datetime(2022,9,29)\n",
    "\n",
    "\n",
    "#Create lists of start dates and end dates\n",
    "play_start_dates = [play1_start,play2_start,play3_start,play4_start,play5_start,play1_start]\n",
    "play_end_dates = [play1_end,play2_end,play3_end,play4_end,play5_end,play5_end]\n"
   ]
  },
  {
   "cell_type": "markdown",
   "id": "3cf18ef2-532f-4905-b6c1-ca47f21d3862",
   "metadata": {
    "jp-MarkdownHeadingCollapsed": true,
    "tags": []
   },
   "source": [
    "<h3>Define a Function to Create a Map of the Study Area</h3>"
   ]
  },
  {
   "cell_type": "markdown",
   "id": "d7d0ff13-8b86-4724-a99e-afaa9450546c",
   "metadata": {
    "jp-MarkdownHeadingCollapsed": true,
    "tags": []
   },
   "source": [
    "The following function creates a map of the SASSIE study area, which is defined by minimum and maximum lat/lon values. These ranges can be changed later when the function is called to zoom in/out on the study area."
   ]
  },
  {
   "cell_type": "code",
   "execution_count": null,
   "id": "4904f684-2d2b-404d-8db0-51a5c98783c3",
   "metadata": {},
   "outputs": [],
   "source": [
    "def map_study_area(latmin = 70, latmax =74,lonmin=-157,lonmax=-140):\n",
    "    \n",
    "    global fig \n",
    "    global ax\n",
    "    \n",
    "    #create the map as a figure, set the lat and lon ranges, and add land + river data:\n",
    "    fig = plt.figure(figsize=(10,8))\n",
    "    ax = plt.axes(projection=cartopy.crs.NorthPolarStereo(central_longitude=-150))\n",
    "    ax.set_extent([lonmin,lonmax,latmin,latmax], crs=cartopy.crs.PlateCarree())\n",
    "    ax.coastlines(color='k')  \n",
    "    ax.add_feature(cartopy.feature.LAND, facecolor = '0.50',zorder=1)\n",
    "    ax.add_feature(cartopy.feature.RIVERS,facecolor='blue')\n",
    "    #Add lat and lon gridlines and labels:\n",
    "    gl = ax.gridlines(draw_labels=True, dms=True, x_inline=False, y_inline=False, alpha=0.3) #draw_labels=True gives lat labels.\n",
    "    gl.ylocator = matplotlib.ticker.FixedLocator(np.arange(60,75,1))\n",
    "    gl.xlocator = matplotlib.ticker.FixedLocator(np.arange(-170,-140,2))\n",
    "    gl.top_labels = False\n",
    "    gl.bottom_labels = True \n",
    "    gl.right_labels = False\n",
    "    \n",
    "    #Add markers for reference cities on the coast:\n",
    "    if (latmin<71.2906) & (lonmin<-156.7886):\n",
    "        utqiagvik = ax.scatter(-156.7886,71.2906,s=100,transform=cartopy.crs.PlateCarree(),c='red',marker = '*',label='Utqiagvik, AK',zorder=2)\n",
    "    if (latmin<70.2002) & (lonmax>-148.4597):\n",
    "        deadhorse = ax.scatter(-148.4597,70.2002,s=100,c='cyan',transform=cartopy.crs.PlateCarree(),marker = '*',label='Deadhorse, AK',zorder=2)\n",
    "        "
   ]
  },
  {
   "cell_type": "markdown",
   "id": "295f82f3-08b3-4ced-9044-515a5cb33790",
   "metadata": {
    "jp-MarkdownHeadingCollapsed": true,
    "tags": []
   },
   "source": [
    "<h3>Define a Function to Create a 3D Grid of Latitude, Longitude, and Depth</h3>"
   ]
  },
  {
   "cell_type": "markdown",
   "id": "16d890f8-c0c6-4593-9373-dfbaa37c69ed",
   "metadata": {},
   "source": [
    "The following function creates a 3D grid for plotting 3 dimensional cast data from the castaway CTD. "
   ]
  },
  {
   "cell_type": "code",
   "execution_count": null,
   "id": "a9a52780-feed-4ba3-b759-25a74ce79745",
   "metadata": {},
   "outputs": [],
   "source": [
    "def make_3d_grid(latmin,latmax,lonmin,lonmax,pmin,pmax):    \n",
    "        global fig \n",
    "        global ax\n",
    "        fig = plt.figure(figsize=(10,8))\n",
    "        ax = plt.axes(projection='3d',computed_zorder=False)\n",
    "        ax.xaxis.pane.fill = False\n",
    "        ax.yaxis.pane.fill = False\n",
    "        ax.zaxis.pane.fill = False    \n",
    "        ax.set_xlim(lonmin, lonmax); ax.set_ylim(latmin,latmax); ax.set_zlim(pmin,pmax);\n",
    "        ax.get_xaxis().get_major_formatter().set_useOffset(False)\n",
    "        xticks = list(np.linspace(lonmin,lonmax,4))\n",
    "        ax.set_xticks(np.around(xticks,2))\n",
    "        yticks = list(np.linspace(latmin,latmax,4))\n",
    "        ax.set_yticks(np.around(yticks,2))\n",
    "        zticks = list(np.linspace(pmin,pmax,4))\n",
    "        ax.set_zticks(np.around(zticks,2))\n",
    "        ax.set_xlabel('Longitude')\n",
    "        ax.set_ylabel('Latitude')\n",
    "        ax.set_zlabel('Depth (m)')\n",
    "        ax.view_init(210,60)"
   ]
  },
  {
   "cell_type": "markdown",
   "id": "c6b0af15-872c-43cd-8c41-5a9215b29cb4",
   "metadata": {
    "jp-MarkdownHeadingCollapsed": true,
    "tags": []
   },
   "source": [
    "<h3>Configure Supporting Data to Add to Maps</h3>"
   ]
  },
  {
   "cell_type": "markdown",
   "id": "9fb99cff-3a53-42bc-a8a6-64e4f3616a57",
   "metadata": {
    "jp-MarkdownHeadingCollapsed": true,
    "tags": []
   },
   "source": [
    "<p>The functions for viewing and plotting this data set below have options to include bathymetr and/or shiptrack data to add context to maps. If you are using these options, run\n",
    "    <br>the following code blocks to:\n",
    "    <br>1. Create a directory for SASSIE Ship Track data and acess bathymetry data from NOAA\n",
    "    <br>2. Define functions that add these data to your map when called.</p>"
   ]
  },
  {
   "cell_type": "markdown",
   "id": "d21b43c2-2a83-4f7a-a394-ed8a7b91e25b",
   "metadata": {
    "jp-MarkdownHeadingCollapsed": true,
    "tags": []
   },
   "source": [
    "<h4>Create Directory for Shiptrack Data and Access Bathymetry Data </h4>"
   ]
  },
  {
   "cell_type": "code",
   "execution_count": null,
   "id": "cad84bdb-d906-494a-bec3-7c69ba03a3d8",
   "metadata": {
    "tags": []
   },
   "outputs": [],
   "source": [
    "## DIRECTORY TO SHIP TRACK DATA\n",
    "ship_dir =  'Data/TSG/' \n",
    "\n",
    "#DOWLOAD SHIPTRACK DATA\n",
    "if not os.path.isfile(ship_dir+'SASSIE_Fall_2022_Shipboard_TSG.nc'):\n",
    "    os.makedirs(ship_dir)\n",
    "    url = 'https://archive.podaac.earthdata.nasa.gov/podaac-ops-cumulus-protected/SASSIE_L2_SHIPBOARD_TSG_V1/SASSIE_Fall_2022_Shipboard_TSG.nc'\n",
    "    with requests.Session() as session:\n",
    "            session.auth = (username, password)\n",
    "            r1 = session.request('get', url)\n",
    "            r = session.get(r1.url, auth=(username, password))\n",
    "            if r.status_code == 200:\n",
    "                if r.ok:\n",
    "                    with open(ship_dir+'SASSIE_Fall_2022_Shipboard_TSG.nc', 'wb') as f:\n",
    "                        f.write(r.content) \n",
    "                        print('Saving Input File: ' + ship_dir+'SASSIE_Fall_2022_Shipboard_TSG.nc') \n",
    "            else:\n",
    "                print(\"Error:\", r.status_code)\n",
    "                if r.status_code == 401:\n",
    "                    print ('Your Username and/or password are incorrect. Please try again')\n",
    "else: \n",
    "    print('Shipboard TSG file is already in local directory')\n",
    "    \n",
    "    \n",
    "#READ IN TOPOGRAPHY/BATHYMETRY DATA\n",
    "url = 'http://ferret.pmel.noaa.gov/thredds/dodsC/data/PMEL/etopo2.nc'\n",
    "etopodata = xr.open_dataset(url) "
   ]
  },
  {
   "cell_type": "markdown",
   "id": "0e108170-dc38-4afb-89bc-bd6626c0da1c",
   "metadata": {
    "jp-MarkdownHeadingCollapsed": true,
    "tags": []
   },
   "source": [
    "<h4>Define a Function to Index Relevant Bathymetry Data and Add it to the Map</h4>\n",
    "This function will index bathymetry data from NOAA within the appropriate spatial range and add it to the map. \n"
   ]
  },
  {
   "cell_type": "code",
   "execution_count": null,
   "id": "6795362c-592f-4ac4-a40c-868bdf065d05",
   "metadata": {},
   "outputs": [],
   "source": [
    "def add_bathy_data(latmin,latmax,lonmin,lonmax):\n",
    "        topoin = etopodata.rose.values[0:-1:5,1:-1:5]\n",
    "        lons = etopodata.etopo2_x.values[0:-1:5]\n",
    "        lats = etopodata.etopo2_y.values[0:-1:5]\n",
    "        lons_in_range = lons[np.where((lons >lonmin-1) & (lons<lonmax+1))]\n",
    "        lats_in_range = lats[np.where((lats >latmin-1) & (lats<latmax+1))]\n",
    "        topo_in_range = np.squeeze(topoin[np.squeeze(np.where((lats >latmin-1) & (lats<latmax+1))),:][:,np.where((lons >lonmin-1) & (lons<lonmax+1))])\n",
    "        [bathy_lon,bathy_lat] = np.meshgrid(lons_in_range,lats_in_range)\n",
    "        \n",
    "        bathy = ax.contour(bathy_lon,bathy_lat,topo_in_range,np.arange(-6000,-1000,300),transform=cartopy.crs.PlateCarree(),cmap='gray',alpha = 0.2,zorder = 0)"
   ]
  },
  {
   "cell_type": "markdown",
   "id": "736d06f6-7226-419d-9568-f6e215c47b3b",
   "metadata": {
    "jp-MarkdownHeadingCollapsed": true,
    "tags": []
   },
   "source": [
    "<h4>Define a Function to Add Shiptrack Data to a Map</h4>\n",
    "This function will pull the lat/lon data from the SASSIE Shipboard TSG file and put it onto a map o a 3D grid. "
   ]
  },
  {
   "cell_type": "code",
   "execution_count": null,
   "id": "59588970-6425-4032-af0a-f41bccbdbd89",
   "metadata": {},
   "outputs": [],
   "source": [
    "def add_ship_track(mode,start_date,end_date):\n",
    "        ds_ship = xr.open_dataset(ship_dir+'SASSIE_Fall_2022_Shipboard_TSG.nc')\n",
    "        if mode == 'grid':\n",
    "            ds_ship = ds_ship.sel(time=slice(start_date,end_date))\n",
    "        ship_time = np.squeeze(ds_ship['time'])\n",
    "        ship_lat = np.squeeze(ds_ship['latitude'])\n",
    "        ship_lon = np.squeeze(ds_ship['longitude'])\n",
    "        if mode =='map':\n",
    "            track = ax.plot(ship_lon, \n",
    "                         ship_lat,linewidth = 0.5,\n",
    "                         c='black',\n",
    "                           transform=cartopy.crs.PlateCarree(),label = 'Ship Track',zorder=1)\n",
    "        if mode == 'grid':\n",
    "            track = ax.plot(ship_lon, \n",
    "                         ship_lat,\n",
    "                         c='black',label = 'Ship Track',zorder=2)"
   ]
  },
  {
   "cell_type": "markdown",
   "id": "91e305fa-f0db-4e63-8b9b-10489eba07d9",
   "metadata": {
    "jp-MarkdownHeadingCollapsed": true,
    "tags": []
   },
   "source": [
    "# Figure Making Code "
   ]
  },
  {
   "cell_type": "markdown",
   "id": "a0aceeb5-a94a-4141-8729-49300911548e",
   "metadata": {
    "jp-MarkdownHeadingCollapsed": true,
    "tags": []
   },
   "source": [
    "<h2> Mapping the Time and Location of Underway CTD Data Collection</h2>"
   ]
  },
  {
   "cell_type": "markdown",
   "id": "a3ecb6c6-7a21-4250-961c-1c6d7d3d3837",
   "metadata": {
    "jp-MarkdownHeadingCollapsed": true,
    "tags": []
   },
   "source": [
    "The map_uCTD_deployments function shows the locations of Underway CTD deployments throughout the campaign on a map, colored by time. Various features of this function: \n",
    "    <br>2. This function adds bathymetry contours showing the position of the continental shelf by default for reference. "
   ]
  },
  {
   "cell_type": "code",
   "execution_count": null,
   "id": "62e73195-3f72-4f15-b2e2-892606eed92d",
   "metadata": {},
   "outputs": [],
   "source": [
    "#PLOT THE LOCATION OF THE CASTAWAY CTD CASTS ON THE SHIP TRACK \n",
    "def map_uCTD_deployments(ship_track=True, bathymetry_data=True):\n",
    " \n",
    "    #LOAD CASTAWAY CTD DATA\n",
    "    CTD_time = np.squeeze(ds['time'])\n",
    "    CTD_lat = np.squeeze(ds['latitude'])\n",
    "    CTD_lon = np.squeeze(ds['longitude'])\n",
    "    \n",
    "    #Define the boundaries of the map:\n",
    "    latmin = 70\n",
    "    latmax =74\n",
    "    lonmin=-157\n",
    "    lonmax=-144\n",
    "    \n",
    "    #create the map:\n",
    "    map_study_area(latmin=latmin,latmax=latmax,lonmin=lonmin,lonmax=lonmax)\n",
    "    \n",
    "    #Add a title: \n",
    "    ax.set_title('Underway CTD Deployment Locations',fontsize=22,pad=1) \n",
    "    \n",
    "    #add optional map add-ons:\n",
    "    if bathymetry_data == True: \n",
    "        add_bathy_data(latmin,latmax,lonmin,lonmax)   \n",
    "    if ship_track == True:\n",
    "        add_ship_track('map',play1_start,play5_end)\n",
    "     \n",
    "    #APPLY CTD TIME AND LOCATION DATA\n",
    "    casts = ax.scatter(CTD_lon,CTD_lat,s = 10,\n",
    "                       c = CTD_time,cmap = 'jet',\n",
    "                       transform=cartopy.crs.PlateCarree(),zorder=2,\n",
    "                      vmin=min(CTD_time.values), vmax=max(CTD_time.values))\n",
    "    #Add a color bar:\n",
    "    cbar = fig.colorbar(casts, ax=ax, orientation=\"horizontal\", pad=0.1)\n",
    "    cbar.set_label(label='Date',size='large',weight='bold')\n",
    "    cbar_tick_array=(np.linspace(ds['time'].values[0].astype('int64'),ds['time'].values[-1].astype('int64'),5))\n",
    "    cbar.set_ticks(cbar_tick_array)\n",
    "    cbar.set_ticklabels(pd.to_datetime(cbar_tick_array).date)\n",
    "    \n",
    "    #Add a legend:\n",
    "    plt.legend(loc=2)\n",
    "\n",
    "    ##SAVE FIGURE \n",
    "    if not os.path.exists(fig_dir+'deployment_map/'):\n",
    "        os.makedirs(fig_dir+'deployment_map/')\n",
    "    \n",
    "    print('Saving Output Image:  '+fig_dir+'deployment_map/CTD_deployment_map.png')\n",
    "    plt.savefig(fig_dir+'deployment_map/CTD_deployment_map.png',dpi='figure',format='png',bbox_inches='tight')\n",
    "    "
   ]
  },
  {
   "cell_type": "code",
   "execution_count": null,
   "id": "ee0a2d59-b5b3-4ffa-a407-d429f31fd637",
   "metadata": {},
   "outputs": [],
   "source": [
    "map_uCTD_deployments()"
   ]
  },
  {
   "cell_type": "markdown",
   "id": "cd2f5620-ebde-4438-8e51-65c2faf676e8",
   "metadata": {
    "jp-MarkdownHeadingCollapsed": true,
    "tags": []
   },
   "source": [
    "<h3>Three Dimensional Representation of Vertical Profile Data</h3>\n",
    "Use the code in this section to plot the Underway CTD profile locations and depths on a 3D grid, colored by a physical measurement variable from the file (temperature, salinity, density, etc.)"
   ]
  },
  {
   "cell_type": "code",
   "execution_count": null,
   "id": "dbae935f-29b0-4ac4-abf3-a897efa5db83",
   "metadata": {},
   "outputs": [],
   "source": [
    "##USE TO PLOT THE PROFILES TAKEN WITHIN A DATE RANGE \n",
    "def uCTD_profiles(start_date,end_date,var,ship_track=True):\n",
    "    try:\n",
    "        #LOAD Underway CTD DATA\n",
    "        selected_casts = ds.sel(time=slice(start_date,end_date))\n",
    "        CTD_lat = selected_casts['latitude']\n",
    "        CTD_lon = selected_casts['longitude']\n",
    "        CTD_depth = selected_casts['pressure']\n",
    "        CTD_var = selected_casts[var]\n",
    "\n",
    "        #put lat, lon, and depth in 2D format:\n",
    "        [depth,lat] = np.meshgrid(CTD_depth,CTD_lat)\n",
    "        [depth,lon] = np.meshgrid(CTD_depth,CTD_lon)\n",
    "\n",
    "        #define colormap and label for variable of choice:\n",
    "        colormap,var_label = define_variable_attributes(var)\n",
    "\n",
    "        #define latitude and longitude ranges for the 3D grid. \n",
    "        latmin = min(CTD_lat.values)\n",
    "        latmax = max(CTD_lat.values)\n",
    "        lonmin = min(CTD_lon.values)\n",
    "        lonmax = max(CTD_lon.values)\n",
    "        pmin = min(CTD_depth.values)\n",
    "        pmax = max(CTD_depth.values)+0.5\n",
    "\n",
    "        #make the 3d grid for plotting: \n",
    "        make_3d_grid(latmin,latmax,lonmin,lonmax,pmin,pmax)\n",
    "\n",
    "        #add a title to the grid:\n",
    "        ax.set_title('Castaway CTD'+' '+var_label+' '+'Readings from'+' '+str(start_date.year)+'/'+str(start_date.month).zfill(2)+'/'+str(start_date.day).zfill(2)+' '+str(start_date.hour).zfill(2)+':'+str(start_date.minute).zfill(2)+' to '+str(end_date.year)+'/'+str(end_date.month).zfill(2)+'/'+str(end_date.day).zfill(2)+' '+str(end_date.hour).zfill(2)+':'+str(end_date.minute).zfill(2),fontsize=15,pad=None)\n",
    "\n",
    "        #Add the ship track to show the path of the casting:\n",
    "        if ship_track==True:\n",
    "            add_ship_track('grid',start_date,end_date)\n",
    "\n",
    "        ##APPLY CTD DATA   \n",
    "        a = ax.scatter(lon,lat,depth,c=(CTD_var.values),cmap = colormap,s=2,zorder=1) \n",
    "        #add a colorbar \n",
    "        fig.colorbar(a,label = var_label)\n",
    "\n",
    "        ## SAVE THE FIGURE\n",
    "        if not os.path.exists(fig_dir+var+'/'):\n",
    "            os.makedirs(fig_dir+var+'/')\n",
    "\n",
    "        print('Saving Output Image:  '+fig_dir+var+'/'+'CTD'+var+str(start_date.year)+str(start_date.month).zfill(2)+str(start_date.day).zfill(2)+str(start_date.hour).zfill(2)+str(start_date.minute).zfill(2)+'_'+str(end_date.year)+str(end_date.month).zfill(2)+str(end_date.day).zfill(2)+str(end_date.hour).zfill(2)+str(end_date.minute).zfill(2)+'.png')\n",
    "        plt.savefig(fig_dir+var+'/'+'CTD'+var+str(start_date.year)+str(start_date.month).zfill(2)+str(start_date.day).zfill(2)+str(start_date.hour).zfill(2)+str(start_date.minute).zfill(2)+'_'+str(end_date.year)+str(end_date.month).zfill(2)+str(end_date.day).zfill(2)+str(end_date.hour).zfill(2)+str(end_date.minute).zfill(2)+'.png',dpi='figure',format='png',bbox_inches='tight')\n",
    "    except: \n",
    "        print('There are no Castaway CTD profiles from ' + str(start_date.year)+'/'+str(start_date.month).zfill(2)+'/'+str(start_date.day).zfill(2)+' '+str(start_date.hour).zfill(2)+':'+str(start_date.minute).zfill(2)+' to '+str(end_date.year)+'/'+str(end_date.month).zfill(2)+'/'+str(end_date.day).zfill(2)+' '+str(end_date.hour).zfill(2)+':'+str(end_date.minute).zfill(2))\n",
    "              \n",
    "              \n",
    "              "
   ]
  },
  {
   "cell_type": "code",
   "execution_count": null,
   "id": "edc8ba5d-c5ae-40ab-a025-94cb0dc75f34",
   "metadata": {},
   "outputs": [],
   "source": [
    "uCTD_profiles(play4_start,play4_end,'temperature')\n",
    "uCTD_profiles(play4_start,play4_end,'salinity')"
   ]
  },
  {
   "cell_type": "markdown",
   "id": "e006a116-c5b4-410a-bf5e-d7558a5f322f",
   "metadata": {
    "jp-MarkdownHeadingCollapsed": true,
    "tags": []
   },
   "source": [
    "<h2>Two Dimensional Representation of Vertical Profile Data</h2>\n",
    "Use the code in this section to plot the Underway CTD profiles on a 2D time-depth axis, colored by a physical measurement variable from the file (temperature, salinity)"
   ]
  },
  {
   "cell_type": "code",
   "execution_count": null,
   "id": "7f76fd3c-4f96-44ec-8c23-d11cef4437a8",
   "metadata": {},
   "outputs": [],
   "source": [
    "##MAKES A 2D PLOT OF THE CTD VARIABLES ON TIME-DEPTH AXIS (NO INTERPOLATION OF LAT/LON)\n",
    "def plot_uCTD_2D(start_time,end_time,var,var_min,var_max):\n",
    "    try:\n",
    "        #Cut the CTD data set down to the specified time range:\n",
    "        ds_limited = ds.sel(time=slice(start_time,end_time))\n",
    "\n",
    "        #load the CTD data within this time range\n",
    "        CTD_time = ds_limited['time'].values\n",
    "        CTD_depth = ds_limited['pressure'].values\n",
    "        CTD_var = ds_limited[var].values\n",
    "\n",
    "        #put time and depth into a 2D format\n",
    "        [depth,time] = np.meshgrid(CTD_depth,CTD_time)\n",
    "\n",
    "        ##SET UP THE 2D PLOT \n",
    "        colormap,var_label = define_variable_attributes(var)\n",
    "\n",
    "        dmin = min(CTD_depth)\n",
    "        dmax = max(CTD_depth)\n",
    "        tmin = min(CTD_time)\n",
    "        tmax = max(CTD_time)\n",
    "\n",
    "        fig = plt.figure(figsize=(10,4))\n",
    "\n",
    "        plt.title('Castaway CTD'+' '+var_label+' '+'Readings \\nfrom '+str(start_time.year)+'/'+str(start_time.month).zfill(2)+'/'+str(start_time.day).zfill(2)+' to '+str(end_time.year)+'/'+str(end_time.month).zfill(2)+'/'+str(end_time.day).zfill(2),fontsize=15,pad=None)\n",
    "\n",
    "        plt.xlim(tmin, tmax); plt.ylim(dmin,100);\n",
    "        total_timedelta = tmax-tmin\n",
    "        third_of_timedelta = total_timedelta/3\n",
    "        plt.xticks([tmin,tmin+third_of_timedelta, tmin+ 2*third_of_timedelta, tmax])\n",
    "        ytick = list(np.arange(0,100,15))\n",
    "        plt.yticks(np.around(ytick,2))\n",
    "        plt.xlabel('Date',fontsize=16)\n",
    "        plt.ylabel('Depth(m)',fontsize=16)\n",
    "        plt.gca().invert_yaxis()\n",
    "\n",
    "        ##APPLY THE CTD DATA\n",
    "        ax = plt.scatter(time,depth,s=1,c=CTD_var,cmap=colormap,vmin = var_min,vmax=var_max)\n",
    "\n",
    "        #add a colorbar\n",
    "        fig.colorbar(ax).set_label(label = var_label,size=15,weight='bold')\n",
    "\n",
    "        ##SAVE THE FIGURE:\n",
    "        if not os.path.exists(fig_dir+var+'/2d/'):\n",
    "            os.makedirs(fig_dir+var+'/2d/')\n",
    "\n",
    "        print('Saving Output Image:  '+fig_dir+var+'/2d/'+'CTD_'+var+'_'+str(start_time.year)+str(start_time.month).zfill(2)+str(start_time.day).zfill(2)+str(start_time.hour).zfill(2)+str(start_time.minute).zfill(2)+'_'+str(end_time.year)+str(end_time.month).zfill(2)+str(end_time.day).zfill(2)+str(end_time.hour).zfill(2)+str(end_time.minute).zfill(2)+'.png')\n",
    "        plt.savefig(fig_dir+var+'/2d/'+'CTD_'+var+'_'+str(start_time.year)+str(start_time.month).zfill(2)+str(start_time.day).zfill(2)+str(start_time.hour).zfill(2)+str(start_time.minute).zfill(2)+'_'+str(end_time.year)+str(end_time.month).zfill(2)+str(end_time.day).zfill(2)+str(end_time.hour).zfill(2)+str(end_time.minute).zfill(2)+'.png',dpi='figure',format='png',bbox_inches='tight')\n",
    "    except: \n",
    "        print('There are no Castaway CTD profiles from ' + str(start_date.year)+'/'+str(start_date.month).zfill(2)+'/'+str(start_date.day).zfill(2)+' '+str(start_date.hour).zfill(2)+':'+str(start_date.minute).zfill(2)+' to '+str(end_date.year)+'/'+str(end_date.month).zfill(2)+'/'+str(end_date.day).zfill(2)+' '+str(end_date.hour).zfill(2)+':'+str(end_date.minute).zfill(2))\n",
    "       "
   ]
  },
  {
   "cell_type": "code",
   "execution_count": null,
   "id": "5031efe8-7589-4679-9068-e8d39b5c82d6",
   "metadata": {},
   "outputs": [],
   "source": [
    "plot_uCTD_2D(play1_start,play5_end,'temperature',-1,4)\n",
    "plot_uCTD_2D(play1_start,play5_end,'salinity',23,33)\n"
   ]
  },
  {
   "cell_type": "markdown",
   "id": "07d6b6d7-e193-4e70-a016-31b3d6cb0296",
   "metadata": {
    "jp-MarkdownHeadingCollapsed": true,
    "tags": []
   },
   "source": [
    "<h2>Plots of Individual Casts by Cast Number</h2>\n",
    "use this code to make polts of individual underway CTD casts. The temperature and salinity profiles can be plotted on 2 seperate subplots using 'plot_CTD_cast_profile_subplots' or temperature and salnity can be put on the same set of axis with 'plot_uCTD_cast_profile_sameplot'"
   ]
  },
  {
   "cell_type": "code",
   "execution_count": null,
   "id": "d0ebb6fd-4183-4717-8ebb-97a9db372e03",
   "metadata": {
    "tags": []
   },
   "outputs": [],
   "source": [
    "##USE TO PLOT AN INDIVIDUAL CAST BY CAST NUMBER (SEPERATE AXIS)\n",
    "def plot_CTD_cast_profile_subplots(cast_number):\n",
    "    \n",
    "    #LOAD CTD DATA \n",
    "    CTD_sal = np.squeeze(ds['salinity'].values[cast_number,:])\n",
    "    CTD_temp = np.squeeze(ds['temperature'].values[cast_number,:])\n",
    "    CTD_depth = np.squeeze(ds['pressure'].values)\n",
    "    CTD_time = np.squeeze(ds['time'].values[cast_number]).astype('int64')\n",
    "    \n",
    "    ## PLOT THE DATA\n",
    "    fig,axs = plt.subplots(1,2,sharey=True)\n",
    "    axs[0].plot(CTD_temp,CTD_depth,linewidth=0.4,c='black')\n",
    "    axs[0].invert_yaxis()\n",
    "    #axs[0].set_title('Water Temperature ($^{\\circ}$C)')\n",
    "    axs[0].set_xlabel('Temperature ($^{\\circ}$C)')\n",
    "    axs[0].set_ylabel('Depth (m)')\n",
    "    axs[1].plot(CTD_sal,CTD_depth,linewidth=0.4,c='black')\n",
    "    #axs[1].set_title('Salinity')\n",
    "    axs[1].set_xlabel('Salinity')\n",
    "    \n",
    "    fig.suptitle('uCTD Profiles from Cast '+str(cast_number)+' on '+str(pd.to_datetime(CTD_time).year).zfill(2)+'/'+str(pd.to_datetime(CTD_time).month).zfill(2)+'/'+str(pd.to_datetime(CTD_time).day).zfill(2)+' at '+str(pd.to_datetime(CTD_time).hour).zfill(2)+':'+str(pd.to_datetime(CTD_time).minute).zfill(2)+':'+str(pd.to_datetime(CTD_time).second).zfill(2))\n",
    "    \n",
    "    ## SAVE THE FIGURE\n",
    "    if not os.path.exists(fig_dir+'profiles/'):\n",
    "        os.makedirs(fig_dir+'profiles/')\n",
    "    print('Saving Output Image:  '+fig_dir+'profiles/'+'uCTD_profile'+str(cast_number)+'_'+str(pd.to_datetime(CTD_time).year)+str(pd.to_datetime(CTD_time).month).zfill(2)+str(pd.to_datetime(CTD_time).day).zfill(2)+str(pd.to_datetime(CTD_time).hour).zfill(2)+str(pd.to_datetime(CTD_time).minute).zfill(2)+str(pd.to_datetime(CTD_time).second).zfill(2)+'.png')\n",
    "    plt.savefig(fig_dir+'profiles/'+'uCTD_profile'+str(cast_number)+'_'+str(pd.to_datetime(CTD_time).year)+str(pd.to_datetime(CTD_time).month).zfill(2)+str(pd.to_datetime(CTD_time).day).zfill(2)+str(pd.to_datetime(CTD_time).hour).zfill(2)+str(pd.to_datetime(CTD_time).minute).zfill(2)+str(pd.to_datetime(CTD_time).second).zfill(2)+'.png',dpi='figure',format='png',bbox_inches='tight')\n"
   ]
  },
  {
   "cell_type": "code",
   "execution_count": null,
   "id": "aae40634-5c64-4f63-8269-349e76612010",
   "metadata": {},
   "outputs": [],
   "source": [
    "plot_CTD_cast_profile_subplots(100)"
   ]
  },
  {
   "cell_type": "code",
   "execution_count": null,
   "id": "f343d098-d109-4af8-b31b-ffbf6b39d03d",
   "metadata": {
    "tags": []
   },
   "outputs": [],
   "source": [
    "##USE TO PLOT AN INDIVIDUAL CAST BY CAST NUMBER (SAME AXIS)\n",
    "def plot_uCTD_cast_profile_sameplot(cast_number):\n",
    "    \n",
    "    #LOAD CTD DATA \n",
    "    CTD_sal = np.squeeze(ds['salinity'].values[cast_number,:])\n",
    "    CTD_temp = np.squeeze(ds['temperature'].values[cast_number,:])\n",
    "    CTD_depth = np.squeeze(ds['pressure'].values)\n",
    "    CTD_time = np.squeeze(ds['time'].values[cast_number]).astype('int64')\n",
    "    CTD_lat = np.squeeze(ds['latitude'].values[cast_number])\n",
    "    CTD_lon = np.squeeze(ds['longitude'].values[cast_number])\n",
    "    \n",
    "    ## PLOT THE DATA\n",
    "    fig,ax1 = plt.subplots()\n",
    "    ax2 = ax1.twiny()\n",
    "    ax1.plot(CTD_temp,CTD_depth,linewidth=0.4,c='blue')\n",
    "    ax1.set_xlabel('Temperature ($^{\\circ}$C)',color = 'blue')\n",
    "    ax1.set_ylabel('Depth (m)')\n",
    "    ytick_array = np.arange(0,100,20)\n",
    "    ax1.set_ylim(0,100)\n",
    "    ax1.set_yticks(ytick_array)\n",
    "    ax1.invert_yaxis()\n",
    "    ax2.plot(CTD_sal,CTD_depth,linewidth=0.4,c='red')\n",
    "    ax2.set_xlabel('Salinity',color ='red')    \n",
    "    fig.suptitle('uCTD Profiles from Cast '+str(cast_number)+' at ' +str(np.around(CTD_lat,decimals=2))+'$^{\\circ}$N, '+str(np.around(CTD_lon,decimals=2))+'$^{\\circ}$E \\n on '+str(pd.to_datetime(CTD_time).year).zfill(2)+'/'+str(pd.to_datetime(CTD_time).month).zfill(2)+'/'+str(pd.to_datetime(CTD_time).day).zfill(2)+' at '+str(pd.to_datetime(CTD_time).hour).zfill(2)+':'+str(pd.to_datetime(CTD_time).minute).zfill(2)+':'+str(pd.to_datetime(CTD_time).second).zfill(2),y=1.05)\n",
    "    \n",
    "    ## SAVE THE FIGURE\n",
    "    if not os.path.exists(fig_dir+'profiles/'):\n",
    "        os.makedirs(fig_dir+'profiles/')\n",
    "    print('Saving Output Image:  '+fig_dir+'profiles/'+'CTD_profile'+str(cast_number)+'_'+str(pd.to_datetime(CTD_time).year)+str(pd.to_datetime(CTD_time).month).zfill(2)+str(pd.to_datetime(CTD_time).day).zfill(2)+str(pd.to_datetime(CTD_time).hour).zfill(2)+str(pd.to_datetime(CTD_time).minute).zfill(2)+str(pd.to_datetime(CTD_time).second).zfill(2)+'.png')\n",
    "    plt.savefig(fig_dir+'profiles/'+'CTD_profile'+str(cast_number)+'_'+str(pd.to_datetime(CTD_time).year)+str(pd.to_datetime(CTD_time).month).zfill(2)+str(pd.to_datetime(CTD_time).day).zfill(2)+str(pd.to_datetime(CTD_time).hour).zfill(2)+str(pd.to_datetime(CTD_time).minute).zfill(2)+str(pd.to_datetime(CTD_time).second).zfill(2)+'.png',dpi='figure',format='png',bbox_inches='tight')\n"
   ]
  },
  {
   "cell_type": "code",
   "execution_count": null,
   "id": "a3b38566-3770-48ac-a113-fd03cf7441a0",
   "metadata": {},
   "outputs": [],
   "source": [
    "plot_uCTD_cast_profile_sameplot(100)"
   ]
  },
  {
   "cell_type": "markdown",
   "id": "beba6af1-5720-471d-b8d3-7f0995edbcbe",
   "metadata": {
    "jp-MarkdownHeadingCollapsed": true,
    "tags": []
   },
   "source": [
    "<h2> T-S Diagram of Underway CTD Data in a Specific Time Range</h2>\n",
    "Use this code to make temperture-salinity (T-S) diagrams of all of the Underway CTD data within a given time range, colored by a coordinate variable (lat,lon,time, depth)"
   ]
  },
  {
   "cell_type": "code",
   "execution_count": null,
   "id": "c8921948-99ce-43c1-9ab9-da1ae90055fc",
   "metadata": {},
   "outputs": [],
   "source": [
    "def plot_T_S_diagram(start_time,end_time,var):\n",
    "    \n",
    "    ##PULL OUT THE DATA WITHIN THE START AND END TIME RANGE\n",
    "    ds_limited = ds.sel(time=slice(start_time,end_time))\n",
    "    CTD_temp = ds_limited['temperature'].values\n",
    "    CTD_depth = ds_limited['pressure'].values\n",
    "    CTD_sal = ds_limited['salinity'].values\n",
    "    CTD_var = ds_limited[var].values\n",
    "    CTD_time = ds_limited['time'].values   \n",
    "    \n",
    "\n",
    "    if (var =='depth')|(var=='pressure'):\n",
    "        [var_values,time] = np.meshgrid(CTD_var,CTD_time)\n",
    "    else:\n",
    "        [depth,var_values] = np.meshgrid(CTD_depth,CTD_var)\n",
    "\n",
    "                \n",
    "    ##SET UP THE 2D PLOT\n",
    "    colormap,var_label = define_variable_attributes(var)\n",
    "\n",
    "    fig = plt.figure(figsize=(10,4))\n",
    "    plt.title('Temperature-Salinity Diagram of Castaway CTD Data')\n",
    "    \n",
    "    if var=='pressure':\n",
    "        ax = plt.scatter(CTD_sal,CTD_temp,s=1,c=var_values,cmap=colormap,vmin=0,vmax=100)\n",
    "    else:\n",
    "        ax = plt.scatter(CTD_sal,CTD_temp,s=1,c=var_values,cmap=colormap,vmin=CTD_var.min(),vmax=CTD_var.max())\n",
    "    plt.xlim((24,35))\n",
    "    plt.xlabel('Salinity',fontsize=16)\n",
    "    plt.ylabel('Temperature ($^{\\circ}$C)',fontsize=16)\n",
    "    \n",
    "    ##SET UP COLORBAR\n",
    "    if (var == 'time'): \n",
    "        cbar = fig.colorbar(ax, orientation=\"vertical\", pad=0.1)\n",
    "        cbar.set_label(label=var_label,size='large',weight='bold')\n",
    "        cbar_tick_array=(np.linspace(ds[var].values[0].astype('int64'),ds[var].values[-1].astype('int64'),5))\n",
    "        cbar.set_ticks(cbar_tick_array)\n",
    "        cbar.set_ticklabels(pd.to_datetime(cbar_tick_array).date)\n",
    "    else:\n",
    "        fig.colorbar(ax).set_label(label = var_label,size=15,weight='bold')\n",
    "\n",
    "    ##SAVE THE FIGURE\n",
    "    if not os.path.exists(fig_dir+'t_s/'):\n",
    "        os.makedirs(fig_dir+'t_s/')\n",
    "    print('Saving Output Image:  '+fig_dir+'t_s/T_S_Diagram_'+var+'.png')\n",
    "    plt.savefig(fig_dir+'t_s/T_S_Diagram_'+var+'.png',dpi='figure',format='png',bbox_inches='tight')\n"
   ]
  },
  {
   "cell_type": "code",
   "execution_count": null,
   "id": "0ce91a08-6419-4d61-a934-d35f5bb80449",
   "metadata": {},
   "outputs": [],
   "source": [
    "plot_T_S_diagram(play1_start,play5_end,'pressure')\n",
    "plot_T_S_diagram(play1_start,play5_end,'latitude')"
   ]
  },
  {
   "cell_type": "code",
   "execution_count": null,
   "id": "218da175-1ed7-4a3d-bc72-830ae5b988e5",
   "metadata": {},
   "outputs": [],
   "source": []
  }
 ],
 "metadata": {
  "kernelspec": {
   "display_name": "Python 3 (ipykernel)",
   "language": "python",
   "name": "python3"
  },
  "language_info": {
   "codemirror_mode": {
    "name": "ipython",
    "version": 3
   },
   "file_extension": ".py",
   "mimetype": "text/x-python",
   "name": "python",
   "nbconvert_exporter": "python",
   "pygments_lexer": "ipython3",
   "version": "3.9.16"
  }
 },
 "nbformat": 4,
 "nbformat_minor": 5
}
