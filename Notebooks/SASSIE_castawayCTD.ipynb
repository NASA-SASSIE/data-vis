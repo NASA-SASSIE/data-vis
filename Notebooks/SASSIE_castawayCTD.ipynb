{
 "cells": [
  {
   "cell_type": "markdown",
   "id": "39944d81-1bce-4788-b927-f3652a79bc0a",
   "metadata": {
    "tags": []
   },
   "source": [
    "<h1>SASSIE Shipboard Castaway CTD Data Use and Visualization</h1>\n",
    "<p> Shipboard Castaway CTD data was collected to supplement the underway CTD when the R/V Woldstad was in areas of heavy ice. Castaway CTD data are downloaded and plotted using the code below! <b>Please run the 'Data Download and Metadata Viewing' and 'Supporting Code' sections in order before running the 'Figure Making Code'.</b> </p>\n",
    "    \n",
    "<p>The aim of this notebook is to assist the end user in exploratory data analysis by downloading the SASSIE data from NASA's PODAAC, opening the dataset and displaying it's associated metadata, and creating a few visualizations. This notebook was created by Elizabeth Westbrook. For questions and trouble shooting, please email westbrooke@uncw.edu.</p>"
   ]
  },
  {
   "cell_type": "markdown",
   "id": "78a7cf4a-3bbb-4047-8e0f-c9ba8000dfaf",
   "metadata": {
    "jp-MarkdownHeadingCollapsed": true,
    "tags": []
   },
   "source": [
    "# Credential Entry\n",
    "In this section, you shoud enter your EarthData username and password. <b> DO NOT enter usernames and passwords here which are sensitive.</b> If you do not already have an EarthData account, you can create one <a href=\"https://urs.earthdata.nasa.gov/\">here</a> . </p>\n",
    "    <p>Please enter your EarthData credentials below: </p>"
   ]
  },
  {
   "cell_type": "code",
   "execution_count": null,
   "id": "4f9fd890-a97f-480c-a4e2-d3f329372387",
   "metadata": {},
   "outputs": [],
   "source": [
    "#Enter Earthdata Credentials: \n",
    "username = 'your_username'\n",
    "password = 'your_password'"
   ]
  },
  {
   "cell_type": "markdown",
   "id": "a8249b84-ed83-4474-935d-9fed750d8c2b",
   "metadata": {
    "jp-MarkdownHeadingCollapsed": true,
    "tags": []
   },
   "source": [
    "# Data Download and Metadata Viewing\n",
    "\n",
    "The code in this section will download the dataset from PO.DAAC and open it as an xarray object for metadata and variable attribute viewing."
   ]
  },
  {
   "cell_type": "code",
   "execution_count": null,
   "id": "c4b920a0-5de3-4797-97e2-c78c43d7968f",
   "metadata": {},
   "outputs": [],
   "source": [
    "import numpy as np\n",
    "import xarray as xr\n",
    "import glob \n",
    "from datetime import datetime, timedelta \n",
    "import matplotlib.pyplot as plt\n",
    "import cartopy\n",
    "import matplotlib\n",
    "import os\n",
    "import sys\n",
    "import pandas as pd\n",
    "import requests\n",
    "import cmasher as cmr"
   ]
  },
  {
   "cell_type": "markdown",
   "id": "df069cd2-5e57-4038-9f35-d5468db5e8c0",
   "metadata": {
    "jp-MarkdownHeadingCollapsed": true,
    "tags": []
   },
   "source": [
    "<h2>Download The Castaway CTD data from PO.DAAC</h2>\n",
    "<p> All data from the SASSIE campaign is stored on NASA's PO.DAAC. The code in this section of the notebook will download SASSIE castawayCTD data from PO.DAAC, which is accessed through EarthData. "
   ]
  },
  {
   "cell_type": "code",
   "execution_count": null,
   "id": "e3564ee6-ffd4-420f-aadc-6dd22b7c4a6c",
   "metadata": {},
   "outputs": [],
   "source": [
    "##LOCAL DIRECTORY TO SAVE CASTAWAY CTD DATA\n",
    "dir_in = 'Data/castaway_CTD/' "
   ]
  },
  {
   "cell_type": "markdown",
   "id": "dd927903-9410-4d05-a3ab-f44c7a7e7b1f",
   "metadata": {},
   "source": [
    "The next block of code creates the directory specified above and downloads the shipboard castaway CTD file to your binder session if it has not already been downloaded.<b> To download the dataset to your local disk from here, right click on the file you want to download and click 'download'. </b>"
   ]
  },
  {
   "cell_type": "code",
   "execution_count": null,
   "id": "510f3a75-5845-4f46-85a0-ba76c6c3358a",
   "metadata": {},
   "outputs": [],
   "source": [
    "#if the file has not already been downloaded, it is downloaded here:    \n",
    "if not os.path.isfile(dir_in+'SASSIE_Fall_2022_SHIPBOARD_Castaway_CTD.nc'):\n",
    "    os.makedirs(dir_in)\n",
    "    url = 'https://archive.podaac.earthdata.nasa.gov/podaac-ops-cumulus-protected/SASSIE_L2_SHIPBOARD_CASTAWAY_CTD_V1/SASSIE_Fall_2022_SHIPBOARD_Castaway_CTD.nc'\n",
    "    with requests.Session() as session:\n",
    "            session.auth = (username, password)\n",
    "            r1 = session.request('get', url)\n",
    "            r = session.get(r1.url, auth=(username, password))\n",
    "            if r.status_code == 200:\n",
    "                if r.ok:\n",
    "                    with open(dir_in+'SASSIE_Fall_2022_SHIPBOARD_Castaway_CTD.nc', 'wb') as f:\n",
    "                        f.write(r.content) \n",
    "                        print('Saving Input File: ' + dir_in+'SASSIE_Fall_2022_SHIPBOARD_Castaway_CTD.nc') \n",
    "            else:\n",
    "                print(\"Error:\", r.status_code)\n",
    "                if r.status_code == 401:\n",
    "                    print ('Your Username and/or password are incorrect. Please try again')\n",
    "else: \n",
    "    print('Shipboard Castaway CTD file is already in binder directory')"
   ]
  },
  {
   "cell_type": "markdown",
   "id": "9f052896-4875-47f4-8cf8-5498c83d7998",
   "metadata": {
    "jp-MarkdownHeadingCollapsed": true,
    "tags": []
   },
   "source": [
    "<h2> View The Metadata Inside the Castaway CTD File</h2>\n",
    "\n",
    "The netCDF file has global metadata attributes and attributes associated with each variable. This next block will load data and metadata of the netCDF file into an xarray object (ds). <br> The data set will then be displayed in a clickable HTML format. "
   ]
  },
  {
   "cell_type": "code",
   "execution_count": null,
   "id": "feafb9a1-3291-4a18-a07f-ee023ccc6954",
   "metadata": {},
   "outputs": [],
   "source": [
    "#See information about the entire dataset\n",
    "file = dir_in + '/'+ 'SASSIE_Fall_2022_SHIPBOARD_Castaway_CTD.nc'\n",
    "ds = xr.open_dataset(file)\n",
    "ds"
   ]
  },
  {
   "cell_type": "markdown",
   "id": "1363f97e-17a1-45cb-b888-b2ba5bb9a2e5",
   "metadata": {
    "jp-MarkdownHeadingCollapsed": true,
    "tags": []
   },
   "source": [
    "# Supporting Code \n",
    "The code in this section provides a set up for the figure making code below by defining directories for data and figures and creating functions that will be called to actually map the data"
   ]
  },
  {
   "cell_type": "markdown",
   "id": "8ac150e5-2ce6-4512-ae7c-bcf71c71a2d3",
   "metadata": {
    "jp-MarkdownHeadingCollapsed": true,
    "tags": []
   },
   "source": [
    "<h3>Create a Directory to Save Figures</h3>"
   ]
  },
  {
   "cell_type": "code",
   "execution_count": null,
   "id": "bef0a6f9-c3d8-4640-bb98-a7db3cf926f6",
   "metadata": {},
   "outputs": [],
   "source": [
    "#LOCAL DIRECTORY TO SAVE FIGURES\n",
    "fig_dir ='Figures/castaway_CTD/'\n",
    "#FIGURE DIR \n",
    "if not os.path.exists(fig_dir):\n",
    "    os.makedirs(fig_dir)"
   ]
  },
  {
   "cell_type": "markdown",
   "id": "d8113a95-613d-4a36-b974-ebd0651d574a",
   "metadata": {
    "jp-MarkdownHeadingCollapsed": true,
    "tags": []
   },
   "source": [
    "<h3>Define a Colormap and Label for Each Variable in the File</h3>\n",
    "Within SASSIE's collection of jupyter notebooks, the colormaps used for each variable are held as consistant as possible across all datasets. This function defines the colormap and a label for the variable of interest. "
   ]
  },
  {
   "cell_type": "code",
   "execution_count": null,
   "id": "ed398a9c-a2cd-4e66-88f0-fb8be264a399",
   "metadata": {},
   "outputs": [],
   "source": [
    "#DEFINES COLORMAPS AND LABELS OF EACH VARIABLE IN THIS DATA SET\n",
    "def define_variable_attributes(var):\n",
    "    if var =='salinity':\n",
    "        colormap = 'viridis'\n",
    "        var_label = 'Salinity'\n",
    "    if var =='temperature':\n",
    "        colormap = 'plasma'\n",
    "        var_label = 'Water Temperature ($^{\\circ}$C)'\n",
    "    if var == 'pressure':\n",
    "        colormap = cmr.neon\n",
    "        var_label = 'Pressure (dbar)'\n",
    "    if var == 'density':\n",
    "        colormap = 'winter'\n",
    "        var_label = 'Density (kg m-3)'\n",
    "    if var == 'latitude':\n",
    "        colormap = cmr.neon\n",
    "        var_label = 'Latitude ($^{\\circ}$N)'\n",
    "    if var == 'longitude':\n",
    "        colormap = cmr.neon\n",
    "        var_label = 'Longitude ($^{\\circ}$E)'\n",
    "    if var == 'time':\n",
    "        colormap = cmr.neon\n",
    "        var_label = 'Date'\n",
    "    return colormap,var_label"
   ]
  },
  {
   "cell_type": "markdown",
   "id": "a6f0e2a4-83f2-4081-9bab-be400b737f68",
   "metadata": {
    "jp-MarkdownHeadingCollapsed": true,
    "tags": []
   },
   "source": [
    "<h3>Are you exploring this entire data set, or just the data collected durring a specific time period?</h3>\n",
    "<p> In order to efficiently accomplish the data collection goals of the SASSIE campaign, the cruise was broken up into five destinct plays. \n",
    "    <br>\n",
    "    <br>Play 1 - Ice and Open Water Survey\n",
    "    <br>Play 2 - Zig-Zag Open Water Survey \n",
    "    <br>Play 3 - Ice Survey\n",
    "    <br>Play 4 - Drifter-Following Survey Boxes\n",
    "    <br>Play 5 - Repeated Ice to Open Water Transect</p>\n",
    "    <p>The following block of code identifies the start and end datetimes of each of these plays and puts the start dates and end dates into lists for easier acess later. </p>"
   ]
  },
  {
   "cell_type": "code",
   "execution_count": null,
   "id": "1ab4d81b-c942-473f-a46a-191f41f17038",
   "metadata": {},
   "outputs": [],
   "source": [
    "##Identify the start and end times of each play\n",
    "play1_start = datetime(2022,9,8,8) \n",
    "play1_end = datetime(2022,9,13)\n",
    "play2_start = datetime(2022,9,14)\n",
    "play2_end = datetime(2022,9,16)\n",
    "play3_start = datetime(2022,9,16)\n",
    "play3_end = datetime(2022,9,18)\n",
    "play4_start = datetime(2022,9,19)\n",
    "play4_end  = datetime(2022,9,23)\n",
    "play5_start = datetime(2022,9,25)\n",
    "play5_end = datetime(2022,9,29)\n",
    "\n",
    "\n",
    "#Create lists of start dates and end dates\n",
    "play_start_dates = [play1_start,play2_start,play3_start,play4_start,play5_start,play1_start]\n",
    "play_end_dates = [play1_end,play2_end,play3_end,play4_end,play5_end,play5_end]\n"
   ]
  },
  {
   "cell_type": "markdown",
   "id": "392d5366-71a8-46f3-a024-5a03fc052c40",
   "metadata": {
    "jp-MarkdownHeadingCollapsed": true,
    "tags": []
   },
   "source": [
    "<h3>Define a Function to Create a Map of the Study Area</h3>\n",
    "The following function creates a map of the SASSIE study area, which is defined by minimum and maximum lat/lon values. These ranges can be changed later when the function is called to zoom in/out on the study area."
   ]
  },
  {
   "cell_type": "code",
   "execution_count": null,
   "id": "8de4b716-5b46-4fb0-b5c5-9efe87ea3f12",
   "metadata": {},
   "outputs": [],
   "source": [
    "def map_study_area(latmin = 70, latmax =74,lonmin=-157,lonmax=-140):\n",
    "    \n",
    "    global fig \n",
    "    global ax\n",
    "    #create the map as a figure, set the lat and lon ranges, and add land + river data:\n",
    "    fig = plt.figure(figsize=(10,8))\n",
    "    ax = plt.axes(projection=cartopy.crs.NorthPolarStereo(central_longitude=-150))\n",
    "    ax.set_extent([lonmin,lonmax,latmin,latmax], crs=cartopy.crs.PlateCarree())\n",
    "    ax.coastlines(color='k')  \n",
    "    ax.add_feature(cartopy.feature.LAND, facecolor = '0.50',zorder=1)\n",
    "    ax.add_feature(cartopy.feature.RIVERS,facecolor='blue')\n",
    "    #Add lat and lon gridlines and labels:\n",
    "    gl = ax.gridlines(draw_labels=True, dms=True, x_inline=False, y_inline=False, alpha=0.3) #draw_labels=True gives lat labels.\n",
    "    gl.ylocator = matplotlib.ticker.FixedLocator(np.arange(60,75,1))\n",
    "    gl.xlocator = matplotlib.ticker.FixedLocator(np.arange(-170,-140,2))\n",
    "    gl.top_labels = False; gl.bottom_labels = True; gl.right_labels = False\n",
    "    \n",
    "    #Add markers for reference cities on the coast:\n",
    "    if (latmin<71.2906) & (lonmin<-156.7886):\n",
    "        utqiagvik = ax.scatter(-156.7886,71.2906,s=100,transform=cartopy.crs.PlateCarree(),c='red',marker = '*',label='Utqiagvik, AK',zorder=2)\n",
    "    if (latmin<70.2002) & (lonmax>-148.4597):\n",
    "        deadhorse = ax.scatter(-148.4597,70.2002,s=100,c='cyan',transform=cartopy.crs.PlateCarree(),marker = '*',label='Deadhorse, AK',zorder=2)\n",
    "        "
   ]
  },
  {
   "cell_type": "markdown",
   "id": "1b1a22d9-424a-412d-a889-dcdc13d88920",
   "metadata": {
    "jp-MarkdownHeadingCollapsed": true,
    "tags": []
   },
   "source": [
    "<h3>Define a Function to Create a 3D Grid of Latitude, Longitude, and Depth</h3>\n",
    "The following function creates a 3D grid for plotting 3 dimensional cast data from the castaway CTD. "
   ]
  },
  {
   "cell_type": "code",
   "execution_count": null,
   "id": "f59259ef-b8a0-41ea-90a8-0e0636a68270",
   "metadata": {},
   "outputs": [],
   "source": [
    "def make_3d_grid(latmin,latmax,lonmin,lonmax,dmin,dmax):    \n",
    "        global fig \n",
    "        global ax\n",
    "        \n",
    "        fig = plt.figure(figsize=(10,8))\n",
    "        ax = plt.axes(projection='3d',computed_zorder=False)\n",
    "        ax.xaxis.pane.fill = False; ax.yaxis.pane.fill = False; ax.zaxis.pane.fill = False    \n",
    "\n",
    "        ax.set_xlim(lonmin, lonmax); ax.set_ylim(latmin,latmax); ax.set_zlim(dmin,dmax);\n",
    "        ax.get_xaxis().get_major_formatter().set_useOffset(False)\n",
    "        xticks = list(np.linspace(lonmin,lonmax,4))\n",
    "        ax.set_xticks(np.around(xticks,2))\n",
    "        ax.set_xticklabels(np.around(xticks,2),rotation=30, ha='center',va='center', minor=False,size='small')\n",
    "\n",
    "        yticks = list(np.linspace(latmin,latmax,4))\n",
    "        ax.set_yticks(np.around(yticks,2))\n",
    "        ax.invert_yaxis()\n",
    "        ax.set_yticklabels(np.around(yticks,2),rotation=-15,va='bottom', minor=False,size='small')\n",
    "\n",
    "        zticks = list(np.linspace(dmin,dmax,4))\n",
    "        ax.set_zticks(np.around(zticks,2))\n",
    "        ax.set_zticklabels(np.around(zticks,2),ha='center',va='center', minor=False,size='small')\n",
    "\n",
    "        ax.set_xlabel('Longitude',fontsize=13,labelpad=10,fontweight='bold')\n",
    "        ax.set_ylabel('Latitude',fontsize=13,labelpad = 7,fontweight='bold')\n",
    "        ax.set_zlabel('Depth (m)',fontsize=13,labelpad = 16,fontweight='bold')\n",
    "        ax.view_init(195,280)\n",
    "        fig.canvas.draw()\n",
    "        plt.tight_layout()"
   ]
  },
  {
   "cell_type": "markdown",
   "id": "857b38a1-15ba-448d-bd3b-6c8f12de961b",
   "metadata": {
    "jp-MarkdownHeadingCollapsed": true,
    "tags": []
   },
   "source": [
    "<h3>Configure Supporting Data to Add to Maps</h3>\n",
    "<p>The functions for viewing and plotting this data set below have options to include bathymetr and/or shiptrack data to add context to maps. If you are using these options, run\n",
    "    <br>the following code blocks to:\n",
    "    <br>1. Create a directory for SASSIE Ship Track data and acess bathymetry data from NOAA\n",
    "    <br>2. Define functions that add these data to your map when called.</p>"
   ]
  },
  {
   "cell_type": "markdown",
   "id": "cefc9cdd-9288-4c31-81a0-d8c5f5b89761",
   "metadata": {
    "jp-MarkdownHeadingCollapsed": true,
    "tags": []
   },
   "source": [
    "<h4>Create Directory for and Download Shiptrack Data</h4>"
   ]
  },
  {
   "cell_type": "code",
   "execution_count": null,
   "id": "2974d77a-ba23-4d2a-b3d0-e67cb89e4545",
   "metadata": {
    "tags": []
   },
   "outputs": [],
   "source": [
    "## DIRECTORY TO SHIP TRACK DATA\n",
    "ship_dir =  'Data/TSG/' \n",
    "\n",
    "#DOWLOAD SHIPTRACK DATA\n",
    "if not os.path.isfile(ship_dir+'SASSIE_Fall_2022_Shipboard_TSG.nc'):\n",
    "    os.makedirs(ship_dir)\n",
    "    url = 'https://archive.podaac.earthdata.nasa.gov/podaac-ops-cumulus-protected/SASSIE_L2_SHIPBOARD_TSG_V1/SASSIE_Fall_2022_Shipboard_TSG.nc'\n",
    "    with requests.Session() as session:\n",
    "            session.auth = (username, password)\n",
    "            r1 = session.request('get', url)\n",
    "            r = session.get(r1.url, auth=(username, password))\n",
    "            if r.status_code == 200:\n",
    "                if r.ok:\n",
    "                    with open(ship_dir+'SASSIE_Fall_2022_Shipboard_TSG.nc', 'wb') as f:\n",
    "                        f.write(r.content) \n",
    "                        print('Saving Input File: ' + ship_dir+'SASSIE_Fall_2022_Shipboard_TSG.nc') \n",
    "            else:\n",
    "                print(\"Error:\", r.status_code)\n",
    "                if r.status_code == 401:\n",
    "                    print ('Your Username and/or password are incorrect. Please try again')\n",
    "else: \n",
    "    print('Shipboard TSG file is already in local directory')\n",
    "    "
   ]
  },
  {
   "cell_type": "markdown",
   "id": "2e7cbfc1-d1af-4265-b324-2699354cb7e4",
   "metadata": {
    "jp-MarkdownHeadingCollapsed": true,
    "tags": []
   },
   "source": [
    "<h4> Access Bathymetry Data</h4>"
   ]
  },
  {
   "cell_type": "code",
   "execution_count": null,
   "id": "469ba0fa-c231-4c61-9712-1000cebbfba4",
   "metadata": {
    "tags": []
   },
   "outputs": [],
   "source": [
    "#READ IN TOPOGRAPHY/BATHYMETRY DATA\n",
    "url = 'http://ferret.pmel.noaa.gov/thredds/dodsC/data/PMEL/etopo2.nc'\n",
    "etopodata = xr.open_dataset(url) "
   ]
  },
  {
   "cell_type": "markdown",
   "id": "5657e49c-6578-4abe-9bc7-cc24e424d6e0",
   "metadata": {
    "jp-MarkdownHeadingCollapsed": true,
    "tags": []
   },
   "source": [
    "<h4>Define a Function to Index Relevant Bathymetry Data and Add it to the Map</h4>\n",
    "This function will index bathymetry data from NOAA within the appropriate spatial range and add it to the map. \n"
   ]
  },
  {
   "cell_type": "code",
   "execution_count": null,
   "id": "d603c807-a065-419f-a9e2-e7eaf469dba4",
   "metadata": {},
   "outputs": [],
   "source": [
    "def add_bathy_data(latmin,latmax,lonmin,lonmax):\n",
    "        topoin = etopodata.rose.values[0:-1:5,1:-1:5]\n",
    "        lons = etopodata.etopo2_x.values[0:-1:5]\n",
    "        lats = etopodata.etopo2_y.values[0:-1:5]\n",
    "        lons_in_range = lons[np.where((lons >lonmin-1) & (lons<lonmax+1))]\n",
    "        lats_in_range = lats[np.where((lats >latmin-1) & (lats<latmax+1))]\n",
    "        topo_in_range = np.squeeze(topoin[np.squeeze(np.where((lats >latmin-1) & (lats<latmax+1))),:][:,np.where((lons >lonmin-1) & (lons<lonmax+1))])\n",
    "        [bathy_lon,bathy_lat] = np.meshgrid(lons_in_range,lats_in_range)\n",
    "        \n",
    "        bathy = ax.contour(bathy_lon,bathy_lat,topo_in_range,np.arange(-6000,-1000,300),transform=cartopy.crs.PlateCarree(),cmap='gray',alpha = 0.2,zorder = 0)"
   ]
  },
  {
   "cell_type": "markdown",
   "id": "b4d42404-6bee-4d4c-b69a-9f0d6a4d17b0",
   "metadata": {
    "jp-MarkdownHeadingCollapsed": true,
    "tags": []
   },
   "source": [
    "<h4>Define a Function to Add Shiptrack Data to a Map</h4>\n",
    "This function will pull the lat/lon data from the SASSIE Shipboard TSG file and put it onto a map o a 3D grid. "
   ]
  },
  {
   "cell_type": "code",
   "execution_count": null,
   "id": "b5d5b5bc-e324-4921-817a-bae45b653128",
   "metadata": {},
   "outputs": [],
   "source": [
    "def add_ship_track(mode,start_date,end_date):\n",
    "        ds_ship = xr.open_dataset(ship_dir+'SASSIE_Fall_2022_Shipboard_TSG.nc')\n",
    "        if mode == 'grid':\n",
    "            ds_ship = ds_ship.sel(time=slice(start_date,end_date))\n",
    "        ship_time = np.squeeze(ds_ship['time'])\n",
    "        ship_lat = np.squeeze(ds_ship['latitude'])\n",
    "        ship_lon = np.squeeze(ds_ship['longitude'])\n",
    "        if mode =='map':\n",
    "            track = ax.plot(ship_lon, \n",
    "                         ship_lat,linewidth = 0.5,\n",
    "                         c='black',\n",
    "                           transform=cartopy.crs.PlateCarree(),label = 'Ship Track',zorder=1)\n",
    "        if mode == 'grid':\n",
    "            track = ax.plot(ship_lon, \n",
    "                         ship_lat,\n",
    "                         c='black',label = 'Ship Track',zorder=1)"
   ]
  },
  {
   "cell_type": "markdown",
   "id": "802276fe-5fc4-425f-8025-43ef116d805a",
   "metadata": {
    "jp-MarkdownHeadingCollapsed": true,
    "tags": []
   },
   "source": [
    "# Figure Making Code "
   ]
  },
  {
   "cell_type": "markdown",
   "id": "a292b305-8ace-4939-a07a-080da25b5c5e",
   "metadata": {
    "jp-MarkdownHeadingCollapsed": true,
    "tags": []
   },
   "source": [
    "<h2>Make A Map of Cast Locations</h2>\n",
    "<p>Use the code in this section to plot the castaway CTD data on a map colored by time.  The code blocks in the 'supporting code' section should be run first. The user will need to input a local directory to save figures and ice data for these to work properly. </p>"
   ]
  },
  {
   "cell_type": "markdown",
   "id": "20ee03ed-6df6-417a-8718-ec6c970b06f6",
   "metadata": {
    "jp-MarkdownHeadingCollapsed": true,
    "tags": []
   },
   "source": [
    "<h3> Mapping the Time and Location of Castaway CTD Data Collection</h3>"
   ]
  },
  {
   "cell_type": "markdown",
   "id": "b096e2f5-994e-4308-8771-d5b066975a20",
   "metadata": {
    "jp-MarkdownHeadingCollapsed": true,
    "tags": []
   },
   "source": [
    "<p>The map_cCTD_deployments function shows the locations of Castaway CTD deployments throughout the campaign on a map, colored by time. Various features of this function: </p>\n",
    "    <p>1. The user has the option to specify a specific play to show on the map.The default play shown is '6', which gives time and location data from the entire campaign.\n",
    "    <br>2. This function adds bathymetry contours showing the position of the continental shelf by default for reference. \n",
    "    <br>3. The user has the option to add the AMSR ice product at the start and end of the time period shown by inputting ice_data=True. </p>"
   ]
  },
  {
   "cell_type": "code",
   "execution_count": null,
   "id": "c8d330be-64e0-4e6b-98f8-4f841cc381be",
   "metadata": {},
   "outputs": [],
   "source": [
    "#PLOT THE LOCATION OF THE CASTAWAY CTD CASTS ON THE SHIP TRACK \n",
    "def map_cCTD_deployments(ship_track=True, bathymetry_data=False):\n",
    " \n",
    "    #LOAD CASTAWAY CTD DATA\n",
    "    cCTD_time = np.squeeze(ds['time'])\n",
    "    cCTD_lat = np.squeeze(ds['latitude'])\n",
    "    cCTD_lon = np.squeeze(ds['longitude'])\n",
    "    \n",
    "    #Define the boundaries of the map:\n",
    "    latmin = 70\n",
    "    latmax =74\n",
    "    lonmin=-157\n",
    "    lonmax=-144\n",
    "    \n",
    "    #create the map:\n",
    "    map_study_area(latmin=latmin,latmax=latmax,lonmin=lonmin,lonmax=lonmax)\n",
    "    \n",
    "    #Add a title: \n",
    "    ax.set_title('Castaway CTD Deployment Locations',fontsize=22,pad=1) \n",
    "    \n",
    "    #add optional map add-ons:\n",
    "    if bathymetry_data == True: \n",
    "        add_bathy_data(latmin,latmax,lonmin,lonmax)   \n",
    "    if ship_track == True:\n",
    "        add_ship_track('map',play1_start,play5_end)\n",
    "     \n",
    "    #APPLY cCTD TIME AND LOCATION DATA\n",
    "    casts = ax.scatter(cCTD_lon,cCTD_lat,s = 10,\n",
    "                       c = cCTD_time,cmap = cmr.neon,\n",
    "                       transform=cartopy.crs.PlateCarree(),zorder=2,\n",
    "                      vmin=min(cCTD_time.values), vmax=max(cCTD_time.values)+np.timedelta64(10,'D'))\n",
    "    #Add a color bar:\n",
    "    cbar = fig.colorbar(casts, ax=ax, orientation=\"horizontal\", pad=0.1)\n",
    "    cbar.set_label(label='Date',size='large',weight='bold')\n",
    "    cbar_tick_array=(np.linspace(ds['time'].values[0].astype('int64'),ds['time'].values[-1].astype('int64')+8.64e+14,5))\n",
    "    cbar.set_ticks(cbar_tick_array)\n",
    "    cbar.set_ticklabels(pd.to_datetime(cbar_tick_array).date)\n",
    "        \n",
    "    #Add a legend:\n",
    "    plt.legend(loc=2)\n",
    "\n",
    "    ##SAVE FIGURE \n",
    "    if not os.path.exists(fig_dir+'deployment_map/'):\n",
    "        os.makedirs(fig_dir+'deployment_map/')\n",
    "    \n",
    "    print('Saving Output Image:  '+fig_dir+'deployment_map/cCTD_deployment_map.png')\n",
    "    plt.savefig(fig_dir+'deployment_map/cCTD_deployment_map.png',dpi='figure',format='png',bbox_inches='tight')\n",
    "    "
   ]
  },
  {
   "cell_type": "code",
   "execution_count": null,
   "id": "8f037be5-607e-41aa-a56f-c341672242a5",
   "metadata": {},
   "outputs": [],
   "source": [
    "map_cCTD_deployments()"
   ]
  },
  {
   "cell_type": "markdown",
   "id": "65e302cb-e929-4256-9a08-28b14850ee82",
   "metadata": {
    "jp-MarkdownHeadingCollapsed": true,
    "tags": []
   },
   "source": [
    "<h2>Three Dimensional Representation of Vertical Profile Data</h2>\n",
    "Use the code in this section to plot the Castaway CTD profile locations and depths on a 3D grid, colored by a physical measurement variable from the file (temperature, salinity, density, etc.)"
   ]
  },
  {
   "cell_type": "code",
   "execution_count": null,
   "id": "04e964e0-c41b-4cb2-a6ab-dc32bd729548",
   "metadata": {},
   "outputs": [],
   "source": [
    "##USE TO PLOT THE PROFILES TAKEN WITHIN A DATE RANGE \n",
    "def cCTD_profiles(start_date,end_date,var,ship_track=True):\n",
    "\n",
    "    #LOAD CASTAWAY CTD DATA\n",
    "    selected_casts = ds.sel(time=slice(start_date,end_date))\n",
    "    CTD_lat = selected_casts['latitude']\n",
    "    CTD_lon = selected_casts['longitude']\n",
    "    CTD_depth = selected_casts['depth']\n",
    "    CTD_var = selected_casts[var]\n",
    "\n",
    "    #put lat, lon, and depth in 2D format:\n",
    "    [lat,depth] = np.meshgrid(CTD_lat,CTD_depth)\n",
    "    [lon,depth] = np.meshgrid(CTD_lon,CTD_depth)\n",
    "\n",
    "    #define colormap and label for variable of choice:\n",
    "    colormap,var_label = define_variable_attributes(var)\n",
    "\n",
    "    #define latitude and longitude ranges for the 3D grid. \n",
    "    latmin = min(CTD_lat.values)\n",
    "    latmax = max(CTD_lat.values)\n",
    "    lonmin = min(CTD_lon.values)\n",
    "    lonmax = max(CTD_lon.values)\n",
    "    pmin = min(CTD_depth.values)\n",
    "    pmax = max(CTD_depth.values)+0.5\n",
    "\n",
    "    #make the 3d grid for plotting: \n",
    "    make_3d_grid(latmin,latmax,lonmin,lonmax,pmin,pmax)\n",
    "\n",
    "    #add a title to the grid:\n",
    "    ax.set_title('Castaway CTD'+' '+var_label+' '+'Readings from'+' '+str(start_date.year)+'/'+str(start_date.month).zfill(2)+'/'+str(start_date.day).zfill(2)+' '+str(start_date.hour).zfill(2)+':'+str(start_date.minute).zfill(2)+' to '+str(end_date.year)+'/'+str(end_date.month).zfill(2)+'/'+str(end_date.day).zfill(2)+' '+str(end_date.hour).zfill(2)+':'+str(end_date.minute).zfill(2),fontsize=15,pad=None)\n",
    "\n",
    "    #Add the ship track to show the path of the casting:\n",
    "    if ship_track==True:\n",
    "        add_ship_track('grid',start_date,end_date)\n",
    "\n",
    "    ##APPLY CTD DATA   \n",
    "    a = ax.scatter(lon,lat,depth,c=(CTD_var.values),cmap = colormap,s=2,zorder=1) \n",
    "    #add a colorbar \n",
    "    fig.colorbar(a,label = var_label)\n",
    "\n",
    "    ## SAVE THE FIGURE\n",
    "    if not os.path.exists(fig_dir+var+'/'):\n",
    "        os.makedirs(fig_dir+var+'/')\n",
    "\n",
    "    print('Saving Output Image:  '+fig_dir+var+'/'+'cCTD'+var+str(start_date.year)+str(start_date.month).zfill(2)+str(start_date.day).zfill(2)+str(start_date.hour).zfill(2)+str(start_date.minute).zfill(2)+'_'+str(end_date.year)+str(end_date.month).zfill(2)+str(end_date.day).zfill(2)+str(end_date.hour).zfill(2)+str(end_date.minute).zfill(2)+'.png')\n",
    "    plt.savefig(fig_dir+var+'/'+'cCTD'+var+str(start_date.year)+str(start_date.month).zfill(2)+str(start_date.day).zfill(2)+str(start_date.hour).zfill(2)+str(start_date.minute).zfill(2)+'_'+str(end_date.year)+str(end_date.month).zfill(2)+str(end_date.day).zfill(2)+str(end_date.hour).zfill(2)+str(end_date.minute).zfill(2)+'.png',dpi='figure',format='png',bbox_inches='tight')\n",
    "    #except: \n",
    "     #   print('There are no Castaway CTD profiles from ' + str(start_date.year)+'/'+str(start_date.month).zfill(2)+'/'+str(start_date.day).zfill(2)+' '+str(start_date.hour).zfill(2)+':'+str(start_date.minute).zfill(2)+' to '+str(end_date.year)+'/'+str(end_date.month).zfill(2)+'/'+str(end_date.day).zfill(2)+' '+str(end_date.hour).zfill(2)+':'+str(end_date.minute).zfill(2))\n",
    "              \n",
    "              \n",
    "              "
   ]
  },
  {
   "cell_type": "code",
   "execution_count": null,
   "id": "58f4bb09-c7dc-426b-9e27-8894792f950a",
   "metadata": {},
   "outputs": [],
   "source": [
    "cCTD_profiles(play2_start,play2_end,'temperature')\n",
    "cCTD_profiles(play2_start,play2_end,'salinity')"
   ]
  },
  {
   "cell_type": "markdown",
   "id": "17e767f4-b7c1-4cf6-a881-f189d8e49dd2",
   "metadata": {
    "jp-MarkdownHeadingCollapsed": true,
    "tags": []
   },
   "source": [
    "<h2>Two Dimensional Representation of Vertical Profile Data</h2>\n",
    "Use the code in this section to plot the castaway CTD profiles on a 2D time-depth axis, colored by a physical measurement variable from the file (temperature, salinity, density, etc.)"
   ]
  },
  {
   "cell_type": "code",
   "execution_count": null,
   "id": "20b59996-08a0-46ef-87e3-864165e5d701",
   "metadata": {},
   "outputs": [],
   "source": [
    "##MAKES A 2D PLOT OF THE CTD VARIABLES ON TIME-DEPTH AXIS (NO INTERPOLATION OF LAT/LON)\n",
    "def plot_cCTD_2D(start_time,end_time,var,var_min,var_max):\n",
    "   \n",
    "    #Cut the cCTD data set down to the specified time range:\n",
    "    ds_limited = ds.sel(time=slice(start_time,end_time))\n",
    "    \n",
    "    #load the cCTD data within this time range\n",
    "    cCTD_time = ds_limited['time'].values\n",
    "    cCTD_depth = ds_limited['depth'].values\n",
    "    cCTD_var = ds_limited[var].values\n",
    "    \n",
    "    #put time and depth into a 2D format\n",
    "    [time,depth] = np.meshgrid(cCTD_time,cCTD_depth)\n",
    "    \n",
    "    ##SET UP THE 2D PLOT \n",
    "    colormap,var_label = define_variable_attributes(var)\n",
    "\n",
    "    dmin = min(cCTD_depth)\n",
    "    dmax = max(cCTD_depth)\n",
    "    tmin = min(cCTD_time)\n",
    "    tmax = max(cCTD_time)\n",
    "                  \n",
    "    fig = plt.figure(figsize=(10,4))\n",
    "    \n",
    "    plt.title('Castaway CTD'+' '+var_label+' '+'Readings \\nfrom '+str(start_time.year)+'/'+str(start_time.month).zfill(2)+'/'+str(start_time.day).zfill(2)+' to '+str(end_time.year)+'/'+str(end_time.month).zfill(2)+'/'+str(end_time.day).zfill(2),fontsize=15,pad=None)\n",
    "\n",
    "    plt.xlim(tmin, tmax); plt.ylim(dmin,100);\n",
    "    total_timedelta = tmax-tmin\n",
    "    third_of_timedelta = total_timedelta/3\n",
    "    plt.xticks([tmin,tmin+third_of_timedelta, tmin+ 2*third_of_timedelta, tmax])\n",
    "    ytick = list(np.arange(0,100,15))\n",
    "    plt.yticks(np.around(ytick,2))\n",
    "    plt.xlabel('Date',fontsize=16)\n",
    "    plt.ylabel('Depth(m)',fontsize=16)\n",
    "    plt.gca().invert_yaxis()\n",
    "        \n",
    "    ##APPLY THE CTD DATA\n",
    "    ax = plt.scatter(time,depth,s=1,c=cCTD_var,cmap=colormap,vmin = var_min,vmax=var_max)\n",
    "    \n",
    "    #add a colorbar\n",
    "    fig.colorbar(ax).set_label(label = var_label,size=15,weight='bold')\n",
    "\n",
    "    ##SAVE THE FIGURE:\n",
    "    if not os.path.exists(fig_dir+var+'/2d/'):\n",
    "        os.makedirs(fig_dir+var+'/2d/')\n",
    "    \n",
    "    print('Saving Output Image:  '+fig_dir+var+'/2d/'+'cCTD_'+var+'_'+str(start_time.year)+str(start_time.month).zfill(2)+str(start_time.day).zfill(2)+str(start_time.hour).zfill(2)+str(start_time.minute).zfill(2)+'_'+str(end_time.year)+str(end_time.month).zfill(2)+str(end_time.day).zfill(2)+str(end_time.hour).zfill(2)+str(end_time.minute).zfill(2)+'.png')\n",
    "    plt.savefig(fig_dir+var+'/2d/'+'cCTD_'+var+'_'+str(start_time.year)+str(start_time.month).zfill(2)+str(start_time.day).zfill(2)+str(start_time.hour).zfill(2)+str(start_time.minute).zfill(2)+'_'+str(end_time.year)+str(end_time.month).zfill(2)+str(end_time.day).zfill(2)+str(end_time.hour).zfill(2)+str(end_time.minute).zfill(2)+'.png',dpi='figure',format='png',bbox_inches='tight')\n",
    "    "
   ]
  },
  {
   "cell_type": "code",
   "execution_count": null,
   "id": "d109b0c6-1a93-4bd4-ab41-bdbe5b84db17",
   "metadata": {},
   "outputs": [],
   "source": [
    "plot_cCTD_2D(play1_start,play5_end,'temperature',-1,4)\n",
    "plot_cCTD_2D(play1_start,play5_end,'salinity',23,33)\n"
   ]
  },
  {
   "cell_type": "markdown",
   "id": "e21884c1-0c02-4730-841d-6f4334e723c2",
   "metadata": {
    "jp-MarkdownHeadingCollapsed": true,
    "tags": []
   },
   "source": [
    "<h2>Plots of Individual Casts by Cast Number</h2>\n",
    "use this code to make polts of individual castway CTD casts. The temperature, salinity, and density profiles can be plotted on 3 seperate subplots using 'plot_cCTD_cast_profile_subplots' or temperature and salnity can be put on the same set of axis with 'plot_cCTD_cast_profile_sameplot'"
   ]
  },
  {
   "cell_type": "code",
   "execution_count": null,
   "id": "bede0b2a-56bb-4b2f-9589-2e12172a8feb",
   "metadata": {
    "tags": []
   },
   "outputs": [],
   "source": [
    "##USE TO PLOT AN INDIVIDUAL CAST BY CAST NUMBER (SEPERATE AXIS)\n",
    "def plot_cCTD_cast_profile_subplots(cast_number):\n",
    "    \n",
    "    #LOAD cCTD DATA \n",
    "    cCTD_sal = np.squeeze(ds['salinity'].values[:,cast_number])\n",
    "    cCTD_temp = np.squeeze(ds['temperature'].values[:,cast_number])\n",
    "    cCTD_dens = np.squeeze(ds['density'].values[:,cast_number])\n",
    "    cCTD_depth = np.squeeze(ds['depth'].values)\n",
    "    cCTD_time = np.squeeze(ds['time'].values[cast_number]).astype('int64')\n",
    "    \n",
    "    ## PLOT THE DATA\n",
    "    fig,axs = plt.subplots(1,3,sharey=True)\n",
    "    axs[0].plot(cCTD_temp,cCTD_depth,linewidth=0.4,c='black')\n",
    "    axs[0].invert_yaxis()\n",
    "    #axs[0].set_title('Water Temperature ($^{\\circ}$C)')\n",
    "    axs[0].set_xlabel('Temperature ($^{\\circ}$C)')\n",
    "    axs[0].set_ylabel('Depth (m)')\n",
    "    axs[1].plot(cCTD_sal,cCTD_depth,linewidth=0.4,c='black')\n",
    "    #axs[1].set_title('Salinity')\n",
    "    axs[1].set_xlabel('Salinity')\n",
    "    axs[2].plot(cCTD_dens,cCTD_depth,linewidth=0.4,c='black')\n",
    "    axs[2].set_xlabel('Density (kg m-3)')\n",
    "    fig.suptitle('cCTD Profiles from Cast '+str(cast_number)+' on '+str(pd.to_datetime(cCTD_time).year).zfill(2)+'/'+str(pd.to_datetime(cCTD_time).month).zfill(2)+'/'+str(pd.to_datetime(cCTD_time).day).zfill(2)+' at '+str(pd.to_datetime(cCTD_time).hour).zfill(2)+':'+str(pd.to_datetime(cCTD_time).minute).zfill(2)+':'+str(pd.to_datetime(cCTD_time).second).zfill(2))\n",
    "    \n",
    "    ## SAVE THE FIGURE\n",
    "    if not os.path.exists(fig_dir+'profiles/'):\n",
    "        os.makedirs(fig_dir+'profiles/')\n",
    "    print('Saving Output Image:  '+fig_dir+'profiles/'+'cCTD_profile'+str(cast_number)+'_'+str(pd.to_datetime(cCTD_time).year)+str(pd.to_datetime(cCTD_time).month).zfill(2)+str(pd.to_datetime(cCTD_time).day).zfill(2)+str(pd.to_datetime(cCTD_time).hour).zfill(2)+str(pd.to_datetime(cCTD_time).minute).zfill(2)+str(pd.to_datetime(cCTD_time).second).zfill(2)+'.png')\n",
    "    plt.savefig(fig_dir+'profiles/'+'cCTD_profile'+str(cast_number)+'_'+str(pd.to_datetime(cCTD_time).year)+str(pd.to_datetime(cCTD_time).month).zfill(2)+str(pd.to_datetime(cCTD_time).day).zfill(2)+str(pd.to_datetime(cCTD_time).hour).zfill(2)+str(pd.to_datetime(cCTD_time).minute).zfill(2)+str(pd.to_datetime(cCTD_time).second).zfill(2)+'.png',dpi='figure',format='png',bbox_inches='tight')\n"
   ]
  },
  {
   "cell_type": "code",
   "execution_count": null,
   "id": "fddd960d-98fc-47ae-a184-8507af36f375",
   "metadata": {},
   "outputs": [],
   "source": [
    "plot_cCTD_cast_profile_subplots(100)"
   ]
  },
  {
   "cell_type": "code",
   "execution_count": null,
   "id": "5327ec4a-7696-4efb-bfbf-cd36f041d80f",
   "metadata": {
    "tags": []
   },
   "outputs": [],
   "source": [
    "##USE TO PLOT AN INDIVIDUAL CAST BY CAST NUMBER (SAME AXIS)\n",
    "def plot_cCTD_cast_profile_sameplot(cast_number):\n",
    "    \n",
    "    #LOAD cCTD DATA \n",
    "    cCTD_sal = np.squeeze(ds['salinity'].values[:,cast_number])\n",
    "    cCTD_temp = np.squeeze(ds['temperature'].values[:,cast_number])\n",
    "    cCTD_dens = np.squeeze(ds['density'].values[:,cast_number])\n",
    "    cCTD_depth = np.squeeze(ds['depth'].values)\n",
    "    cCTD_time = np.squeeze(ds['time'].values[cast_number]).astype('int64')\n",
    "    cCTD_lat = np.squeeze(ds['latitude'].values[cast_number])\n",
    "    cCTD_lon = np.squeeze(ds['longitude'].values[cast_number])\n",
    "    \n",
    "    ## PLOT THE DATA\n",
    "    fig,ax1 = plt.subplots()\n",
    "    ax2 = ax1.twiny()\n",
    "    ax1.plot(cCTD_temp,cCTD_depth,linewidth=0.4,c='blue')\n",
    "    ax1.set_xlabel('Temperature ($^{\\circ}$C)',color = 'blue')\n",
    "    ax1.set_ylabel('Depth (m)')\n",
    "    ytick_array = np.arange(0,100,20)\n",
    "    ax1.set_ylim(0,100)\n",
    "    ax1.set_yticks(ytick_array)\n",
    "    ax1.invert_yaxis()\n",
    "    ax2.plot(cCTD_sal,cCTD_depth,linewidth=0.4,c='red')\n",
    "    ax2.set_xlabel('Salinity',color ='red')    \n",
    "    fig.suptitle('cCTD Profiles from Cast '+str(cast_number)+' at ' +str(np.around(cCTD_lat,decimals=2))+'$^{\\circ}$N, '+str(np.around(cCTD_lon,decimals=2))+'$^{\\circ}$E \\n on '+str(pd.to_datetime(cCTD_time).year).zfill(2)+'/'+str(pd.to_datetime(cCTD_time).month).zfill(2)+'/'+str(pd.to_datetime(cCTD_time).day).zfill(2)+' at '+str(pd.to_datetime(cCTD_time).hour).zfill(2)+':'+str(pd.to_datetime(cCTD_time).minute).zfill(2)+':'+str(pd.to_datetime(cCTD_time).second).zfill(2),y=1.05)\n",
    "    \n",
    "    ## SAVE THE FIGURE\n",
    "    if not os.path.exists(fig_dir+'profiles/'):\n",
    "        os.makedirs(fig_dir+'profiles/')\n",
    "    print('Saving Output Image:  '+fig_dir+'profiles/'+'cCTD_profile'+str(cast_number)+'_'+str(pd.to_datetime(cCTD_time).year)+str(pd.to_datetime(cCTD_time).month).zfill(2)+str(pd.to_datetime(cCTD_time).day).zfill(2)+str(pd.to_datetime(cCTD_time).hour).zfill(2)+str(pd.to_datetime(cCTD_time).minute).zfill(2)+str(pd.to_datetime(cCTD_time).second).zfill(2)+'.png')\n",
    "    plt.savefig(fig_dir+'profiles/'+'cCTD_profile'+str(cast_number)+'_'+str(pd.to_datetime(cCTD_time).year)+str(pd.to_datetime(cCTD_time).month).zfill(2)+str(pd.to_datetime(cCTD_time).day).zfill(2)+str(pd.to_datetime(cCTD_time).hour).zfill(2)+str(pd.to_datetime(cCTD_time).minute).zfill(2)+str(pd.to_datetime(cCTD_time).second).zfill(2)+'.png',dpi='figure',format='png',bbox_inches='tight')\n"
   ]
  },
  {
   "cell_type": "code",
   "execution_count": null,
   "id": "6a33d494-39c7-48f8-8c20-ae7b7214f98a",
   "metadata": {},
   "outputs": [],
   "source": [
    "plot_cCTD_cast_profile_sameplot(100)"
   ]
  },
  {
   "cell_type": "markdown",
   "id": "79455fe9-cb4f-43c2-8aa4-d92ef053b61c",
   "metadata": {
    "jp-MarkdownHeadingCollapsed": true,
    "tags": []
   },
   "source": [
    "<h2> T-S Diagram of Castaway CTD Data in a Specific Time Range</h2>\n",
    "Use this code to make temperture-salinity (T-S) diagrams of all of the castaway CTD data within a given time range, colored by a coordinate variable (lat,lon,time, depth)"
   ]
  },
  {
   "cell_type": "code",
   "execution_count": null,
   "id": "31ab5b93-e83b-432b-8427-8c92651533f1",
   "metadata": {},
   "outputs": [],
   "source": [
    "def plot_T_S_diagram(start_time,end_time,var):\n",
    "    \n",
    "    ##PULL OUT THE DATA WITHIN THE START AND END TIME RANGE\n",
    "    ds_limited = ds.sel(time=slice(start_time,end_time))\n",
    "    cCTD_temp = ds_limited['temperature'].values\n",
    "    cCTD_depth = ds_limited['depth'].values\n",
    "    cCTD_sal = ds_limited['salinity'].values\n",
    "    cCTD_var = ds_limited[var].values\n",
    "    cCTD_time = ds_limited['time'].values   \n",
    "    if var !='pressure':\n",
    "        [depth,var_values] = np.meshgrid(cCTD_depth,cCTD_var)\n",
    "    else: \n",
    "        var_values = cCTD_var\n",
    "                \n",
    "    ##SET UP THE 2D PLOT\n",
    "    colormap,var_label = define_variable_attributes(var)\n",
    "\n",
    "    fig = plt.figure(figsize=(10,4))\n",
    "    plt.title('Temperature-Salinity Diagram of Castaway CTD Data')\n",
    "    \n",
    "    if var=='pressure':\n",
    "        ax = plt.scatter(cCTD_sal,cCTD_temp,s=1,c=var_values,cmap=colormap,vmin=0,vmax=100)\n",
    "    else:\n",
    "        ax = plt.scatter(cCTD_sal,cCTD_temp,s=1,c=var_values,cmap=colormap,vmin=cCTD_var.min(),vmax=cCTD_var.max())\n",
    "    plt.xlim((23,32))\n",
    "    plt.xlabel('Salinity',fontsize=16)\n",
    "    plt.ylabel('Temperature ($^{\\circ}$C)',fontsize=16)\n",
    "    \n",
    "    ##SET UP COLORBAR\n",
    "    if (var == 'time'): \n",
    "        cbar = fig.colorbar(ax, orientation=\"vertical\", pad=0.1)\n",
    "        cbar.set_label(label=var_label,size='large',weight='bold')\n",
    "        cbar_tick_array=(np.linspace(ds[var].values[0].astype('int64'),ds[var].values[-1].astype('int64'),5))\n",
    "        cbar.set_ticks(cbar_tick_array)\n",
    "        cbar.set_ticklabels(pd.to_datetime(cbar_tick_array).date)\n",
    "    else:\n",
    "        fig.colorbar(ax).set_label(label = var_label,size=15,weight='bold')\n",
    "\n",
    "    ##SAVE THE FIGURE\n",
    "    if not os.path.exists(fig_dir+'t_s/'):\n",
    "        os.makedirs(fig_dir+'t_s/')\n",
    "    print('Saving Output Image:  '+fig_dir+'t_s/T_S_Diagram_'+var+'.png')\n",
    "    plt.savefig(fig_dir+'t_s/T_S_Diagram_'+var+'.png',dpi='figure',format='png',bbox_inches='tight')\n"
   ]
  },
  {
   "cell_type": "code",
   "execution_count": null,
   "id": "1e76b57f-d81f-48cb-b99c-81427ae5b0b5",
   "metadata": {},
   "outputs": [],
   "source": [
    "plot_T_S_diagram(play1_start,play5_end,'pressure')\n",
    "plot_T_S_diagram(play1_start,play5_end,'latitude')"
   ]
  },
  {
   "cell_type": "code",
   "execution_count": null,
   "id": "42f1541f-5dcf-4aeb-8270-a8c61a15d6e0",
   "metadata": {},
   "outputs": [],
   "source": []
  }
 ],
 "metadata": {
  "kernelspec": {
   "display_name": "Python 3 (ipykernel)",
   "language": "python",
   "name": "python3"
  },
  "language_info": {
   "codemirror_mode": {
    "name": "ipython",
    "version": 3
   },
   "file_extension": ".py",
   "mimetype": "text/x-python",
   "name": "python",
   "nbconvert_exporter": "python",
   "pygments_lexer": "ipython3",
   "version": "3.9.16"
  },
  "toc-showcode": true
 },
 "nbformat": 4,
 "nbformat_minor": 5
}
