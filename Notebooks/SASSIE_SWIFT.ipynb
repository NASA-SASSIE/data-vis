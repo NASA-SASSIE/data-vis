{
 "cells": [
  {
   "cell_type": "markdown",
   "id": "82d420aa-262d-4d23-b5b3-99a127a64af7",
   "metadata": {
    "jp-MarkdownHeadingCollapsed": true,
    "tags": []
   },
   "source": [
    "<h1>SASSIE SWIFT Data Use and Visualization</h1>\n",
    "<p> SWIFTs are drifting platforms that take temperature, salinity, meteorological, and wave action measurements as they drift. SWIFT data are downloaded and plotted using the code below! <b>Please run the 'Data Download and Metadata Viewing' and 'Supporting Code' sections in order before running the 'Figure Making Code'.</b> </p>\n",
    "   <p>The aim of this notebook is to assist the end user in exploratory data analysis by downloading the SASSIE data from NASA's PODAAC, opening the dataset and displaying it's associated metadata, and creating a few visualizations. This notebook was created by Elizabeth Westbrook. For questions and trouble shooting, please email westbrooke@uncw.edu.</p>"
   ]
  },
  {
   "cell_type": "markdown",
   "id": "50508078-3a54-4767-a23f-1600109a8045",
   "metadata": {
    "jp-MarkdownHeadingCollapsed": true,
    "tags": []
   },
   "source": [
    "# Credential Entry\n",
    "In this section, you shoud enter your EarthData username and password. <b> DO NOT enter usernames and passwords here which are sensitive.</b> If you do not already have an EarthData account, you can create one <a href=\"https://urs.earthdata.nasa.gov/\">here</a> . </p>\n",
    "    <p>Please enter your EarthData credentials below: </p>"
   ]
  },
  {
   "cell_type": "code",
   "execution_count": null,
   "id": "aa0fee2c-9576-4e7f-8230-4379992c8c45",
   "metadata": {},
   "outputs": [],
   "source": [
    "#Enter Earthdata Credentials: \n",
    "username = 'your_username'\n",
    "password = 'your_password'"
   ]
  },
  {
   "cell_type": "markdown",
   "id": "55236303-e399-4c61-b4ed-3515be8b0e80",
   "metadata": {
    "jp-MarkdownHeadingCollapsed": true,
    "tags": []
   },
   "source": [
    "# Data Download and Metadata Viewing\n",
    "\n",
    "The code in this section will download the dataset from PO.DAAC and open it as an xarray object for metadata and variable attribute viewing."
   ]
  },
  {
   "cell_type": "code",
   "execution_count": null,
   "id": "94a09c81-61ab-40bd-85ce-12be4d81b645",
   "metadata": {
    "tags": []
   },
   "outputs": [],
   "source": [
    "import numpy as np\n",
    "import xarray as xr\n",
    "import cf_xarray \n",
    "import glob \n",
    "from datetime import datetime, timedelta \n",
    "import matplotlib.pyplot as plt\n",
    "import cartopy\n",
    "import matplotlib\n",
    "import os\n",
    "import sys\n",
    "import pandas as pd\n",
    "import requests \n",
    "import cmasher as cmr"
   ]
  },
  {
   "cell_type": "markdown",
   "id": "07a4e3cc-c413-4a16-8c4e-c7e9a04a8a15",
   "metadata": {
    "jp-MarkdownHeadingCollapsed": true,
    "tags": []
   },
   "source": [
    "<h2>Download The SWIFT data from PO.DAAC</h2>\n",
    "<p> All data from the SASSIE campaign is stored on NASA's PO.DAAC. The code in this section of the notebook will download SASSIE SWIFT data from PO.DAAC, which is accessed through EarthData. "
   ]
  },
  {
   "cell_type": "code",
   "execution_count": null,
   "id": "2efb07e9-7403-41e4-94e3-63a59801c87f",
   "metadata": {},
   "outputs": [],
   "source": [
    "##LOCAL DIRECTORY TO SWIFT DATA\n",
    "dir_in = 'Data/SWIFT/' "
   ]
  },
  {
   "cell_type": "markdown",
   "id": "e125dcaa-10d8-4509-9a44-c042f966ca80",
   "metadata": {},
   "source": [
    "The next block of code creates the directory specified above and downloads the SWIFT files to your binder session if they have not already been downloaded.<b> To download the dataset to your local disk from here, right click on the file you want to download and click 'download'. </b>"
   ]
  },
  {
   "cell_type": "code",
   "execution_count": null,
   "id": "760c1469-b606-4735-932c-5ec3127054fe",
   "metadata": {
    "tags": []
   },
   "outputs": [],
   "source": [
    "##SASSIE DATA DIR\n",
    "if not os.path.exists(dir_in):\n",
    "    os.makedirs(dir_in)\n",
    "deployment_id = ['12_play1','12_play4','12_play5','13_play1','15_play1','15_play4','15_play5','16_play1','16_play3a','16_play3b','16_play4','16_play5','17_play1','17_play3a','17_play3b','17_play4','17_play5']\n",
    "for ID in deployment_id:\n",
    "    filename = 'SASSIE_Fall_2022_SWIFT'+ID+'.nc'\n",
    "    if os.path.isfile(dir_in+filename)==False:\n",
    "        url = 'https://archive.podaac.earthdata.nasa.gov/podaac-ops-cumulus-protected/SASSIE_L2_SWIFT_V1/'+filename\n",
    "        with requests.Session() as session:\n",
    "                session.auth = (username, password)\n",
    "                r1 = session.request('get', url)\n",
    "                r = session.get(r1.url, auth=(username, password))\n",
    "                if r.status_code == 200:\n",
    "                    if r.ok:\n",
    "                        with open(dir_in+filename, 'wb') as f:\n",
    "                            f.write(r.content) \n",
    "                            print('Saving Input File: ' + dir_in+filename) \n",
    "                else:\n",
    "                    print(\"Error:\", r.status_code)\n",
    "                    if r.status_code == 401:\n",
    "                        print ('Your Username and/or password are incorrect. Please try again')\n",
    "    else: \n",
    "        print('SWIFT Deployment '+ ID+' file is already in binder directory')\n",
    "        \n"
   ]
  },
  {
   "cell_type": "markdown",
   "id": "5c358c18-807f-499d-8a24-11e37fd20676",
   "metadata": {
    "jp-MarkdownHeadingCollapsed": true,
    "tags": []
   },
   "source": [
    "<h2> View The Metadata Inside the SWIFT Files</h2>\n",
    "\n",
    "The netCDF file has global metadata attributes and attributes associated with each variable. This next block will load data and metadata of the netCDF file into an xarray object (ds). <br> The data set will then be displayed in a clickable HTML format. "
   ]
  },
  {
   "cell_type": "code",
   "execution_count": null,
   "id": "580ed575-d508-4aa2-bf08-bc5f51c31b95",
   "metadata": {},
   "outputs": [],
   "source": [
    "print('Displaying just 1/17 SWIFT files')\n",
    "#See information about the entire dataset:\n",
    "files = sorted(glob.glob(dir_in + '/*.nc'))\n",
    "ds = xr.open_dataset(files[0])\n",
    "ds"
   ]
  },
  {
   "cell_type": "markdown",
   "id": "6d0fca30-e252-4375-a694-e3220bb792f5",
   "metadata": {
    "jp-MarkdownHeadingCollapsed": true,
    "tags": []
   },
   "source": [
    "# Supporting Code \n",
    "The code in this section provides a set up for the figure making code below by defining directories for data and figures and creating functions that will be called to actually map the data"
   ]
  },
  {
   "cell_type": "markdown",
   "id": "c5c9ca73-d5bc-46dc-b890-5f27c6e3b98b",
   "metadata": {
    "jp-MarkdownHeadingCollapsed": true,
    "tags": []
   },
   "source": [
    "<h3>Create a Directory to Save Figures</h3>"
   ]
  },
  {
   "cell_type": "code",
   "execution_count": null,
   "id": "b0d439a4-b5c3-4b66-8cb9-8a978faa009e",
   "metadata": {
    "tags": []
   },
   "outputs": [],
   "source": [
    "#LOCAL DIRECTORY TO SAVE FIGURES\n",
    "fig_dir ='Figures/SWIFT/'\n",
    "#FIGURE DIR \n",
    "if not os.path.exists(fig_dir):\n",
    "    os.makedirs(fig_dir)"
   ]
  },
  {
   "cell_type": "markdown",
   "id": "81cbc500-b4f6-4277-9e1b-b1e4a262c520",
   "metadata": {
    "jp-MarkdownHeadingCollapsed": true,
    "tags": []
   },
   "source": [
    "<h3>Are you exploring this entire data set, or just the data collected durring a specific time period?</h3>\n",
    "\n",
    "<p> In order to efficiently accomplish the data collection goals of the SASSIE campaign, the cruise was broken up into five destinct plays. \n",
    "    <br>\n",
    "    <br>Play 1 - Ice and Open Water Survey\n",
    "    <br>Play 2 - Zig-Zag Open Water Survey \n",
    "    <br>Play 3 - Ice Survey\n",
    "    <br>Play 4 - Drifter-Following Survey Boxes\n",
    "    <br>Play 5 - Repeated Ice to Open Water Transect</p>\n",
    "    <p>The following block of code identifies the start and end datetimes of each of these plays, seperates the dataset into subsets for each play, and puts the start dates, end dates, and subseted data into lists for easier acess later. </p>"
   ]
  },
  {
   "cell_type": "code",
   "execution_count": null,
   "id": "9fcfaa56-4587-4f7a-8534-ee7b4be833f6",
   "metadata": {},
   "outputs": [],
   "source": [
    "##Identify the start and end times of each play\n",
    "play1_start = datetime(2022,9,8,8) \n",
    "play1_end = datetime(2022,9,13)\n",
    "play2_start = datetime(2022,9,14)\n",
    "play2_end = datetime(2022,9,16)\n",
    "play3_start = datetime(2022,9,16)\n",
    "play3_end = datetime(2022,9,18)\n",
    "play4_start = datetime(2022,9,19)\n",
    "play4_end  = datetime(2022,9,23)\n",
    "play5_start = datetime(2022,9,25)\n",
    "play5_end = datetime(2022,9,29)"
   ]
  },
  {
   "cell_type": "markdown",
   "id": "931ad9b0-4771-49c2-9c4f-fcafb5d2b032",
   "metadata": {
    "jp-MarkdownHeadingCollapsed": true,
    "tags": []
   },
   "source": [
    "<h3>Define a Colormap and Label for Each Variable in the File</h3>\n",
    "Within SASSIE's collection of jupyter notebooks, the colormaps used for each variable are held as consistant as possible across all datasets. This function defines the colormap and a label for the variable of interest. "
   ]
  },
  {
   "cell_type": "code",
   "execution_count": null,
   "id": "202f286a-30bc-4078-84db-a3c8cd02d9de",
   "metadata": {
    "tags": []
   },
   "outputs": [],
   "source": [
    "#DEFINES COLORMAPS AND LABELS OF EACH VARIABLE IN THIS DATA SET###\n",
    "def define_var_attributes(var): \n",
    "    if var == 'wave_energy':\n",
    "        var_label = 'Wave Energy (m$^{2}$/Hz)'\n",
    "        colormap = 'spring'\n",
    "    if var == 'spectral_directional_moment_east':\n",
    "        var_label = 'Eastern Spectral Directional Moment (m$^{2}$/Hz)'\n",
    "        colormap = 'PiYG'\n",
    "    if var == 'spectral_directional_moment_north': \n",
    "        colormap = 'BrBG'\n",
    "        var_label = 'Northern Spectral Directional Moment (m$^{2}$/Hz)'\n",
    "    if var == 'spectral_directional_moment_east_west': \n",
    "        colormap = 'PRGn'\n",
    "        var_label = 'East-West Spectral Directional Moment (m$^{2}$/Hz)'\n",
    "    if var == 'spectral_directional_moment_north_south': \n",
    "        colormap = 'PuOr'\n",
    "        var_label = 'North-South Spectral Directional Moment (m$^{2}$/Hz)'\n",
    "    if var == 'turbulent_dissipation_rate':\n",
    "        var_label = 'Turbulent Dissipation Rate'\n",
    "        colormap = 'hot'\n",
    "    if var == 'water_temperature':\n",
    "        var_label = 'Water Temperature ($^{\\circ}$C)'\n",
    "        colormap = 'plasma'\n",
    "    if var == 'air_temperature':\n",
    "        var_label = 'Air Temperature ($^{\\circ}$C)'\n",
    "        colormap = 'magma'\n",
    "    if var == 'air_pressure':\n",
    "        var_label = 'Air Pressure (hPa)'\n",
    "        colormap = 'Blues'\n",
    "    if var == 'air_pressure_stdev':\n",
    "        var_label = 'Air Pressure Standard Deviation (hPa)'\n",
    "        colormap = 'Blues'\n",
    "    if var == 'salinity':\n",
    "        var_label = 'Salinity'\n",
    "        colormap = 'viridis'\n",
    "    if var == 'surface_wave_height':\n",
    "        var_label = 'Surface Wave Height (m)'\n",
    "        colormap = 'autumn'\n",
    "    if var == 'surface_wave_period':\n",
    "        var_label = 'Surface Wave Period (s)'\n",
    "        colormap = 'cool'\n",
    "    if var == 'surface_wave_direction':\n",
    "        var_label = 'Surface Wave Direction From North (Degree)'\n",
    "        colormap = 'twilight'\n",
    "    if var == 'drift_speed_stdev':\n",
    "        var_label = 'Drift Speed Standard Deviation (m/s)'\n",
    "        colormap = 'cividis' \n",
    "    if var == 'drift_speed':\n",
    "        var_label = 'Drift Speed (m/s)'\n",
    "        colormap = 'cividis' \n",
    "    if var == 'drift_direction_stdev':\n",
    "        var_label = 'Drift Direction from North Standard Deviation (m/s)'\n",
    "        colormap = 'twilight' \n",
    "    if var == 'drift_direction':\n",
    "        var_label = 'Drift Direction from North (m/s)'\n",
    "        colormap = 'twilight' \n",
    "    if var == 'wind_speed_stdev':\n",
    "        var_label = 'Wind Speed Standard Deviation (m/s)'\n",
    "        colormap = 'cividis' \n",
    "    if var == 'wind_speed':\n",
    "        var_label = 'Wind Speed (m/s)'\n",
    "        colormap = 'cividis'\n",
    "    if var == 'wind_direction_stdev':\n",
    "        var_label = 'Wind Direction from North Standard Deviation (Degree)'\n",
    "        colormap = 'twilight' \n",
    "    if var == 'wind_direction':\n",
    "        var_label = 'Wind Direction from North (Degree)'\n",
    "        colormap = 'twilight' \n",
    "    if var == 'drift_speed_stdev':\n",
    "        var_label = 'Drift Speed Standard Deviation (m/s)'\n",
    "        colormap = 'cividis' \n",
    "        \n",
    "    return colormap,var_label"
   ]
  },
  {
   "cell_type": "markdown",
   "id": "fd765f1f-d34f-4409-b6f9-614c3483dc4b",
   "metadata": {
    "jp-MarkdownHeadingCollapsed": true,
    "tags": []
   },
   "source": [
    "<h3>Define a Function to Create a Map of the Study Area</h3>\n",
    "The following function creates a map of the SASSIE study area, which is defined by minimum and maximum lat/lon values. These ranges can be changed later when the function is called to zoom in/out on the study area."
   ]
  },
  {
   "cell_type": "code",
   "execution_count": null,
   "id": "df36af8a-7f55-4fca-be05-2aa27d12e1e9",
   "metadata": {
    "tags": []
   },
   "outputs": [],
   "source": [
    "def map_study_area(latmin,latmax,lonmin,lonmax):\n",
    "    \n",
    "    global fig \n",
    "    global ax\n",
    "    \n",
    "    #create the map as a figure, set the lat and lon ranges, and add land + river data:\n",
    "    fig = plt.figure(figsize=(10,8))\n",
    "    ax = plt.axes(projection=cartopy.crs.NorthPolarStereo(central_longitude=-150))\n",
    "    ax.set_extent([lonmin,lonmax,latmin,latmax], crs=cartopy.crs.PlateCarree())\n",
    "    ax.coastlines(color='k')  \n",
    "    ax.add_feature(cartopy.feature.LAND, facecolor = '0.50',zorder=1)\n",
    "    ax.add_feature(cartopy.feature.RIVERS,facecolor='blue')\n",
    "    #Add lat and lon gridlines and labels:\n",
    "    gl = ax.gridlines(draw_labels=True, dms=True, x_inline=False, y_inline=False, alpha=0.3) #draw_labels=True gives lat labels.\n",
    "    gl.ylocator = matplotlib.ticker.FixedLocator(np.arange(60,90,1))\n",
    "    gl.xlocator = matplotlib.ticker.FixedLocator(np.arange(-180,180,2))\n",
    "    gl.top_labels = False; gl.bottom_labels = True; gl.right_labels = False\n",
    "    \n",
    "    #Add markers for reference cities on the coast:\n",
    "    if (latmin<71.2906) & (lonmin<-156.7886):\n",
    "        utqiagvik = ax.scatter(-156.7886,71.2906,s=100,transform=cartopy.crs.PlateCarree(),c='red',marker = '*',label='Utqiagvik, AK',zorder=2)\n",
    "    if (latmin<70.2002) & (lonmax>-148.4597):\n",
    "        deadhorse = ax.scatter(-148.4597,70.2002,s=100,c='cyan',transform=cartopy.crs.PlateCarree(),marker = '*',label='Deadhorse, AK',zorder=2)\n",
    "        "
   ]
  },
  {
   "cell_type": "markdown",
   "id": "44de3d89-0102-4876-978e-90cc0c39c8dc",
   "metadata": {
    "jp-MarkdownHeadingCollapsed": true,
    "tags": []
   },
   "source": [
    "<h3>Configure Supporting Data to Add to Maps</h3>\n",
    "<p>The functions for viewing and plotting this data set below have options to include bathymetry and/or shiptrack data to add context to maps. If you are using these options, run\n",
    "    <br>the following code blocks to:\n",
    "    <br>1. Create a directory for SASSIE Ship Track data and acess bathymetry data from NOAA\n",
    "    <br>2. Define functions that add these data to your map when called.</p>"
   ]
  },
  {
   "cell_type": "markdown",
   "id": "3860d930-8ead-490e-bbf2-d6ccf193cba2",
   "metadata": {
    "jp-MarkdownHeadingCollapsed": true,
    "tags": []
   },
   "source": [
    "<h4>Create Directory for Shiptrack Data and Access Bathymetry Data </h4>"
   ]
  },
  {
   "cell_type": "code",
   "execution_count": null,
   "id": "76e07f9a-e46c-414d-8c3f-651d7ea06379",
   "metadata": {
    "tags": []
   },
   "outputs": [],
   "source": [
    "## DIRECTORY TO SHIP TRACK DATA\n",
    "ship_dir =  'Data/TSG/' \n",
    "\n",
    "#DOWLOAD SHIPTRACK DATA\n",
    "if not os.path.isfile(ship_dir+'SASSIE_Fall_2022_Shipboard_TSG.nc'):\n",
    "    os.makedirs(ship_dir)\n",
    "    url = 'https://archive.podaac.earthdata.nasa.gov/podaac-ops-cumulus-protected/SASSIE_L2_SHIPBOARD_TSG_V1/SASSIE_Fall_2022_Shipboard_TSG.nc'\n",
    "    with requests.Session() as session:\n",
    "            session.auth = (username, password)\n",
    "            r1 = session.request('get', url)\n",
    "            r = session.get(r1.url, auth=(username, password))\n",
    "            if r.status_code == 200:\n",
    "                if r.ok:\n",
    "                    with open(ship_dir+'SASSIE_Fall_2022_Shipboard_TSG.nc', 'wb') as f:\n",
    "                        f.write(r.content) \n",
    "                        print('Saving Input File: ' + ship_dir+'SASSIE_Fall_2022_Shipboard_TSG.nc') \n",
    "            else:\n",
    "                print(\"Error:\", r.status_code)\n",
    "                if r.status_code == 401:\n",
    "                    print ('Your Username and/or password are incorrect. Please try again')\n",
    "else: \n",
    "    print('Shipboard TSG file is already in local directory')  "
   ]
  },
  {
   "cell_type": "markdown",
   "id": "0a8497db-66a2-4cb2-a82c-96978e1e4ffd",
   "metadata": {
    "jp-MarkdownHeadingCollapsed": true,
    "tags": []
   },
   "source": [
    "<h4>Access NOAA Bathymetry Data</h4>"
   ]
  },
  {
   "cell_type": "code",
   "execution_count": null,
   "id": "9880c30b-3569-49d9-af4f-436d545d3269",
   "metadata": {},
   "outputs": [],
   "source": [
    "#READ IN TOPOGRAPHY/BATHYMETRY DATA\n",
    "url = 'http://ferret.pmel.noaa.gov/thredds/dodsC/data/PMEL/etopo2.nc'\n",
    "etopodata = xr.open_dataset(url) "
   ]
  },
  {
   "cell_type": "markdown",
   "id": "35db15f5-b630-46e5-97a6-26c73c07d8ab",
   "metadata": {
    "jp-MarkdownHeadingCollapsed": true,
    "tags": []
   },
   "source": [
    "<h4> Create a Directory for Ice Data Storage</h4>"
   ]
  },
  {
   "cell_type": "code",
   "execution_count": null,
   "id": "7f067d48-ff35-45ab-9580-719dc22f14f4",
   "metadata": {},
   "outputs": [],
   "source": [
    "##LOCAL DIRECTORY TO SAVE AMSR SEA ICE DATA \n",
    "ice_dir = 'Ice_Data/'\n",
    "\n",
    "#ICE DATA DIR\n",
    "if not os.path.exists(ice_dir):\n",
    "    os.makedirs(ice_dir)"
   ]
  },
  {
   "cell_type": "markdown",
   "id": "c99a1f05-62ef-491c-a590-7abf441aee81",
   "metadata": {
    "jp-MarkdownHeadingCollapsed": true,
    "tags": []
   },
   "source": [
    "<h4>Define a Function to Index Relevant Bathymetry Data and Add it to the Map</h4>\n",
    "This function will index bathymetry data from NOAA within the appropriate spatial range and add it to the map. \n"
   ]
  },
  {
   "cell_type": "code",
   "execution_count": null,
   "id": "162ab2fc-795f-4df9-9c9e-c7cb93d269f0",
   "metadata": {},
   "outputs": [],
   "source": [
    "def add_bathy_data(latmin,latmax,lonmin,lonmax):\n",
    "        topoin = etopodata.rose.values[0:-1:5,1:-1:5]\n",
    "        lons = etopodata.etopo2_x.values[0:-1:5]\n",
    "        lats = etopodata.etopo2_y.values[0:-1:5]\n",
    "        lons_in_range = lons[np.where((lons >lonmin-1) & (lons<lonmax+1))]\n",
    "        lats_in_range = lats[np.where((lats >latmin-1) & (lats<latmax+1))]\n",
    "        topo_in_range = np.squeeze(topoin[np.squeeze(np.where((lats >latmin-1) & (lats<latmax+1))),:][:,np.where((lons >lonmin-1) & (lons<lonmax+1))])\n",
    "        [bathy_lon,bathy_lat] = np.meshgrid(lons_in_range,lats_in_range)\n",
    "        \n",
    "        bathy = ax.contour(bathy_lon,bathy_lat,topo_in_range,np.arange(-6000,-1000,300),transform=cartopy.crs.PlateCarree(),cmap='gray',alpha = 0.2,zorder = 0)"
   ]
  },
  {
   "cell_type": "markdown",
   "id": "e131d88b-fd7e-4298-bccf-fd01c28c9be3",
   "metadata": {
    "jp-MarkdownHeadingCollapsed": true,
    "tags": []
   },
   "source": [
    "<h4>Define a Function to Add Shiptrack Data to a Map</h4>\n",
    "This function will pull the lat/lon data from the SASSIE Shipboard TSG file and put it onto a map. "
   ]
  },
  {
   "cell_type": "code",
   "execution_count": null,
   "id": "35978222-9e7d-4ec7-9e37-7d7d7cf51f37",
   "metadata": {},
   "outputs": [],
   "source": [
    "def add_ship_track():\n",
    "        ds_ship = xr.open_dataset(ship_dir+'/SASSIE_Fall_2022_Shipboard_TSG.nc')\n",
    "        ship_time = np.squeeze(ds_ship['time'])\n",
    "        ship_lat = np.squeeze(ds_ship['latitude'])\n",
    "        ship_lon = np.squeeze(ds_ship['longitude'])\n",
    "       \n",
    "        track = ax.plot(ship_lon, \n",
    "                     ship_lat,linewidth = 0.5,\n",
    "                     c='black',\n",
    "                       transform=cartopy.crs.PlateCarree(),label = 'Ship Track',zorder=1)"
   ]
  },
  {
   "cell_type": "markdown",
   "id": "ce577cb6-cf4c-4c30-92d7-53bd888c42cf",
   "metadata": {
    "jp-MarkdownHeadingCollapsed": true,
    "tags": []
   },
   "source": [
    "<h4>Define a Function to Add Ice Data to a Map</h4>\n",
    "This function will download the AMSR ice product at the start and end date of the time period specified and add it to the plot. \n",
    "<br>Ice data from the start date will be shown in blue and ice data from the end date will be shown in red. "
   ]
  },
  {
   "cell_type": "code",
   "execution_count": null,
   "id": "84447821-c47e-4d31-aebb-ae0a9b126fec",
   "metadata": {},
   "outputs": [],
   "source": [
    "def add_ice_data(start_date,end_date):\n",
    "    \n",
    "        #get ice data at start of time range\n",
    "        play_start = start_date\n",
    "        filename_si='AMSR_U2_L3_SeaIce12km_B04_'+str(play_start.year)+str(play_start.month).zfill(2)+str(play_start.day).zfill(2)+'.he5' \n",
    "        i=0\n",
    "        time_tmp=play_start - timedelta(days=i)\n",
    "        while os.path.isfile(ice_dir+filename_si)==False and i<15:\n",
    "            time_tmp=play_start - timedelta(days=i)\n",
    "            filename_si='AMSR_U2_L3_SeaIce12km_B04_'+str(time_tmp.year)+str(time_tmp.month).zfill(2)+str(time_tmp.day).zfill(2)+'.he5'\n",
    "            url = 'https://n5eil01u.ecs.nsidc.org/AMSA/AU_SI12.001/'+str(time_tmp.year)+'.'+str(time_tmp.month).zfill(2)+'.'+str(time_tmp.day).zfill(2)+'/'+filename_si\n",
    "            with requests.Session() as session:\n",
    "                session.auth = (username, password)\n",
    "                r = session.get(session.request('get', url).url, auth=(username, password))\n",
    "                if (r.status_code == 200) & (r.ok):\n",
    "                        with open(ice_dir+filename_si, 'wb') as f:\n",
    "                            f.write(r.content) \n",
    "                            print('Saving Input File: ' + ice_dir+filename_si) \n",
    "                else:\n",
    "                    print(\"Error:\", r.status_code)\n",
    "                    if r.status_code == 401:\n",
    "                        print ('Your Username and/or password are incorrect. Please try again')\n",
    "            i=i+1\n",
    "            \n",
    "\n",
    "        #get ice data at end of time range \n",
    "        play_end = end_date\n",
    "        filename_si='AMSR_U2_L3_SeaIce12km_B04_'+str(play_end.year)+str(play_end.month).zfill(2)+str(play_end.day).zfill(2)+'.he5' \n",
    "        i=0\n",
    "        time_tmp=play_end - timedelta(days=i)\n",
    "        while os.path.isfile(ice_dir+filename_si)==False and i<15:\n",
    "            time_tmp=play_end - timedelta(days=i)\n",
    "            filename_si='AMSR_U2_L3_SeaIce12km_B04_'+str(time_tmp.year)+str(time_tmp.month).zfill(2)+str(time_tmp.day).zfill(2)+'.he5'\n",
    "            url = 'https://n5eil01u.ecs.nsidc.org/AMSA/AU_SI12.001/'+str(time_tmp.year)+'.'+str(time_tmp.month).zfill(2)+'.'+str(time_tmp.day).zfill(2)+'/'+filename_si\n",
    "            with requests.Session() as session:\n",
    "                session.auth = (username, password)\n",
    "                r = session.get(session.request('get', url).url, auth=(username, password))\n",
    "                if (r.status_code == 200) & (r.ok):\n",
    "                        with open(ice_dir+filename_si, 'wb') as f:\n",
    "                            f.write(r.content) \n",
    "                            print('Saving Input File: ' + ice_dir+filename_si) \n",
    "                else:\n",
    "                    print(\"Error:\", r.status_code)\n",
    "                    if r.status_code == 401:\n",
    "                        print ('Your Username and/or password are incorrect. Please try again')       \n",
    "            i=i+1\n",
    "\n",
    "            \n",
    "        #apply ice data at the end of the time range (ice sheet growth) in red\n",
    "        filename_si='AMSR_U2_L3_SeaIce12km_B04_'+str(play_end.year)+str(play_end.month).zfill(2)+str(play_end.day).zfill(2)+'.he5' \n",
    "        if os.path.isfile(ice_dir+filename_si):\n",
    "            dsc = xr.open_dataset(ice_dir+filename_si,group='HDFEOS/GRIDS/NpPolarGrid12km')\n",
    "            dsd = xr.open_dataset(ice_dir+filename_si,group='HDFEOS/GRIDS/NpPolarGrid12km/Data Fields') \n",
    "            var1 = np.array(dsd.SI_12km_NH_ICECON_DAY.squeeze().values)\n",
    "            indx = np.where((var1==120) | (var1==0)); var1[indx] = 0\n",
    "            ice_growth_location = np.ma.masked_where(var1==0,var1)\n",
    "            pp = ax.pcolormesh(dsc.lon,dsc.lat,ice_growth_location, \n",
    "                            vmin=0,vmax=100, # Set max and min values for plotting\n",
    "                            cmap='Reds_r', shading='auto',   # shading='auto' to avoid warning\n",
    "                            transform=cartopy.crs.PlateCarree())\n",
    "            \n",
    "        #apply ice data at the start of the time range in blue\n",
    "        filename_si='AMSR_U2_L3_SeaIce12km_B04_'+str(play_start.year)+str(play_start.month).zfill(2)+str(play_start.day).zfill(2)+'.he5' \n",
    "        if os.path.isfile(ice_dir+filename_si):\n",
    "            dsc = xr.open_dataset(ice_dir+filename_si,group='HDFEOS/GRIDS/NpPolarGrid12km')\n",
    "            dsd = xr.open_dataset(ice_dir+filename_si,group='HDFEOS/GRIDS/NpPolarGrid12km/Data Fields') \n",
    "            var1 = np.array(dsd.SI_12km_NH_ICECON_DAY.squeeze().values)\n",
    "            indx = np.where((var1==120) | (var1==0)); var1[indx] = 0\n",
    "            ice_location = np.ma.masked_where(var1==0,var1)\n",
    "            pp = ax.pcolormesh(dsc.lon,dsc.lat,ice_location, \n",
    "                            vmin=0,vmax=100, # Set max and min values for plotting\n",
    "                            cmap='Blues_r', shading='auto',   # shading='auto' to avoid warning\n",
    "                            transform=cartopy.crs.PlateCarree())\n",
    "        "
   ]
  },
  {
   "cell_type": "markdown",
   "id": "62fbf649-3601-414d-9c19-6ceb903d8230",
   "metadata": {
    "jp-MarkdownHeadingCollapsed": true,
    "tags": []
   },
   "source": [
    "# Figure Making Code \n",
    "\n",
    "The code in this section will make basic visualizations of the SASSIE dataset you have downloaded. Expand for more details. "
   ]
  },
  {
   "cell_type": "markdown",
   "id": "3e11dc29-afa1-4856-9e8c-d09ebd3f7b5a",
   "metadata": {
    "jp-MarkdownHeadingCollapsed": true,
    "tags": []
   },
   "source": [
    "<h2>Make Maps of This Data</h2>\n",
    "<p>Using the code in this section, the user can plot the SWIFT data on a map colored by time, SWIFT number, or some other surface variable that was collected. The code blocks in the 'supporting code' section should be run first. </p>"
   ]
  },
  {
   "cell_type": "markdown",
   "id": "86a639de-fd3f-4702-8b0c-fadb919de757",
   "metadata": {
    "jp-MarkdownHeadingCollapsed": true,
    "tags": []
   },
   "source": [
    "<h3> Mapping the Time and Location of SWIFT Data Collection</h3>\n",
    "\n",
    "<p>The map_SWIFT function shows the track of the SWIFTs on a map, colored by time. Various features of this function: </p>\n",
    "    <p>1. This function adds the track of the R/V Woldstad for reference\n",
    "    <br>2. This function adds bathymetry contours showing the position of the continental shelf by default for reference. \n",
    "    <br>3. The user has the option to add the AMSR ice product at the start and end of the time period shown by inputting ice_data=True. </p>"
   ]
  },
  {
   "cell_type": "code",
   "execution_count": null,
   "id": "e80a1ab4-eec5-4da7-9f90-d4e03ed9ec2e",
   "metadata": {
    "tags": []
   },
   "outputs": [],
   "source": [
    "##USE THIS TO PLOT THE SWIFT TRACKS ON THE WHOLE CAMPAIGN MAP, COLORED BY TIME  \n",
    "def map_SWIFT(ship_track=True,bathymetry_data=True,ice_data=False):\n",
    "    \n",
    "    ##CREATE A MAP WITH LAND AND CITY MARKERS AND SHIP TRACK  \n",
    "    latmin = 70\n",
    "    latmax =74\n",
    "    lonmin=-157\n",
    "    lonmax=-144\n",
    "    \n",
    "    #make the map\n",
    "    map_study_area(latmin,latmax,lonmin,lonmax)\n",
    "\n",
    "    #give it a title\n",
    "    ax.set_title('SWIFT Tracks',fontsize=22,pad=1) \n",
    "\n",
    "    \n",
    "    ##OPTIONAL MAP ADD-ONs\n",
    "    if ship_track==True:\n",
    "        #ADD SHIP TRACK DATA\n",
    "        add_ship_track()\n",
    "        \n",
    "    if bathymetry_data == True:    \n",
    "        ##ADD BATHYMETRY DATA\n",
    "        add_bathy_data(latmin,latmax,lonmin,lonmax)\n",
    "        \n",
    "    if ice_data==True:\n",
    "        ##ADD ICE DATA\n",
    "        start_time = pd.to_datetime(xr.open_dataset(files[0])['time'].values[0],'ns')\n",
    "        end_time = pd.to_datetime(xr.open_dataset(files[-1])['time'].values[-1],'ns')\n",
    "        \n",
    "        add_ice_data(start_time,end_time)\n",
    "\n",
    "    ##APPLY THE TIME AND LOCATION DATA IN EACH SWIFT FILE \n",
    "    for file in files:\n",
    "        ds_swift = xr.open_dataset(file)\n",
    "        swift_time = np.squeeze(ds_swift['time'])\n",
    "        swift_lat = np.squeeze(ds_swift['latitude'])\n",
    "        swift_lon = np.squeeze(ds_swift['longitude']) \n",
    "        \n",
    "        casts = ax.scatter(swift_lon,swift_lat,s = 1,c = swift_time,cmap = cmr.neon,transform=cartopy.crs.PlateCarree(),zorder=2,vmin=1.6626E18,vmax=1.6647E18)\n",
    "        \n",
    "    \n",
    "    #CONFIGURE COLORBAR                   \n",
    "    cbar = fig.colorbar(casts, ax=ax, orientation=\"horizontal\", pad=0.1)\n",
    "    cbar.set_label(label='Date',size='large',weight='bold')\n",
    "    cbar_tick_array=(np.linspace(xr.open_dataset(files[0])['time'].values[0].astype('int64'),xr.open_dataset(files[-1])['time'].values[-1].astype('int64'),5))\n",
    "    cbar.set_ticks(cbar_tick_array)\n",
    "    cbar.set_ticklabels(pd.to_datetime(cbar_tick_array).date)\n",
    "        \n",
    "    ##SAVE THE FIGURE \n",
    "    if not os.path.exists(fig_dir+'/tracks'):\n",
    "        os.makedirs(fig_dir+'/tracks')\n",
    "    \n",
    "    print('Saving Output Image:  '+fig_dir+'tracks/SWIFT_track_map.png')\n",
    "    plt.savefig(fig_dir+'tracks/SWIFT_track_map.png',dpi='figure',format='png')"
   ]
  },
  {
   "cell_type": "code",
   "execution_count": null,
   "id": "7fb21baf-df02-445d-a68a-47981ecceea3",
   "metadata": {
    "tags": []
   },
   "outputs": [],
   "source": [
    "map_SWIFT()\n",
    "map_SWIFT(3,ice_data = True)"
   ]
  },
  {
   "cell_type": "markdown",
   "id": "0a30028a-a0a4-4c6d-bac8-46f8d17d868e",
   "metadata": {
    "jp-MarkdownHeadingCollapsed": true,
    "tags": []
   },
   "source": [
    "<h3> Mapping the Location of individual SWIFTs throughout the campaign</h3>\n",
    "\n",
    "<p>The map_SWIFT_by_number function shows the track of the SWIFTs on a map, colored by SWIFT number. Various features of this function: </p>\n",
    "    <p>1. This function adds the track of the R/V Woldstad for reference\n",
    "    <br>2. This function adds bathymetry contours showing the position of the continental shelf by default for reference. \n",
    "    <br>3. The user has the option to add the AMSR ice product at the start and end of the time period shown by inputting ice_data=True. </p>"
   ]
  },
  {
   "cell_type": "code",
   "execution_count": null,
   "id": "01b17e97-683c-49b9-9980-036951686387",
   "metadata": {
    "tags": []
   },
   "outputs": [],
   "source": [
    "##USE THIS TO PLOT THE SWIFT TRACKS ON THE WHOLE CAMPAIGN MAP, COLORED BY SWIFT NUMBER  \n",
    "def map_SWIFT_by_number(ship_track=True,bathymetry_data=True,ice_data=False):\n",
    "    \n",
    "    ##CREATE A MAP WITH LAND AND CITY MARKERS AND SHIP TRACK  \n",
    "    latmin = 70\n",
    "    latmax =74\n",
    "    lonmin=-157\n",
    "    lonmax=-144\n",
    "    \n",
    "    \n",
    "    #make the map: \n",
    "    map_study_area(latmin,latmax,lonmin,lonmax)\n",
    "    \n",
    "    #give it a title:\n",
    "    ax.set_title('SWIFT Tracks',fontsize=22,pad=1) \n",
    "    \n",
    "    \n",
    "    ##OPTIONAL MAP ADD-ONs\n",
    "    if ship_track==True:\n",
    "        add_ship_track()\n",
    "        \n",
    "    if bathymetry_data == True:    \n",
    "        add_bathy_data(latmin,latmax,lonmin,lonmax)\n",
    "        \n",
    "    if ice_data==True:\n",
    "        ##ADD ICE DATA\n",
    "        start_time = pd.to_datetime(xr.open_dataset(files[0])['time'].values[0],'ns')\n",
    "        end_time = pd.to_datetime(xr.open_dataset(files[-1])['time'].values[-1],'ns')\n",
    "        add_ice_data(start_time,end_time)\n",
    "        \n",
    "    for file in files:\n",
    "        ds_swift = xr.open_dataset(file)\n",
    "        swift_lat = np.squeeze(ds_swift['latitude'])\n",
    "        swift_lon = np.squeeze(ds_swift['longitude'])\n",
    "        if file[(len(file)-5)] == '3':\n",
    "            swift_number = file[(len(file)-12):(len(file)-10)]\n",
    "        else:\n",
    "            swift_number = file[(len(file)-11):(len(file)-9)]\n",
    "        if swift_number == '12':\n",
    "            color = 'blue'\n",
    "        if swift_number == '13':\n",
    "            color = 'magenta'\n",
    "        if swift_number == '15': \n",
    "            color = 'yellow'\n",
    "        if swift_number == '16':\n",
    "            color = 'red'\n",
    "        if swift_number == '17':\n",
    "            color = 'cyan'\n",
    "        ax.plot(swift_lon, \n",
    "                swift_lat,linewidth = 4,\n",
    "                c=color,\n",
    "                transform=cartopy.crs.PlateCarree(),label = 'SWIFT '+swift_number,zorder=1)\n",
    "    handles, labels = plt.gca().get_legend_handles_labels()\n",
    "    by_label = dict(zip(labels, handles))\n",
    "    plt.legend(by_label.values(), by_label.keys())\n",
    "    \n",
    "    ##SAVE THE FIGURE \n",
    "    if not os.path.exists(fig_dir+'tracks'):\n",
    "        os.makedirs(fig_dir+'tracks')\n",
    "    \n",
    "    print('Saving Output Image:  '+fig_dir+'tracks/SWIFT_track_by_number_map.png')\n",
    "    plt.savefig(fig_dir+'tracks/SWIFT_track_by_number_map.png',dpi='figure',format='png')"
   ]
  },
  {
   "cell_type": "code",
   "execution_count": null,
   "id": "20461247-b4e8-4d3e-8a1b-34e8cad5c9ee",
   "metadata": {},
   "outputs": [],
   "source": [
    "map_SWIFT_by_number()"
   ]
  },
  {
   "cell_type": "markdown",
   "id": "ff8b07d8-d371-4798-ae7b-771ce5d85a95",
   "metadata": {
    "jp-MarkdownHeadingCollapsed": true,
    "tags": []
   },
   "source": [
    "<h3>Mapping Sea Surface Variable SWIFT Data Along the Ship Track</h3>\n",
    "\n",
    "<p>The plot_swift_track function shows the track of the the SWIFTs on a map, colored by a surface variable the SWIFTs collected. Various features of this function: </p>\n",
    "    <p>1. This function adds the track of the R/V Woldstad for reference\n",
    "    <br>2. This function adds bathymetry contours showing the position of the continental shelf by default for reference. \n",
    "    <br>3. The user has the option to add the AMSR ice product at the start and end of the time period shown by inputting ice_data=True.\n",
    "    <br>4. The user must specify which swifts to show, which play to show, which variable to be plotted, and the minimum and maximum value for that variable.</p>"
   ]
  },
  {
   "cell_type": "code",
   "execution_count": null,
   "id": "dfb23b9b-b1e5-496b-869b-b36138200173",
   "metadata": {
    "tags": []
   },
   "outputs": [],
   "source": [
    "##USE THIS TO PLOT SWIFT TRACK with Surface Variable (no depth or frequency dimension) \n",
    "def plot_swift_track(swift_numbers,play,var,var_min,var_max,ship_track=True,bathymetry_data=True,ice_data=False):\n",
    "    \n",
    "    #GET LAT AND LON RANGE OF SWIFTS\n",
    "    if play !='all':\n",
    "        file = dir_in+'SASSIE_Fall_2022_SWIFT'+str(swift_numbers[0])+'_play'+str(play)+'.nc'\n",
    "        ds = xr.open_dataset(file,engine='netcdf4')\n",
    "        SWIFT_lat = ds['latitude']\n",
    "        SWIFT_lon = ds['longitude']\n",
    "\n",
    "        \n",
    "    ##CREATE A MAP WITH LAND AND CITY MARKERS\n",
    "    #To show the whole campaign area, use latmin = 70, latmax =74,lonmin=-157,lonmax=-140\n",
    "    if (play ==1):\n",
    "        latmin = min(SWIFT_lat.values)-0.1; latmax = max(SWIFT_lat.values)+0.3; lonmin = min(SWIFT_lon.values)-1.5; lonmax = max(SWIFT_lon.values)+0.1\n",
    "        start_time = play1_start; end_time=play1_end\n",
    "    if (play == '3a') | (play =='3b')|(play==5):\n",
    "        latmin = min(SWIFT_lat.values)-0.1; latmax = max(SWIFT_lat.values)+0.1; lonmin = min(SWIFT_lon.values)-0.1; lonmax = max(SWIFT_lon.values)+0.1 \n",
    "        start_time = play3_start; end_time = play3_end\n",
    "    if (play==4):\n",
    "        latmin = min(SWIFT_lat.values)-0.3; latmax = max(SWIFT_lat.values)+0.1; lonmin = min(SWIFT_lon.values)-0.9; lonmax = max(SWIFT_lon.values)+1\n",
    "        start_time = play4_start; end_time = play4_end\n",
    "    if (play==5):\n",
    "        latmin = min(SWIFT_lat.values)-0.1; latmax = max(SWIFT_lat.values)+0.1; lonmin = min(SWIFT_lon.values)-0.3; lonmax = max(SWIFT_lon.values)+0.1\n",
    "        start_time = play5_start; end_time = play5_end\n",
    "    if play =='all':\n",
    "        latmin = 71.9; latmax =73.5; lonmin=-154; lonmax=-145\n",
    "        start_time = play1_start; end_time = play5_end\n",
    "    [colormap,var_label] = define_var_attributes(var)\n",
    "      \n",
    "    #make the map\n",
    "    map_study_area(latmin,latmax,lonmin,lonmax)\n",
    "    \n",
    "    #give it a title\n",
    "    if play == 'all':\n",
    "        ax.set_title('SWIFT '+var_label+' Readings from Entire Campaign',fontsize=15)\n",
    "    else:\n",
    "        if len(swift_numbers)>1:\n",
    "            ax.set_title('SWIFT '+var_label+' Readings from Play '+str(play),fontsize=15)\n",
    "        if len(swift_numbers) == 1:\n",
    "            ax.set_title('SWIFT '+str(swift_numbers[0])+' '+var_label+'Readings from Play'+str(play),fontsize=15)\n",
    "    \n",
    "    ##OPTIONAL MAP ADD-ONs\n",
    "    if ship_track==True:\n",
    "         add_ship_track()\n",
    "    if bathymetry_data == True:    \n",
    "        add_bathy_data(latmin,latmax,lonmin,lonmax)\n",
    "    if ice_data==True:\n",
    "        add_ice_data(start_time,end_time)\n",
    "    \n",
    "    ##APPLY SWIFT DATA \n",
    "    if play == 'all': \n",
    "         for file in files:\n",
    "            ds = xr.open_dataset(file,engine='netcdf4')\n",
    "            SWIFT_lat = ds['latitude']\n",
    "            SWIFT_lon = ds['longitude']\n",
    "            SWIFT_time = ds['time']\n",
    "            SWIFT_var = ds[var]\n",
    "\n",
    "            swift_track = ax.scatter(SWIFT_lon, \n",
    "                         SWIFT_lat,s=5, \n",
    "                         c=SWIFT_var,cmap=colormap,\n",
    "                           transform=cartopy.crs.PlateCarree(),\n",
    "                              vmin = var_min,\n",
    "                              vmax = var_max,zorder = 2)\n",
    "            swift_start = ax.scatter(SWIFT_lon[0], \n",
    "                        SWIFT_lat[0],s=40, \n",
    "                        c='black',\n",
    "                         transform=cartopy.crs.PlateCarree(),zorder = 3)\n",
    "            swift_end = ax.scatter(SWIFT_lon[-1], \n",
    "                        SWIFT_lat[-1],s=120, \n",
    "                        c='black',marker = '*',\n",
    "                         transform=cartopy.crs.PlateCarree(),zorder = 3)\n",
    "    else:\n",
    "        for swift in swift_numbers:\n",
    "            file = dir_in+'SASSIE_Fall_2022_SWIFT'+str(swift)+'_play'+str(play)+'.nc'\n",
    "            ds = xr.open_dataset(file,engine='netcdf4')\n",
    "            SWIFT_lat = ds['latitude']\n",
    "            SWIFT_lon = ds['longitude']\n",
    "            SWIFT_time = ds['time']\n",
    "            SWIFT_var = ds[var]\n",
    "\n",
    "            swift_track = ax.scatter(SWIFT_lon, \n",
    "                         SWIFT_lat,s=5, \n",
    "                         c=SWIFT_var,cmap=colormap,\n",
    "                           transform=cartopy.crs.PlateCarree(),\n",
    "                              vmin = var_min,\n",
    "                              vmax = var_max,zorder = 2)\n",
    "\n",
    "            swift_start = ax.scatter(SWIFT_lon[0], \n",
    "                        SWIFT_lat[0],s=40, \n",
    "                        c='black',\n",
    "                         transform=cartopy.crs.PlateCarree(),zorder = 3)\n",
    "            swift_end = ax.scatter(SWIFT_lon[-1], \n",
    "                        SWIFT_lat[-1],s=120, \n",
    "                        c='black',marker = '*',\n",
    "                         transform=cartopy.crs.PlateCarree(),zorder = 3)\n",
    "            if play ==1:\n",
    "                ax.text((SWIFT_lon[-1]-0.2),SWIFT_lat[-1]+0.02,s='Swift '+str(swift),transform=cartopy.crs.PlateCarree())\n",
    "            if play=='3a':\n",
    "                ax.text((SWIFT_lon[-1]-0.1),SWIFT_lat[-1]+0.0,s='Swift '+str(swift),transform=cartopy.crs.PlateCarree())\n",
    "            if (play=='3b')|(play==5):\n",
    "                ax.text((SWIFT_lon[-1]-0),SWIFT_lat[-1]+0.0,s='Swift '+str(swift),transform=cartopy.crs.PlateCarree())\n",
    "            if play==4:\n",
    "                ax.text((SWIFT_lon[-1]-0),SWIFT_lat[-1]-0.05,s='Swift '+str(swift),transform=cartopy.crs.PlateCarree())\n",
    "\n",
    "    matplotlib.pyplot.colorbar(swift_track, ax=ax, orientation=\"horizontal\", pad=0.1).set_label(label=var_label,size='large',weight='bold')\n",
    "    \n",
    "    #SAVE FIGURE\n",
    "    if not os.path.exists(fig_dir+var):\n",
    "        os.makedirs(fig_dir+var)\n",
    "    if len(swift_numbers)>1:\n",
    "        print('Saving Output Image:  '+fig_dir+var+'/SWIFT_play_'+str(play)+'_'+var+'.png')\n",
    "        plt.savefig(fig_dir+var+'/SWIFT_play_'+str(play)+'_'+var+'.png',dpi='figure',format='png')\n",
    "    if len(swift_numbers) == 1: \n",
    "        print('Saving Output Image:  '+fig_dir+var+'/SWIFT_'+str(swift_numbers[0])+'_play_'+str(play)+'_'+var+'.png')\n",
    "        plt.savefig(fig_dir+var+'/SWIFT_play_'+str(play)+'_'+var+'.png',dpi='figure',format='png')\n",
    "    "
   ]
  },
  {
   "cell_type": "code",
   "execution_count": null,
   "id": "51861ab5-efe7-41f9-9e4f-335935704207",
   "metadata": {
    "tags": []
   },
   "outputs": [],
   "source": [
    "plot_swift_track([12,13,15,16,17],'all','water_temperature',1,3)\n",
    "plot_swift_track([12,13,15,16,17],'all','salinity',24,27)"
   ]
  },
  {
   "cell_type": "markdown",
   "id": "2a2c778b-b641-4553-80ec-38ac86f71d9f",
   "metadata": {
    "jp-MarkdownHeadingCollapsed": true,
    "tags": []
   },
   "source": [
    "<h2>Spectrograms of Wave Action Data</h2>\n",
    "Use the code in this section to plot the spectrogram of a wave action variable of a selected SWIFT deployment on a 2D grid. The user must select a deployment based on SWIFT number and play. The SWIFT numbers were\n",
    "<ul><li>12 (deployed in plays 1,4, and 5)</li>\n",
    "    <li>13 (deployed in play 1 only)</li>\n",
    "    <li>15 (deployed in plays 1,4, and 5)</li>\n",
    "    <li>16 (deployed in plays 1, 3a, 3b, 4, and 5)</li>\n",
    "    <li>17 (deployed in plays 1, 3a, 3b, 4, and 5)</li></ul>"
   ]
  },
  {
   "cell_type": "code",
   "execution_count": null,
   "id": "9a3c3f27-084f-4c7d-8c5a-cf85dda0add0",
   "metadata": {},
   "outputs": [],
   "source": [
    "##USE THIS TO PLOT SWIFT SPECTRAL DENSITY ON A SPECTROGRAM\n",
    "def plot_swift_spectrogram(swift_number,play,var,var_min,var_max):\n",
    "    ##SWIFT DATA\n",
    "    file = dir_in+'SASSIE_Fall_2022_SWIFT'+str(swift_number)+'_play'+str(play)+'.nc'\n",
    "    ds = xr.open_dataset(file,engine='netcdf4')\n",
    "    SWIFT_time = ds['time']\n",
    "    SWIFT_freq = ds['frequency']\n",
    "    SWIFT_var = np.log10(ds[var].values)\n",
    "\n",
    "\n",
    "    [colormap,var_label] = define_var_attributes(var)\n",
    "    \n",
    "    levels = np.linspace(var_min, var_max, 25)\n",
    "    \n",
    "    fig,axs = plt.subplots(1)\n",
    "\n",
    "    contour = axs.contourf(SWIFT_freq,SWIFT_time,np.transpose(np.squeeze(SWIFT_var)),levels,cmap=colormap,vmin = var_min,vmax = var_max)\n",
    "    plt.xlim(min(SWIFT_freq), max(SWIFT_freq));\n",
    "    plt.xlabel('Frequency (Hz)',fontsize=12)\n",
    "    plt.ylabel('Date',fontsize=12)\n",
    "    fig.colorbar(mappable = contour,label = 'log('+var_label+')',ticks = np.arange(var_min,var_max,1))\n",
    "    y_tick_array=(np.linspace(min(SWIFT_time.values).astype('int64'),max(SWIFT_time.values).astype('int64'),5))\n",
    "    axs.set_yticks(pd.to_datetime(y_tick_array).date)\n",
    "    plt.ylim(min(SWIFT_time),max(SWIFT_time))\n",
    "    plt.title('SWIFT '+str(swift_number)+' '+var_label+' '+'Readings from Play'+' '+str(play),fontsize=12,pad=None)\n",
    "\n",
    "    #SAVE FIGURE\n",
    "    if not os.path.exists(fig_dir+var):\n",
    "        os.makedirs(fig_dir+var)\n",
    "    print('Saving Output Image:  '+fig_dir+var+'/'+'SWIFT'+str(swift_number)+'_play'+str(play)+'_'+var+'spectrogram.png')\n",
    "    plt.savefig(fig_dir+var+'/'+'SWIFT'+str(swift_number)+'_play'+str(play)+'_'+var+'spectrogram.png',dpi='figure',format='png',bbox_inches='tight')\n",
    "\n",
    "    "
   ]
  },
  {
   "cell_type": "code",
   "execution_count": null,
   "id": "ff089f22-6583-44ba-952c-8754d858b2fd",
   "metadata": {},
   "outputs": [],
   "source": [
    "plot_swift_spectrogram(15,1,'wave_energy',-3,0.1)"
   ]
  },
  {
   "cell_type": "markdown",
   "id": "6f4e78b3-e4e1-4d3f-825c-678be29c9afb",
   "metadata": {
    "jp-MarkdownHeadingCollapsed": true,
    "tags": []
   },
   "source": [
    "<h2>Make Timeseries Plots on a 2D Axis</h2>\n",
    "The function in this section plots tthree selected variables from selected SWIFTS (default all) during selected plays (default all) on a three panneled time series figure."
   ]
  },
  {
   "cell_type": "code",
   "execution_count": null,
   "id": "7d496d7e-7077-4851-b051-922753e90488",
   "metadata": {
    "tags": []
   },
   "outputs": [],
   "source": [
    "#For making a time series of surface level variables only. \n",
    "def plot_swift_timeseries(var1,var2,var3,swift_number='all',play='all'): \n",
    "    [colormap,var1_label] = define_var_attributes(var1)\n",
    "    [colormap,var2_label] = define_var_attributes(var2)\n",
    "    [colormap,var3_label] = define_var_attributes(var3)\n",
    "    \n",
    "    #MAKE A THREE PANELED TIME SERIES PLOT\n",
    "    fig,axs = plt.subplots(3,sharex=True)\n",
    "    \n",
    "    ##LOAD AND APPLY SWIFT DATA\n",
    "    if (swift_number=='all') & (play =='all'):\n",
    "        files = sorted(glob.glob(dir_in+'SASSIE_Fall_2022_SWIFT*_play*.nc'))\n",
    "        title_end = 'All SWIFTs Durring All Plays'\n",
    "    elif swift_number == 'all':\n",
    "        files  = sorted(glob.glob(dir_in+'SASSIE_Fall_2022_SWIFT*_play'+str(play)+'.nc'))\n",
    "        title_end = 'All SWIFTs, Play '+str(play)\n",
    "    elif play =='all':\n",
    "        files  = sorted(glob.glob(dir_in+'SASSIE_Fall_2022_SWIFT'+str(swift_number)+'_play*.nc'))\n",
    "        title_end = 'SWIFT '+str(swift_number)+' Durring All Plays'\n",
    "    else:\n",
    "        files = sorted(glob.glob(dir_in+'SASSIE_Fall_2022_SWIFT'+str(swift_number)+'_play'+str(play)+'.nc'))\n",
    "        title_end = 'SWIFT '+str(swift_number)+' Play '+str(play)\n",
    "    for file in files:\n",
    "        ds = xr.open_dataset(file)\n",
    "        time_data = ds['time']\n",
    "        var1_data = ds[var1]\n",
    "        var2_data = ds[var2]\n",
    "        var3_data = ds[var3]\n",
    "        \n",
    "        \n",
    "        if file[(len(file)-5)] == '3':\n",
    "            swift_id = file[(len(file)-12):(len(file)-10)]\n",
    "        else:\n",
    "            swift_id = file[(len(file)-11):(len(file)-9)]\n",
    "        \n",
    "        if swift_id == '12':\n",
    "            color = 'blue'\n",
    "        if swift_id == '13':\n",
    "            color = 'magenta'\n",
    "        if swift_id == '15':\n",
    "            color = 'green'\n",
    "        if swift_id == '16':\n",
    "            color = 'red'\n",
    "        if swift_id == '17':\n",
    "            color = 'cyan'\n",
    "\n",
    "        axs[0].plot(time_data,var1_data,linewidth=0.4,c=color,label = 'SWIFT'+str(swift_id))\n",
    "        axs[0].set_ylabel(var1_label,fontsize=8)\n",
    "        axs[1].plot(time_data,var2_data,linewidth=0.4,c=color)\n",
    "        axs[1].set_ylabel(var2_label,fontsize=8)\n",
    "        axs[2].plot(time_data,var3_data,linewidth=0.4,c=color)\n",
    "        axs[2].set_ylabel(var3_label,fontsize=8)\n",
    "        axs[2].set_ylim(0,20)\n",
    "    \n",
    "    if play == 'all':\n",
    "        plt.xticks(pd.date_range(start=datetime(2022,9,8,8),end=datetime(2022,9,29),periods=3))\n",
    "    else: \n",
    "        plt.xticks(pd.date_range(start=time_data.values[0],end=time_data.values[-1],periods=3))\n",
    "\n",
    "    \n",
    "    axs[2].set(xlabel = 'Date')\n",
    "    fig.suptitle(var1_label+', '+var2_label+', and '+var3_label+' Data from '+title_end,fontsize=10)\n",
    "    \n",
    "    #Ideal location for legend may vary depending on which data is plotted \n",
    "    handles, labels = axs[0].get_legend_handles_labels()\n",
    "    by_label = dict(zip(labels, handles))\n",
    "    plt.legend(by_label.values(), by_label.keys(),ncol=5,fontsize=7)\n",
    "    \n",
    "\n",
    "    \n",
    "    ##SAVE FIGURE \n",
    "    if not os.path.exists(fig_dir+'/timeseries'):\n",
    "        os.makedirs(fig_dir+'/timeseries')\n",
    "    print('Saving Output Image:  '+fig_dir+'/timeseries/SWIFT'+str(swift_number)+'_Play'+str(play)+'_'+var1+'_'+var2+'_'+var3+'.png')\n",
    "    plt.savefig(fig_dir+'/timeseries/SWIFT'+str(swift_number)+'_Play'+str(play)+'_'+var1+'_'+var2+'_'+var3+'.png',dpi='figure',format='png',bbox_inches='tight')\n",
    "    "
   ]
  },
  {
   "cell_type": "code",
   "execution_count": null,
   "id": "23e66a00-1b65-4d12-a981-9910dc72f16c",
   "metadata": {
    "tags": []
   },
   "outputs": [],
   "source": [
    "plot_swift_timeseries('salinity','water_temperature','wind_speed',16,1)"
   ]
  },
  {
   "cell_type": "code",
   "execution_count": null,
   "id": "5fbf84a0-5752-45f9-a8f3-eba89edf89cb",
   "metadata": {},
   "outputs": [],
   "source": [
    "plot_swift_timeseries('salinity','water_temperature','wind_speed',16)"
   ]
  },
  {
   "cell_type": "code",
   "execution_count": null,
   "id": "8df9038f-e82b-4d3f-8cd8-e60e6ae15fc2",
   "metadata": {},
   "outputs": [],
   "source": [
    "plot_swift_timeseries('salinity','water_temperature','wind_speed')"
   ]
  },
  {
   "cell_type": "code",
   "execution_count": null,
   "id": "70bc1688-8320-4b0f-9143-a984848ad4a3",
   "metadata": {},
   "outputs": [],
   "source": []
  }
 ],
 "metadata": {
  "kernelspec": {
   "display_name": "Python 3 (ipykernel)",
   "language": "python",
   "name": "python3"
  },
  "language_info": {
   "codemirror_mode": {
    "name": "ipython",
    "version": 3
   },
   "file_extension": ".py",
   "mimetype": "text/x-python",
   "name": "python",
   "nbconvert_exporter": "python",
   "pygments_lexer": "ipython3",
   "version": "3.9.16"
  }
 },
 "nbformat": 4,
 "nbformat_minor": 5
}
