{
 "cells": [
  {
   "cell_type": "markdown",
   "id": "7f7a2d6f-497a-4172-bdf9-a6f9c1092039",
   "metadata": {
    "tags": []
   },
   "source": [
    "<h1>SASSIE Waveglider Data Use and Visualization</h1>\n",
    "<p> The Wavegliders are automatic/remotely piloted instruments that take measurements of physical ocean and atmospheric data in the open water. Waveglider data are downloaded and plotted using the code below! <b>Please run the 'Data Download and Metadata Viewing' and 'Supporting Code' sections in order before running the 'Figure Making Code'.</b> </p>\n",
    "    \n",
    "<p>The aim of this notebook is to assist the end user in exploratory data analysis by downloading the SASSIE data from NASA's PODAAC, opening the dataset and displaying it's associated metadata, and creating a few visualizations. This notebook was created by Elizabeth Westbrook. For questions and trouble shooting, please email westbrooke@uncw.edu.</p>"
   ]
  },
  {
   "cell_type": "markdown",
   "id": "90ce5bb7-730b-49fe-9acc-8041a8f76055",
   "metadata": {
    "jp-MarkdownHeadingCollapsed": true,
    "tags": []
   },
   "source": [
    "# Credential Entry\n",
    "In this section, you shoud enter your EarthData username and password. <b> DO NOT enter usernames and passwords here which are sensitive.</b> If you do not already have an EarthData account, you can create one <a href=\"https://urs.earthdata.nasa.gov/\">here</a> . </p>\n",
    "    <p>Please enter your EarthData credentials below: </p>"
   ]
  },
  {
   "cell_type": "code",
   "execution_count": null,
   "id": "754766dd-a0f2-4c7b-a023-4a9bfadc445a",
   "metadata": {},
   "outputs": [],
   "source": [
    "#Enter Earthdata Credentials: \n",
    "username = 'your_username'\n",
    "password = 'your_password'"
   ]
  },
  {
   "cell_type": "markdown",
   "id": "36ea48a0-3db3-4c3d-bb3a-f10aad8074ca",
   "metadata": {
    "jp-MarkdownHeadingCollapsed": true,
    "tags": []
   },
   "source": [
    "# Data Download and Metadata Viewing\n",
    "\n",
    "The code in this section will download the dataset from PO.DAAC and open it as an xarray object for metadata and variable attribute viewing."
   ]
  },
  {
   "cell_type": "code",
   "execution_count": null,
   "id": "be79abb0-e320-4cca-bc77-e5d6471d4e46",
   "metadata": {
    "tags": []
   },
   "outputs": [],
   "source": [
    "import numpy as np\n",
    "import xarray as xr\n",
    "import glob \n",
    "from datetime import datetime, timedelta \n",
    "import matplotlib.pyplot as plt\n",
    "import cartopy\n",
    "import matplotlib\n",
    "import os\n",
    "import sys\n",
    "import pandas as pd\n",
    "from mpl_toolkits import mplot3d\n",
    "import math\n",
    "import requests\n",
    "import cmasher as cmr"
   ]
  },
  {
   "cell_type": "markdown",
   "id": "4805be13-1e2d-4fdc-8867-99c22dedcf83",
   "metadata": {
    "jp-MarkdownHeadingCollapsed": true,
    "tags": []
   },
   "source": [
    "<h2>Download The Wave Glider data from PO.DAAC</h2>\n",
    "<p> All data from the SASSIE campaign is stored on NASA's PO.DAAC. The code in this section of the notebook will download SASSIE Wave Glider data from PO.DAAC, which is accessed through EarthData. "
   ]
  },
  {
   "cell_type": "code",
   "execution_count": null,
   "id": "efbab452-6892-4985-9f46-92e8f2df76d0",
   "metadata": {},
   "outputs": [],
   "source": [
    "## DIRECTORY TO DATA\n",
    "dir_in = 'Data/wavegliders/' "
   ]
  },
  {
   "cell_type": "markdown",
   "id": "4016eaa0-36d5-43e9-a879-dab3a1b3647f",
   "metadata": {},
   "source": [
    "The next block of code creates the directory specified above and downloads the waveglider files to your binder session if it has not already been downloaded.<b> To download the dataset to your local disk from here, right click on the file you want to download and click 'download'. </b>"
   ]
  },
  {
   "cell_type": "code",
   "execution_count": null,
   "id": "e51b112c-ecd5-4793-9db8-8e9ffb4fcce4",
   "metadata": {
    "tags": []
   },
   "outputs": [],
   "source": [
    "##SASSIE DATA DIR\n",
    "if not os.path.exists(dir_in):\n",
    "    os.makedirs(dir_in)\n",
    "\n",
    "wg_numbers = ['130','153','247','245']\n",
    "for number in wg_numbers:\n",
    "    filename = 'SASSIE_Fall_2022_Waveglider_'+number+'.nc'\n",
    "    if os.path.isfile(dir_in+filename)==False:\n",
    "        url = 'https://archive.podaac.earthdata.nasa.gov/podaac-ops-cumulus-protected/SASSIE_L2_WAVEGLIDERS_V1/'+filename\n",
    "        with requests.Session() as session:\n",
    "                session.auth = (username, password)\n",
    "                r1 = session.request('get', url)\n",
    "                r = session.get(r1.url, auth=(username, password))\n",
    "                if r.status_code == 200:\n",
    "                    if r.ok:\n",
    "                        with open(dir_in+filename, 'wb') as f:\n",
    "                            f.write(r.content) \n",
    "                            print('Saving Input File: ' + dir_in+filename) \n",
    "                else:\n",
    "                    print(\"Error:\", r.status_code)\n",
    "                    if r.status_code == 401:\n",
    "                        print ('Your Username and/or password are incorrect. Please try again')\n",
    "    else: \n",
    "        print('Waveglider '+ number+' file is already in binder directory')"
   ]
  },
  {
   "cell_type": "markdown",
   "id": "97300e85-3d60-413f-920d-79d16b6caf78",
   "metadata": {
    "jp-MarkdownHeadingCollapsed": true,
    "tags": []
   },
   "source": [
    "<h2> View The Metadata Inside the Waveglider Files</h2>\n",
    "\n",
    "The netCDF file has global metadata attributes and attributes associated with each variable. This next block will load data and metadata of the netCDF file into an xarray object (ds). <br> The data set will then be displayed in a clickable HTML format. "
   ]
  },
  {
   "cell_type": "code",
   "execution_count": null,
   "id": "d582d02c-1114-47be-8675-b870944422d4",
   "metadata": {},
   "outputs": [],
   "source": [
    "#See information about the entire dataset:\n",
    "print('Displaying just 1/4 waveglider files')\n",
    "files = sorted(glob.glob(dir_in + '/*.nc'))\n",
    "ds = xr.open_dataset(files[0])\n",
    "ds"
   ]
  },
  {
   "cell_type": "markdown",
   "id": "016a49f0-7545-4d83-8064-9d415eb8f3ea",
   "metadata": {
    "jp-MarkdownHeadingCollapsed": true,
    "tags": []
   },
   "source": [
    "# Supporting Code \n",
    "The code in this section provides a set up for the figure making code below by defining directories for data and figures and creating functions that will be called to actually map the data"
   ]
  },
  {
   "cell_type": "markdown",
   "id": "09e007af-27f4-4915-96e7-9166181d6761",
   "metadata": {
    "jp-MarkdownHeadingCollapsed": true,
    "tags": []
   },
   "source": [
    "<h3>Create a Directory to Save Figures</h3>"
   ]
  },
  {
   "cell_type": "markdown",
   "id": "9a2985e2-46e1-4ee5-99ad-ae7cfd0a5770",
   "metadata": {
    "jp-MarkdownHeadingCollapsed": true,
    "tags": []
   },
   "source": [
    "The next block creates a directory for figures to be saved"
   ]
  },
  {
   "cell_type": "code",
   "execution_count": null,
   "id": "125d0bac-b774-444f-b33e-232533020b60",
   "metadata": {
    "tags": []
   },
   "outputs": [],
   "source": [
    "#LOCAL DIRECTORY TO SAVE FIGURES\n",
    "fig_dir ='Figures/waveglider/'\n",
    "#FIGURE DIR \n",
    "if not os.path.exists(fig_dir):\n",
    "    os.makedirs(fig_dir)"
   ]
  },
  {
   "cell_type": "markdown",
   "id": "e45699e8-dc18-4b8c-8e2e-3502fd8576b2",
   "metadata": {
    "jp-MarkdownHeadingCollapsed": true,
    "tags": []
   },
   "source": [
    "<h3>Define a Colormap and Label for Each Variable in the File</h3>"
   ]
  },
  {
   "cell_type": "markdown",
   "id": "c1f0a63f-3067-46a8-b795-7d46f006939c",
   "metadata": {
    "jp-MarkdownHeadingCollapsed": true,
    "tags": []
   },
   "source": [
    "Within SASSIE's collection of jupyter notebooks, the colormaps used for each variable are held as consistant as possible across all datasets. This function defines the colormap and a label for the variable of interest. "
   ]
  },
  {
   "cell_type": "code",
   "execution_count": null,
   "id": "9d81bbe9-1a39-4d0c-9815-25c438f67700",
   "metadata": {},
   "outputs": [],
   "source": [
    "#DEFINES COLORMAPS AND LABELS OF EACH VARIABLE IN THIS DATA SET\n",
    "def define_variable_attributes(var):\n",
    "    if var == 'surface_wave_period':\n",
    "        colormap = 'cool'  \n",
    "        var_label = 'Surface Wave Period (s)'\n",
    "    if (var=='wind_speed'): \n",
    "        colormap = 'cividis'\n",
    "        var_label = 'Wind Speed (m/s)'\n",
    "    if (var=='wind_direction'):\n",
    "        colormap = 'twilight'\n",
    "        var_label = 'Wind Direction ($^{\\circ}$N)'\n",
    "    if (var =='air_temperature'):\n",
    "        colormap = 'magma'\n",
    "        var_label = 'Air Temperature ($^{\\circ}$C)'\n",
    "    if (var == 'air_pressure'):\n",
    "        colormap = 'Blues'\n",
    "        var_label= 'Air Pressure (hPa)'\n",
    "    if var == 'surface_wave_direction':\n",
    "        cmap = 'hsv'\n",
    "        var_label = 'Surface Wave Direction ($^{\\circ}$N)'\n",
    "    if var=='surface_wave_height':\n",
    "        colormap = 'autumn'\n",
    "        var_label = 'Wave Height (m)'\n",
    "    if var =='salinity':\n",
    "        colormap = 'viridis'\n",
    "        var_label = 'Salinity'\n",
    "    if var =='water_temperature':\n",
    "        colormap = 'plasma'\n",
    "        var_label = 'Water Temperature ($^{\\circ}$C)'\n",
    "    if var == 'time':\n",
    "        colormap = cmr.neon\n",
    "        var_label = 'Date'\n",
    "    return colormap,var_label"
   ]
  },
  {
   "cell_type": "markdown",
   "id": "e4d364ce-5366-4193-93dc-32558720d47f",
   "metadata": {
    "jp-MarkdownHeadingCollapsed": true,
    "tags": []
   },
   "source": [
    "<h3>Define a Function to Create a Map of the Study Area</h3>"
   ]
  },
  {
   "cell_type": "markdown",
   "id": "83dd53fa-16fc-4f47-9868-4733e85e0daa",
   "metadata": {
    "jp-MarkdownHeadingCollapsed": true,
    "tags": []
   },
   "source": [
    "The following function creates a map of the SASSIE study area, which is defined by minimum and maximum lat/lon values. These ranges can be changed later when the function is called to zoom in/out on the study area."
   ]
  },
  {
   "cell_type": "code",
   "execution_count": null,
   "id": "1396bce7-061a-4dae-9889-c8b35dc24c66",
   "metadata": {
    "tags": []
   },
   "outputs": [],
   "source": [
    "def map_study_area(latmin,latmax,lonmin,lonmax):\n",
    "    \n",
    "    global fig \n",
    "    global ax\n",
    "    \n",
    "    #create the map as a figure, set the lat and lon ranges, and add land + river data:\n",
    "    fig = plt.figure(figsize=(10,8))\n",
    "    ax = plt.axes(projection=cartopy.crs.NorthPolarStereo(central_longitude=-150))\n",
    "    ax.set_extent([lonmin,lonmax,latmin,latmax], crs=cartopy.crs.PlateCarree())\n",
    "    ax.coastlines(color='k')  \n",
    "    ax.add_feature(cartopy.feature.LAND, facecolor = '0.50',zorder=1)\n",
    "    ax.add_feature(cartopy.feature.RIVERS,facecolor='blue')\n",
    "    #Add lat and lon gridlines and labels:\n",
    "    gl = ax.gridlines(draw_labels=True, dms=True, x_inline=False, y_inline=False, alpha=0.3) #draw_labels=True gives lat labels.\n",
    "    gl.ylocator = matplotlib.ticker.FixedLocator(np.arange(60,90,1))\n",
    "    gl.xlocator = matplotlib.ticker.FixedLocator(np.arange(-180,180,2))\n",
    "    gl.top_labels = False; gl.bottom_labels = True; gl.right_labels = False\n",
    "    \n",
    "    #Add markers for reference cities on the coast:\n",
    "    if (latmin<71.2906) & (lonmin<-156.7886):\n",
    "        utqiagvik = ax.scatter(-156.7886,71.2906,s=100,transform=cartopy.crs.PlateCarree(),c='red',marker = '*',label='Utqiagvik, AK',zorder=2)\n",
    "    if (latmin<70.2002) & (lonmax>-148.4597):\n",
    "        deadhorse = ax.scatter(-148.4597,70.2002,s=100,c='cyan',transform=cartopy.crs.PlateCarree(),marker = '*',label='Deadhorse, AK',zorder=2)\n",
    "        "
   ]
  },
  {
   "cell_type": "markdown",
   "id": "19992b9c-3e97-4111-a3d4-fda089e8c70f",
   "metadata": {
    "jp-MarkdownHeadingCollapsed": true,
    "tags": []
   },
   "source": [
    "<h3>Configure Supporting Data to Add to Maps</h3>"
   ]
  },
  {
   "cell_type": "markdown",
   "id": "d20cebac-dc73-4db6-80ce-e1d7cd10b450",
   "metadata": {
    "jp-MarkdownHeadingCollapsed": true,
    "tags": []
   },
   "source": [
    "<p>The functions for viewing and plotting this data set below have options to include bathymetry, ice,  and/or shiptrack data to add context to maps. If you are using these options, run\n",
    "    <br>the following code blocks to:\n",
    "    <br>1. Create a directory for SASSIE Ship Track data and acess bathymetry data from NOAA\n",
    "    <br>2. Define functions that add these data to your map when called.</p>"
   ]
  },
  {
   "cell_type": "markdown",
   "id": "932e27f6-4002-48e1-a4ae-3577ef70c9f0",
   "metadata": {
    "jp-MarkdownHeadingCollapsed": true,
    "tags": []
   },
   "source": [
    "<h4>Create Directory for and Download Shiptrack Data</h4>"
   ]
  },
  {
   "cell_type": "code",
   "execution_count": null,
   "id": "c6140110-bbf2-4760-a3d7-1e8647baf627",
   "metadata": {
    "tags": []
   },
   "outputs": [],
   "source": [
    "## DIRECTORY TO SHIP TRACK DATA\n",
    "ship_dir =  'Data/TSG/' \n",
    "\n",
    "#DOWLOAD SHIPTRACK DATA\n",
    "if not os.path.isfile(ship_dir+'SASSIE_Fall_2022_Shipboard_TSG.nc'):\n",
    "    os.makedirs(ship_dir)\n",
    "    url = 'https://archive.podaac.earthdata.nasa.gov/podaac-ops-cumulus-protected/SASSIE_L2_SHIPBOARD_TSG_V1/SASSIE_Fall_2022_Shipboard_TSG.nc'\n",
    "    with requests.Session() as session:\n",
    "            session.auth = (username, password)\n",
    "            r1 = session.request('get', url)\n",
    "            r = session.get(r1.url, auth=(username, password))\n",
    "            if r.status_code == 200:\n",
    "                if r.ok:\n",
    "                    with open(ship_dir+'SASSIE_Fall_2022_Shipboard_TSG.nc', 'wb') as f:\n",
    "                        f.write(r.content) \n",
    "                        print('Saving Input File: ' + ship_dir+'SASSIE_Fall_2022_Shipboard_TSG.nc') \n",
    "            else:\n",
    "                print(\"Error:\", r.status_code)\n",
    "                if r.status_code == 401:\n",
    "                    print ('Your Username and/or password are incorrect. Please try again')\n",
    "else: \n",
    "    print('Shipboard TSG file is already in local directory')"
   ]
  },
  {
   "cell_type": "markdown",
   "id": "bc2fe72c-afe4-46c6-b886-7795286f66dd",
   "metadata": {
    "jp-MarkdownHeadingCollapsed": true,
    "tags": []
   },
   "source": [
    "<h4> Access NOAA Bathymetry Data </h4>"
   ]
  },
  {
   "cell_type": "code",
   "execution_count": null,
   "id": "9e134324-4b69-415c-9e3c-9bc145deeeb7",
   "metadata": {},
   "outputs": [],
   "source": [
    "#READ IN TOPOGRAPHY/BATHYMETRY DATA\n",
    "url = 'http://ferret.pmel.noaa.gov/thredds/dodsC/data/PMEL/etopo2.nc'\n",
    "etopodata = xr.open_dataset(url) "
   ]
  },
  {
   "cell_type": "markdown",
   "id": "a8cd4994-cb2a-4857-b4b5-42613bedacbe",
   "metadata": {
    "jp-MarkdownHeadingCollapsed": true,
    "tags": []
   },
   "source": [
    "<h4>Define a Function to Index Relevant Bathymetry Data and Add it to the Map</h4>\n",
    "This function will index bathymetry data from NOAA within the appropriate spatial range and add it to the map. \n"
   ]
  },
  {
   "cell_type": "code",
   "execution_count": null,
   "id": "727808b9-ba87-4bbb-aaab-adcbaa86c29a",
   "metadata": {},
   "outputs": [],
   "source": [
    "def add_bathy_data(latmin,latmax,lonmin,lonmax):\n",
    "        topoin = etopodata.rose.values[0:-1:5,1:-1:5]\n",
    "        lons = etopodata.etopo2_x.values[0:-1:5]\n",
    "        lats = etopodata.etopo2_y.values[0:-1:5]\n",
    "        lons_in_range = lons[np.where((lons >lonmin-1) & (lons<lonmax+1))]\n",
    "        lats_in_range = lats[np.where((lats >latmin-1) & (lats<latmax+1))]\n",
    "        topo_in_range = np.squeeze(topoin[np.squeeze(np.where((lats >latmin-1) & (lats<latmax+1))),:][:,np.where((lons >lonmin-1) & (lons<lonmax+1))])\n",
    "        [bathy_lon,bathy_lat] = np.meshgrid(lons_in_range,lats_in_range)\n",
    "        \n",
    "        bathy = ax.contour(bathy_lon,bathy_lat,topo_in_range,np.arange(-6000,-1000,300),transform=cartopy.crs.PlateCarree(),cmap='gray',alpha = 0.2,zorder = 0)"
   ]
  },
  {
   "cell_type": "markdown",
   "id": "aaf7434e-6b24-47f2-855f-c2d145fa0bd4",
   "metadata": {
    "jp-MarkdownHeadingCollapsed": true,
    "tags": []
   },
   "source": [
    "<h4>Define a Function to Add Shiptrack Data to a Map</h4>\n",
    "This function will pull the lat/lon data from the SASSIE Shipboard TSG file and put it onto a map. "
   ]
  },
  {
   "cell_type": "code",
   "execution_count": null,
   "id": "8a5d290b-be7a-4b61-a40f-55b3122b8e93",
   "metadata": {},
   "outputs": [],
   "source": [
    "def add_ship_track():\n",
    "        ds_ship = xr.open_dataset(ship_dir+'/SASSIE_Fall_2022_Shipboard_TSG.nc')\n",
    "        ship_time = np.squeeze(ds_ship['time'])\n",
    "        ship_lat = np.squeeze(ds_ship['latitude'])\n",
    "        ship_lon = np.squeeze(ds_ship['longitude'])\n",
    "       \n",
    "        track = ax.plot(ship_lon, \n",
    "                     ship_lat,linewidth = 0.5,\n",
    "                     c='black',\n",
    "                       transform=cartopy.crs.PlateCarree(),label = 'Ship Track',zorder=1)"
   ]
  },
  {
   "cell_type": "markdown",
   "id": "558ea3b6-dec5-4be1-bd90-fb3269d2a445",
   "metadata": {
    "jp-MarkdownHeadingCollapsed": true,
    "tags": []
   },
   "source": [
    "# Figure Making Code"
   ]
  },
  {
   "cell_type": "markdown",
   "id": "25709127-efeb-45e8-9e16-1b090ddcb53d",
   "metadata": {
    "jp-MarkdownHeadingCollapsed": true,
    "tags": []
   },
   "source": [
    "<h2>Make Maps of This Data</h2>\n",
    "<p>Using the code in this section, the user can plot the Waveglider data on a map colored by time, waveglider number, or one of the pyhsical measurement variables recorded. </p>"
   ]
  },
  {
   "cell_type": "markdown",
   "id": "a1d9de87-859b-4f98-8fad-fa0ea510c4d5",
   "metadata": {
    "jp-MarkdownHeadingCollapsed": true,
    "tags": []
   },
   "source": [
    "<h3> Mapping the Time and Location of Waveglider Data Collection</h3>"
   ]
  },
  {
   "cell_type": "markdown",
   "id": "8e941f8a-47b1-43d0-895c-be8360e8d82f",
   "metadata": {
    "jp-MarkdownHeadingCollapsed": true,
    "tags": []
   },
   "source": [
    "The map_wavegliders function shows the track of the Wavegliders on a map, colored by time. Various features of this function:\n",
    "    <br>1. The function automatically adds the track of the R/V Woldstad in Black for reference. \n",
    "    <br>2. This function adds bathymetry contours showing the position of the continental shelf by default for reference. "
   ]
  },
  {
   "cell_type": "code",
   "execution_count": null,
   "id": "8097de2c-4824-4cb7-90e1-a846a8bf860d",
   "metadata": {
    "tags": []
   },
   "outputs": [],
   "source": [
    "##USE THIS TO PLOT THE WAVE GLIDER TRACKS ON THE WHOLE CAMPAIGN MAP AND COLOR BY TIME##\n",
    "def map_wavegliders(bathymetry_data=True,ship_track=True):\n",
    "        \n",
    "    ##ESTABLISH START AND END TIMES FOR WG COLOR SCALE\n",
    "    ds = xr.open_dataset(files[3])\n",
    "    time = ds.time.values\n",
    "    wg_start_time = min(time)\n",
    "    wg_end_time = max(time)\n",
    "    \n",
    "    ##CREATE A MAP WITH LAND AND CITY MARKERS\n",
    "    latmin = 70\n",
    "    latmax =74\n",
    "    lonmin=-157\n",
    "    lonmax=-142\n",
    "    \n",
    "    #make the map\n",
    "    map_study_area(latmin,latmax,lonmin,lonmax)\n",
    "    \n",
    "    #give it a title\n",
    "    ax.set_title('Waveglider Tracks',fontsize=22,pad=1) \n",
    "\n",
    "    \n",
    "    ##OPTIONAL MAP ADD-ONS\n",
    "    if ship_track==True:\n",
    "        add_ship_track()\n",
    "    \n",
    "    if bathymetry_data==True:\n",
    "        add_bathy_data(latmin,latmax,lonmin,lonmax)\n",
    "        \n",
    "    ##APPLY THE TIME AND LOCATION DATA IN EACH WAVEGLIDER FILE \n",
    "    for file in files:\n",
    "        ds_wg = xr.open_dataset(file)\n",
    "        wg_time = np.squeeze(ds_wg['time'])\n",
    "        wg_lat = np.squeeze(ds_wg['latitude'])\n",
    "        wg_lon = np.squeeze(ds_wg['longitude']) \n",
    "        \n",
    "        deployment_track = ax.scatter(wg_lon,wg_lat,s = 1,\n",
    "                       c = wg_time,cmap = cmr.neon,\n",
    "                       transform=cartopy.crs.PlateCarree(),zorder=2,vmin = wg_start_time.astype('int64'),vmax = wg_end_time.astype('int64'))\n",
    "                        \n",
    "    cbar = fig.colorbar(deployment_track, ax=ax, orientation=\"horizontal\", pad=0.1)\n",
    "    cbar.set_label(label='Date',size='large',weight='bold')\n",
    "    cbar_tick_array=(np.linspace(wg_start_time.astype('int64'),wg_end_time.astype('int64'),5))\n",
    "    cbar.set_ticks(cbar_tick_array)\n",
    "    cbar.set_ticklabels(pd.to_datetime(cbar_tick_array).date)\n",
    "        \n",
    "    ##SAVE THE FIGURE \n",
    "    if not os.path.exists(fig_dir+'map'):\n",
    "        os.makedirs(fig_dir+'map')\n",
    "    print('Saving Output Image:  '+fig_dir+'map/waveglider_tracks_map.png')\n",
    "    plt.savefig(fig_dir+'map/waveglider_tracks_map.png',dpi='figure',format='png')"
   ]
  },
  {
   "cell_type": "code",
   "execution_count": null,
   "id": "385123ca-f8d0-4913-998b-e442502591bc",
   "metadata": {
    "tags": []
   },
   "outputs": [],
   "source": [
    "map_wavegliders()"
   ]
  },
  {
   "cell_type": "markdown",
   "id": "aef94024-5ac8-4ae4-92e6-f0ee6838578b",
   "metadata": {
    "jp-MarkdownHeadingCollapsed": true,
    "tags": []
   },
   "source": [
    "<h3> Mapping the Tracks of Individual Wavegliders</h3>"
   ]
  },
  {
   "cell_type": "markdown",
   "id": "d8bf0961-dfaa-44e4-b89e-9976f5f5113a",
   "metadata": {
    "jp-MarkdownHeadingCollapsed": true,
    "tags": []
   },
   "source": [
    "The individual_tracks function shows the track of the Wavegliders on a map, colored by waveglider number. Various features of this function:\n",
    "    <br>1. The function automatically adds the track of the R/V Woldstad in Black for reference. \n",
    "    <br>2. This function adds bathymetry contours showing the position of the continental shelf by default for reference. "
   ]
  },
  {
   "cell_type": "code",
   "execution_count": null,
   "id": "4a341112-5096-4514-82c5-cd4ec4072f8d",
   "metadata": {
    "tags": []
   },
   "outputs": [],
   "source": [
    "##USE THIS TO PLOT THE WAVE GLIDER TRACKS ON THE WHOLE CAMPAIGN MAP AND COLOR BY WG NUMBER\n",
    "\n",
    "def map_individual_tracks(wg_number='all',bathymetry_data=True,ship_track=True):\n",
    "    \n",
    "    ##CREATE A MAP WITH LAND AND CITY MARKERS\n",
    "    latmin = 70\n",
    "    latmax =74\n",
    "    lonmin=-157\n",
    "    lonmax=-142\n",
    "    \n",
    "    map_study_area(latmin,latmax,lonmin,lonmax)\n",
    "\n",
    "    ax.set_title('Waveglider Tracks',fontsize=22,pad=1) \n",
    "    \n",
    "    ##OPTIONAL MAP ADD-ONS\n",
    "    if ship_track==True:\n",
    "        add_ship_track()\n",
    "        \n",
    "    if bathymetry_data==True:\n",
    "        add_bathy_data(latmin,latmax,lonmin,lonmax)\n",
    "        \n",
    "    ##ADD LOCATION DATA OF THE SPECIFIED WAVEGLIDERS\n",
    "    if (wg_number =='all')|(wg_number==130):\n",
    "        ds_wg = xr.open_dataset(files[0])\n",
    "        track = ax.plot(ds_wg.longitude, \n",
    "                ds_wg.latitude,linewidth = 1,\n",
    "                c='blue',\n",
    "                transform=cartopy.crs.PlateCarree(),label = 'Waveglider 130',zorder=1)\n",
    "    if (wg_number =='all')|(wg_number==153):\n",
    "        ds_wg = xr.open_dataset(files[1])\n",
    "        track = ax.plot(ds_wg.longitude, \n",
    "                ds_wg.latitude,linewidth = 1,\n",
    "                c='red',\n",
    "                transform=cartopy.crs.PlateCarree(),label = 'Waveglider 153',zorder=1)\n",
    "    if (wg_number =='all')|(wg_number==245):\n",
    "        ds_wg = xr.open_dataset(files[2])\n",
    "        track = ax.plot(ds_wg.longitude, \n",
    "                ds_wg.latitude,linewidth = 1,\n",
    "                c='magenta',\n",
    "                transform=cartopy.crs.PlateCarree(),label = 'Waveglider 245',zorder=1)\n",
    "    if (wg_number =='all')|(wg_number==247):\n",
    "        ds_wg = xr.open_dataset(files[3])\n",
    "        track = ax.plot(ds_wg.longitude, \n",
    "                ds_wg.latitude,linewidth = 1,\n",
    "                c='cyan',\n",
    "                transform=cartopy.crs.PlateCarree(),label = 'Waveglider 247',zorder=1)\n",
    "    \n",
    "    \n",
    "    plt.legend(loc=2)\n",
    "\n",
    "    ##SAVE THE FIGURE \n",
    "    if not os.path.exists(fig_dir+'map'):\n",
    "        os.makedirs(fig_dir+'map')\n",
    "    print('Saving Output Image:  '+fig_dir+'map/waveglider_number_tracks_map.png')\n",
    "    plt.savefig(fig_dir+'map/waveglider_number_tracks_map.png',dpi='figure',format='png')"
   ]
  },
  {
   "cell_type": "code",
   "execution_count": null,
   "id": "7651ac17-2c8c-44da-bd97-c14c97ee0258",
   "metadata": {},
   "outputs": [],
   "source": [
    "map_individual_tracks()\n",
    "map_individual_tracks(wg_number = 245)"
   ]
  },
  {
   "cell_type": "markdown",
   "id": "f549f7fe-f52d-4bf7-ab01-2875c84af80d",
   "metadata": {
    "jp-MarkdownHeadingCollapsed": true,
    "tags": []
   },
   "source": [
    "<h3>Mapping Physical Measurement Sea Surface and Atmospheric Waveglider Data </h3>"
   ]
  },
  {
   "cell_type": "markdown",
   "id": "3ccf10f4-3e5c-49e4-88b6-40c501d92f9a",
   "metadata": {
    "jp-MarkdownHeadingCollapsed": true,
    "tags": []
   },
   "source": [
    "<p>The map_waveglider_variable function shows the track of the Wavegliders on a map, colored by a physical measurement variable they recorded. Various features of this function: </p>\n",
    "    <p>1. The user can specify a specific waveglider (130,153,245,247) of plot all WGs\n",
    "    <br>2. This function adds bathymetry contours showing the position of the continental shelf by default for reference. \n",
    "    <br>4. The user must specify the variable to be plotted, as well as the minimum and maximum value for that variable.</p>"
   ]
  },
  {
   "cell_type": "code",
   "execution_count": null,
   "id": "0e173940-cbb0-4bc9-bd7f-d98d7e266c62",
   "metadata": {
    "tags": []
   },
   "outputs": [],
   "source": [
    "##USE THIS TO MAP WAVEGLIDER VARIABLES \n",
    "def map_waveglider_variable(var,var_min,var_max,wg_number='all',ship_track=True,bathymetry_data=True):\n",
    "    \n",
    "    if wg_number=='all':\n",
    "        ##LOAD IN ALL WAVEGLIDER DATA\n",
    "        ds_130 = xr.open_dataset(dir_in+'SASSIE_Fall_2022_Waveglider_130.nc')\n",
    "        ds_153 = xr.open_dataset(dir_in+'SASSIE_Fall_2022_Waveglider_153.nc')\n",
    "        ds_245 = xr.open_dataset(dir_in+'SASSIE_Fall_2022_Waveglider_245.nc')\n",
    "        ds_247 = xr.open_dataset(dir_in+'SASSIE_Fall_2022_Waveglider_247.nc')\n",
    "        wg_time = ds_245['time']\n",
    "    else:\n",
    "        ##LOAD IN DATA FROM SELECTED WAVEGLIDER\n",
    "        file = dir_in+'SASSIE_Fall_2022_Waveglider_'+str(wg_number)+'.nc'\n",
    "        ds = xr.open_dataset(file)\n",
    "        wg_time = ds['time']\n",
    "    \n",
    "    ##CREATE A MAP WITH LAND AND CITY MARKERS  \n",
    "    latmin = 70\n",
    "    latmax =74\n",
    "    lonmin=-158\n",
    "    lonmax=-142\n",
    "    \n",
    "    colormap,var_label = define_variable_attributes(var)\n",
    "          \n",
    "    map_study_area(latmin,latmax,lonmin,lonmax)\n",
    "    \n",
    "    if wg_number=='all':\n",
    "        ax.set_title('All Waveglider '+var_label+' Readings',fontsize=15)\n",
    "    else:\n",
    "        ax.set_title('Waveglider '+str(wg_number)+' '+var_label+' Readings',fontsize=15)\n",
    "   \n",
    "    ##OPTIONAL MAP ADD-ONS\n",
    "    if ship_track==True:\n",
    "        add_ship_track()\n",
    "        \n",
    "    if bathymetry_data ==True:\n",
    "        add_bathy_data(latmin,latmax,lonmin,lonmax)\n",
    "        \n",
    "    if wg_number=='all':\n",
    "        if (var=='salinity')|(var=='water_temperature'):\n",
    "            track_130 = ax.scatter(ds_130['longitude'], \n",
    "                     ds_130['latitude'],s=4, \n",
    "                     c=ds_130[var][0,:],cmap=colormap,\n",
    "                       transform=cartopy.crs.PlateCarree(),\n",
    "                          vmin = var_min,\n",
    "                          vmax = var_max,zorder = 2)\n",
    "            \n",
    "            track_153 = ax.scatter(ds_153['longitude'], \n",
    "                     ds_153['latitude'],s=4, \n",
    "                     c=ds_153[var][1,:],cmap=colormap,\n",
    "                       transform=cartopy.crs.PlateCarree(),\n",
    "                          vmin = var_min,\n",
    "                          vmax = var_max,zorder = 2)\n",
    "            \n",
    "            track_245 = ax.scatter(ds_245['longitude'], \n",
    "                     ds_245['latitude'],s=4, \n",
    "                     c=ds_245[var][0,:],cmap=colormap,\n",
    "                       transform=cartopy.crs.PlateCarree(),\n",
    "                          vmin = var_min,\n",
    "                          vmax = var_max,zorder = 2)\n",
    "            \n",
    "            track_247 = ax.scatter(ds_247['longitude'], \n",
    "                     ds_247['latitude'],s=4, \n",
    "                     c=ds_247[var][0,:],cmap=colormap,\n",
    "                       transform=cartopy.crs.PlateCarree(),\n",
    "                          vmin = var_min,\n",
    "                          vmax = var_max,zorder = 2)\n",
    "            \n",
    "            matplotlib.pyplot.colorbar(track_247, ax=ax, orientation=\"horizontal\", pad=0.1).set_label(label=var_label,size='large',weight='bold')\n",
    "\n",
    "\n",
    "    else:  \n",
    "        if (var=='salinity')|(var=='water_temperature'):\n",
    "            contour = ds[var][0,:]\n",
    "        elif (var=='salinity') & (wg_number==153):\n",
    "            contour = ds[var][1,:]\n",
    "        else: \n",
    "            contour = ds[var]\n",
    "        ##APPLY WAVEGLIDER DATA \n",
    "        wg_track = ax.scatter(ds['longitude'], \n",
    "                     ds['latitude'],s=5, \n",
    "                     c=contour,cmap=colormap,\n",
    "                       transform=cartopy.crs.PlateCarree(),\n",
    "                          vmin = var_min,\n",
    "                          vmax = var_max,zorder = 2)\n",
    "\n",
    "        plt.legend(loc=2)           \n",
    "        matplotlib.pyplot.colorbar(wg_track, ax=ax, orientation=\"horizontal\", pad=0.1).set_label(label=var_label,size='large',weight='bold')\n",
    "    \n",
    "    \n",
    "    #SAVE FIGURE \n",
    "    if not os.path.exists(fig_dir+ var):\n",
    "        os.makedirs(fig_dir+var)\n",
    "    print('Saving Output Image:  '+fig_dir+var+'/Waveglider_'+str(wg_number)+'.png')\n",
    "    plt.savefig(fig_dir+var+'/Waveglider_'+str(wg_number)+var+'.png',dpi='figure',format='png')\n",
    "    \n",
    "    \n",
    "    "
   ]
  },
  {
   "cell_type": "code",
   "execution_count": null,
   "id": "063e10de-f86b-494c-b581-f49fb1213678",
   "metadata": {
    "tags": []
   },
   "outputs": [],
   "source": [
    "map_waveglider_variable('salinity',23,30)\n",
    "map_waveglider_variable('water_temperature',-1,6)\n"
   ]
  },
  {
   "cell_type": "code",
   "execution_count": null,
   "id": "32fcd0ca-77ef-4e8c-9adf-18b064d5cefb",
   "metadata": {
    "tags": []
   },
   "outputs": [],
   "source": [
    "map_waveglider_variable('water_temperature',-1,4,wg_number=130)\n",
    "map_waveglider_variable('air_temperature',-5,5,wg_number=153)"
   ]
  },
  {
   "cell_type": "markdown",
   "id": "974bf2d5-5278-421f-8893-9927d868f8db",
   "metadata": {
    "jp-MarkdownHeadingCollapsed": true,
    "tags": []
   },
   "source": [
    "<h2>Make Timeseries Plots on a 2D Axis</h2>\n",
    "The function in this section plots physical measurement variables collected from the wavegliders on a 4 panneled time series figure."
   ]
  },
  {
   "cell_type": "code",
   "execution_count": null,
   "id": "cb511a63-2526-4de1-855f-884a947bb109",
   "metadata": {
    "tags": []
   },
   "outputs": [],
   "source": [
    "def plot_waveglider_timeseries(var1,var2,var3,var4,wg_number='all'): \n",
    "    \n",
    "    [colormap,var1_label] = define_variable_attributes(var1)\n",
    "    [colormap,var2_label] = define_variable_attributes(var2)\n",
    "    [colormap,var3_label] = define_variable_attributes(var3)\n",
    "    [colormap,var4_label] = define_variable_attributes(var4)\n",
    "\n",
    "    if wg_number == 'all':\n",
    "        #SECLECT AND LOAD WAVEGLIDER DATA\n",
    "        file_130 = dir_in+'SASSIE_Fall_2022_Waveglider_130.nc'\n",
    "        file_153 = dir_in+'SASSIE_Fall_2022_Waveglider_153.nc'\n",
    "        file_245 = dir_in+'SASSIE_Fall_2022_Waveglider_245.nc'\n",
    "        file_247 = dir_in+'SASSIE_Fall_2022_Waveglider_247.nc'\n",
    "        \n",
    "        ds_130 = xr.open_dataset(file_130)\n",
    "        ds_153 = xr.open_dataset(file_153)\n",
    "        ds_245 = xr.open_dataset(file_245)\n",
    "        ds_247 = xr.open_dataset(file_247)\n",
    "        \n",
    "        #MAKE A FOUR PANELED TIME SERIES PLOT\n",
    "        \n",
    "        fig,axs = plt.subplots(4,sharex=True,figsize=(10,10))\n",
    "        \n",
    "        plt.rcParams['axes.labelsize'] =12\n",
    "        \n",
    "        axs[0].plot(ds_130['time'],ds_130[var1][0,:],c='blue',linewidth=0.4,label='WG 130')\n",
    "        axs[0].plot(ds_153['time'],ds_153[var1][0,:],c='red',linewidth=0.4,label='WG 153')\n",
    "        axs[0].plot(ds_245['time'],ds_245[var1][0,:],c='green',linewidth=0.4,label='WG 245')\n",
    "        axs[0].plot(ds_247['time'],ds_247[var1][0,:],c='cyan',linewidth=0.4,label='WG 247')\n",
    "        axs[0].set(ylabel=var1_label)\n",
    "        \n",
    "        axs[0].legend(ncol=2)\n",
    "        \n",
    "\n",
    "        axs[1].plot(ds_130['time'],ds_130[var2][0,:],c='blue',linewidth=0.4)\n",
    "        axs[1].plot(ds_153['time'],ds_153[var2][1,:],c='red',linewidth=0.4)\n",
    "        axs[1].plot(ds_245['time'],ds_245[var2][0,:],c='green',linewidth=0.4)\n",
    "        axs[1].plot(ds_247['time'],ds_247[var2][0,:],c='cyan',linewidth=0.4)\n",
    "        axs[1].set(ylabel=var2_label)\n",
    "        \n",
    "        axs[2].plot(ds_130['time'],ds_130[var3],c='blue',linewidth=0.4)\n",
    "        axs[2].plot(ds_153['time'],ds_153[var3],c='red',linewidth=0.4)\n",
    "        axs[2].plot(ds_245['time'],ds_245[var3],c='green',linewidth=0.4)\n",
    "        axs[2].plot(ds_247['time'],ds_247[var3],c='cyan',linewidth=0.4)\n",
    "        axs[2].set(ylabel=var3_label)\n",
    "        \n",
    "        axs[3].plot(ds_130['time'],ds_130[var4],c='blue',linewidth=0.4)\n",
    "        axs[3].plot(ds_153['time'],ds_153[var4],c='red',linewidth=0.4)\n",
    "        axs[3].plot(ds_245['time'],ds_245[var4],c='green',linewidth=0.4)\n",
    "        axs[3].plot(ds_247['time'],ds_247[var4],c='cyan',linewidth=0.4)\n",
    "        axs[3].set(ylabel=var4_label,xlabel='Date')\n",
    "        \n",
    "        plt.xticks(pd.date_range(start=ds_245['time'].values[0],end=ds_245['time'].values[-1],periods=3))\n",
    "        fig.suptitle(var1_label+', '+var2_label+', '+var3_label+', and '+var4_label+' Data from All Wavegliders',fontsize=13,y=0.94)\n",
    "\n",
    "    else: \n",
    "        #SECLECT AND LOAD WAVEGLIDER DATA\n",
    "        file = dir_in+'SASSIE_Fall_2022_Waveglider_'+str(wg_number)+'.nc'\n",
    "        ds = xr.open_dataset(file)\n",
    "\n",
    "        #MAKE A FOUR PANELED TIME SERIES PLOT\n",
    "        fig,axs = plt.subplots(4,sharex=True)\n",
    "\n",
    "        axs[0].plot(ds['time'],ds[var1][0,:],c='black',linewidth=0.4)\n",
    "        axs[0].set(ylabel=var1_label)\n",
    "        axs[1].plot(ds['time'],ds[var2][0,:],c='black',linewidth=0.4)\n",
    "        axs[1].set(ylabel=var2_label)\n",
    "        axs[2].plot(ds['time'],ds[var3],c='black',linewidth=0.4)\n",
    "        axs[2].set(ylabel=var3_label)\n",
    "        axs[3].plot(ds['time'],ds[var4],c='black',linewidth=0.4)\n",
    "        axs[3].set(ylabel=var4_label,xlabel = 'Date')\n",
    "\n",
    "        plt.xticks(pd.date_range(start=ds['time'].values[0],end=ds['time'].values[-1],periods=3))\n",
    "        fig.suptitle(var1_label+', '+var2_label+', and '+var3_label+' Data from Waveglider '+str(wg_number),fontsize=9)\n",
    "\n",
    "    ##SAVE FIGURE \n",
    "    if not os.path.exists(fig_dir+'/timeseries'):\n",
    "        os.makedirs(fig_dir+'/timeseries')\n",
    "    print('Saving Output Image:  '+fig_dir+'timeseries/Waveglider'+str(wg_number)+'_'+var1+'_'+var2+'_'+var3+'_'+var4+'.png')\n",
    "    plt.savefig(fig_dir+'timeseries/Waveglider'+str(wg_number)+'_'+var1+'_'+var2+'_'+var3+'_'+var4+'.png',dpi='figure',format='png')\n",
    "    "
   ]
  },
  {
   "cell_type": "code",
   "execution_count": null,
   "id": "b1481e93-5d13-4368-ac38-41387758a855",
   "metadata": {
    "tags": []
   },
   "outputs": [],
   "source": [
    "plot_waveglider_timeseries('water_temperature','salinity','wind_speed','surface_wave_height')"
   ]
  },
  {
   "cell_type": "code",
   "execution_count": null,
   "id": "9cedf28e-7f20-4c27-b4aa-0a4a9cb54cf0",
   "metadata": {
    "tags": []
   },
   "outputs": [],
   "source": []
  }
 ],
 "metadata": {
  "kernelspec": {
   "display_name": "Python 3 (ipykernel)",
   "language": "python",
   "name": "python3"
  },
  "language_info": {
   "codemirror_mode": {
    "name": "ipython",
    "version": 3
   },
   "file_extension": ".py",
   "mimetype": "text/x-python",
   "name": "python",
   "nbconvert_exporter": "python",
   "pygments_lexer": "ipython3",
   "version": "3.9.16"
  }
 },
 "nbformat": 4,
 "nbformat_minor": 5
}
