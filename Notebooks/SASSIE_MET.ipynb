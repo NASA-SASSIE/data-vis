{
 "cells": [
  {
   "cell_type": "markdown",
   "id": "1294f8c7-a168-4d6e-8073-75a40c17f277",
   "metadata": {
    "tags": []
   },
   "source": [
    "# SASSIE Shipboard Meteorology Data \n",
    "<p>The Meteorology sensors mounted on the R/V Woldstad took atmospheric measurements measurements throughout the campaign. Meteorology data are downloaded and plotted using the code below! <b>Please run the 'Data Download and Metadata Viewing' and 'Supporting Code' sections in order before running the 'Figure Making Code'.</b> </p>\n",
    "\n",
    "<p>The aim of this notebook is to assist the end user in exploratory data analysis by downloading the SASSIE data from NASA's PODAAC, opening the dataset and displaying it's associated metadata, and creating a few visualizations. This notebook was created by Elizabeth Westbrook. For questions and trouble shooting, please email westbrooke@uncw.edu.</p>\n"
   ]
  },
  {
   "cell_type": "markdown",
   "id": "d1d970c1-6e2f-45bb-b564-87ef62c8bc0f",
   "metadata": {
    "jp-MarkdownHeadingCollapsed": true,
    "tags": []
   },
   "source": [
    "# Credential Entry\n",
    "In this section, you shoud enter your EarthData username and password. <b> DO NOT enter usernames and passwords here which are sensitive.</b> If you do not already have an EarthData account, you can create one <a href=\"https://urs.earthdata.nasa.gov/\">here</a> . </p>\n",
    "    <p>Please enter your EarthData credentials below: </p>"
   ]
  },
  {
   "cell_type": "code",
   "execution_count": null,
   "id": "69cce69c-462e-4252-9578-72b10538dfd6",
   "metadata": {},
   "outputs": [],
   "source": [
    "#Enter Earthdata Credentials: \n",
    "username = 'your_usename'\n",
    "password = 'your_password'"
   ]
  },
  {
   "cell_type": "markdown",
   "id": "2f846b71-21d6-4052-8064-1a81c9bf1e3a",
   "metadata": {
    "jp-MarkdownHeadingCollapsed": true,
    "tags": []
   },
   "source": [
    "# Data Download and Metadata Viewing\n",
    "The code in this section will download the dataset from PO.DAAC and open it as an xarray object for metadata and variable attribute viewing."
   ]
  },
  {
   "cell_type": "code",
   "execution_count": null,
   "id": "97d5c72e-7812-4735-9dda-d5649674b84f",
   "metadata": {},
   "outputs": [],
   "source": [
    "import numpy as np\n",
    "import xarray as xr\n",
    "import glob \n",
    "from datetime import datetime, timedelta \n",
    "import matplotlib.pyplot as plt\n",
    "import cartopy\n",
    "import matplotlib\n",
    "import os\n",
    "import sys\n",
    "import pandas as pd\n",
    "import requests\n",
    "import cmasher as cmr"
   ]
  },
  {
   "cell_type": "markdown",
   "id": "573b4ed0-43b0-4d59-9491-b6cb3e9e77b5",
   "metadata": {
    "jp-MarkdownHeadingCollapsed": true,
    "tags": []
   },
   "source": [
    "<h2>Download The Meteorology data from PO.DAAC</h2>\n",
    "<p> All data from the SASSIE campaign is stored on NASA's PO.DAAC. The code in this section of the notebook will download SASSIE Meteorology data from PO.DAAC, which is accessed through EarthData. "
   ]
  },
  {
   "cell_type": "code",
   "execution_count": null,
   "id": "121da661-ca7b-4ebc-b9d6-692b8d04ba3c",
   "metadata": {},
   "outputs": [],
   "source": [
    "##DIRECTORY TO SAVE MET DATA\n",
    "dir_in = 'Data/MET/'"
   ]
  },
  {
   "cell_type": "markdown",
   "id": "635729de-05a2-44ca-973f-6e406dcf7af2",
   "metadata": {},
   "source": [
    "The next block of code creates the directory specified above and downloads the shipboard MET file to your binder session if it has not already been downloaded.<b> To download the dataset to your local disk from here, right click on the file you want to download and click 'download'. </b>"
   ]
  },
  {
   "cell_type": "code",
   "execution_count": null,
   "id": "4cd22514-cc39-4d7a-b260-af5651755ef9",
   "metadata": {},
   "outputs": [],
   "source": [
    "#if the file has not already been downloaded, it is downloaded here:     \n",
    "if not os.path.isfile(dir_in+'SASSIE_Fall_2022_shipboard_MET.nc'):\n",
    "    os.makedirs(dir_in)\n",
    "    url = 'https://archive.podaac.earthdata.nasa.gov/podaac-ops-cumulus-protected/SASSIE_L2_SHIPBOARD_METEOROLOGY_V1/SASSIE_Fall_2022_shipboard_MET.nc'\n",
    "    with requests.Session() as session:\n",
    "            session.auth = (username, password)\n",
    "            r1 = session.request('get', url)\n",
    "            r = session.get(r1.url, auth=(username, password))\n",
    "            if r.status_code == 200:\n",
    "                if r.ok:\n",
    "                    with open(dir_in+'SASSIE_Fall_2022_shipboard_MET.nc', 'wb') as f:\n",
    "                        f.write(r.content) \n",
    "                        print('Saving Input File: ' + dir_in+'SASSIE_Fall_2022_shipboard_MET.nc') \n",
    "            else:\n",
    "                print(\"Error:\", r.status_code)\n",
    "                if r.status_code == 401:\n",
    "                    print ('Your Username and/or password are incorrect. Please try again')\n",
    "else: \n",
    "    print('Shipboard MET file is already in binder directory')"
   ]
  },
  {
   "cell_type": "markdown",
   "id": "a6e12f19-779f-4049-af60-b2383bea7c7d",
   "metadata": {
    "jp-MarkdownHeadingCollapsed": true,
    "tags": []
   },
   "source": [
    "<h2> View The Metadata Inside the TSG File</h2>\n",
    "\n",
    "The netCDF file has global metadata attributes and attributes associated with each variable. This next block will load data and metadata of the netCDF file into an xarray object (ds). <br> The data set will then be displayed in a clickable HTML format. "
   ]
  },
  {
   "cell_type": "code",
   "execution_count": null,
   "id": "b9f2cc7e-4259-4cf2-98fd-8b8a49a77c83",
   "metadata": {},
   "outputs": [],
   "source": [
    "file = dir_in + '/SASSIE_Fall_2022_shipboard_MET.nc'\n",
    "ds = xr.open_dataset(file)\n",
    "ds"
   ]
  },
  {
   "cell_type": "markdown",
   "id": "d88ab95f-7389-4aeb-9904-a9e61e484d69",
   "metadata": {
    "jp-MarkdownHeadingCollapsed": true,
    "tags": []
   },
   "source": [
    "# Supporting Code \n",
    "The code in this section provides a set up for the figure making code below by defining directories for data and figures and creating functions that will be called to actually map the data"
   ]
  },
  {
   "cell_type": "markdown",
   "id": "7e12a6c0-cc0c-48c2-8075-9ecc12c10d37",
   "metadata": {
    "jp-MarkdownHeadingCollapsed": true,
    "tags": []
   },
   "source": [
    "<h3>Create a Directory to Save Figures</h3>"
   ]
  },
  {
   "cell_type": "markdown",
   "id": "fd3ba43c-73ae-4189-beb6-2f6ddcfad615",
   "metadata": {
    "jp-MarkdownHeadingCollapsed": true,
    "tags": []
   },
   "source": [
    "The next block creates a directory for figures to be saved"
   ]
  },
  {
   "cell_type": "code",
   "execution_count": null,
   "id": "1530e972-356a-4d7a-8304-9e63276fd5cf",
   "metadata": {},
   "outputs": [],
   "source": [
    "#LOCAL DIRECTORY TO SAVE FIGURES\n",
    "fig_dir = 'Figures/MET/'\n",
    "#FIGURE DIR \n",
    "if not os.path.exists(fig_dir):\n",
    "    os.makedirs(fig_dir)"
   ]
  },
  {
   "cell_type": "markdown",
   "id": "03f284f1-8139-49cf-969d-e69959748162",
   "metadata": {
    "jp-MarkdownHeadingCollapsed": true,
    "tags": []
   },
   "source": [
    "<h3>Define a Colormap and Label for Each Variable in the File</h3>"
   ]
  },
  {
   "cell_type": "markdown",
   "id": "5550761e-2216-4c1f-a7a0-220dd4c24287",
   "metadata": {
    "jp-MarkdownHeadingCollapsed": true,
    "tags": []
   },
   "source": [
    "Within this collection of jupyter notebooks, the colormaps used for each variable are held as consistant as possible across all datasets. This function defines the colormap and a label for the variable of interest. "
   ]
  },
  {
   "cell_type": "code",
   "execution_count": null,
   "id": "3b8a6f2b-84bc-456a-a042-375b331d547c",
   "metadata": {},
   "outputs": [],
   "source": [
    "#DEFINES COLORMAPS AND LABELS OF EACH VARIABLE IN THIS DATA SET\n",
    "def define_variable_attributes(var): \n",
    "    if var == 'downwelling_longwave':\n",
    "        var_label = 'Longwave Radiation (W/m$^{2}$)'\n",
    "        colormap = 'PiYG'\n",
    "    if var == 'shortwave_radiation': \n",
    "        colormap = 'BrBG'\n",
    "        var_label = 'Shortwave Radiation (W/m$^{2}$)'\n",
    "    if var == 'bulk_ustar': \n",
    "        colormap = 'PRGn'\n",
    "        var_label = 'Friction Velocity (m/s)'\n",
    "    if var == 'bulk_wind_stress': \n",
    "        colormap = 'PuOr'\n",
    "        var_label = 'Wind Stress (N/m$^{2}$)'\n",
    "    if var == 'bulk_upwelling_IR':\n",
    "        var_label = 'Upwelling Longwave Radiation (W/m$^{2}$)'\n",
    "        colormap = 'hot'\n",
    "    if var == 'bulk_ocean_temp':\n",
    "        var_label = 'Sea Surface Temperature ($^{\\circ}$C)'\n",
    "        colormap = 'plasma'\n",
    "    if var == 'air_temperature_merged':\n",
    "        var_label = 'Air Temperature ($^{\\circ}$C)'\n",
    "        colormap = 'magma'\n",
    "    if var == 'air_pressure_setra':\n",
    "        var_label = 'Air Pressure from SETRA(hPa)'\n",
    "        colormap = 'Blues'\n",
    "    if var == 'bulk_sensible_heat_flux':\n",
    "        var_label = 'Sensible Heat Flux (W/m$^{2}$)'\n",
    "        colormap = 'autumn'\n",
    "    if var == 'bulk_latent_heat_flux':\n",
    "        var_label = 'Latent Heat Flux (W/m$^{2}$)'\n",
    "        colormap = 'cool'\n",
    "    if var == 'bulk_latent_heat_flux_low':\n",
    "        var_label = 'Latent Heat Flux Low Estimate (W/m$^{2}$)'\n",
    "        colormap = 'cool'\n",
    "    if var == 'bulk_latent_heat_flux_high':\n",
    "        var_label = 'Latent Heat Flux High Estimate (W/m$^{2}$)'\n",
    "        colormap = 'cool'\n",
    "    if var == 'bulk_heatflux_high':\n",
    "        var_label = 'Net Heat Flux High Estimate (W/m$^{2}$)'\n",
    "        colormap = 'Wistia'\n",
    "    if var == 'bulk_heatflux_low':\n",
    "        var_label = 'Net Heat Flux Low Estimate (W/m$^{2}$)'\n",
    "        colormap = 'Wistia'\n",
    "    if var == 'bulk_heatflux':\n",
    "        var_label = 'NetHeat Flux (W/m$^{2}$)'\n",
    "        colormap = 'Wistia'\n",
    "    if var == 'bulk_buoyancy_flux':\n",
    "        var_label = 'Atmospheric Buoyancy Flux (W/m$^{2}$)'\n",
    "        colormap = 'twilight'\n",
    "    if var == 'bulk_drag_coeff':\n",
    "        var_label = 'Wind Stress Transfer (Drag Coefficient)'\n",
    "        colormap = 'reds' \n",
    "    if var == 'uw_bar_gill':\n",
    "        var_label = 'Direct Covariance Stress(m$^{2}$/s$^{2}$)'\n",
    "        colormap = 'reds'\n",
    "    if var == 'bulk_U10':\n",
    "        var_label = 'Wind Speed Adjusted to 10m (m/s)'\n",
    "        colormap = 'cividis' \n",
    "    if var == 'bulk_U10_neutral':\n",
    "        var_label = 'Neutral Wind Speed Adjusted to 10m (m/s)'\n",
    "        colormap = 'cividis'\n",
    "    if var == 'wspd_true_gill':\n",
    "        var_label = 'True Wind Speed from Gill (m/s)'\n",
    "        colormap = 'cividis'\n",
    "    if var == 'wspd_rel_gill':\n",
    "        var_label = 'Relative Wind Speed from Gill (m/s)'\n",
    "        colormap = 'cividis'\n",
    "    if var == 'wspd_true_metek':\n",
    "        var_label = 'True Wind Speed from Metek (m/s)'\n",
    "        colormap = 'cividis'\n",
    "    if var == 'wspd_average':\n",
    "        var_label = 'True Wind Speed Average (m/s)'\n",
    "        colormap = 'cividis'\n",
    "    if var == 'wspd_rel_metek':\n",
    "        var_label = 'Relative Wind Speed from Metek (m/s)'\n",
    "        colormap = 'cividis'\n",
    "    if var == 'wdir_true_gill':\n",
    "        var_label = 'True Wind Direction from North (Degree) Gill'\n",
    "        colormap = 'twilight' \n",
    "    if var == 'wdir_rel_gill':\n",
    "        var_label = 'Relative Wind Direction (Degree) Gill'\n",
    "        colormap = 'twilight' \n",
    "    if var == 'wdir_true_metek':\n",
    "        var_label = 'True Wind Direction from North (Degree) Metek'\n",
    "        colormap = 'twilight'\n",
    "    if var == 'wdir_rel_metek':\n",
    "        var_label = 'Relative Wind Direction (Degree) Metek'\n",
    "        colormap = 'twilight'\n",
    "    if var == 'wdir_average':\n",
    "        var_label = 'Average Wind Direction from North (Degree)'\n",
    "        colormap = 'twilight'    \n",
    "    return colormap,var_label"
   ]
  },
  {
   "cell_type": "markdown",
   "id": "2f5c34c9-9c21-4a71-8b7b-14211cdb1043",
   "metadata": {
    "jp-MarkdownHeadingCollapsed": true,
    "tags": []
   },
   "source": [
    "<h3>Are you exploring this entire data set, or just the data collected durring a specific time period?</h3>"
   ]
  },
  {
   "cell_type": "markdown",
   "id": "26831e3f-269e-451f-9141-63de243b1b34",
   "metadata": {
    "jp-MarkdownHeadingCollapsed": true,
    "tags": []
   },
   "source": [
    "<p> In order to efficiently accomplish the data collection goals of the SASSIE campaign, the cruise was broken up into five destinct plays. \n",
    "    <br>\n",
    "    <br>Play 1 - Ice and Open Water Survey\n",
    "    <br>Play 2 - Zig-Zag Open Water Survey \n",
    "    <br>Play 3 - Ice Survey\n",
    "    <br>Play 4 - Drifter-Following Survey Boxes\n",
    "    <br>Play 5 - Repeated Ice to Open Water Transect</p>\n",
    "    <p>The following block of code identifies the start and end datetimes of each of these plays, seperates the dataset into subsets for each play, and puts the start dates, end dates, and subseted data into lists for easier acess later. </p>"
   ]
  },
  {
   "cell_type": "code",
   "execution_count": null,
   "id": "51c143af-2030-471c-9f33-bfeefef4d965",
   "metadata": {},
   "outputs": [],
   "source": [
    "##Identify the start and end times of each play\n",
    "play1_start = datetime(2022,9,8,8) \n",
    "play1_end = datetime(2022,9,13)\n",
    "play2_start = datetime(2022,9,14)\n",
    "play2_end = datetime(2022,9,16)\n",
    "play3_start = datetime(2022,9,16)\n",
    "play3_end = datetime(2022,9,18)\n",
    "play4_start = datetime(2022,9,19)\n",
    "play4_end  = datetime(2022,9,23)\n",
    "play5_start = datetime(2022,9,25)\n",
    "play5_end = datetime(2022,9,29)\n",
    "\n",
    "#subset the dataset into each play. \n",
    "play1_data =ds.sel(time=slice(play1_start,play1_end))\n",
    "play2_data =ds.sel(time=slice(play2_start,play2_end))\n",
    "play3_data =ds.sel(time=slice(play3_start,play3_end))\n",
    "play4_data =ds.sel(time=slice(play4_start,play4_end))\n",
    "play5_data =ds.sel(time=slice(play5_start,play5_end))\n",
    "campaign_data = ds.sel(time=slice(play1_start,play5_end))\n",
    "\n",
    "#Create lists of start dates, end dates, and subsetted datasets. \n",
    "play_start_dates = [play1_start,play2_start,play3_start,play4_start,play5_start,play1_start]\n",
    "play_end_dates = [play1_end,play2_end,play3_end,play4_end,play5_end,play5_end]\n",
    "play_data_all = [play1_data,play2_data,play3_data,play4_data,play5_data,campaign_data]\n"
   ]
  },
  {
   "cell_type": "markdown",
   "id": "8e0dff3f-32b1-436d-afe0-011836be852f",
   "metadata": {
    "jp-MarkdownHeadingCollapsed": true,
    "tags": []
   },
   "source": [
    "<h3>Define a Function to Create a Map of the Study Area</h3>"
   ]
  },
  {
   "cell_type": "markdown",
   "id": "c41e2a1d-55a8-4a0a-8ea7-11b29d239ef4",
   "metadata": {
    "jp-MarkdownHeadingCollapsed": true,
    "tags": []
   },
   "source": [
    "The following function creates a map of the SASSIE study area, which is defined by minimum and maximum lat/lon values. These ranges can be changed later when the function is called to zoom in/out on the study area."
   ]
  },
  {
   "cell_type": "code",
   "execution_count": null,
   "id": "e195d36d-7ff5-4c21-b0d0-d4a3a41ea0af",
   "metadata": {},
   "outputs": [],
   "source": [
    "def map_study_area(latmin = 70, latmax =74,lonmin=-157,lonmax=-140):\n",
    "    global fig \n",
    "    global ax\n",
    "    \n",
    "    #create the map as a figure, set the lat and lon ranges, and add land + river data:\n",
    "    fig = plt.figure(figsize=(10,8))\n",
    "    ax = plt.axes(projection=cartopy.crs.NorthPolarStereo(central_longitude=-150))\n",
    "    ax.set_extent([lonmin,lonmax,latmin,latmax], crs=cartopy.crs.PlateCarree())\n",
    "    ax.coastlines(color='k')  \n",
    "    ax.add_feature(cartopy.feature.LAND, facecolor = '0.50',zorder=1)\n",
    "    ax.add_feature(cartopy.feature.RIVERS,facecolor='blue')\n",
    "    #Add lat and lon gridlines and labels:\n",
    "    gl = ax.gridlines(draw_labels=True, dms=True, x_inline=False, y_inline=False, alpha=0.3) #draw_labels=True gives lat labels.\n",
    "    gl.ylocator = matplotlib.ticker.FixedLocator(np.arange(60,75,1))\n",
    "    gl.xlocator = matplotlib.ticker.FixedLocator(np.arange(-170,-140,2))\n",
    "    gl.top_labels = False; gl.bottom_labels = True; gl.right_labels = False\n",
    "    \n",
    "    #Add markers for reference cities on the coast:\n",
    "    if (latmin<71.2906) & (lonmin<-156.7886):\n",
    "        utqiagvik = ax.scatter(-156.7886,71.2906,s=100,transform=cartopy.crs.PlateCarree(),c='red',marker = '*',label='Utqiagvik, AK',zorder=2)\n",
    "    if (latmin<70.2002) & (lonmax>-148.4597):\n",
    "        deadhorse = ax.scatter(-148.4597,70.2002,s=100,c='cyan',transform=cartopy.crs.PlateCarree(),marker = '*',label='Deadhorse, AK',zorder=2)"
   ]
  },
  {
   "cell_type": "markdown",
   "id": "bdc79235-2d75-4db5-ba46-bc82a2c46a37",
   "metadata": {
    "jp-MarkdownHeadingCollapsed": true,
    "tags": []
   },
   "source": [
    "<h3>Configure Supporting Data to Add to Maps</h3>"
   ]
  },
  {
   "cell_type": "markdown",
   "id": "48df0321-38f3-4e01-a2ab-b33e5510eff1",
   "metadata": {
    "jp-MarkdownHeadingCollapsed": true,
    "tags": []
   },
   "source": [
    "<p>The functions for viewing and plotting this data set below have options to include bathymetry and/or AMSR ice data to add context to maps. If you are using these options, run\n",
    "    <br>the following code blocks to:\n",
    "    <br>1. Create a directory for AMSR ice data and acess bathymetry data from NOAA\n",
    "    <br>2. Define functions that add these data to your map when called.</p>"
   ]
  },
  {
   "cell_type": "markdown",
   "id": "e4e39f4c-3cc3-4e48-8cf7-93c9db3c1022",
   "metadata": {
    "jp-MarkdownHeadingCollapsed": true,
    "tags": []
   },
   "source": [
    "<h4>Create Directory for Ice Data</h4>"
   ]
  },
  {
   "cell_type": "code",
   "execution_count": null,
   "id": "e0d7d589-777e-4c3a-b588-d4f141dbb53a",
   "metadata": {
    "tags": []
   },
   "outputs": [],
   "source": [
    "##LOCAL DIRECTORY TO SAVE AMSR SEA ICE DATA \n",
    "ice_dir = 'Ice_Data/'\n",
    "\n",
    "#ICE DATA DIR\n",
    "if not os.path.exists(ice_dir):\n",
    "    os.makedirs(ice_dir)"
   ]
  },
  {
   "cell_type": "markdown",
   "id": "2207ded2-27cf-44bc-8d5b-da431a50e140",
   "metadata": {
    "jp-MarkdownHeadingCollapsed": true,
    "tags": []
   },
   "source": [
    "<h4>Access NOAA Bathymetry Data</h4>"
   ]
  },
  {
   "cell_type": "code",
   "execution_count": null,
   "id": "6c0928b0-07fd-42df-940f-3c30de83fea3",
   "metadata": {
    "tags": []
   },
   "outputs": [],
   "source": [
    "##READ IN TOPOGRAPHY/BATHYMETRY DATA\n",
    "url = 'http://ferret.pmel.noaa.gov/thredds/dodsC/data/PMEL/etopo2.nc'\n",
    "etopodata = xr.open_dataset(url) "
   ]
  },
  {
   "cell_type": "markdown",
   "id": "d2a90cac-b177-4adb-baed-04645998ccf3",
   "metadata": {
    "jp-MarkdownHeadingCollapsed": true,
    "tags": []
   },
   "source": [
    "<h4>Define a Function to Add Ice Data to a Map</h4>\n",
    "This function will download the AMSR ice product at the start and end date of the time period specified and add it to the plot. \n",
    "<br>Ice data from the start date will be shown in blue and ice data from the end date will be shown in red. "
   ]
  },
  {
   "cell_type": "code",
   "execution_count": null,
   "id": "8245ea3e-da8e-4d02-a15e-c8867cdcc976",
   "metadata": {},
   "outputs": [],
   "source": [
    "def add_ice_data(start_date,end_date):\n",
    "    \n",
    "        #get ice data at start of time range\n",
    "        play_start = start_date\n",
    "        filename_si='AMSR_U2_L3_SeaIce12km_B04_'+str(play_start.year)+str(play_start.month).zfill(2)+str(play_start.day).zfill(2)+'.he5' \n",
    "        i=0\n",
    "        time_tmp=play_start - timedelta(days=i)\n",
    "        while os.path.isfile(ice_dir+filename_si)==False and i<15:\n",
    "            time_tmp=play_start - timedelta(days=i)\n",
    "            filename_si='AMSR_U2_L3_SeaIce12km_B04_'+str(time_tmp.year)+str(time_tmp.month).zfill(2)+str(time_tmp.day).zfill(2)+'.he5'\n",
    "            url = 'https://n5eil01u.ecs.nsidc.org/AMSA/AU_SI12.001/'+str(time_tmp.year)+'.'+str(time_tmp.month).zfill(2)+'.'+str(time_tmp.day).zfill(2)+'/'+filename_si\n",
    "            with requests.Session() as session:\n",
    "                session.auth = (username, password)\n",
    "                r = session.get(session.request('get', url).url, auth=(username, password))\n",
    "                if (r.status_code == 200) & (r.ok):\n",
    "                        with open(ice_dir+filename_si, 'wb') as f:\n",
    "                            f.write(r.content) \n",
    "                            print('Saving Input File: ' + ice_dir+filename_si) \n",
    "                else:\n",
    "                    print(\"Error:\", r.status_code)\n",
    "                    if r.status_code == 401:\n",
    "                        print ('Your Username and/or password are incorrect. Please try again')\n",
    "            i=i+1\n",
    "            \n",
    "\n",
    "        #get ice data at end of time range \n",
    "        play_end = end_date\n",
    "        filename_si='AMSR_U2_L3_SeaIce12km_B04_'+str(play_end.year)+str(play_end.month).zfill(2)+str(play_end.day).zfill(2)+'.he5' \n",
    "        i=0\n",
    "        time_tmp=play_end - timedelta(days=i)\n",
    "        while os.path.isfile(ice_dir+filename_si)==False and i<15:\n",
    "            time_tmp=play_end - timedelta(days=i)\n",
    "            filename_si='AMSR_U2_L3_SeaIce12km_B04_'+str(time_tmp.year)+str(time_tmp.month).zfill(2)+str(time_tmp.day).zfill(2)+'.he5'\n",
    "            url = 'https://n5eil01u.ecs.nsidc.org/AMSA/AU_SI12.001/'+str(time_tmp.year)+'.'+str(time_tmp.month).zfill(2)+'.'+str(time_tmp.day).zfill(2)+'/'+filename_si\n",
    "            with requests.Session() as session:\n",
    "                session.auth = (username, password)\n",
    "                r = session.get(session.request('get', url).url, auth=(username, password))\n",
    "                if (r.status_code == 200) & (r.ok):\n",
    "                        with open(ice_dir+filename_si, 'wb') as f:\n",
    "                            f.write(r.content) \n",
    "                            print('Saving Input File: ' + ice_dir+filename_si) \n",
    "                else:\n",
    "                    print(\"Error:\", r.status_code)\n",
    "                    if r.status_code == 401:\n",
    "                        print ('Your Username and/or password are incorrect. Please try again')       \n",
    "            i=i+1\n",
    "\n",
    "            \n",
    "        #apply ice data at the end of the time range (ice sheet growth) in red\n",
    "        filename_si='AMSR_U2_L3_SeaIce12km_B04_'+str(play_end.year)+str(play_end.month).zfill(2)+str(play_end.day).zfill(2)+'.he5' \n",
    "        if os.path.isfile(ice_dir+filename_si):\n",
    "            dsc = xr.open_dataset(ice_dir+filename_si,group='HDFEOS/GRIDS/NpPolarGrid12km')\n",
    "            dsd = xr.open_dataset(ice_dir+filename_si,group='HDFEOS/GRIDS/NpPolarGrid12km/Data Fields') \n",
    "            var1 = np.array(dsd.SI_12km_NH_ICECON_DAY.squeeze().values)\n",
    "            indx = np.where((var1==120) | (var1==0)); var1[indx] = 0\n",
    "            ice_growth_location = np.ma.masked_where(var1==0,var1)\n",
    "            pp = ax.pcolormesh(dsc.lon,dsc.lat,ice_growth_location, \n",
    "                            vmin=0,vmax=100, # Set max and min values for plotting\n",
    "                            cmap='Reds_r', shading='auto',   # shading='auto' to avoid warning\n",
    "                            transform=cartopy.crs.PlateCarree())\n",
    "            \n",
    "        #apply ice data at the start of the time range in blue\n",
    "        filename_si='AMSR_U2_L3_SeaIce12km_B04_'+str(play_start.year)+str(play_start.month).zfill(2)+str(play_start.day).zfill(2)+'.he5' \n",
    "        if os.path.isfile(ice_dir+filename_si):\n",
    "            dsc = xr.open_dataset(ice_dir+filename_si,group='HDFEOS/GRIDS/NpPolarGrid12km')\n",
    "            dsd = xr.open_dataset(ice_dir+filename_si,group='HDFEOS/GRIDS/NpPolarGrid12km/Data Fields') \n",
    "            var1 = np.array(dsd.SI_12km_NH_ICECON_DAY.squeeze().values)\n",
    "            indx = np.where((var1==120) | (var1==0)); var1[indx] = 0\n",
    "            ice_location = np.ma.masked_where(var1==0,var1)\n",
    "            pp = ax.pcolormesh(dsc.lon,dsc.lat,ice_location, \n",
    "                            vmin=0,vmax=100, # Set max and min values for plotting\n",
    "                            cmap='Blues_r', shading='auto',   # shading='auto' to avoid warning\n",
    "                            transform=cartopy.crs.PlateCarree())\n",
    "        "
   ]
  },
  {
   "cell_type": "markdown",
   "id": "9a249293-93ac-422d-bdee-a15cdcd9c94f",
   "metadata": {
    "jp-MarkdownHeadingCollapsed": true,
    "tags": []
   },
   "source": [
    "<h4>Define a Function to Index Relevant Bathymetry Data and Add it to the Map</h4>\n",
    "This function will index bathymetry data from NOAA within the appropriate spatial range and add it to the map. \n"
   ]
  },
  {
   "cell_type": "code",
   "execution_count": null,
   "id": "1c7b94a4-e721-4b29-9945-ed679d05ac61",
   "metadata": {},
   "outputs": [],
   "source": [
    "def add_bathy_data(latmin,latmax,lonmin,lonmax):\n",
    "        topoin = etopodata.rose.values[0:-1:5,1:-1:5]\n",
    "        lons = etopodata.etopo2_x.values[0:-1:5]\n",
    "        lats = etopodata.etopo2_y.values[0:-1:5]\n",
    "        lons_in_range = lons[np.where((lons >lonmin-1) & (lons<lonmax+1))]\n",
    "        lats_in_range = lats[np.where((lats >latmin-1) & (lats<latmax+1))]\n",
    "        topo_in_range = np.squeeze(topoin[np.squeeze(np.where((lats >latmin-1) & (lats<latmax+1))),:][:,np.where((lons >lonmin-1) & (lons<lonmax+1))])\n",
    "        [bathy_lon,bathy_lat] = np.meshgrid(lons_in_range,lats_in_range)\n",
    "        \n",
    "        bathy = ax.contour(bathy_lon,bathy_lat,topo_in_range,np.arange(-6000,-1000,300),transform=cartopy.crs.PlateCarree(),cmap='gray',alpha = 0.2,zorder = 0)"
   ]
  },
  {
   "cell_type": "markdown",
   "id": "a86ebbcd-0bbd-4b51-a33a-069576ea525b",
   "metadata": {
    "jp-MarkdownHeadingCollapsed": true,
    "tags": []
   },
   "source": [
    "# Figure Making Code "
   ]
  },
  {
   "cell_type": "markdown",
   "id": "b16c7082-0025-401a-a199-205e67aa2f1e",
   "metadata": {
    "jp-MarkdownHeadingCollapsed": true,
    "tags": []
   },
   "source": [
    "<h2>Make Maps of This Data</h2>\n",
    "<p>Using the code in this section, the user can plot the MET data on a map colored by time or some collected meteorlogical data variable with or without quiver arrows for wind speed and direction. The code blocks in the 'supporting code' section should be run first. </p>"
   ]
  },
  {
   "cell_type": "markdown",
   "id": "faa2d647-4961-490d-8f61-f23e44a7d592",
   "metadata": {
    "jp-MarkdownHeadingCollapsed": true,
    "tags": []
   },
   "source": [
    "<h3> Mapping the Time and Location of Meteorology Data Collection</h3>"
   ]
  },
  {
   "cell_type": "markdown",
   "id": "631eedab-d4b2-4696-bce3-0b6ae2c355af",
   "metadata": {
    "jp-MarkdownHeadingCollapsed": true,
    "tags": []
   },
   "source": [
    "<p>The map_ship_track function shows the track of the R/V Woldstad on a map, colored by time. Various features of this function: </p>\n",
    "    <p>1. The user has the option to specify a specific play to show on the map.The default play shown is '6', which gives time and location data from the entire campaign.\n",
    "    <br>2. This function adds bathymetry contours showing the position of the continental shelf by default for reference. \n",
    "    <br>3. The user has the option to add the AMSR ice product at the start and end of the time period shown by inputting ice_data=True. </p>"
   ]
  },
  {
   "cell_type": "code",
   "execution_count": null,
   "id": "bf720a06-bede-4aa1-9180-c66e96bd14ee",
   "metadata": {},
   "outputs": [],
   "source": [
    "##Map The Ship Track and contour by time \n",
    "def map_ship_track(play,bathymetry_data=True,ice_data=False):\n",
    "    \n",
    "    ##LOAD DATA FOR SELECTED PLAY\n",
    "    time_data = np.squeeze(play_data_all[play-1]['time'])\n",
    "    lat_data = np.squeeze(play_data_all[play-1]['latitude'])\n",
    "    lon_data = np.squeeze(play_data_all[play-1]['longitude'])\n",
    "    \n",
    "    ##CREATE A MAP WITH LAND, CITY MARKERS, BATHYMETRY DATA, AND AMSR ICE DATA AT START AND END OF PLAY.\n",
    "    #To show the whole campaign area, use latmin = 70, latmax =74,lonmin=-157,lonmax=-140\n",
    "    latmin = min(lat_data.values)-1; latmax = max(lat_data.values)+1; lonmin = min(lon_data.values)-1; lonmax = max(lon_data.values)+1\n",
    "    if play == 6: \n",
    "        latmin = 70\n",
    "    \n",
    "    #make the map\n",
    "    map_study_area(latmin = latmin,lonmin=lonmin,latmax=latmax,lonmax=lonmax)\n",
    "    \n",
    "    #give it a title\n",
    "    if play == 6:\n",
    "        ax.set_title('Location of Meteorology Observations \\nfrom Entire Campaign',fontsize=18) \n",
    "    else:\n",
    "        ax.set_title('Location of Meteorology Observations \\nfrom Play '+str(play),fontsize=18) \n",
    "        \n",
    "    ##OPTIONAL MAP ADD-ONs\n",
    "    if bathymetry_data == True:    \n",
    "        add_bathy_data(latmin,latmax,lonmin,lonmax)\n",
    "    if ice_data ==True:\n",
    "        add_ice_data(play_start_dates[play-1],play_end_dates[play-1])\n",
    "        \n",
    "    ##APPLY SHIP DATA TO THE MAP \n",
    "    track = ax.scatter(lon_data, \n",
    "                 lat_data,s=1, \n",
    "                 c=time_data,cmap=cmr.neon,\n",
    "                   transform=cartopy.crs.PlateCarree())\n",
    "    cbar = fig.colorbar(track, ax=ax, orientation=\"horizontal\", pad=0.1)\n",
    "    cbar.set_label(label='Date',size='large',weight='bold')\n",
    "    if play == 3:\n",
    "        number_of_ticks = 3\n",
    "    else:\n",
    "        number_of_ticks = 5\n",
    "    cbar_tick_array=(np.linspace(min(time_data.values).astype('int64'),max(time_data.values).astype('int64'),number_of_ticks))\n",
    "    cbar.set_ticks(cbar_tick_array)\n",
    "    cbar.set_ticklabels(pd.to_datetime(cbar_tick_array).date)\n",
    "    \n",
    "    ##SAVE FIGURE\n",
    "    if not os.path.exists(fig_dir+'shiptrack'):\n",
    "        os.makedirs(fig_dir+'shiptrack')\n",
    "    if play==6:\n",
    "        print('Saving Output Image:  '+fig_dir+'shiptrack/'+'SASSIE_SHIPTRACK_MET_entire_campaign.png')\n",
    "        plt.savefig(fig_dir+'shiptrack/'+'SASSIE_SHIPTRACK_MET_entire_campaign.png',dpi='figure',format='png')\n",
    "    else:\n",
    "        print('Saving Output Image:  '+fig_dir+'shiptrack/'+'SASSIE_SHIPTRACK_MET_play'+'_'+str(play)+'.png')\n",
    "        plt.savefig(fig_dir+'shiptrack/'+'SASSIE_SHIPTRACK_MET_play'+'_'+str(play)+'.png',dpi='figure',format='png')"
   ]
  },
  {
   "cell_type": "code",
   "execution_count": null,
   "id": "e38c59d1-5048-458b-b051-1492d7b545c4",
   "metadata": {},
   "outputs": [],
   "source": [
    "map_ship_track(6)"
   ]
  },
  {
   "cell_type": "markdown",
   "id": "d87ecfaa-4755-454c-ae2a-32a814db048d",
   "metadata": {
    "jp-MarkdownHeadingCollapsed": true,
    "tags": []
   },
   "source": [
    "<h3>Mapping Atmospheric Data Along the Ship Track</h3>"
   ]
  },
  {
   "cell_type": "markdown",
   "id": "7f4f6a83-c5b6-4709-99bd-d2a38a893816",
   "metadata": {
    "jp-MarkdownHeadingCollapsed": true,
    "tags": []
   },
   "source": [
    "<p>The map_met_data function shows the track of the R/V Woldstad on a map, colored by an atmospheric variable of your choosing from the file. Various features of this function: </p>\n",
    "    <p>1. The user has the option to specify a specific play to show on the map.The default play shown is '6', which gives time and location data from the entire campaign.\n",
    "    <br>2. This function adds bathymetry contours showing the position of the continental shelf by default for reference. \n",
    "    <br>3. The user has the option to add the AMSR ice product at the start and end of the time period shown by inputting ice_data=True.\n",
    "    <br>4. The user must specify the variable to be plotted, as well as the minimum and maximum value for that variable.</p>"
   ]
  },
  {
   "cell_type": "code",
   "execution_count": null,
   "id": "5bde3b7e-c844-47a9-867c-39ceeea6eaa3",
   "metadata": {
    "tags": []
   },
   "outputs": [],
   "source": [
    "## PLOT TEMP AND SALINITY DATA PLAY BY PLAY## (Version 2 with ice before and after)\n",
    "def map_met_data(play,var,var_min,var_max,bathymetry_data=True,ice_data=False,shiptrack=True):\n",
    "\n",
    "    #LOAD DATA FOR SELECTED PLAY\n",
    "    np_var = np.squeeze(play_data_all[play-1][var])\n",
    "    np_lat = np.squeeze(play_data_all[play-1]['latitude'])\n",
    "    np_lon = np.squeeze(play_data_all[play-1]['longitude'])\n",
    "    \n",
    "    play_start = play_start_dates[play-1]\n",
    "    play_end = play_end_dates[play-1]\n",
    "    \n",
    "    \n",
    "    colormap,var_label = define_variable_attributes(var)\n",
    "    \n",
    "    ##CREATE A MAP WITH LAND, CITY MARKERS, BATHYMETRY DATA(optional), AND AMSR ICE DATA AT START AND END OF PLAY(optional).\n",
    "    #To show the whole campaign area, use latmin = 70, latmax =74,lonmin=-157,lonmax=-140\n",
    "    latmin = min(np_lat.values)-1\n",
    "    latmax = max(np_lat.values)+1\n",
    "    lonmin = min(np_lon.values)-1\n",
    "    lonmax = max(np_lon.values)+1\n",
    "    \n",
    "    #make the map\n",
    "    map_study_area(latmin=latmin,latmax=latmax,lonmin=lonmin,lonmax=lonmax)\n",
    "    \n",
    "    #give it a title\n",
    "    if play == 6:\n",
    "        ax.set_title('Shipboard '+ var_label+' Reading from Entire Campaign',fontsize=18) \n",
    "    else:\n",
    "        ax.set_title('Shipboard '+var_label+' Reading from Play '+str(play),fontsize=18) \n",
    "        \n",
    "  \n",
    "    ##ADD OPTIONAL BATHYMETRY AND/OR ICE DATA\n",
    "    \n",
    "    if bathymetry_data==True: \n",
    "        add_bathy_data(latmin,latmax,lonmin,lonmax)\n",
    "        \n",
    "    if ice_data ==True:\n",
    "        add_ice_data(play_start_dates[play-1],play_end_dates[play-1])\n",
    "        \n",
    "    if shiptrack == True:\n",
    "        ##ADD SHIP TRACK DATA\n",
    "        track = ax.plot(np_lon, \n",
    "                     np_lat,linewidth = 0.5,\n",
    "                     c='black',\n",
    "                       transform=cartopy.crs.PlateCarree(),label = 'Ship Track',zorder=1)\n",
    "    plt.legend(loc=2)\n",
    "\n",
    "    ##APPLY SHIPBOARD MET DATA\n",
    "    track = ax.scatter(np_lon, \n",
    "                 np_lat,s=5, \n",
    "                 c=np_var,cmap=colormap,\n",
    "                   transform=cartopy.crs.PlateCarree(),\n",
    "                   vmin = var_min,\n",
    "                   vmax = var_max)\n",
    "                        \n",
    "    matplotlib.pyplot.colorbar(track, ax=ax, orientation=\"horizontal\", pad=0.1).set_label(label=var_label,size='large',weight='bold')\n",
    "    \n",
    "    ##SAVE FIGURE\n",
    "    if not os.path.exists(fig_dir+var):\n",
    "        os.makedirs(fig_dir+var)\n",
    "    if play == 6:\n",
    "        print('Saving Output Image:  '+fig_dir+var+'/'+'SASSIE_SHIPBOARD_MET_entire_campaign.png')\n",
    "        plt.savefig(fig_dir+var+'/'+'SASSIE_SHIPBOARD_MET_entire_campaign.png',dpi='figure',format='png')\n",
    "    else: \n",
    "        print('Saving Output Image:  '+fig_dir+var+'/'+'SASSIE_SHIPBOARD_MET_play'+'_'+str(play)+'.png')\n",
    "        plt.savefig(fig_dir+var+'/'+'SASSIE_SHIPBOARD_MET_play'+'_'+str(play)+'.png',dpi='figure',format='png')\n",
    "    "
   ]
  },
  {
   "cell_type": "code",
   "execution_count": null,
   "id": "2fd569a1-8b69-41b6-9edb-24d3e5b6f14e",
   "metadata": {},
   "outputs": [],
   "source": [
    "map_met_data(4,'air_temperature_merged',-2,4)\n",
    "map_met_data(3,'air_temperature_merged',-3,0.5,ice_data=True)"
   ]
  },
  {
   "cell_type": "markdown",
   "id": "806c9b98-a3d2-4fca-ac0b-efb586c07b98",
   "metadata": {
    "jp-MarkdownHeadingCollapsed": true,
    "tags": []
   },
   "source": [
    "<h3>Mapping Atmospheric Data Along the Ship Track with wind arrows</h3>"
   ]
  },
  {
   "cell_type": "markdown",
   "id": "a37c0511-f6e5-4b4b-8082-8ab0403d7040",
   "metadata": {
    "jp-MarkdownHeadingCollapsed": true,
    "tags": []
   },
   "source": [
    "<p>The plot_wind_data function shows the track of the R/V Woldstad on a map, colored by an atmospheric variable of your choosing from the file with quiver arrows showing the speed and direction of the wind. Various features of this function: </p>\n",
    "    <p>1. The user has the option to specify a specific play to show on the map.The default play shown is '6', which gives time and location data from the entire campaign.\n",
    "    <br>2. This function adds bathymetry contours showing the position of the continental shelf by default for reference. \n",
    "    <br>3. The user has the option to add the AMSR ice product at the start and end of the time period shown by inputting ice_data=True.\n",
    "    <br>4. The user must specify the variable to be plotted, as well as the minimum and maximum value for that variable.</p>"
   ]
  },
  {
   "cell_type": "code",
   "execution_count": null,
   "id": "b943b236-d561-4da4-87b0-4d3e9a926b4b",
   "metadata": {},
   "outputs": [],
   "source": [
    "##PLOT WIND ARROW PLOT \n",
    "def plot_wind_data(play,var,varmin,varmax,bathymetry_data=True,ice_data=False,shiptrack=False):\n",
    "    \n",
    "    #LOAD DATA FOR SELECTED PLAY\n",
    "    np_wdir = np.squeeze(play_data_all[play-1]['wdir_average'])\n",
    "    np_wspd = np.squeeze(play_data_all[play-1]['wspd_average'])\n",
    "    np_lat = np.squeeze(play_data_all[play-1]['latitude'])\n",
    "    np_lon = np.squeeze(play_data_all[play-1]['longitude'])\n",
    "    np_var = np.squeeze(play_data_all[play-1][var])\n",
    "    np_wdir_adjusted = -np_wdir -90\n",
    "\n",
    "    colormap,var_label = define_variable_attributes(var)\n",
    "    \n",
    "    play_start = play_start_dates[play-1]\n",
    "    play_end = play_end_dates[play-1]\n",
    "    \n",
    "    \n",
    "    ##CREATE A MAP WITH LAND, CITY MARKERS, BATHYMETRY DATA(optional), AND AMSR ICE DATA AT START AND END OF PLAY(optional).\n",
    "    #To show the whole campaign area, use latmin = 70, latmax =74,lonmin=-157,lonmax=-140\n",
    "    latmin = min(np_lat.values)-1; latmax = max(np_lat.values)+0.6; lonmin = min(np_lon.values)-1; lonmax = max(np_lon.values)+1\n",
    "            \n",
    "    #make a map \n",
    "    map_study_area(latmin=latmin,latmax=latmax,lonmin=lonmin,lonmax=lonmax)\n",
    "    \n",
    "    #give it a title\n",
    "    if play == 6:\n",
    "        ax.set_title('Shipboard Wind and ' +var_label+' Data \\n Entire Campaign',fontsize=18) \n",
    "    else:\n",
    "        ax.set_title('Shipboard Wind  and '+var_label+' Data \\n Play '+str(play),fontsize=18) \n",
    "        \n",
    "    ##ADD OPTIONAL BATHYMETRY AND/OR ICE DATA\n",
    "    if bathymetry_data==True: \n",
    "            add_bathy_data(latmin,latmax,lonmin,lonmax)    \n",
    "    if ice_data ==True:\n",
    "        add_ice_data(play_start,play_end) \n",
    "    if shiptrack == True:\n",
    "        ##ADD SHIP TRACK DATA\n",
    "        track = ax.plot(np_lon, \n",
    "                     np_lat,linewidth = 0.5,\n",
    "                     c='black',\n",
    "                       transform=cartopy.crs.PlateCarree(),label = 'Ship Track',zorder=1)\n",
    "    plt.legend(loc=2)\n",
    "\n",
    "    ##APPLY WIND DATA\n",
    "    u = np_wspd * np.cos(np.radians(np_wdir_adjusted))\n",
    "    v = np_wspd * np.sin(np.radians(np_wdir_adjusted))\n",
    "                      \n",
    "    q = ax.quiver(np_lon.values,np_lat.values, u, v,np_var,scale = 400,width = 0.002,cmap = colormap,clim=[varmin,varmax],transform=cartopy.crs.PlateCarree())\n",
    "    \n",
    "    plt.colorbar(q, ax=ax, orientation=\"vertical\", pad=0.1).set_label(label=var_label,size='large',weight='bold')\n",
    "    #ADD REFERENCE ARROW\n",
    "    lat_ref = latmin + abs(latmax-latmin)/8\n",
    "    lon_ref = lonmax - abs(lonmax-lonmin)/4\n",
    "    angle_ref = [-45+90]\n",
    "    speed_ref = [10]\n",
    "    \n",
    "    u_ref = speed_ref * np.cos(np.radians(angle_ref))\n",
    "    v_ref = speed_ref * np.sin(np.radians(angle_ref))\n",
    "    \n",
    "    q_ref = ax.quiver(np.array([lon_ref]),np.array([lat_ref]),np.array([u_ref]),np.array([v_ref]),scale = 400,width = 0.002,transform=cartopy.crs.PlateCarree())\n",
    "    text = 'Reference Arrow \\n10 m/s \\n45 Degrees Clockwise of North'\n",
    "    plt.text(lon_ref,lat_ref-0.15,text,transform=cartopy.crs.PlateCarree(),va='center',ha='center',multialignment='center')\n",
    "    \n",
    "    ##SAVE FIGURE\n",
    "    if not os.path.exists(fig_dir+'quiver_plots/'+var):\n",
    "        os.makedirs(fig_dir+'quiver_plots/'+var)\n",
    "    if play == 6:\n",
    "        print('Saving Output Image:  '+fig_dir+'quiver_plots/'+var+'/'+'SASSIE_SHIPBOARD_MET_entire_campaign.png')\n",
    "        plt.savefig(fig_dir+'quiver_plots/'+var+'/'+'SASSIE_SHIPBOARD_MET_entire_campaign.png',dpi='figure',format='png')\n",
    "    else: \n",
    "        print('Saving Output Image:  '+fig_dir+'quiver_plots/'+var+'/'+'SASSIE_SHIPBOARD_MET_play'+'_'+str(play)+'.png')\n",
    "        plt.savefig(fig_dir+'quiver_plots/'+var+'/'+'SASSIE_SHIPBOARD_MET_play'+'_'+str(play)+'.png',dpi='figure',format='png')"
   ]
  },
  {
   "cell_type": "code",
   "execution_count": null,
   "id": "1683cc0b-ae27-45e0-be0d-0b322f50574c",
   "metadata": {},
   "outputs": [],
   "source": [
    "plot_wind_data(6,'air_temperature_merged',-6,4,shiptrack=True)"
   ]
  },
  {
   "cell_type": "markdown",
   "id": "8695d35c-61cc-43bf-b883-410cec08cdd1",
   "metadata": {
    "jp-MarkdownHeadingCollapsed": true,
    "tags": []
   },
   "source": [
    "<h2>Make Timeseries Plots on a 2D Axis</h2>\n",
    "The functions in this section plots atmospheric weather variables and atmospheric flux variables collected from the R/V Woldstad Meteorology probe durring a selected play on panneled time series figures."
   ]
  },
  {
   "cell_type": "markdown",
   "id": "b2a8c027-d2de-4d5d-8c97-2eb870221ec5",
   "metadata": {
    "jp-MarkdownHeadingCollapsed": true,
    "tags": []
   },
   "source": [
    "#### Plot Wind speed, wind direction, and air temp"
   ]
  },
  {
   "cell_type": "code",
   "execution_count": null,
   "id": "2b9d5ed1-bf4f-488f-a471-a466f707978c",
   "metadata": {},
   "outputs": [],
   "source": [
    "def plot_shipboard_met_wind_timeseries(play): \n",
    "    \n",
    "    #SECLECT AND LOAD PLAY DATA\n",
    "    play_start = play_start_dates[play-1]\n",
    "    play_end = play_end_dates[play-1]\n",
    "    \n",
    "    time_data = np.squeeze(play_data_all[play-1]['time'])\n",
    "    wspd_data = np.squeeze(play_data_all[play-1]['wspd_average'])\n",
    "    wdir_data = np.squeeze(play_data_all[play-1]['wdir_average'])\n",
    "    air_temp_data = np.squeeze(play_data_all[play-1]['air_temperature_merged'])\n",
    "\n",
    "    \n",
    "    #MAKE A THREE PANNELED TIME SERIES PLOT\n",
    "    fig,axs = plt.subplots(3,sharex=True)\n",
    "    \n",
    "    axs[0].plot(time_data,wspd_data,linewidth=0.4,color='k')\n",
    "    axs[0].set_ylabel('True Wind\\n Speed (m/s)',fontsize=9)\n",
    "    axs[1].plot(time_data,wdir_data,linewidth=0.4,color='k')\n",
    "    axs[1].set_ylabel('True Wind Direction\\n(Degrees from North)',fontsize=9)\n",
    "    axs[2].plot(time_data,air_temp_data,linewidth=0.4,color='k')\n",
    "    axs[2].set_ylabel('Air \\nTemerature ($^{\\circ}$C)',fontsize=9)\n",
    "    axs[2].set_xlabel('Date')\n",
    "    \n",
    "    plt.xticks(pd.date_range(start=time_data.values[0],end=time_data.values[-1],periods=3))\n",
    "    \n",
    "    \n",
    "    if play <=5:\n",
    "        fig.suptitle('Play '+str(play)+' Wind Speed, Wind Direction, and Air Temperature \\nData from Shipboard Meteorology')\n",
    "    if play == 6: \n",
    "        fig.suptitle('Wind Speed, Wind Direction, and Air Temperature\\n Data from Shipboard Meteorology (Entire Campaign)')\n",
    "        \n",
    "    ##SAVE FIGURE \n",
    "    if not os.path.exists(fig_dir+'timeseries'):\n",
    "        os.makedirs(fig_dir+'timeseries')\n",
    "    if play==6: \n",
    "        print('Saving Output Image:  '+fig_dir+'timeseries/SASSIE_SHIPBOARD_Met_entire_campaign.png')\n",
    "        plt.savefig(fig_dir+'timeseries/SASSIE_SHIPBOARD_Met_entire_campaign.png',dpi='figure',format='png')\n",
    "    else:\n",
    "        print('Saving Output Image:  '+fig_dir+'timeseries/SASSIE_SHIPBOARD_Met_play'+'_'+str(play)+'.png')\n",
    "        plt.savefig(fig_dir+'timeseries/SASSIE_SHIPBOARD_Met_play'+'_'+str(play)+'.png',dpi='figure',format='png')\n",
    "    "
   ]
  },
  {
   "cell_type": "code",
   "execution_count": null,
   "id": "4e61e3b4-23df-4657-9285-4b3037eb9e91",
   "metadata": {},
   "outputs": [],
   "source": [
    "plot_shipboard_met_wind_timeseries(6)"
   ]
  },
  {
   "cell_type": "markdown",
   "id": "b03cd90c-1cd7-418c-b5d0-d434a9c75808",
   "metadata": {
    "jp-MarkdownHeadingCollapsed": true,
    "tags": []
   },
   "source": [
    "#### Plot atmospheric fluxes"
   ]
  },
  {
   "cell_type": "code",
   "execution_count": null,
   "id": "265a9dc4-b39e-4615-a8fb-e62f18037b32",
   "metadata": {},
   "outputs": [],
   "source": [
    "def plot_shipboard_met_flux_timeseries(play): \n",
    "    \n",
    "    #SECLECT AND LOAD PLAY DATA\n",
    "    play_start = play_start_dates[play-1]\n",
    "    play_end = play_end_dates[play-1]\n",
    "    \n",
    "    time_data = np.squeeze(play_data_all[play-1]['time'])\n",
    "    wind_stress_data = np.squeeze(play_data_all[play-1]['bulk_wind_stress'])\n",
    "    sens_heat_data = np.squeeze(play_data_all[play-1]['bulk_sensible_heat_flux'])\n",
    "    latent_heat_data = np.squeeze(play_data_all[play-1]['bulk_latent_heat_flux'])\n",
    "    latent_heat_data_high = np.squeeze(play_data_all[play-1]['bulk_latent_heat_flux_high'])\n",
    "    latent_heat_data_low = np.squeeze(play_data_all[play-1]['bulk_latent_heat_flux_low'])\n",
    "    lw_rad_data = np.squeeze(play_data_all[play-1]['downwelling_longwave'])\n",
    "    sw_rad_data = np.squeeze(play_data_all[play-1]['shortwave_radiation'])\n",
    "    net_heat_data = np.squeeze(play_data_all[play-1]['bulk_heatflux'])\n",
    "    net_heat_data_high = np.squeeze(play_data_all[play-1]['bulk_heatflux_high'])\n",
    "    net_heat_data_low = np.squeeze(play_data_all[play-1]['bulk_heatflux_low'])\n",
    "\n",
    "\n",
    "    \n",
    "    #MAKE A THREE PANNELED TIME SERIES PLOT\n",
    "    fig,axs = plt.subplots(4,sharex=True,figsize=(10,10))\n",
    "    \n",
    "    axs[0].plot(time_data,wind_stress_data,linewidth=0.4,color='k')\n",
    "    axs[0].set_ylabel('Wind Stress \\n(Pa)',fontsize=14)\n",
    "\n",
    "    \n",
    "    axs[1].plot(time_data,sens_heat_data,linewidth=0.6,color='blue',label = 'Sensible Heat Flux')\n",
    "    axs[1].plot(time_data,latent_heat_data,linewidth=0.6,color='red',label = 'Latent Heat Flux')\n",
    "    axs[1].plot(time_data,latent_heat_data_high,linewidth=0.1,color='red',linestyle = '--')\n",
    "    axs[1].plot(time_data,latent_heat_data_low,linewidth=0.1,color='red',linestyle = '--')\n",
    "    axs[1].set_ylabel('Heat Fluxes\\n (W/m$^2$)',fontsize=14)\n",
    "    axs[1].plot(time_data,np.zeros(len(time_data)),linewidth=0.4,color='k')\n",
    "    axs[1].set(xlim = [min(time_data),max(time_data)])\n",
    "    axs[1].legend(loc=1)\n",
    "\n",
    "    axs[2].plot(time_data,lw_rad_data,linewidth=0.4,color='cyan',label='Downwelling Longwave')\n",
    "    axs[2].plot(time_data,sw_rad_data,linewidth=0.4,color='magenta',label='Shortwave')\n",
    "    axs[2].set_ylabel('Radiation Fluxes \\n (W/m$^2$)',fontsize=14)\n",
    "    axs[2].legend(loc=1)\n",
    "    \n",
    "    axs[3].plot(time_data,net_heat_data,linewidth=1.2,color='tab:purple')\n",
    "    axs[3].plot(time_data,net_heat_data_high,linewidth=0.4,color='tab:purple',linestyle = '--')\n",
    "    axs[3].plot(time_data,net_heat_data_low,linewidth=0.4,color='tab:purple',linestyle='--')\n",
    "    axs[3].set_ylabel('Net Heat Flux \\n (W/m$^2$)',fontsize=14)\n",
    "    axs[3].set_xlabel('Date',fontsize=14)\n",
    "    axs[3].plot(time_data,np.zeros(len(time_data)),linewidth=0.4,color='k')\n",
    "    \n",
    "    fig.text(0.145,0.655,'Positive = Out of the Ocean',fontsize=12)\n",
    "    fig.text(0.145,0.455,'Positive = Into the Ocean',fontsize=12)\n",
    "    fig.text(0.145,0.255,'Positive = Out of the Ocean',fontsize=12)\n",
    "\n",
    "\n",
    "    plt.xticks(pd.date_range(start=time_data.values[0],end=time_data.values[-1],periods=4))\n",
    "    \n",
    "    if play <=5:\n",
    "        fig.suptitle('Play '+str(play)+' Air Pressure, Flux, and Water Temperature \\nData from Shipboard Meteorology',y=0.94,fontsize=16)\n",
    "    if play == 6: \n",
    "        fig.suptitle('Air Pressure, Flux, and Water Temperature\\n Data from Shipboard Meteorology (Entire Campaign)',y=0.94,fontsize=16)\n",
    "        \n",
    "    ##SAVE FIGURE \n",
    "    if not os.path.exists(fig_dir+'timeseries'):\n",
    "        os.makedirs(fig_dir+'timeseries')\n",
    "    if play==6: \n",
    "        print('Saving Output Image:  '+fig_dir+'timeseries/SASSIE_SHIPBOARD_Fluxes_entire_campaign.png')\n",
    "        plt.savefig(fig_dir+'timeseries/SASSIE_SHIPBOARD_Fluxes_entire_campaign.png',dpi='figure',format='png')\n",
    "    else:\n",
    "        print('Saving Output Image:  '+fig_dir+'timeseries/SASSIE_SHIPBOARD_Fluxes_play'+'_'+str(play)+'.png')\n",
    "        plt.savefig(fig_dir+'timeseries/SASSIE_SHIPBOARD_Fluxes_play'+'_'+str(play)+'.png',dpi='figure',format='png')\n",
    "    "
   ]
  },
  {
   "cell_type": "code",
   "execution_count": null,
   "id": "3bc73879-5d4f-42d1-a964-f0f7991bfd56",
   "metadata": {},
   "outputs": [],
   "source": [
    "plot_shipboard_met_flux_timeseries(6)"
   ]
  },
  {
   "cell_type": "code",
   "execution_count": null,
   "id": "a0fe4b28-1d8e-4a7f-8d61-4e644b287eae",
   "metadata": {},
   "outputs": [],
   "source": []
  }
 ],
 "metadata": {
  "kernelspec": {
   "display_name": "Python 3 (ipykernel)",
   "language": "python",
   "name": "python3"
  },
  "language_info": {
   "codemirror_mode": {
    "name": "ipython",
    "version": 3
   },
   "file_extension": ".py",
   "mimetype": "text/x-python",
   "name": "python",
   "nbconvert_exporter": "python",
   "pygments_lexer": "ipython3",
   "version": "3.9.16"
  }
 },
 "nbformat": 4,
 "nbformat_minor": 5
}
