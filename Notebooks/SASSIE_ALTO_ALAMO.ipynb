{
 "cells": [
  {
   "cell_type": "markdown",
   "id": "bd598164-cf05-4083-a2be-191817801b45",
   "metadata": {
    "jp-MarkdownHeadingCollapsed": true,
    "tags": []
   },
   "source": [
    "<h1>SASSIE ALTO/ALAMO Float Data Use and Visualization</h1>\n",
    "\n",
    "<p>ALTO/ALAMO Floats are drifting platforms that operate similarly to Argo Floats. 7 floats were deployed durring the campaign. Float data are downloaded and plotted using the code below! <b>Please run the 'Data Download and Metadata Viewing' and 'Supporting Code' sections in order before running the 'Figure Making Code'.</b> </p>\n",
    "<p>The aim of this notebook is to assist the end user in exploratory data analysis by downloading the SASSIE data from NASA's PODAAC, opening the dataset and displaying it's associated metadata, and creating a few visualizations. This notebook was created by Elizabeth Westbrook. For questions and trouble shooting, please email westbrooke@uncw.edu.</p>"
   ]
  },
  {
   "cell_type": "markdown",
   "id": "40f4c6ea-39fa-4ccd-a02d-f7af1d0401f1",
   "metadata": {
    "jp-MarkdownHeadingCollapsed": true,
    "tags": []
   },
   "source": [
    "# Data Download and Metadata Viewing\n",
    "\n",
    "The code in this section will download the dataset from PO.DAAC and open it as an xarray object for metadata and variable attribute viewing."
   ]
  },
  {
   "cell_type": "code",
   "execution_count": null,
   "id": "bf1de219-9d32-4ff4-870d-aecc977464e0",
   "metadata": {
    "tags": []
   },
   "outputs": [],
   "source": [
    "import numpy as np\n",
    "import xarray as xr\n",
    "import glob \n",
    "from datetime import datetime, timedelta \n",
    "import matplotlib.pyplot as plt\n",
    "import cartopy\n",
    "import matplotlib\n",
    "import os\n",
    "import sys\n",
    "import pandas as pd\n",
    "import requests "
   ]
  },
  {
   "cell_type": "markdown",
   "id": "ac92e2f9-aecc-421b-875a-0b00b5c5bc7b",
   "metadata": {
    "jp-MarkdownHeadingCollapsed": true,
    "tags": []
   },
   "source": [
    "<h2>Download The ALTO/ALAMO Float data from PO.DAAC</h2>\n",
    "<p> All data from the SASSIE campaign is stored on NASA's PO.DAAC. The code in this section of the notebook will download SASSIE ALTO/ALAMO Float data from PO.DAAC, which is accessed through earthdata. If you do not already have an earthdata account, you can create one <a href=\"https://urs.earthdata.nasa.gov/\">here</a> . </p>\n",
    "    <p>Please enter your earthdata credentials below.</p>"
   ]
  },
  {
   "cell_type": "code",
   "execution_count": null,
   "id": "3913f067-3b11-4c39-95f4-b70a165a5bb0",
   "metadata": {},
   "outputs": [],
   "source": [
    "username = 'your_username'\n",
    "password = 'your_password'\n",
    "earthdata = requests.auth.HTTPBasicAuth(username, password)\n",
    "\n",
    "##LOCAL DIRECTORY TO SAVE FLOAT DATA\n",
    "dir_in = 'Data/alto_alamo/'"
   ]
  },
  {
   "cell_type": "markdown",
   "id": "d64309de-9428-48f3-9432-3269e8e8a096",
   "metadata": {},
   "source": [
    "The next block of code creates the directory specified above and downloads the ALTO/ALAMO files to your binder session if it has not already been downloaded.<b> To download the dataset to your local disk from here, right click on the file you want to download and click 'download'. </b>"
   ]
  },
  {
   "cell_type": "code",
   "execution_count": null,
   "id": "9f4b42c0-e9ce-429d-b74c-2219fe180d30",
   "metadata": {
    "tags": []
   },
   "outputs": [],
   "source": [
    "##SASSIE DATA DIR\n",
    "if not os.path.exists(dir_in):\n",
    "    os.makedirs(dir_in)\n",
    "\n",
    "float_numbers = ['9101','9097','9098','11131','11132','11133','11136']\n",
    "for number in float_numbers:\n",
    "    filename = 'SASSIE_Fall_2022_ALAMO_ALTO_'+number+'.nc'\n",
    "    if os.path.isfile(dir_in+filename)==False:\n",
    "        url = 'https://archive.podaac.earthdata.nasa.gov/podaac-ops-cumulus-protected/SASSIE_L2_ALTO_ALAMO_FLOATS_V1/'+filename\n",
    "        with requests.Session() as session:\n",
    "                session.auth = (username, password)\n",
    "                r1 = session.request('get', url)\n",
    "                r = session.get(r1.url, auth=(username, password))\n",
    "                if r.status_code == 200:\n",
    "                    if r.ok:\n",
    "                        with open(dir_in+filename, 'wb') as f:\n",
    "                            f.write(r.content) \n",
    "                            print('Saving Input File: ' + dir_in+filename) \n",
    "                else:\n",
    "                    print(\"Error:\", r.status_code)\n",
    "                    if r.status_code == 401:\n",
    "                        print ('Your Username and/or password are incorrect. Please try again')\n",
    "    else: \n",
    "        print('Float '+ number+' file is already in binder directory')"
   ]
  },
  {
   "cell_type": "markdown",
   "id": "4bd600b0-b88e-4f7e-8335-0e67512cdfc0",
   "metadata": {
    "jp-MarkdownHeadingCollapsed": true,
    "tags": []
   },
   "source": [
    "<h2> View The Metadata Inside the ALTO/ALAMO Float Files</h2>\n",
    "\n",
    "The netCDF file has global metadata attributes and attributes associated with each variable. This next block will load data and metadata of the netCDF file into an xarray object (ds). <br> The data set will then be displayed in a clickable HTML format. \n"
   ]
  },
  {
   "cell_type": "code",
   "execution_count": null,
   "id": "f6a47a68-e46d-478a-bfa5-09c4c1bb51bd",
   "metadata": {},
   "outputs": [],
   "source": [
    "print('Displaying just 1/7 ALTO/ALAMO files')\n",
    "#See information about the entire dataset:\n",
    "files = sorted(glob.glob(dir_in + '/*.nc'))\n",
    "ds = xr.open_dataset(files[0])\n",
    "ds"
   ]
  },
  {
   "cell_type": "markdown",
   "id": "313ac31a-9905-41ba-892b-00f2b2670721",
   "metadata": {
    "jp-MarkdownHeadingCollapsed": true,
    "tags": []
   },
   "source": [
    "# Supporting Code \n",
    "The code in this section provides a set up for the figure making code below by defining directories for data and figures and creating functions that will be called to actually map the data"
   ]
  },
  {
   "cell_type": "markdown",
   "id": "a4af524d-6463-4d57-aea6-d2539b0a3066",
   "metadata": {
    "jp-MarkdownHeadingCollapsed": true,
    "tags": []
   },
   "source": [
    "<h3>Create a Directory to Save Figures</h3>"
   ]
  },
  {
   "cell_type": "code",
   "execution_count": null,
   "id": "2c8eef6a-6a99-44ac-b7c3-4b5062b422ec",
   "metadata": {},
   "outputs": [],
   "source": [
    "#LOCAL DIRECTORY TO SAVE FIGURES\n",
    "fig_dir ='Figures/alto_alamo/'\n",
    "#FIGURE DIR \n",
    "if not os.path.exists(fig_dir):\n",
    "    os.makedirs(fig_dir)"
   ]
  },
  {
   "cell_type": "markdown",
   "id": "c76682b7-1bca-491d-bccf-e569be303f82",
   "metadata": {
    "jp-MarkdownHeadingCollapsed": true,
    "tags": []
   },
   "source": [
    "<h3>Define a Colormap and Label for Each Variable in the File</h3>\n",
    "\n",
    "Within SASSIE's collection of jupyter notebooks, the colormaps used for each variable are held as consistant as possible across all datasets. This function defines the colormap and a label for the variable of interest. "
   ]
  },
  {
   "cell_type": "code",
   "execution_count": null,
   "id": "477a58c3-36d7-479f-bbed-819e044262ef",
   "metadata": {},
   "outputs": [],
   "source": [
    "#DEFINES COLORMAPS AND LABELS OF EACH VARIABLE IN THIS DATA SET###\n",
    "def define_variable_attributes(var):\n",
    "    if var =='salinity':\n",
    "        colormap = 'viridis'\n",
    "        var_label = 'Salinity'\n",
    "    if var =='temperature':\n",
    "        colormap = 'plasma'\n",
    "        var_label = 'Water Temperature ($^{\\circ}$C)'\n",
    "    return colormap,var_label"
   ]
  },
  {
   "cell_type": "markdown",
   "id": "dc5fdfad-670e-4d19-a164-0b017298f441",
   "metadata": {
    "jp-MarkdownHeadingCollapsed": true,
    "tags": []
   },
   "source": [
    "<h3>Define a Function to Create a Map of the Study Area</h3>\n",
    "\n",
    "The following function creates a map of the SASSIE study area, which is defined by minimum and maximum lat/lon values. These ranges can be changed later when the function is called to zoom in/out on the study area."
   ]
  },
  {
   "cell_type": "code",
   "execution_count": null,
   "id": "e30df429-2209-4435-a4f0-e698f09a6cce",
   "metadata": {},
   "outputs": [],
   "source": [
    "def map_study_area(latmin = 70, latmax =74,lonmin=-157,lonmax=-140):\n",
    "    \n",
    "    global fig \n",
    "    global ax\n",
    "    \n",
    "    #create the map as a figure, set the lat and lon ranges, and add land + river data:\n",
    "    fig = plt.figure(figsize=(10,8))\n",
    "    ax = plt.axes(projection=cartopy.crs.NorthPolarStereo(central_longitude=-150))\n",
    "    ax.set_extent([lonmin,lonmax,latmin,latmax], crs=cartopy.crs.PlateCarree())\n",
    "    ax.coastlines(color='k')  \n",
    "    ax.add_feature(cartopy.feature.LAND, facecolor = '0.50',zorder=1)\n",
    "    ax.add_feature(cartopy.feature.RIVERS,facecolor='blue')\n",
    "    #Add lat and lon gridlines and labels:\n",
    "    gl = ax.gridlines(draw_labels=True, dms=True, x_inline=False, y_inline=False, alpha=0.3) #draw_labels=True gives lat labels.\n",
    "    gl.ylocator = matplotlib.ticker.FixedLocator(np.arange(60,75,1))\n",
    "    gl.xlocator = matplotlib.ticker.FixedLocator(np.arange(-170,-140,2))\n",
    "    gl.top_labels = False\n",
    "    gl.bottom_labels = True \n",
    "    gl.right_labels = False\n",
    "    \n",
    "    #Add markers for reference cities on the coast:\n",
    "    if (latmin<71.2906) & (lonmin<-156.7886):\n",
    "        utqiagvik = ax.scatter(-156.7886,71.2906,s=100,transform=cartopy.crs.PlateCarree(),c='red',marker = '*',label='Utqiagvik, AK',zorder=2)\n",
    "    if (latmin<70.2002) & (lonmax>-148.4597):\n",
    "        deadhorse = ax.scatter(-148.4597,70.2002,s=100,c='cyan',transform=cartopy.crs.PlateCarree(),marker = '*',label='Deadhorse, AK',zorder=2)\n",
    "        "
   ]
  },
  {
   "cell_type": "markdown",
   "id": "681a8776-ed24-4bd0-a1f0-7c76d7c95a80",
   "metadata": {
    "jp-MarkdownHeadingCollapsed": true,
    "tags": []
   },
   "source": [
    "<h3>Define a Function to Create a 3D Grid of Latitude, Longitude, and Depth</h3>\n",
    "\n",
    "The following function creates a 3D grid for plotting 3 dimensional cast data from the castaway CTD. "
   ]
  },
  {
   "cell_type": "code",
   "execution_count": null,
   "id": "2f46844e-d649-4a68-88a1-375422ed56a3",
   "metadata": {},
   "outputs": [],
   "source": [
    "def make_3d_grid(latmin,latmax,lonmin,lonmax,dmin,dmax):    \n",
    "        global fig \n",
    "        global ax\n",
    "        \n",
    "        fig = plt.figure(figsize=(10,8))\n",
    "        ax = plt.axes(projection='3d',computed_zorder=False)\n",
    "        ax.xaxis.pane.fill = False\n",
    "        ax.yaxis.pane.fill = False\n",
    "        ax.zaxis.pane.fill = False    \n",
    "\n",
    "\n",
    "        ax.set_xlim(lonmin, lonmax); ax.set_ylim(latmin,latmax); ax.set_zlim(dmin,dmax);\n",
    "        ax.get_xaxis().get_major_formatter().set_useOffset(False)\n",
    "        xticks = list(np.linspace(lonmin,lonmax,4))\n",
    "        ax.set_xticks(np.around(xticks,2))\n",
    "        ax.set_xticklabels(np.around(xticks,2),rotation=30, ha='center',va='center', minor=False,size='small')\n",
    "\n",
    "        yticks = list(np.linspace(latmin,latmax,4))\n",
    "        ax.set_yticks(np.around(yticks,2))\n",
    "        ax.invert_yaxis()\n",
    "        ax.set_yticklabels(np.around(yticks,2),rotation=-15,va='bottom', minor=False,size='small')\n",
    "\n",
    "        zticks = list(np.linspace(dmin,dmax,4))\n",
    "        ax.set_zticks(np.around(zticks,2))\n",
    "        ax.set_zticklabels(np.around(zticks,2),ha='center',va='center', minor=False,size='small')\n",
    "\n",
    "        ax.set_xlabel('Longitude',fontsize=13,labelpad=10,fontweight='bold')\n",
    "        ax.set_ylabel('Latitude',fontsize=13,labelpad = 7,fontweight='bold')\n",
    "        ax.set_zlabel('Depth (m)',fontsize=13,labelpad = 16,fontweight='bold')\n",
    "        ax.view_init(195,280)\n",
    "        fig.canvas.draw()\n",
    "        plt.tight_layout()"
   ]
  },
  {
   "cell_type": "markdown",
   "id": "2bef7d5a-2b64-4614-8468-1d3be1198b61",
   "metadata": {
    "jp-MarkdownHeadingCollapsed": true,
    "tags": []
   },
   "source": [
    "<h3>Configure Supporting Data to Add to Maps</h3>\n",
    "\n",
    "<p>The functions for viewing and plotting this data set below have options to include bathymetr and/or shiptrack data to add context to maps. If you are using these options, run\n",
    "    <br>the following code blocks to:\n",
    "    <br>1. Create a directory for SASSIE Ship Track data and acess bathymetry data from NOAA\n",
    "    <br>2. Define functions that add these data to your map when called.</p>"
   ]
  },
  {
   "cell_type": "markdown",
   "id": "329eb7e3-7d7b-46cf-abf9-3eb7cf4521cb",
   "metadata": {
    "jp-MarkdownHeadingCollapsed": true,
    "tags": []
   },
   "source": [
    "<h4>Create Directory for Shiptrack Data and Access Bathymetry Data </h4>"
   ]
  },
  {
   "cell_type": "code",
   "execution_count": null,
   "id": "259826d4-9a3a-49d6-b9e6-c010af876b0d",
   "metadata": {
    "tags": []
   },
   "outputs": [],
   "source": [
    "## DIRECTORY TO SHIP TRACK DATA\n",
    "ship_dir =  'Data/TSG/' \n",
    "\n",
    "#DOWLOAD SHIPTRACK DATA\n",
    "if not os.path.isfile(ship_dir+'SASSIE_Fall_2022_Shipboard_TSG.nc'):\n",
    "    os.makedirs(ship_dir)\n",
    "    url = 'https://archive.podaac.earthdata.nasa.gov/podaac-ops-cumulus-protected/SASSIE_L2_SHIPBOARD_TSG_V1/SASSIE_Fall_2022_Shipboard_TSG.nc'\n",
    "    with requests.Session() as session:\n",
    "            session.auth = (username, password)\n",
    "            r1 = session.request('get', url)\n",
    "            r = session.get(r1.url, auth=(username, password))\n",
    "            if r.status_code == 200:\n",
    "                if r.ok:\n",
    "                    with open(ship_dir+'SASSIE_Fall_2022_Shipboard_TSG.nc', 'wb') as f:\n",
    "                        f.write(r.content) \n",
    "                        print('Saving Input File: ' + ship_dir+'SASSIE_Fall_2022_Shipboard_TSG.nc') \n",
    "            else:\n",
    "                print(\"Error:\", r.status_code)\n",
    "                if r.status_code == 401:\n",
    "                    print ('Your Username and/or password are incorrect. Please try again')\n",
    "else: \n",
    "    print('Shipboard TSG file is already in binder directory')\n",
    "    \n",
    "    \n",
    "#READ IN TOPOGRAPHY/BATHYMETRY DATA\n",
    "url = 'http://ferret.pmel.noaa.gov/thredds/dodsC/data/PMEL/etopo2.nc'\n",
    "etopodata = xr.open_dataset(url) "
   ]
  },
  {
   "cell_type": "markdown",
   "id": "2660e5ca-01cc-49d4-9505-7b1bbd176a03",
   "metadata": {
    "jp-MarkdownHeadingCollapsed": true,
    "tags": []
   },
   "source": [
    "<h4>Define a Function to Index Relevant Bathymetry Data and Add it to the Map</h4>\n",
    "This function will index bathymetry data from NOAA within the appropriate spatial range and add it to the map. \n"
   ]
  },
  {
   "cell_type": "code",
   "execution_count": null,
   "id": "5d85acba-be13-44b6-9028-dd39f07b60a6",
   "metadata": {},
   "outputs": [],
   "source": [
    "def add_bathy_data(latmin,latmax,lonmin,lonmax):\n",
    "        topoin = etopodata.rose.values[0:-1:5,1:-1:5]\n",
    "        lons = etopodata.etopo2_x.values[0:-1:5]\n",
    "        lats = etopodata.etopo2_y.values[0:-1:5]\n",
    "        lons_in_range = lons[np.where((lons >lonmin-1) & (lons<lonmax+1))]\n",
    "        lats_in_range = lats[np.where((lats >latmin-1) & (lats<latmax+1))]\n",
    "        topo_in_range = np.squeeze(topoin[np.squeeze(np.where((lats >latmin-1) & (lats<latmax+1))),:][:,np.where((lons >lonmin-1) & (lons<lonmax+1))])\n",
    "        [bathy_lon,bathy_lat] = np.meshgrid(lons_in_range,lats_in_range)\n",
    "        \n",
    "        bathy = ax.contour(bathy_lon,bathy_lat,topo_in_range,np.arange(-6000,-1000,300),transform=cartopy.crs.PlateCarree(),cmap='gray',alpha = 0.2,zorder = 0)"
   ]
  },
  {
   "cell_type": "markdown",
   "id": "f4cb7c97-4afc-46c9-ada9-4e8a70a8a936",
   "metadata": {
    "jp-MarkdownHeadingCollapsed": true,
    "tags": []
   },
   "source": [
    "<h4>Define a Function to Add Shiptrack Data to a Map</h4>\n",
    "This function will pull the lat/lon data from the SASSIE Shipboard TSG file and put it onto a map. "
   ]
  },
  {
   "cell_type": "code",
   "execution_count": null,
   "id": "adf9df64-2c86-4ab2-9a44-1a02666c4651",
   "metadata": {},
   "outputs": [],
   "source": [
    "def add_ship_track():\n",
    "        ds_ship = xr.open_dataset(ship_dir+'/SASSIE_Fall_2022_Shipboard_TSG.nc')\n",
    "        ship_time = np.squeeze(ds_ship['time'])\n",
    "        ship_lat = np.squeeze(ds_ship['latitude'])\n",
    "        ship_lon = np.squeeze(ds_ship['longitude'])\n",
    "       \n",
    "        track = ax.plot(ship_lon, \n",
    "                     ship_lat,linewidth = 0.5,\n",
    "                     c='black',\n",
    "                       transform=cartopy.crs.PlateCarree(),label = 'Ship Track',zorder=1)"
   ]
  },
  {
   "cell_type": "markdown",
   "id": "f01c088b-a958-4b1f-a2dc-51ed3498d508",
   "metadata": {
    "jp-MarkdownHeadingCollapsed": true,
    "tags": []
   },
   "source": [
    "# Figure Making Code "
   ]
  },
  {
   "cell_type": "markdown",
   "id": "2e416330-5761-4df0-8af7-f04aaed627db",
   "metadata": {
    "jp-MarkdownHeadingCollapsed": true,
    "tags": []
   },
   "source": [
    "<h2>Make A Map of ALTO/ALAMO Float Tracks</h2>\n",
    "<p>Use the code in this section to plot the ALTO/ALAMO location data on a map colored by time, sea surface temperature, or sea surface salinity. The code blocks in the 'supporting code' section should be run first. The user will need to input a local directory to save figures and ice data for these to work properly. </p>"
   ]
  },
  {
   "cell_type": "markdown",
   "id": "31ce079a-cec4-4d72-8af3-73a0420a9aa3",
   "metadata": {
    "tags": []
   },
   "source": [
    "<h3> Mapping the Time and Location of ALTO/ALAMO Data Collection</h3>"
   ]
  },
  {
   "cell_type": "markdown",
   "id": "24b2921a-2d9b-4544-9c78-0b6035dc5f63",
   "metadata": {
    "jp-MarkdownHeadingCollapsed": true,
    "tags": []
   },
   "source": [
    "<p>The map_float_paths function shows the tracks of the ALTO/ALAMO Floats throughout the campaign on a map, colored by time. Various features of this function: </p>\n",
    "    <p>2. This function adds bathymetry contours showing the position of the continental shelf by default for reference. \n",
    "    <br>3. The user has the option to add the SASSIE ship track for reference. "
   ]
  },
  {
   "cell_type": "code",
   "execution_count": null,
   "id": "234e93de-9052-4c61-8a23-ffc9cdfa0288",
   "metadata": {
    "tags": []
   },
   "outputs": [],
   "source": [
    "#PLOT THE PATHS OF THE FLOATS\n",
    "def map_float_paths(ship_track=True,bathymetry_data=False):\n",
    "\n",
    "    #define the lat and lon range for the map:\n",
    "    latmin = 70\n",
    "    latmax =74\n",
    "    lonmin=-157\n",
    "    lonmax=-144    \n",
    "    \n",
    "    #Make the map:\n",
    "    map_study_area(latmin,latmax,lonmin,lonmax)\n",
    "    \n",
    "    #give the map a title:\n",
    "    ax.set_title('ALTO/ALAMO Float Paths',fontsize=22,pad=1) \n",
    "\n",
    "    \n",
    "    #Add optional map add-ons:\n",
    "    if ship_track==True:\n",
    "        add_ship_track()\n",
    "        \n",
    "    if bathymetry_data == True:    \n",
    "        add_bathy_data()\n",
    "        \n",
    "    #LOAD AND APPLY FLOAT DATA\n",
    "    for file in files: \n",
    "        ds = xr.open_dataset(file)\n",
    "        float_time = np.squeeze(ds['time'])\n",
    "        float_lat = np.squeeze(ds['latitude'])\n",
    "        float_lon = np.squeeze(ds['longitude'])\n",
    "        casts = ax.scatter(float_lon,float_lat,s = 10,\n",
    "                           c = float_time,cmap = 'jet',\n",
    "                           transform=cartopy.crs.PlateCarree(),zorder=2,\n",
    "                          vmin=min(xr.open_dataset(files[0]).time.values), vmax=max(xr.open_dataset(files[0]).time.values))\n",
    "    #make a colorbar\n",
    "    cbar = fig.colorbar(casts, ax=ax, orientation=\"horizontal\", pad=0.1)\n",
    "    cbar.set_label(label='Date',size='large',weight='bold')\n",
    "    cbar_tick_array=(np.linspace(min(xr.open_dataset(files[0]).time.values).astype('int64'),max(xr.open_dataset(files[0]).time.values).astype('int64'),5))\n",
    "    cbar.set_ticks(cbar_tick_array)\n",
    "    cbar.set_ticklabels(pd.to_datetime(cbar_tick_array).date)\n",
    "    \n",
    "    ##SAVE FIGURE \n",
    "    if not os.path.exists(fig_dir+'map/'):\n",
    "        os.makedirs(fig_dir+'map/')\n",
    "    \n",
    "    print('Saving Output Image:  '+fig_dir+'map/ALTO_ALAMO_paths.png')\n",
    "    plt.savefig(fig_dir+'map/ALTO_ALAMO_paths.png',dpi='figure',format='png')\n",
    "    \n",
    "    \n"
   ]
  },
  {
   "cell_type": "code",
   "execution_count": null,
   "id": "cf2c07af-f841-4f0d-9bec-2be68a779e59",
   "metadata": {
    "tags": []
   },
   "outputs": [],
   "source": [
    "map_float_paths()"
   ]
  },
  {
   "cell_type": "markdown",
   "id": "e5ac33f1-22ae-4e1a-98ae-fd0b79f11206",
   "metadata": {
    "jp-MarkdownHeadingCollapsed": true,
    "tags": []
   },
   "source": [
    "<h2>Three Dimensional Representation of Vertical Profile Data</h2>\n",
    "Use the code in this section to plot profile locations and depths of a selected ALTO/ALAMO float on a 3D grid, colored by a physical measurement variable from the file (temperature, salinity, density, etc.). The user must select a float based on number. The float numbers were 9097, 9098, 9101, 11131, 11132, 11133, and 11136. "
   ]
  },
  {
   "cell_type": "code",
   "execution_count": null,
   "id": "ea95ea66-2930-4ea0-9d04-adb0b61f2151",
   "metadata": {
    "tags": []
   },
   "outputs": [],
   "source": [
    "##USE TO PLOT THE PROFILES TAKEN BY ANY GIVEN FLOAT ON A 3D GRID##\n",
    "def float_profiles(float_number,var):\n",
    "    \n",
    "    #get float data from the selected float:\n",
    "    file = dir_in+'/SASSIE_Fall_2022_ALAMO_ALTO_'+str(float_number)+'.nc'\n",
    "    ds_float = xr.open_dataset(file)\n",
    "    float_lat = ds_float['latitude']\n",
    "    float_lon = ds_float['longitude']\n",
    "    float_depth = ds_float['depth']\n",
    "    float_var = ds_float[var]\n",
    "    \n",
    "    #put lat,lon,and depth in 2D format:\n",
    "    [lat,depth] = np.meshgrid(float_lat,float_depth)\n",
    "    [lon,depth] = np.meshgrid(float_lon,float_depth)\n",
    "    \n",
    "    \n",
    "    #assign a colormap and variable label: \n",
    "    colormap,var_label = define_variable_attributes(var)\n",
    "\n",
    "    #define the latitude, longitude, and depth limits of the 3D grid: \n",
    "    latmin = min(float_lat.values)\n",
    "    latmax = max(float_lat.values)\n",
    "    lonmin = min(float_lon.values)\n",
    "    lonmax = max(float_lon.values)\n",
    "    dmin = min(float_depth.values)\n",
    "    dmax = max(float_depth.values)+0.5\n",
    "    \n",
    "    #create the 3D grid \n",
    "    make_3d_grid(latmin,latmax,lonmin,lonmax,dmin,dmax)\n",
    "    \n",
    "    ax.set_title('ALTO/ALAMO'+' '+var_label+' '+' \\n Float '+str(float_number),fontsize=18,y=0.92,x=0.6)\n",
    "\n",
    "        \n",
    "    ##APPLY FLOAT DATA   \n",
    "    a = ax.scatter(lon,lat,depth,c=(float_var.values),cmap = colormap,s=2,zorder=1)    \n",
    "    \n",
    "    cbar = fig.colorbar(a,shrink=0.6)\n",
    "    cbar.set_label(label=var_label,size=15,weight='bold',labelpad=4)\n",
    "   \n",
    "    ##ADD BLACK AT TOP OF EACH PROFILE FOR CLARITY\n",
    "    b = ax.plot(float_lon,float_lat,linewidth=2,\n",
    "                 color='black',label = 'Float Path',zorder=1)\n",
    "    \n",
    "    plt.legend(loc=(0.7,0.3))\n",
    "    \n",
    "    ## SAVE THE FIGURE\n",
    "    if not os.path.exists(fig_dir+var+'/'):\n",
    "        os.makedirs(fig_dir+var+'/')\n",
    "    \n",
    "    print('Saving Output Image:  '+fig_dir+var+'/'+'ALTO_ALAMO_'+var+'_Float_'+str(float_number)+'.png')\n",
    "    plt.savefig(fig_dir+var+'/'+'ALTO_ALAMO_'+var+'_Float_'+str(float_number)+'.png',dpi='figure',format='png',bbox_inches='tight')\n",
    "    "
   ]
  },
  {
   "cell_type": "code",
   "execution_count": null,
   "id": "b923676b-2908-4e54-8625-e98bf2c9d61b",
   "metadata": {},
   "outputs": [],
   "source": [
    "float_profiles(9098,'temperature')\n",
    "float_profiles(9098,'salinity')"
   ]
  },
  {
   "cell_type": "markdown",
   "id": "d9b4b2e5-7c88-4b02-8bd8-b1f513d87afd",
   "metadata": {
    "jp-MarkdownHeadingCollapsed": true,
    "tags": []
   },
   "source": [
    "<h2>Plots of Individual ALTO/ALAMO Profiles With a Given Float Number and Time. </h2>\n",
    "This code creates a plot of the temperature and salinity measurements of one single profile that is closest to a given time and was taken by a given float. Profiles are plotted on the same axis axis in different colors.  "
   ]
  },
  {
   "cell_type": "code",
   "execution_count": null,
   "id": "ee464743-b801-42de-8c2c-325699285980",
   "metadata": {
    "tags": []
   },
   "outputs": [],
   "source": [
    "##PLOT TEMP/SALINITY PROFILE FROM A GIVEN FLOAT CLOSEST TO A GIVEN TIME: \n",
    "def plot_float_profile_by_date(float_number,time):\n",
    "    \n",
    "    #GET ALL FLOAT DATA\n",
    "    file = dir_in+'/SASSIE_Fall_2022_ALAMO_ALTO_'+str(float_number)+'.nc'   \n",
    "    ds_float = xr.open_dataset(file)\n",
    "    float_time = ds_float['time'].astype('int64')\n",
    "    \n",
    "    ##FIND THE CLOSES TIME TO THE TIME SPECIFIED\n",
    "    time_difference = abs((float_time.values)-np.datetime64(time,'ns').astype('int64'))\n",
    "    cast_indx = np.squeeze(np.where(time_difference == min(time_difference)))\n",
    "    \n",
    "    #PULL OUT LAT,LON,TIME,AND DATA OF CAST\n",
    "    cast_time = ds_float['time'].values[cast_indx]\n",
    "    float_lat = ds_float['latitude'].values[cast_indx]\n",
    "    float_lon = ds_float['longitude'].values[cast_indx]\n",
    "    float_depth = ds_float['depth'].values\n",
    "    float_temp = ds_float['temperature'].values[:,cast_indx]\n",
    "    float_sal = ds_float['salinity'].values[:,cast_indx]\n",
    "    \n",
    "    \n",
    "    ## PLOT THE DATA\n",
    "    fig,ax1 = plt.subplots()\n",
    "    ax2 = ax1.twiny()\n",
    "    ax1.plot(float_temp,float_depth,linewidth=0.4,c='blue')\n",
    "    ax1.invert_yaxis()\n",
    "    ax1.set_xlabel('Temperature ($^{\\circ}$C)',color = 'blue')\n",
    "    ax1.set_ylabel('Depth (m)')\n",
    "    ax2.plot(float_sal,float_depth,linewidth=0.4,c='red')\n",
    "    ax2.set_xlabel('Salinity',color ='red')\n",
    "    fig.suptitle('ALTO/ALAMO Float '+str(float_number)+' Salinity and Temperature Profile on '+str(pd.to_datetime(cast_time).year).zfill(2)+'/'+str(pd.to_datetime(cast_time).month).zfill(2)+'/'+str(pd.to_datetime(cast_time).day).zfill(2)+' at '+str(pd.to_datetime(cast_time).hour).zfill(2)+':'+str(pd.to_datetime(cast_time).minute).zfill(2)+':'+str(pd.to_datetime(cast_time).second).zfill(2)+'\\n'+str(float_lat)+' $^{\\circ}$N, '+str(float_lon)+' $^{\\circ}$E',y=1.05)\n",
    "    \n",
    "    \n",
    "    ## SAVE THE FIGURE\n",
    "    if not os.path.exists(fig_dir+'profiles/'):\n",
    "        os.makedirs(fig_dir+'profiles/')\n",
    "    print('Saving Output Image:  '+fig_dir+'profiles/'+'float'+str(float_number)+'_profile_'+str(pd.to_datetime(cast_time).year)+str(pd.to_datetime(cast_time).month).zfill(2)+str(pd.to_datetime(cast_time).day).zfill(2)+str(pd.to_datetime(cast_time).hour).zfill(2)+str(pd.to_datetime(cast_time).minute).zfill(2)+str(pd.to_datetime(cast_time).second).zfill(2)+'.png')\n",
    "    plt.savefig(fig_dir+'profiles/'+'float'+str(float_number)+'_profile_'+str(pd.to_datetime(cast_time).year)+str(pd.to_datetime(cast_time).month).zfill(2)+str(pd.to_datetime(cast_time).day).zfill(2)+str(pd.to_datetime(cast_time).hour).zfill(2)+str(pd.to_datetime(cast_time).minute).zfill(2)+str(pd.to_datetime(cast_time).second).zfill(2)+'.png',dpi='figure',format='png',bbox_inches='tight')\n",
    "\n"
   ]
  },
  {
   "cell_type": "code",
   "execution_count": null,
   "id": "e8240514-f12c-4668-9b4f-7cdc0d5bc41f",
   "metadata": {
    "tags": []
   },
   "outputs": [],
   "source": [
    "plot_float_profile_by_date(9101,'2022-09-21T03:30')\n"
   ]
  },
  {
   "cell_type": "code",
   "execution_count": null,
   "id": "3edd613c-424f-470b-abb2-8198f1957ba6",
   "metadata": {},
   "outputs": [],
   "source": []
  }
 ],
 "metadata": {
  "kernelspec": {
   "display_name": "Python 3 (ipykernel)",
   "language": "python",
   "name": "python3"
  },
  "language_info": {
   "codemirror_mode": {
    "name": "ipython",
    "version": 3
   },
   "file_extension": ".py",
   "mimetype": "text/x-python",
   "name": "python",
   "nbconvert_exporter": "python",
   "pygments_lexer": "ipython3",
   "version": "3.9.16"
  }
 },
 "nbformat": 4,
 "nbformat_minor": 5
}
