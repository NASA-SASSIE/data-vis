{
 "cells": [
  {
   "cell_type": "markdown",
   "id": "05a29829-c1c1-490a-8f84-abd2266c1659",
   "metadata": {
    "tags": []
   },
   "source": [
    "<h1>SASSIE Salinity Snake Data Use and Visualization</h1>\n",
    "\n",
    "<p>The Salinity Snake is a shipboad platform that intakes sea water at a depth of roughtly 0.5 meters and measures it's temperature, salinity, and CDOM concentration. Salinity Snake data can be downloaded and plotted using the code below! <b>Please run the 'Data Download and Metadata Viewing' and 'Supporting Code' sections in order before running the 'Figure Making Code'.</b> </p>\n",
    "\n",
    "\n",
    "<p>The aim of this notebook is to assist the end user in exploratory data analysis by downloading the SASSIE data from NASA's PODAAC, opening the dataset and displaying it's associated metadata, and creating a few visualizations. This notebook was created by Elizabeth Westbrook. For questions and trouble shooting, please email westbrooke@uncw.edu.</p>"
   ]
  },
  {
   "cell_type": "markdown",
   "id": "e69f48c6-b073-40d9-a607-bde9de75b0d5",
   "metadata": {
    "jp-MarkdownHeadingCollapsed": true,
    "tags": []
   },
   "source": [
    "# Data Download and Metadata Viewing\n",
    "The code in this section will download the dataset from PO.DAAC and open it as an xarray object for metadata and variable attribute viewing.\n",
    "    "
   ]
  },
  {
   "cell_type": "code",
   "execution_count": null,
   "id": "723920ab-b101-4978-b4bf-71360e0845a9",
   "metadata": {},
   "outputs": [],
   "source": [
    "##Import Libraries##\n",
    "import numpy as np\n",
    "import xarray as xr\n",
    "import glob \n",
    "from datetime import datetime, timedelta \n",
    "import matplotlib.pyplot as plt\n",
    "import cartopy\n",
    "import matplotlib\n",
    "import os\n",
    "import sys\n",
    "import pandas as pd\n",
    "import requests"
   ]
  },
  {
   "cell_type": "markdown",
   "id": "df022707-2b23-4740-94ed-d6092ddf8934",
   "metadata": {
    "jp-MarkdownHeadingCollapsed": true,
    "tags": []
   },
   "source": [
    "<h2>Download The Salinity Snake data from PO.DAAC</h2>\n",
    "<p> All data from the SASSIE campaign is stored on NASA's PO.DAAC. The code in this section of the notebook will download SASSIE Salinity Snake data from PO.DAAC, which is accessed through earthdata. If you do not already have an earthdata account, you can create one <a href=\"https://urs.earthdata.nasa.gov/\">here</a> . </p>\n",
    "    <p>Please enter your earthdata credentials below: </p"
   ]
  },
  {
   "cell_type": "code",
   "execution_count": null,
   "id": "cb9abe7e-272d-4c7f-8ee7-8d79e39ef29a",
   "metadata": {},
   "outputs": [],
   "source": [
    "username = 'your_username'\n",
    "password = 'your_password'\n",
    "earthdata = requests.auth.HTTPBasicAuth(username, password)\n",
    "\n",
    "##LOCAL DIRECTORY TO SAVE TSG DATA\n",
    "dir_in = 'Data/salinity_snake/'"
   ]
  },
  {
   "cell_type": "markdown",
   "id": "104a142d-f94f-491b-8a8e-6a9abe1301f6",
   "metadata": {},
   "source": [
    "The next block of code creates the directory specified above and downloads the shipboard Salinity Snake file to your binder session if it has not already been downloaded.<b> To download the dataset to your local disk from here, right click on the file you want to download and click 'download'. </b>"
   ]
  },
  {
   "cell_type": "code",
   "execution_count": null,
   "id": "7460d1f8-4339-4d9d-9980-b5a8d9d5aa35",
   "metadata": {},
   "outputs": [],
   "source": [
    "#If the snake file has not been downloaded, it is pulled from PODAAC here and put into the specified directory.    \n",
    "if not os.path.isfile(dir_in+'SASSIE_Fall_2022_SalinitySnake.nc'):\n",
    "    os.makedirs(dir_in)\n",
    "    url = 'https://archive.podaac.earthdata.nasa.gov/podaac-ops-cumulus-protected/SASSIE_L2_SHIPBOARD_SALINITY_SNAKE_V1/SASSIE_Fall_2022_SalinitySnake.nc'\n",
    "    with requests.Session() as session:\n",
    "            session.auth = (username, password)\n",
    "            r1 = session.request('get', url)\n",
    "            r = session.get(r1.url, auth=(username, password))\n",
    "            if r.status_code == 200:\n",
    "                if r.ok:\n",
    "                    with open(dir_in+'SASSIE_Fall_2022_SalinitySnake.nc', 'wb') as f:\n",
    "                        f.write(r.content) \n",
    "                        print('Saving Input File: ' + dir_in+'SASSIE_Fall_2022_SalinitySnake.nc') \n",
    "            else:\n",
    "                print(\"Error:\", r.status_code)\n",
    "                \n",
    "                if r.status_code == 401:\n",
    "                    print ('Your Username and/or password are incorrect. Please try again')\n",
    "else: \n",
    "    print('Shipboard Salinity Snake file is already in local directory')"
   ]
  },
  {
   "cell_type": "markdown",
   "id": "78753276-a313-4cd1-9835-40aec6d381d8",
   "metadata": {
    "jp-MarkdownHeadingCollapsed": true,
    "tags": []
   },
   "source": [
    "<h2> View The Metadata Inside the TSG File</h2>\n",
    "\n",
    "The netCDF file has global metadata attributes and attributes associated with each variable. This next block will load data and metadata of the netCDF file into an xarray object (ds). <br> The data set will then be displayed in a clickable HTML format. "
   ]
  },
  {
   "cell_type": "code",
   "execution_count": null,
   "id": "532858ec-26e8-48c5-bb47-5380f29f8ada",
   "metadata": {},
   "outputs": [],
   "source": [
    "file = dir_in + '/SASSIE_Fall_2022_SalinitySnake.nc'\n",
    "ds = xr.open_dataset(file)\n",
    "ds"
   ]
  },
  {
   "cell_type": "markdown",
   "id": "249fc07d-9d09-4ce4-9c30-8ea8fc6fa2ab",
   "metadata": {
    "jp-MarkdownHeadingCollapsed": true,
    "tags": []
   },
   "source": [
    "# Supporting Code \n",
    "The code in this section provides a set up for the figure making code below by defining directories for data and figures and creating functions that will be called to actually map the data"
   ]
  },
  {
   "cell_type": "markdown",
   "id": "89733a84-d6d0-4136-8b33-5988305a0770",
   "metadata": {
    "jp-MarkdownHeadingCollapsed": true,
    "tags": []
   },
   "source": [
    "<h3>Create a Directory to Save Figures</h3>"
   ]
  },
  {
   "cell_type": "code",
   "execution_count": null,
   "id": "a55917cd-654d-4596-a5ed-c15117814309",
   "metadata": {},
   "outputs": [],
   "source": [
    "#LOCAL DIRECTORY TO SAVE FIGURES\n",
    "fig_dir = 'Figures/SalinitySnake/'\n",
    "#FIGURE DIR \n",
    "if not os.path.exists(fig_dir):\n",
    "    os.makedirs(fig_dir)"
   ]
  },
  {
   "cell_type": "markdown",
   "id": "5b0b73ca-7af2-47ac-9d0b-e31bc142902e",
   "metadata": {
    "jp-MarkdownHeadingCollapsed": true,
    "tags": []
   },
   "source": [
    "<h3>Define a Colormap and Label for Each Variable in the File</h3>\n",
    "Within SASSIE's collection of jupyter notebooks, the colormaps used for each variable are held as consistant as possible across all datasets. This function defines the colormap and a label for the variable of interest. "
   ]
  },
  {
   "cell_type": "code",
   "execution_count": null,
   "id": "ad2e9617-eb7b-4cd4-bde5-92e27dadf0ce",
   "metadata": {},
   "outputs": [],
   "source": [
    "#DEFINES COLORMAPS AND LABELS OF EACH VARIABLE IN THIS DATA SET\n",
    "def define_variable_attributes(var): \n",
    "    if var == 'salinity':\n",
    "        colormap = 'viridis'\n",
    "        var_label = 'Salinity'\n",
    "    if var == 'temperature_insitu':\n",
    "        colormap = 'plasma'\n",
    "        var_label = 'Temperature ($^{\\circ}$C)'\n",
    "    if var=='cdom_fdom':\n",
    "        colormap = 'YlGnBu'\n",
    "        var_label = 'Colored Dissolved Organic Matter (ppb)'\n",
    "    return colormap,var_label"
   ]
  },
  {
   "cell_type": "markdown",
   "id": "782a56d4-1b11-4818-a06f-d9db2662d0ed",
   "metadata": {
    "jp-MarkdownHeadingCollapsed": true,
    "tags": []
   },
   "source": [
    "<h3>Are you exploring this entire data set, or just the data collected durring a specific time period?</h3>\n",
    "\n",
    "<p> In order to efficiently accomplish the data collection goals of the SASSIE campaign, the cruise was broken up into five destinct plays. \n",
    "    <br>\n",
    "    <br>Play 1 - Ice and Open Water Survey\n",
    "    <br>Play 2 - Zig-Zag Open Water Survey \n",
    "    <br>Play 3 - Ice Survey\n",
    "    <br>Play 4 - Drifter-Following Survey Boxes\n",
    "    <br>Play 5 - Repeated Ice to Open Water Transect</p>\n",
    "    <p>The following block of code identifies the start and end datetimes of each of these plays, seperates the dataset into subsets for each play, and puts the start dates, end dates, and subseted data into lists for easier acess later. </p>"
   ]
  },
  {
   "cell_type": "code",
   "execution_count": null,
   "id": "86c95c22-38e5-49b3-9013-58e1cad6d11d",
   "metadata": {},
   "outputs": [],
   "source": [
    "##Identify the start and end times of each play\n",
    "play1_start = datetime(2022,9,8,8) \n",
    "play1_end = datetime(2022,9,13)\n",
    "play2_start = datetime(2022,9,14)\n",
    "play2_end = datetime(2022,9,16)\n",
    "play3_start = datetime(2022,9,16)\n",
    "play3_end = datetime(2022,9,18)\n",
    "play4_start = datetime(2022,9,19)\n",
    "play4_end  = datetime(2022,9,23)\n",
    "play5_start = datetime(2022,9,25)\n",
    "play5_end = datetime(2022,9,29)\n",
    "\n",
    "#subset the dataset into each play. \n",
    "play1_data =ds.sel(time=slice(play1_start,play1_end))\n",
    "play2_data =ds.sel(time=slice(play2_start,play2_end))\n",
    "play3_data =ds.sel(time=slice(play3_start,play3_end))\n",
    "play4_data =ds.sel(time=slice(play4_start,play4_end))\n",
    "play5_data =ds.sel(time=slice(play5_start,play5_end))\n",
    "campaign_data = ds.sel(time=slice(play1_start,play5_end))\n",
    "\n",
    "#Create lists of start dates, end dates, and subsetted datasets. \n",
    "play_start_dates = [play1_start,play2_start,play3_start,play4_start,play5_start,play1_start]\n",
    "play_end_dates = [play1_end,play2_end,play3_end,play4_end,play5_end,play5_end]\n",
    "play_data_all = [play1_data,play2_data,play3_data,play4_data,play5_data,campaign_data]\n"
   ]
  },
  {
   "cell_type": "markdown",
   "id": "a7922508-a485-4666-959b-01017acac671",
   "metadata": {
    "jp-MarkdownHeadingCollapsed": true,
    "tags": []
   },
   "source": [
    "<h3>Define a Function to Create a Map of the Study Area</h3>\n",
    "The following function creates a map of the SASSIE study area, which is defined by minimum and maximum lat/lon values. These ranges can be changed later when the function is called to zoom in/out on the study area."
   ]
  },
  {
   "cell_type": "code",
   "execution_count": null,
   "id": "e4c4ac4f-9665-4ead-ab37-67705e4cb94a",
   "metadata": {},
   "outputs": [],
   "source": [
    "def map_study_area(latmin, latmax,lonmin,lonmax):\n",
    "    global fig \n",
    "    global ax\n",
    "    \n",
    "    #create the map as a figure, set the lat and lon ranges, and add land + river data:\n",
    "    fig = plt.figure(figsize=(10,8))\n",
    "    ax = plt.axes(projection=cartopy.crs.NorthPolarStereo(central_longitude=-150))\n",
    "    ax.set_extent([lonmin,lonmax,latmin,latmax], crs=cartopy.crs.PlateCarree())\n",
    "    ax.coastlines(color='k')  \n",
    "    ax.add_feature(cartopy.feature.LAND, facecolor = '0.50',zorder=1)\n",
    "    ax.add_feature(cartopy.feature.RIVERS,facecolor='blue')\n",
    "    #Add lat and lon gridlines and labels:\n",
    "    gl = ax.gridlines(draw_labels=True, dms=True, x_inline=False, y_inline=False, alpha=0.3) #draw_labels=True gives lat labels.\n",
    "    gl.ylocator = matplotlib.ticker.FixedLocator(np.arange(60,75,1))\n",
    "    gl.xlocator = matplotlib.ticker.FixedLocator(np.arange(-170,-140,2))\n",
    "    gl.top_labels = False\n",
    "    gl.bottom_labels = True \n",
    "    gl.right_labels = False\n",
    "    \n",
    "    #Add markers for reference cities on the coast:\n",
    "    if (latmin<71.2906) & (lonmin<-156.7886):\n",
    "        utqiagvik = ax.scatter(-156.7886,71.2906,s=100,transform=cartopy.crs.PlateCarree(),c='red',marker = '*',label='Utqiagvik, AK',zorder=2)\n",
    "    if (latmin<70.2002) & (lonmax>-148.4597):\n",
    "        deadhorse = ax.scatter(-148.4597,70.2002,s=100,c='cyan',transform=cartopy.crs.PlateCarree(),marker = '*',label='Deadhorse, AK',zorder=2)\n",
    "        \n",
    "    \n",
    "    "
   ]
  },
  {
   "cell_type": "markdown",
   "id": "c28bc381-4b79-4451-94bb-1f10e0298c9c",
   "metadata": {
    "jp-MarkdownHeadingCollapsed": true,
    "tags": []
   },
   "source": [
    "<h3>Configure Supporting Data to Add to Maps</h3>\n",
    "<p>The functions for viewing and plotting this data set below have options to include bathymetry and/or AMSR ice data to add context to maps. If you are using these options, run\n",
    "    <br>the following code blocks to:\n",
    "    <br>1. Create a directory for AMSR ice data and acess bathymetry data from NOAA\n",
    "    <br>2. Define functions that add these data to your map when called.</p>"
   ]
  },
  {
   "cell_type": "markdown",
   "id": "d8c20b3a-a800-47d9-8879-8582fde50996",
   "metadata": {
    "jp-MarkdownHeadingCollapsed": true,
    "tags": []
   },
   "source": [
    "<h4>Create Directory for Ice Data and Access Bathymetry Data </h4>\n"
   ]
  },
  {
   "cell_type": "code",
   "execution_count": null,
   "id": "2b8c9f58-972b-499d-a8b6-0f296d3edf97",
   "metadata": {
    "tags": []
   },
   "outputs": [],
   "source": [
    "##DIRECTORY TO SAVE AMSR SEA ICE DATA \n",
    "ice_dir = 'Ice_Data/'\n",
    "\n",
    "#ICE DATA DIR\n",
    "if not os.path.exists(ice_dir):\n",
    "    os.makedirs(ice_dir)\n",
    "\n",
    "##READ IN TOPOGRAPHY/BATHYMETRY DATA\n",
    "url = 'http://ferret.pmel.noaa.gov/thredds/dodsC/data/PMEL/etopo2.nc'\n",
    "etopodata = xr.open_dataset(url) "
   ]
  },
  {
   "cell_type": "markdown",
   "id": "eaaaf1cc-dd23-4108-aec6-11bf63107e55",
   "metadata": {
    "jp-MarkdownHeadingCollapsed": true,
    "tags": []
   },
   "source": [
    "<h4>Create Directory for Shiptrack Data </h4>\n"
   ]
  },
  {
   "cell_type": "code",
   "execution_count": null,
   "id": "25cd98e5-027e-48f1-b661-4f9b0d851524",
   "metadata": {
    "tags": []
   },
   "outputs": [],
   "source": [
    "## DIRECTORY TO SHIP TRACK DATA\n",
    "ship_dir =  'Data/TSG/' \n",
    "\n",
    "#DOWLOAD SHIPTRACK DATA\n",
    "if not os.path.isfile(ship_dir+'SASSIE_Fall_2022_Shipboard_TSG.nc'):\n",
    "    os.makedirs(ship_dir)\n",
    "    url = 'https://archive.podaac.earthdata.nasa.gov/podaac-ops-cumulus-protected/SASSIE_L2_SHIPBOARD_TSG_V1/SASSIE_Fall_2022_Shipboard_TSG.nc'\n",
    "    with requests.Session() as session:\n",
    "            session.auth = (username, password)\n",
    "            r1 = session.request('get', url)\n",
    "            r = session.get(r1.url, auth=(username, password))\n",
    "            if r.status_code == 200:\n",
    "                if r.ok:\n",
    "                    with open(ship_dir+'SASSIE_Fall_2022_Shipboard_TSG.nc', 'wb') as f:\n",
    "                        f.write(r.content) \n",
    "                        print('Saving Input File: ' + ship_dir+'SASSIE_Fall_2022_Shipboard_TSG.nc') \n",
    "            else:\n",
    "                print(\"Error:\", r.status_code)\n",
    "                if r.status_code == 401:\n",
    "                    print ('Your Username and/or password are incorrect. Please try again')\n",
    "else: \n",
    "    print('Shipboard TSG file is already in local directory')\n",
    "    \n",
    "    \n",
    "#READ IN TOPOGRAPHY/BATHYMETRY DATA\n",
    "url = 'http://ferret.pmel.noaa.gov/thredds/dodsC/data/PMEL/etopo2.nc'\n",
    "etopodata = xr.open_dataset(url) "
   ]
  },
  {
   "cell_type": "markdown",
   "id": "49a8cc1d-19cf-4e3f-a629-dc8863b8a931",
   "metadata": {
    "jp-MarkdownHeadingCollapsed": true,
    "tags": []
   },
   "source": [
    "<h4>Define a Function to Add Ice Data to a Map</h4>\n",
    "This function will download the AMSR ice product at the start and end date of the time period specified and add it to the plot. \n",
    "<br>Ice data from the start date will be shown in blue and ice data from the end date will be shown in red. "
   ]
  },
  {
   "cell_type": "code",
   "execution_count": null,
   "id": "10f6f7b4-7749-482a-b1f5-97cb58360672",
   "metadata": {},
   "outputs": [],
   "source": [
    "def add_ice_data(start_date,end_date):\n",
    "        #get ice data at start of time range\n",
    "        play_start = start_date\n",
    "        filename_si='AMSR_U2_L3_SeaIce12km_B04_'+str(play_start.year)+str(play_start.month).zfill(2)+str(play_start.day).zfill(2)+'.he5' \n",
    "        i=0\n",
    "        time_tmp=play_start - timedelta(days=i)\n",
    "        while os.path.isfile(ice_dir+filename_si)==False and i<15:\n",
    "            time_tmp=play_start - timedelta(days=i)\n",
    "            filename_si='AMSR_U2_L3_SeaIce12km_B04_'+str(time_tmp.year)+str(time_tmp.month).zfill(2)+str(time_tmp.day).zfill(2)+'.he5'\n",
    "            url = requests.get('https://n5eil01u.ecs.nsidc.org/AMSA/AU_SI12.001/'+str(time_tmp.year)+'.'+str(time_tmp.month).zfill(2)+'.'+str(time_tmp.day).zfill(2)+'/'+filename_si)\n",
    "            with open(ice_dir+filename_si, 'wb') as f:\n",
    "                f.write(url.content)\n",
    "            i=i+1\n",
    "\n",
    "        #get ice data at end of time range \n",
    "        play_end = end_date\n",
    "        filename_si='AMSR_U2_L3_SeaIce12km_B04_'+str(play_end.year)+str(play_end.month).zfill(2)+str(play_end.day).zfill(2)+'.he5' \n",
    "        i=0\n",
    "        time_tmp=play_end - timedelta(days=i)\n",
    "        while os.path.isfile(ice_dir+filename_si)==False and i<15:\n",
    "            time_tmp=play_end - timedelta(days=i)\n",
    "            filename_si='AMSR_U2_L3_SeaIce12km_B04_'+str(time_tmp.year)+str(time_tmp.month).zfill(2)+str(time_tmp.day).zfill(2)+'.he5'\n",
    "            url = requests.get('https://n5eil01u.ecs.nsidc.org/AMSA/AU_SI12.001/'+str(time_tmp.year)+'.'+str(time_tmp.month).zfill(2)+'.'+str(time_tmp.day).zfill(2)+'/'+filename_si)\n",
    "            with open(ice_dir+filename_si, 'wb') as f:\n",
    "                f.write(url.content)       \n",
    "            i=i+1\n",
    "\n",
    "        #apply ice data at the end of the time range (ice sheet growth) in red\n",
    "        filename_si='AMSR_U2_L3_SeaIce12km_B04_'+str(play_end.year)+str(play_end.month).zfill(2)+str(play_end.day).zfill(2)+'.he5' \n",
    "        if os.path.isfile(ice_dir+filename_si):\n",
    "            dsc = xr.open_dataset(ice_dir+filename_si,group='HDFEOS/GRIDS/NpPolarGrid12km')\n",
    "            dsd = xr.open_dataset(ice_dir+filename_si,group='HDFEOS/GRIDS/NpPolarGrid12km/Data Fields') \n",
    "            var1 = np.array(dsd.SI_12km_NH_ICECON_DAY.squeeze().values)\n",
    "            indx = np.where((var1==120) | (var1==0))\n",
    "\n",
    "            var1[indx] = 0\n",
    "            ice_growth_location = np.ma.masked_where(var1==0,var1)\n",
    "\n",
    "            pp = ax.pcolormesh(dsc.lon,dsc.lat,ice_growth_location, \n",
    "                            vmin=0,vmax=100, # Set max and min values for plotting\n",
    "                            cmap='Reds_r', shading='auto',   # shading='auto' to avoid warning\n",
    "                            transform=cartopy.crs.PlateCarree())\n",
    "\n",
    "        #apply ice data at the start of the time range in blue\n",
    "        filename_si='AMSR_U2_L3_SeaIce12km_B04_'+str(play_start.year)+str(play_start.month).zfill(2)+str(play_start.day).zfill(2)+'.he5' \n",
    "        if os.path.isfile(ice_dir+filename_si):\n",
    "            dsc = xr.open_dataset(ice_dir+filename_si,group='HDFEOS/GRIDS/NpPolarGrid12km')\n",
    "            dsd = xr.open_dataset(ice_dir+filename_si,group='HDFEOS/GRIDS/NpPolarGrid12km/Data Fields') \n",
    "            var1 = np.array(dsd.SI_12km_NH_ICECON_DAY.squeeze().values)\n",
    "            indx = np.where((var1==120) | (var1==0))\n",
    "            var1[indx] = 0\n",
    "            ice_location = np.ma.masked_where(var1==0,var1)\n",
    "\n",
    "            pp = ax.pcolormesh(dsc.lon,dsc.lat,ice_location, \n",
    "                            vmin=0,vmax=100, # Set max and min values for plotting\n",
    "                            cmap='Blues_r', shading='auto',   # shading='auto' to avoid warning\n",
    "                            transform=cartopy.crs.PlateCarree())\n",
    "        "
   ]
  },
  {
   "cell_type": "markdown",
   "id": "a9b2c098-eb3b-4e94-91cf-8bb78ba55b70",
   "metadata": {
    "jp-MarkdownHeadingCollapsed": true,
    "tags": []
   },
   "source": [
    "<h4>Define a Function to Index Relevant Bathymetry Data and Add it to the Map</h4>\n",
    "This function will index bathymetry data from NOAA within the appropriate spatial range and add it to the map. \n"
   ]
  },
  {
   "cell_type": "code",
   "execution_count": null,
   "id": "1f550402-b982-451e-b68c-32031216c54e",
   "metadata": {},
   "outputs": [],
   "source": [
    "def add_bathy_data(latmin,latmax,lonmin,lonmax):\n",
    "        topoin = etopodata.rose.values[0:-1:5,1:-1:5]\n",
    "        lons = etopodata.etopo2_x.values[0:-1:5]\n",
    "        lats = etopodata.etopo2_y.values[0:-1:5]\n",
    "        lons_in_range = lons[np.where((lons >lonmin-1) & (lons<lonmax+1))]\n",
    "        lats_in_range = lats[np.where((lats >latmin-1) & (lats<latmax+1))]\n",
    "        topo_in_range = np.squeeze(topoin[np.squeeze(np.where((lats >latmin-1) & (lats<latmax+1))),:][:,np.where((lons >lonmin-1) & (lons<lonmax+1))])\n",
    "        [bathy_lon,bathy_lat] = np.meshgrid(lons_in_range,lats_in_range)\n",
    "        \n",
    "        bathy = ax.contour(bathy_lon,bathy_lat,topo_in_range,np.arange(-6000,-1000,300),transform=cartopy.crs.PlateCarree(),cmap='gray',alpha = 0.2,zorder = 0)"
   ]
  },
  {
   "cell_type": "markdown",
   "id": "f8317719-fa1f-433d-9558-2dde6322d59f",
   "metadata": {
    "jp-MarkdownHeadingCollapsed": true,
    "tags": []
   },
   "source": [
    "<h4>Define a Function to Add Shiptrack Data to a Map</h4>\n",
    "This function will pull the lat/lon data from the SASSIE Shipboard TSG file and put it onto a map. "
   ]
  },
  {
   "cell_type": "code",
   "execution_count": null,
   "id": "02c01dc4-28b9-44bf-a2ba-f3d4b8ce3700",
   "metadata": {},
   "outputs": [],
   "source": [
    "def add_ship_track():\n",
    "        ds_ship = xr.open_dataset(ship_dir+'/SASSIE_Fall_2022_Shipboard_TSG.nc')\n",
    "        ship_time = np.squeeze(ds_ship['time'])\n",
    "        ship_lat = np.squeeze(ds_ship['latitude'])\n",
    "        ship_lon = np.squeeze(ds_ship['longitude'])\n",
    "       \n",
    "        track = ax.plot(ship_lon, \n",
    "                     ship_lat,linewidth = 0.5,\n",
    "                     c='black',\n",
    "                       transform=cartopy.crs.PlateCarree(),label = 'Ship Track',zorder=1)"
   ]
  },
  {
   "cell_type": "markdown",
   "id": "84298bcd-65e9-424f-a408-a93b76d088fd",
   "metadata": {
    "jp-MarkdownHeadingCollapsed": true,
    "tags": []
   },
   "source": [
    "# Figure Making Code "
   ]
  },
  {
   "cell_type": "markdown",
   "id": "d39c694c-6f5d-4ee6-a63c-ce5c9940a485",
   "metadata": {
    "tags": []
   },
   "source": [
    "<h2>Make Maps of This Data</h2>\n",
    "<p>Using the code in this section, the user can plot the Salinity Snake data on a map colored by time, sea surface temperature, CDOM, or sea surface salinity. The code blocks in the 'supporting code' section should be run first. </p>"
   ]
  },
  {
   "cell_type": "markdown",
   "id": "3d37c144-59e6-4053-8cd6-83367a3f0a78",
   "metadata": {
    "jp-MarkdownHeadingCollapsed": true,
    "tags": []
   },
   "source": [
    "<h3> Mapping the Time and Location of Salinity Snake Data Collection</h3>\n",
    "<p>The map_salinity_snake_track function shows the track of the R/V Woldstad collecting snake data on a map, colored by time. Various features of this function: </p>\n",
    "    <p>1. The user has the option to specify a specific play to show on the map.The default play shown is '6', which gives time and location data from the entire campaign.\n",
    "    <br>2. This function adds bathymetry contours showing the position of the continental shelf by default for reference. \n",
    "    <br>3. The user has the option to add the AMSR ice product at the start and end of the time period shown by inputting ice_data=True. </p>"
   ]
  },
  {
   "cell_type": "code",
   "execution_count": null,
   "id": "6ae1521d-65f6-4529-8415-1ee32ded81c1",
   "metadata": {},
   "outputs": [],
   "source": [
    "##Map the track of the salinity snake (ship track) and contour by time \n",
    "def map_salinity_snake_track(play,bathymetry_data=True,ice_data=False, ship_track=True):\n",
    "    \n",
    "    ##LOAD DATA FOR SELECTED PLAY\n",
    "    time_data = np.squeeze(play_data_all[play-1]['time'])\n",
    "    lat_data = np.squeeze(play_data_all[play-1]['latitude'])\n",
    "    lon_data = np.squeeze(play_data_all[play-1]['longitude'])\n",
    "    \n",
    "    \n",
    "    ##CREATE A MAP WITH LAND, CITY MARKERS, BATHYMETRY DATA, AND AMSR ICE DATA AT START AND END OF PLAY.\n",
    "\n",
    "    #To show the whole campaign area, use latmin = 70, latmax =74,lonmin=-157,lonmax=-140\n",
    "    latmin = min(lat_data.values)-1\n",
    "    latmax = max(lat_data.values)+1\n",
    "    lonmin = min(lon_data.values)-1\n",
    "    lonmax = max(lon_data.values)+1\n",
    "    if play == 6: \n",
    "        latmin = 70\n",
    "        \n",
    "    #make the map\n",
    "    map_study_area(latmin,latmax,lonmin,lonmax)\n",
    "    \n",
    "    #give it a title:\n",
    "    if play == 6:\n",
    "        ax.set_title('Salinity Snake Track from Entire Campaign',fontsize=18) \n",
    "    else:\n",
    "        ax.set_title('Salinity Snake Track from Play '+str(play),fontsize=18) \n",
    "        \n",
    "    ##OPTIONAL MAP ADD-ONs\n",
    "    \n",
    "    if bathymetry_data == True:    \n",
    "        add_bathy_data(latmin,latmax,lonmin,lonmax)\n",
    "        \n",
    "    if ice_data ==True:\n",
    "        ##ADD ICE DATA\n",
    "        #get ice data at start of time range\n",
    "        play_start = play_start_dates[play-1]\n",
    "        play_end = play_end_dates[play-1]\n",
    "        add_ice_data(play_start,play_end)\n",
    "        \n",
    "    if ship_track==True:\n",
    "        add_ship_track()\n",
    "\n",
    "        \n",
    "    ##APPLY Salinity Snake DATA TO THE MAP \n",
    "    \n",
    "    track = ax.scatter(lon_data, \n",
    "                 lat_data,s=0.01, \n",
    "                 c=time_data,cmap='jet',\n",
    "                   transform=cartopy.crs.PlateCarree())\n",
    "    cbar = fig.colorbar(track, ax=ax, orientation=\"horizontal\", pad=0.1)\n",
    "    cbar.set_label(label='Date',size='large',weight='bold')\n",
    "    if play == 3:\n",
    "        number_of_ticks = 3\n",
    "    else:\n",
    "        number_of_ticks = 5\n",
    "    cbar_tick_array=(np.linspace(min(time_data.values).astype('int64'),max(time_data.values).astype('int64'),number_of_ticks))\n",
    "    cbar.set_ticks(cbar_tick_array)\n",
    "    cbar.set_ticklabels(pd.to_datetime(cbar_tick_array).date)\n",
    "    \n",
    "    \n",
    "    ##SAVE FIGURE\n",
    "    if not os.path.exists(fig_dir+'shiptrack'):\n",
    "        os.makedirs(fig_dir+'shiptrack')\n",
    "    if play==6:\n",
    "        print('Saving Output Image:  '+fig_dir+'shiptrack/'+'SASSIE_Salinity_Snake_entire_campaign.png')\n",
    "        plt.savefig(fig_dir+'shiptrack/'+'SASSIE_Salinity_Snake_entire_campaign.png',dpi='figure',format='png')\n",
    "    else:\n",
    "        print('Saving Output Image:  '+fig_dir+'shiptrack/'+'SASSIE_Salinity_Snake_play'+'_'+str(play)+'.png')\n",
    "        plt.savefig(fig_dir+'shiptrack/'+'SASSIE_Salinity_Snake_TSG_play'+'_'+str(play)+'.png',dpi='figure',format='png')"
   ]
  },
  {
   "cell_type": "code",
   "execution_count": null,
   "id": "e586b017-5863-4e69-b422-b096025d9ad7",
   "metadata": {},
   "outputs": [],
   "source": [
    "map_salinity_snake_track(6)\n",
    "#map_salinity_snake_track(1,ice_data=True)"
   ]
  },
  {
   "cell_type": "markdown",
   "id": "c84067ef-252a-4820-aaeb-e38a53d7c82c",
   "metadata": {
    "jp-MarkdownHeadingCollapsed": true,
    "tags": []
   },
   "source": [
    "<h3>Mapping Sea Surface Temperature or Salinity Data Along the Salinity Snake Track</h3>\n",
    "<p>The map_shipboard_data function shows the track of the R/V Woldstad where salinity snake data was collected on a map, colored by sea surface temperature or salinity. Various features of this function: </p>\n",
    "    <p>1. The user has the option to specify a specific play to show on the map.The default play shown is '6', which gives time and location data from the entire campaign.\n",
    "    <br>2. This function adds bathymetry contours showing the position of the continental shelf by default for reference. \n",
    "    <br>3. The user has the option to add the AMSR ice product at the start and end of the time period shown by inputting ice_data=True.\n",
    "    <br>4. The user must specify the variable to be plotted, as well as the minimum and maximum value for that variable.</p>"
   ]
  },
  {
   "cell_type": "code",
   "execution_count": null,
   "id": "6fdf3fe1-69f7-4eb9-bc9c-8a39bc9cd2d0",
   "metadata": {
    "tags": []
   },
   "outputs": [],
   "source": [
    "## PLOT TEMP AND SALINITY DATA PLAY BY PLAY##\n",
    "def map_shipboard_data(play,var,var_min,var_max,bathymetry_data=True,ice_data=False, ship_track=True):\n",
    "    \n",
    "    \n",
    "    #LOAD DATA FOR SELECTED PLAY\n",
    "    np_var = np.squeeze(play_data_all[play-1][var])\n",
    "    np_lat = np.squeeze(play_data_all[play-1]['latitude'])\n",
    "    np_lon = np.squeeze(play_data_all[play-1]['longitude'])\n",
    "    \n",
    "    play_start = play_start_dates[play-1]\n",
    "    play_end = play_end_dates[play-1]\n",
    "    \n",
    "    \n",
    "    ##CREATE A MAP WITH LAND, CITY MARKERS, BATHYMETRY DATA(optional), AND AMSR ICE DATA AT START AND END OF PLAY(optional).\n",
    "    #To show the whole campaign area, use latmin = 70, latmax =74,lonmin=-157,lonmax=-140\n",
    "    latmin = min(np_lat.values)-1\n",
    "    latmax = max(np_lat.values)+0.2\n",
    "    lonmin = min(np_lon.values)-1\n",
    "    lonmax = max(np_lon.values)+1\n",
    "    \n",
    "    colormap,var_label = define_variable_attributes(var)\n",
    "        \n",
    "    #make the map: \n",
    "    map_study_area(latmin,latmax,lonmin,lonmax)\n",
    "    \n",
    "    #give it a title:\n",
    "    if play == 6:\n",
    "        ax.set_title('Shipboard Salinity Snake \\n'+ var_label+' Entire Campaign',fontsize=18) \n",
    "    else:\n",
    "        ax.set_title('Shipboard Salinity Snake \\n'+var_label+' Play '+str(play),fontsize=18) \n",
    "        \n",
    "    ##ADD OPTIONAL BATHYMETRY AND/OR ICE DATA\n",
    "    if bathymetry_data==True: \n",
    "        add_bathy_data(latmin,latmax,lonmin,lonmax)\n",
    "        \n",
    "    if ice_data ==True:\n",
    "        play_start = play_start_dates[play-1]\n",
    "        play_end = play_end_dates[play-1]\n",
    "        add_ice_data(play_start,play_end)\n",
    "        \n",
    "    if ship_track==True:\n",
    "        add_ship_track()\n",
    "        \n",
    "    ##APPLY Salinity Snake DATA\n",
    "    track = ax.scatter(np_lon, \n",
    "                 np_lat,s=0.01, \n",
    "                 c=np_var,cmap=colormap,\n",
    "                   transform=cartopy.crs.PlateCarree(),\n",
    "                   vmin = var_min,\n",
    "                   vmax = var_max)\n",
    "                        \n",
    "    matplotlib.pyplot.colorbar(track, ax=ax, orientation=\"horizontal\", pad=0.1).set_label(label=var_label,size='large',weight='bold')\n",
    "    \n",
    "    ##SAVE FIGURE\n",
    "    if not os.path.exists(fig_dir+var):\n",
    "        os.makedirs(fig_dir+var)\n",
    "    if play == 6:\n",
    "        print('Saving Output Image:  '+fig_dir+var+'/'+'SASSIE_SHIPBOARD_Salinity_Snake_entire_campaign.png')\n",
    "        plt.savefig(fig_dir+var+'/'+'SASSIE_SHIPBOARD_Salinity_Snake_entire_campaign.png',dpi='figure',format='png')\n",
    "    else: \n",
    "        print('Saving Output Image:  '+fig_dir+var+'/'+'SASSIE_SHIPBOARD_Salinity_Snake_play'+'_'+str(play)+'.png')\n",
    "        plt.savefig(fig_dir+var+'/'+'SASSIE_SHIPBOARD_Salinity_Snake_play'+'_'+str(play)+'.png',dpi='figure',format='png')\n",
    "    "
   ]
  },
  {
   "cell_type": "code",
   "execution_count": null,
   "id": "a5542960-e4ab-4792-9355-a6365d9c0c79",
   "metadata": {},
   "outputs": [],
   "source": [
    "cdom_min = 0\n",
    "cdom_max = 5\n",
    "\n",
    "map_shipboard_data(6,'cdom_fdom',cdom_min,cdom_max)"
   ]
  },
  {
   "cell_type": "code",
   "execution_count": null,
   "id": "bcebbec6-d86b-446f-9212-c2b3a060bb4d",
   "metadata": {},
   "outputs": [],
   "source": [
    "salinity_min = 22\n",
    "salinity_max = 27\n",
    "\n",
    "map_shipboard_data(3,'salinity',salinity_min,salinity_max)\n"
   ]
  },
  {
   "cell_type": "code",
   "execution_count": null,
   "id": "7575f1d0-8cde-4157-aadd-9a3fc15b8b11",
   "metadata": {},
   "outputs": [],
   "source": [
    "temp_min = -2\n",
    "temp_max = 4\n",
    "\n",
    "map_shipboard_data(5,'temperature_insitu',temp_min,temp_max)\n"
   ]
  },
  {
   "cell_type": "markdown",
   "id": "a533825d-2b45-4e05-9c07-3e2f4bb24a46",
   "metadata": {
    "jp-MarkdownHeadingCollapsed": true,
    "tags": []
   },
   "source": [
    "<h2>Make Timeseries Plots on a 2D Axis</h2>\n",
    "The function in this section plots temperature and salinity collected from the Salinity Snake durring a selected play on a 2 panneled time series figure."
   ]
  },
  {
   "cell_type": "code",
   "execution_count": null,
   "id": "4f91ff7f-fc4f-4bb9-bf82-95d1b410f69f",
   "metadata": {},
   "outputs": [],
   "source": [
    "def plot_shipboard_timeseries(play): \n",
    "    \n",
    "    #SECLECT AND LOAD PLAY DATA\n",
    "    play_start = play_start_dates[play-1]\n",
    "    play_end = play_end_dates[play-1]\n",
    "    \n",
    "    time_data = np.squeeze(play_data_all[play-1]['time'])\n",
    "    temp_data = np.squeeze(play_data_all[play-1]['temperature_insitu'])\n",
    "    sal_data = np.squeeze(play_data_all[play-1]['salinity'])\n",
    "    \n",
    "    \n",
    "    #MAKE A TWO PANNELED TIME SERIES PLOT\n",
    "    fig,axs = plt.subplots(2,sharex=True)\n",
    "    \n",
    "    axs[0].plot(time_data,temp_data,linewidth=0.4,color='k')\n",
    "    axs[0].set(ylabel='Temperature ($^{\\circ}$C)')\n",
    "    axs[1].plot(time_data,sal_data,linewidth=0.4,color='k')\n",
    "    axs[1].set(ylabel='Salinity',xlabel='Date')\n",
    "    \n",
    "    plt.xticks(pd.date_range(start=time_data.values[0],end=time_data.values[-1],periods=3))\n",
    "    \n",
    "    \n",
    "    if play <=5:\n",
    "        fig.suptitle('Play '+str(play)+' Shipboard Salinity Snake \\n Temeperature and Salinity')\n",
    "    if play == 6: \n",
    "        fig.suptitle('Shipboard Salinity Snake (Entire Campaign) \\n Temperature and Salinity')\n",
    "        \n",
    "    ##SAVE FIGURE \n",
    "    if not os.path.exists(fig_dir+'timeseries'):\n",
    "        os.makedirs(fig_dir+'timeseries')\n",
    "    if play==6: \n",
    "        print('Saving Output Image:  '+fig_dir+'timeseries/SASSIE_SHIPBOARD_Salinity_Snake_entire_campaign.png')\n",
    "        plt.savefig(fig_dir+'timeseries/SASSIE_SHIPBOARD_Salinity_Snake_entire_campaign.png',dpi='figure',format='png')\n",
    "    else:\n",
    "        print('Saving Output Image:  '+fig_dir+'timeseries/SASSIE_SHIPBOARD_Salinity_Snake_play'+'_'+str(play)+'.png')\n",
    "        plt.savefig(fig_dir+'timeseries/SASSIE_SHIPBOARD_Salinity_Snake_play'+'_'+str(play)+'.png',dpi='figure',format='png')\n",
    "    "
   ]
  },
  {
   "cell_type": "code",
   "execution_count": null,
   "id": "ebce6a32-5751-4ea0-8bf7-713e64066d4c",
   "metadata": {},
   "outputs": [],
   "source": [
    "plot_shipboard_timeseries(6)"
   ]
  },
  {
   "cell_type": "code",
   "execution_count": null,
   "id": "b1405834-7a00-476d-9073-081d1c31454b",
   "metadata": {},
   "outputs": [],
   "source": []
  }
 ],
 "metadata": {
  "kernelspec": {
   "display_name": "Python 3 (ipykernel)",
   "language": "python",
   "name": "python3"
  },
  "language_info": {
   "codemirror_mode": {
    "name": "ipython",
    "version": 3
   },
   "file_extension": ".py",
   "mimetype": "text/x-python",
   "name": "python",
   "nbconvert_exporter": "python",
   "pygments_lexer": "ipython3",
   "version": "3.9.16"
  }
 },
 "nbformat": 4,
 "nbformat_minor": 5
}
