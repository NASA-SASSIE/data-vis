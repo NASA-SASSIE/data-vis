{
 "cells": [
  {
   "cell_type": "markdown",
   "id": "d7b40411-381b-4656-8989-d5797d9fcdf4",
   "metadata": {
    "tags": []
   },
   "source": [
    "<h1>SASSIE Shipboard ADCP Data Use and Visualization</h1>\n",
    "<p> Shipboard ADCP data was collected throughout the SASSIE campaign from the R/V Woldstad. Due to a heading error on the ADCP, only vertical sheer data are avalible. ADCP data are downloaded and plotted using the code below! <b>Please run the 'Data Download and Metadata Viewing' and 'Supporting Code' sections in order before running the 'Figure Making Code'.</b> </p>\n",
    "    \n",
    "<p>The aim of this notebook is to assist the end user in exploratory data analysis by downloading the SASSIE data from NASA's PODAAC, opening the dataset and displaying it's associated metadata, and creating a few visualizations. This notebook was created by Elizabeth Westbrook. For questions and trouble shooting, please email westbrooke@uncw.edu.</p>"
   ]
  },
  {
   "cell_type": "markdown",
   "id": "1abdf132-6a35-4476-933f-e0c608eac900",
   "metadata": {
    "jp-MarkdownHeadingCollapsed": true,
    "tags": []
   },
   "source": [
    "# Credential Entry\n",
    "In this section, you shoud enter your EarthData username and password. <b> DO NOT enter usernames and passwords here which are sensitive.</b> If you do not already have an EarthData account, you can create one <a href=\"https://urs.earthdata.nasa.gov/\">here</a> . </p>\n",
    "    <p>Please enter your EarthData credentials below: </p>"
   ]
  },
  {
   "cell_type": "code",
   "execution_count": null,
   "id": "a69c6fcb-b184-40c3-82ba-0facbdafadc5",
   "metadata": {},
   "outputs": [],
   "source": [
    "#Enter Earthdata Credentials: \n",
    "username = 'your_username'\n",
    "password = 'your_password'"
   ]
  },
  {
   "cell_type": "markdown",
   "id": "8eb3d0ea-2fc1-4a34-8989-5eaec5e05361",
   "metadata": {
    "jp-MarkdownHeadingCollapsed": true,
    "tags": []
   },
   "source": [
    "# Data Download and Metadata Viewing\n",
    "\n",
    "The code in this section will download the dataset from PO.DAAC and open it as an xarray object for metadata and variable attribute viewing."
   ]
  },
  {
   "cell_type": "code",
   "execution_count": null,
   "id": "e40baa53-ea2d-42e2-b479-b7cb60b74b75",
   "metadata": {},
   "outputs": [],
   "source": [
    "import numpy as np\n",
    "import xarray as xr\n",
    "import glob \n",
    "from datetime import datetime, timedelta \n",
    "import matplotlib.pyplot as plt\n",
    "import cartopy\n",
    "import matplotlib\n",
    "import os\n",
    "import sys\n",
    "import pandas as pd\n",
    "import requests\n",
    "import cmasher as cmr"
   ]
  },
  {
   "cell_type": "markdown",
   "id": "81cac27d-3fc7-46de-840a-27966c3cebb1",
   "metadata": {
    "jp-MarkdownHeadingCollapsed": true,
    "tags": []
   },
   "source": [
    "<h2>Download The Shipboard ADCP data from PO.DAAC</h2>\n",
    "<p> All data from the SASSIE campaign is stored on NASA's PO.DAAC. The code in this section of the notebook will download SASSIE Shipboard ADCP data from PO.DAAC, which is accessed through EarthData. "
   ]
  },
  {
   "cell_type": "code",
   "execution_count": null,
   "id": "ef2f1abe-78ce-486e-9c87-8ed259631a7f",
   "metadata": {},
   "outputs": [],
   "source": [
    "##LOCAL DIRECTORY TO SAVE SHIPBOARD ADCP DATA\n",
    "dir_in = 'Data/ADCP/'"
   ]
  },
  {
   "cell_type": "markdown",
   "id": "818b4d66-7363-4b24-af1d-2ddf45035480",
   "metadata": {},
   "source": [
    "The next block of code creates the directory specified above and downloads the shipboard ADCP file to your binder session if it has not already been downloaded.<b> To download the dataset to your local disk from here, right click on the file you want to download and click 'download'. </b>"
   ]
  },
  {
   "cell_type": "code",
   "execution_count": null,
   "id": "e62da472-9422-4cd0-8b15-ae3ed8c79778",
   "metadata": {},
   "outputs": [],
   "source": [
    "#if the file has not already been downloaded, it is downloaded here: \n",
    "if not os.path.isfile(dir_in+'SASSIE_Fall_2022_ADCP_Ocean_current_sheer.nc'):\n",
    "    os.makedirs(dir_in)\n",
    "    url = 'https://archive.podaac.earthdata.nasa.gov/podaac-ops-cumulus-protected/SASSIE_L2_SHIPBOARD_ADCP_V1/SASSIE_Fall_2022_ADCP_Ocean_current_sheer.nc'\n",
    "    with requests.Session() as session:\n",
    "            session.auth = (username, password)\n",
    "            r1 = session.request('get', url)\n",
    "            r = session.get(r1.url, auth=(username, password))\n",
    "            if r.status_code == 200:\n",
    "                if r.ok:\n",
    "                    with open(dir_in+'SASSIE_Fall_2022_ADCP_Ocean_current_sheer.nc', 'wb') as f:\n",
    "                        f.write(r.content) \n",
    "                        print('Saving Input File: ' + dir_in+'SASSIE_Fall_2022_ADCP_Ocean_current_sheer.nc') \n",
    "            else:\n",
    "                print(\"Error:\", r.status_code)\n",
    "                if r.status_code == 401:\n",
    "                    print ('Your Username and/or password are incorrect. Please try again')\n",
    "else: \n",
    "    print('Shipboard ADCP file is already in binder directory')"
   ]
  },
  {
   "cell_type": "markdown",
   "id": "dd02d0b7-555f-49be-acc7-fcd94cb972ad",
   "metadata": {
    "jp-MarkdownHeadingCollapsed": true,
    "tags": []
   },
   "source": [
    "<h2> View The Metadata Inside the Shipboard ADCP File</h2>\n",
    "\n",
    "The netCDF file has global metadata attributes and attributes associated with each variable. This next block will load data and metadata of the netCDF file into an xarray object (ds). <br> The data set will then be displayed in a clickable HTML format. "
   ]
  },
  {
   "cell_type": "code",
   "execution_count": null,
   "id": "b90f7703-9801-436f-bc5e-3bf33c9f95d6",
   "metadata": {},
   "outputs": [],
   "source": [
    "#See information about the entire dataset\n",
    "file = dir_in + 'SASSIE_Fall_2022_ADCP_Ocean_current_sheer.nc'\n",
    "ds = xr.open_dataset(file)\n",
    "ds"
   ]
  },
  {
   "cell_type": "markdown",
   "id": "ddaddcb3-05dc-4cc1-b4fb-e2829a2261dd",
   "metadata": {
    "jp-MarkdownHeadingCollapsed": true,
    "tags": []
   },
   "source": [
    "# Supporting Code \n",
    "The code in this section provides a set up for the figure making code below by defining directories for data and figures and creating functions that will be called to actually map the data"
   ]
  },
  {
   "cell_type": "markdown",
   "id": "21ec87c0-72a3-491d-88bb-8880d49aca5b",
   "metadata": {
    "jp-MarkdownHeadingCollapsed": true,
    "tags": []
   },
   "source": [
    "<h3>Create a Directory to Save Figures</h3>"
   ]
  },
  {
   "cell_type": "code",
   "execution_count": null,
   "id": "9f54b38d-fb2b-470b-8b2f-18ad71e29942",
   "metadata": {},
   "outputs": [],
   "source": [
    "#LOCAL DIRECTORY TO SAVE FIGURES\n",
    "fig_dir ='Figures/ADCP/'\n",
    "#FIGURE DIR \n",
    "if not os.path.exists(fig_dir):\n",
    "    os.makedirs(fig_dir)"
   ]
  },
  {
   "cell_type": "markdown",
   "id": "f4f49b80-1a2f-4987-9574-5b3a06bc8f7c",
   "metadata": {
    "jp-MarkdownHeadingCollapsed": true,
    "tags": []
   },
   "source": [
    "<h3>Define a Colormap and Label for Each Variable in the File</h3>"
   ]
  },
  {
   "cell_type": "markdown",
   "id": "3ac6b53b-eb66-48fb-94eb-a87a75988b12",
   "metadata": {
    "jp-MarkdownHeadingCollapsed": true,
    "tags": []
   },
   "source": [
    "Within SASSIE's collection of jupyter notebooks, the colormaps used for each variable are held as consistant as possible across all datasets. This function defines the colormap and a label for the variable of interest. "
   ]
  },
  {
   "cell_type": "code",
   "execution_count": null,
   "id": "ce777eeb-b45b-4e8a-a9d9-dde62d09f39f",
   "metadata": {},
   "outputs": [],
   "source": [
    "#DEFINES COLORMAPS AND LABELS OF EACH VARIABLE IN THIS DATA SET\n",
    "def define_variable_attributes(var):\n",
    "    if var =='shear':\n",
    "        colormap = 'PiYG'\n",
    "        var_label = 'Vertical Shear (1/s)'\n",
    "    if var == 'latitude':\n",
    "        colormap = 'jet'\n",
    "        var_label = 'Latitude ($^{\\circ}$N)'\n",
    "    if var == 'longitude':\n",
    "        colormap = 'jet'\n",
    "        var_label = 'Longitude ($^{\\circ}$E)'\n",
    "    if var == 'time':\n",
    "        colormap = 'jet'\n",
    "        var_label = 'Date'\n",
    "    return colormap,var_label"
   ]
  },
  {
   "cell_type": "markdown",
   "id": "eb1b90c6-8d90-48c6-ac2d-d2f79ef093af",
   "metadata": {
    "jp-MarkdownHeadingCollapsed": true,
    "tags": []
   },
   "source": [
    "<h3>Are you exploring this entire data set, or just the data collected durring a specific time period?</h3>"
   ]
  },
  {
   "cell_type": "markdown",
   "id": "0070d269-d294-4102-a5d7-4cacda9ce1a4",
   "metadata": {
    "jp-MarkdownHeadingCollapsed": true,
    "tags": []
   },
   "source": [
    "<p> In order to efficiently accomplish the data collection goals of the SASSIE campaign, the cruise was broken up into five destinct plays. \n",
    "    <br>\n",
    "    <br>Play 1 - Ice and Open Water Survey\n",
    "    <br>Play 2 - Zig-Zag Open Water Survey \n",
    "    <br>Play 3 - Ice Survey\n",
    "    <br>Play 4 - Drifter-Following Survey Boxes\n",
    "    <br>Play 5 - Repeated Ice to Open Water Transect</p>\n",
    "    <p>The following block of code identifies the start and end datetimes of each of these plays and puts the start dates and end dates into lists for easier acess later. </p>"
   ]
  },
  {
   "cell_type": "code",
   "execution_count": null,
   "id": "e740ec7f-38cf-41ac-8d88-ef4f841ea3cb",
   "metadata": {},
   "outputs": [],
   "source": [
    "##Identify the start and end times of each play\n",
    "play1_start = datetime(2022,9,8,8) \n",
    "play1_end = datetime(2022,9,13)\n",
    "play2_start = datetime(2022,9,14)\n",
    "play2_end = datetime(2022,9,16)\n",
    "play3_start = datetime(2022,9,16)\n",
    "play3_end = datetime(2022,9,18)\n",
    "play4_start = datetime(2022,9,19)\n",
    "play4_end  = datetime(2022,9,23)\n",
    "play5_start = datetime(2022,9,25)\n",
    "play5_end = datetime(2022,9,29)\n",
    "\n",
    "#subset the dataset into each play. \n",
    "play1_data =ds.sel(time=slice(play1_start,play1_end))\n",
    "play2_data =ds.sel(time=slice(play2_start,play2_end))\n",
    "play3_data =ds.sel(time=slice(play3_start,play3_end))\n",
    "play4_data =ds.sel(time=slice(play4_start,play4_end))\n",
    "play5_data =ds.sel(time=slice(play5_start,play5_end))\n",
    "campaign_data = ds.sel(time=slice(play1_start,play5_end))\n",
    "\n",
    "#Create lists of start dates and end dates\n",
    "play_start_dates = [play1_start,play2_start,play3_start,play4_start,play5_start,play1_start]\n",
    "play_end_dates = [play1_end,play2_end,play3_end,play4_end,play5_end,play5_end]\n",
    "play_data_all = [play1_data,play2_data,play3_data,play4_data,play5_data,campaign_data]\n"
   ]
  },
  {
   "cell_type": "markdown",
   "id": "530fb077-fb5b-4c26-869c-4a3d1b5ea036",
   "metadata": {
    "jp-MarkdownHeadingCollapsed": true,
    "tags": []
   },
   "source": [
    "<h3>Define a Function to Create a Map of the Study Area</h3>"
   ]
  },
  {
   "cell_type": "markdown",
   "id": "a278ee15-b9d7-4d45-a9cb-560a88587c19",
   "metadata": {
    "jp-MarkdownHeadingCollapsed": true,
    "tags": []
   },
   "source": [
    "The following function creates a map of the SASSIE study area, which is defined by minimum and maximum lat/lon values. These ranges can be changed later when the function is called to zoom in/out on the study area."
   ]
  },
  {
   "cell_type": "code",
   "execution_count": null,
   "id": "0d3f73ff-c26e-4623-8f21-919656a048e6",
   "metadata": {},
   "outputs": [],
   "source": [
    "def map_study_area(latmin = 70, latmax =74,lonmin=-157,lonmax=-140):\n",
    "    \n",
    "    global fig \n",
    "    global ax\n",
    "    \n",
    "    #create the map as a figure, set the lat and lon ranges, and add land + river data:\n",
    "    fig = plt.figure(figsize=(10,8))\n",
    "    ax = plt.axes(projection=cartopy.crs.NorthPolarStereo(central_longitude=-150))\n",
    "    ax.set_extent([lonmin,lonmax,latmin,latmax], crs=cartopy.crs.PlateCarree())\n",
    "    ax.coastlines(color='k')  \n",
    "    ax.add_feature(cartopy.feature.LAND, facecolor = '0.50',zorder=1)\n",
    "    ax.add_feature(cartopy.feature.RIVERS,facecolor='blue')\n",
    "    #Add lat and lon gridlines and labels:\n",
    "    gl = ax.gridlines(draw_labels=True, dms=True, x_inline=False, y_inline=False, alpha=0.3) #draw_labels=True gives lat labels.\n",
    "    gl.ylocator = matplotlib.ticker.FixedLocator(np.arange(60,75,1))\n",
    "    gl.xlocator = matplotlib.ticker.FixedLocator(np.arange(-170,-140,2))\n",
    "    gl.top_labels = False\n",
    "    gl.bottom_labels = True \n",
    "    gl.right_labels = False\n",
    "    \n",
    "    #Add markers for reference cities on the coast:\n",
    "    if (latmin<71.2906) & (lonmin<-156.7886):\n",
    "        utqiagvik = ax.scatter(-156.7886,71.2906,s=100,transform=cartopy.crs.PlateCarree(),c='red',marker = '*',label='Utqiagvik, AK',zorder=2)\n",
    "    if (latmin<70.2002) & (lonmax>-148.4597):\n",
    "        deadhorse = ax.scatter(-148.4597,70.2002,s=100,c='cyan',transform=cartopy.crs.PlateCarree(),marker = '*',label='Deadhorse, AK',zorder=2)\n",
    "        "
   ]
  },
  {
   "cell_type": "markdown",
   "id": "dd7ac49b-5955-4151-9d7d-7d702396d49e",
   "metadata": {
    "jp-MarkdownHeadingCollapsed": true,
    "tags": []
   },
   "source": [
    "<h3>Define a Function to Create a 3D Grid of Latitude, Longitude, and Depth</h3>"
   ]
  },
  {
   "cell_type": "markdown",
   "id": "278d0148-b900-489e-9856-9470809e9382",
   "metadata": {},
   "source": [
    "The following function creates a 3D grid for plotting 3 dimensional cast data from the castaway CTD. "
   ]
  },
  {
   "cell_type": "code",
   "execution_count": null,
   "id": "fef6e773-6117-4614-a2e5-ebd4b8273fd0",
   "metadata": {},
   "outputs": [],
   "source": [
    "def make_3d_grid(latmin,latmax,lonmin,lonmax,dmin,dmax):    \n",
    "        global fig \n",
    "        global ax\n",
    "        \n",
    "        fig = plt.figure(figsize=(10,8))\n",
    "        ax = plt.axes(projection='3d',computed_zorder=False)\n",
    "        ax.xaxis.pane.fill = False\n",
    "        ax.yaxis.pane.fill = False\n",
    "        ax.zaxis.pane.fill = False    \n",
    "\n",
    "\n",
    "        ax.set_xlim(lonmin, lonmax); ax.set_ylim(latmin,latmax); ax.set_zlim(dmin,dmax);\n",
    "        ax.get_xaxis().get_major_formatter().set_useOffset(False)\n",
    "        xticks = list(np.linspace(lonmin,lonmax,4))\n",
    "        ax.set_xticks(np.around(xticks,2))\n",
    "        ax.set_xticklabels(np.around(xticks,2),rotation=30, ha='center',va='center', minor=False,size='small')\n",
    "\n",
    "        yticks = list(np.linspace(latmin,latmax,4))\n",
    "        ax.set_yticks(np.around(yticks,2))\n",
    "        ax.invert_yaxis()\n",
    "        ax.set_yticklabels(np.around(yticks,2),rotation=-15,va='bottom', minor=False,size='small')\n",
    "\n",
    "        zticks = list(np.linspace(dmin,dmax,4))\n",
    "        ax.set_zticks(np.around(zticks,2))\n",
    "        ax.set_zticklabels(np.around(zticks,2),ha='center',va='center', minor=False,size='small')\n",
    "\n",
    "        ax.set_xlabel('Longitude',fontsize=13,labelpad=10,fontweight='bold')\n",
    "        ax.set_ylabel('Latitude',fontsize=13,labelpad = 7,fontweight='bold')\n",
    "        ax.set_zlabel('Depth (m)',fontsize=13,labelpad = 16,fontweight='bold')\n",
    "        ax.view_init(195,280)\n",
    "        fig.canvas.draw()\n",
    "        plt.tight_layout()"
   ]
  },
  {
   "cell_type": "markdown",
   "id": "f99af866-d0c4-4401-b454-dd2f5dea520d",
   "metadata": {
    "jp-MarkdownHeadingCollapsed": true,
    "tags": []
   },
   "source": [
    "<h3>Configure Supporting Data to Add to Maps</h3>"
   ]
  },
  {
   "cell_type": "markdown",
   "id": "92bb4bf5-4ec4-4f61-b9c5-14fde8c12ec9",
   "metadata": {
    "jp-MarkdownHeadingCollapsed": true,
    "tags": []
   },
   "source": [
    "<p>The functions for viewing and plotting this data set below have options to include bathymetr and/or shiptrack data to add context to maps. If you are using these options, run\n",
    "    <br>the following code blocks to:\n",
    "    <br>1. Create a directory for SASSIE Ship Track data and acess bathymetry data from NOAA\n",
    "    <br>2. Define functions that add these data to your map when called.</p>"
   ]
  },
  {
   "cell_type": "markdown",
   "id": "55409462-f053-46f5-bd62-17c5e7bacaef",
   "metadata": {
    "jp-MarkdownHeadingCollapsed": true,
    "tags": []
   },
   "source": [
    "<h4>Create Directory for and Download Shiptrack Data</h4>"
   ]
  },
  {
   "cell_type": "code",
   "execution_count": null,
   "id": "823a1013-89e0-433a-8255-262cb554b714",
   "metadata": {
    "tags": []
   },
   "outputs": [],
   "source": [
    "## DIRECTORY TO SHIP TRACK DATA\n",
    "ship_dir =  'Data/TSG/' \n",
    "\n",
    "#DOWLOAD SHIPTRACK DATA\n",
    "if not os.path.isfile(ship_dir+'SASSIE_Fall_2022_Shipboard_TSG.nc'):\n",
    "    os.makedirs(ship_dir)\n",
    "    url = 'https://archive.podaac.earthdata.nasa.gov/podaac-ops-cumulus-protected/SASSIE_L2_SHIPBOARD_TSG_V1/SASSIE_Fall_2022_Shipboard_TSG.nc'\n",
    "    with requests.Session() as session:\n",
    "            session.auth = (username, password)\n",
    "            r1 = session.request('get', url)\n",
    "            r = session.get(r1.url, auth=(username, password))\n",
    "            if (r.status_code == 200) & (r.ok):\n",
    "                    with open(ship_dir+'SASSIE_Fall_2022_Shipboard_TSG.nc', 'wb') as f:\n",
    "                        f.write(r.content) \n",
    "                        print('Saving Input File: ' + ship_dir+'SASSIE_Fall_2022_Shipboard_TSG.nc') \n",
    "            else:\n",
    "                print(\"Error:\", r.status_code)\n",
    "                if r.status_code == 401:\n",
    "                    print ('Your Username and/or password are incorrect. Please try again')\n",
    "else: \n",
    "    print('Shipboard TSG file is already in local directory')"
   ]
  },
  {
   "cell_type": "markdown",
   "id": "6ecccba3-2ced-4540-8ced-be5cd32491f7",
   "metadata": {
    "jp-MarkdownHeadingCollapsed": true,
    "tags": []
   },
   "source": [
    "<h4> Access NOAA Bathymetry Data</h4>"
   ]
  },
  {
   "cell_type": "code",
   "execution_count": null,
   "id": "91daf59a-dcb9-4e33-b3a2-9077364ea9e1",
   "metadata": {
    "tags": []
   },
   "outputs": [],
   "source": [
    "#READ IN TOPOGRAPHY/BATHYMETRY DATA\n",
    "url = 'http://ferret.pmel.noaa.gov/thredds/dodsC/data/PMEL/etopo2.nc'\n",
    "etopodata = xr.open_dataset(url) "
   ]
  },
  {
   "cell_type": "markdown",
   "id": "508f8b27-7acc-470b-a9ab-dd1aa98f116f",
   "metadata": {
    "jp-MarkdownHeadingCollapsed": true,
    "tags": []
   },
   "source": [
    "<h4>Define a Function to Index Relevant Bathymetry Data and Add it to the Map</h4>\n",
    "This function will index bathymetry data from NOAA within the appropriate spatial range and add it to the map. \n"
   ]
  },
  {
   "cell_type": "code",
   "execution_count": null,
   "id": "cdc81db1-792e-4f00-929e-8a8611140f96",
   "metadata": {},
   "outputs": [],
   "source": [
    "def add_bathy_data(latmin,latmax,lonmin,lonmax):\n",
    "        topoin = etopodata.rose.values[0:-1:5,1:-1:5]\n",
    "        lons = etopodata.etopo2_x.values[0:-1:5]\n",
    "        lats = etopodata.etopo2_y.values[0:-1:5]\n",
    "        lons_in_range = lons[np.where((lons >lonmin-1) & (lons<lonmax+1))]\n",
    "        lats_in_range = lats[np.where((lats >latmin-1) & (lats<latmax+1))]\n",
    "        topo_in_range = np.squeeze(topoin[np.squeeze(np.where((lats >latmin-1) & (lats<latmax+1))),:][:,np.where((lons >lonmin-1) & (lons<lonmax+1))])\n",
    "        [bathy_lon,bathy_lat] = np.meshgrid(lons_in_range,lats_in_range)\n",
    "        \n",
    "        bathy = ax.contour(bathy_lon,bathy_lat,topo_in_range,np.arange(-6000,-1000,300),transform=cartopy.crs.PlateCarree(),cmap='gray',alpha = 0.2,zorder = 0)"
   ]
  },
  {
   "cell_type": "markdown",
   "id": "46ba0c19-3404-4743-a995-403f3827282f",
   "metadata": {
    "jp-MarkdownHeadingCollapsed": true,
    "tags": []
   },
   "source": [
    "<h4>Define a Function to Add Shiptrack Data to a Map</h4>\n",
    "This function will pull the lat/lon data from the SASSIE Shipboard TSG file and put it onto a map o a 3D grid. "
   ]
  },
  {
   "cell_type": "code",
   "execution_count": null,
   "id": "52cb9f0b-d566-4f96-a452-afeb523a8737",
   "metadata": {},
   "outputs": [],
   "source": [
    "def add_ship_track(mode,start_date,end_date):\n",
    "        ds_ship = xr.open_dataset(ship_dir+'SASSIE_Fall_2022_Shipboard_TSG.nc')\n",
    "        if mode == 'grid':\n",
    "            ds_ship = ds_ship.sel(time=slice(start_date,end_date))\n",
    "        ship_time = np.squeeze(ds_ship['time'])\n",
    "        ship_lat = np.squeeze(ds_ship['latitude'])\n",
    "        ship_lon = np.squeeze(ds_ship['longitude'])\n",
    "        if mode =='map':\n",
    "            track = ax.plot(ship_lon, \n",
    "                         ship_lat,linewidth = 0.5,\n",
    "                         c='black',\n",
    "                           transform=cartopy.crs.PlateCarree(),label = 'Ship Track',zorder=1)\n",
    "        if mode == 'grid':\n",
    "            track = ax.plot(ship_lon, \n",
    "                         ship_lat,\n",
    "                         c='black',label = 'Ship Track',zorder=2)"
   ]
  },
  {
   "cell_type": "markdown",
   "id": "d6ba62be-bdd7-424e-8dd2-9107a01858c7",
   "metadata": {
    "jp-MarkdownHeadingCollapsed": true,
    "tags": []
   },
   "source": [
    "# Figure Making Code "
   ]
  },
  {
   "cell_type": "markdown",
   "id": "d639109f-911c-4d89-83a1-320d250a2a55",
   "metadata": {
    "jp-MarkdownHeadingCollapsed": true,
    "tags": []
   },
   "source": [
    "<h2> Mapping the Time and Location of ADCP Data Collection</h2>"
   ]
  },
  {
   "cell_type": "markdown",
   "id": "2f5e9964-0fd4-40c1-a6b3-2e25a3034c13",
   "metadata": {
    "jp-MarkdownHeadingCollapsed": true,
    "tags": []
   },
   "source": [
    "The map_adcp_track function shows the locations of ADCP data collection throughout the campaign on a map, colored by time. Various features of this function: \n",
    "    <br>2. This function adds bathymetry contours showing the position of the continental shelf by default for reference. "
   ]
  },
  {
   "cell_type": "code",
   "execution_count": null,
   "id": "36e78f08-3d17-47b5-944e-082a3977ad1d",
   "metadata": {},
   "outputs": [],
   "source": [
    "#PLOT THE LOCATION OF THE ADCP DATA COLLECTION ON THE SHIP TRACK \n",
    "def map_adcp_track(ship_track=True, bathymetry_data=True):\n",
    " \n",
    "    #LOAD CASTAWAY CTD DATA\n",
    "    time = np.squeeze(ds['time'])\n",
    "    lat = np.squeeze(ds['latitude'])\n",
    "    lon = np.squeeze(ds['longitude'])\n",
    "    \n",
    "    #Define the boundaries of the map:\n",
    "    latmin = 70\n",
    "    latmax =74\n",
    "    lonmin=-157\n",
    "    lonmax=-144\n",
    "    \n",
    "    #create the map:\n",
    "    map_study_area(latmin=latmin,latmax=latmax,lonmin=lonmin,lonmax=lonmax)\n",
    "    \n",
    "    #Add a title: \n",
    "    ax.set_title('Track of the R/V Woldstad',fontsize=22,pad=1) \n",
    "    \n",
    "    #add optional map add-ons:\n",
    "    if bathymetry_data == True: \n",
    "        add_bathy_data(latmin,latmax,lonmin,lonmax)   \n",
    "    if ship_track == True:\n",
    "        add_ship_track('map',play1_start,play5_end)\n",
    "     \n",
    "    #APPLY CTD TIME AND LOCATION DATA\n",
    "    casts = ax.scatter(lon,lat,s = 0.5,\n",
    "                       c = time,cmap = cmr.neon,\n",
    "                       transform=cartopy.crs.PlateCarree(),zorder=2,\n",
    "                      vmin=min(time.values), vmax=max(time.values))\n",
    "    #Add a color bar:\n",
    "    cbar = fig.colorbar(casts, ax=ax, orientation=\"horizontal\", pad=0.1)\n",
    "    cbar.set_label(label='Date',size='large',weight='bold')\n",
    "    cbar_tick_array=(np.linspace(time[0].astype('int64'),time[-1].astype('int64'),5))\n",
    "    cbar.set_ticks(cbar_tick_array)\n",
    "    cbar.set_ticklabels(pd.to_datetime(cbar_tick_array).date)\n",
    "    \n",
    "    #Add a legend:\n",
    "    plt.legend(loc=2)\n",
    "\n",
    "    ##SAVE FIGURE \n",
    "    if not os.path.exists(fig_dir+'map/'):\n",
    "        os.makedirs(fig_dir+'map/')\n",
    "    \n",
    "    print('Saving Output Image:  '+fig_dir+'map/adcp_map.png')\n",
    "    plt.savefig(fig_dir+'map/adcp_map.png',dpi='figure',format='png',bbox_inches='tight')\n",
    "    "
   ]
  },
  {
   "cell_type": "code",
   "execution_count": null,
   "id": "9e2112d9-0ed6-477d-b6b9-b57eccf27ae6",
   "metadata": {},
   "outputs": [],
   "source": [
    "map_adcp_track()"
   ]
  },
  {
   "cell_type": "markdown",
   "id": "1e90d4ba-5fef-48d5-9274-d627a2aedc6d",
   "metadata": {
    "jp-MarkdownHeadingCollapsed": true,
    "tags": []
   },
   "source": [
    "<h3>Three Dimensional Representation of Vertical Profile Data</h3>\n",
    "Use the code in this section to plot the Underway CTD profile locations and depths on a 3D grid, colored by a physical measurement variable from the file (temperature, salinity, density, etc.)"
   ]
  },
  {
   "cell_type": "code",
   "execution_count": null,
   "id": "08305a1c-8a93-413e-bdcb-302702196e3d",
   "metadata": {},
   "outputs": [],
   "source": [
    "##USE TO PLOT THE PROFILES TAKEN WITHIN A DATE RANGE \n",
    "def ADCP_profiles(start_date,end_date,var,ship_track=True):\n",
    "   # try:\n",
    "    #LOAD Underway CTD DATA\n",
    "    selected_data = ds.sel(time=slice(start_date,end_date))\n",
    "    adcp_lat = selected_data['latitude']\n",
    "    adcp_lon = selected_data['longitude']\n",
    "    adcp_depth = selected_data['depth']\n",
    "    adcp_var = selected_data[var]\n",
    "    \n",
    "    #put lat, lon, and depth in 2D format:\n",
    "    [depth,lat] = np.meshgrid(adcp_depth,adcp_lat)\n",
    "    [depth,lon] = np.meshgrid(adcp_depth,adcp_lon)\n",
    "\n",
    "    #define colormap and label for variable of choice:\n",
    "    colormap,var_label = define_variable_attributes(var)\n",
    "\n",
    "    #define latitude and longitude ranges for the 3D grid. \n",
    "    latmin = min(adcp_lat.values)\n",
    "    latmax = max(adcp_lat.values)\n",
    "    lonmin = min(adcp_lon.values)\n",
    "    lonmax = max(adcp_lon.values)\n",
    "    pmin = min(adcp_depth.values)\n",
    "    pmax = max(adcp_depth.values)+0.5\n",
    "\n",
    "    #make the 3d grid for plotting: \n",
    "    make_3d_grid(latmin,latmax,lonmin,lonmax,0,pmax)\n",
    "\n",
    "    #add a title to the grid:\n",
    "    ax.set_title('ADCP'+' '+var_label+' '+'Readings from'+' '+str(start_date.year)+'/'+str(start_date.month).zfill(2)+'/'+str(start_date.day).zfill(2)+' '+str(start_date.hour).zfill(2)+':'+str(start_date.minute).zfill(2)+' to '+str(end_date.year)+'/'+str(end_date.month).zfill(2)+'/'+str(end_date.day).zfill(2)+' '+str(end_date.hour).zfill(2)+':'+str(end_date.minute).zfill(2),fontsize=15,pad=None)\n",
    "\n",
    "    #Add the ship track to show the path of the casting:\n",
    "    if ship_track==True:\n",
    "        add_ship_track('grid',start_date,end_date)\n",
    "\n",
    "    ##APPLY CTD DATA   \n",
    "    a = ax.scatter(lon,lat,depth,c=(adcp_var.values),cmap = colormap,s=2,zorder=1,vmin = -0.05, vmax = 0.05) \n",
    "    #add a colorbar \n",
    "    fig.colorbar(a,label = var_label)\n",
    "\n",
    "    ## SAVE THE FIGURE\n",
    "    if not os.path.exists(fig_dir+var+'/'):\n",
    "        os.makedirs(fig_dir+var+'/')\n",
    "\n",
    "    print('Saving Output Image:  '+fig_dir+var+'/'+'ADCP'+var+str(start_date.year)+str(start_date.month).zfill(2)+str(start_date.day).zfill(2)+str(start_date.hour).zfill(2)+str(start_date.minute).zfill(2)+'_'+str(end_date.year)+str(end_date.month).zfill(2)+str(end_date.day).zfill(2)+str(end_date.hour).zfill(2)+str(end_date.minute).zfill(2)+'.png')\n",
    "    plt.savefig(fig_dir+var+'/'+'ADCP'+var+str(start_date.year)+str(start_date.month).zfill(2)+str(start_date.day).zfill(2)+str(start_date.hour).zfill(2)+str(start_date.minute).zfill(2)+'_'+str(end_date.year)+str(end_date.month).zfill(2)+str(end_date.day).zfill(2)+str(end_date.hour).zfill(2)+str(end_date.minute).zfill(2)+'.png',dpi='figure',format='png',bbox_inches='tight')\n",
    "    #except: \n",
    "     #   print('There is no ADCP data from ' + str(start_date.year)+'/'+str(start_date.month).zfill(2)+'/'+str(start_date.day).zfill(2)+' '+str(start_date.hour).zfill(2)+':'+str(start_date.minute).zfill(2)+' to '+str(end_date.year)+'/'+str(end_date.month).zfill(2)+'/'+str(end_date.day).zfill(2)+' '+str(end_date.hour).zfill(2)+':'+str(end_date.minute).zfill(2))\n",
    "              \n",
    "              \n",
    "              "
   ]
  },
  {
   "cell_type": "code",
   "execution_count": null,
   "id": "62a01d56-a40a-49db-93e5-475538e3bd25",
   "metadata": {},
   "outputs": [],
   "source": [
    "ADCP_profiles(play4_start,play4_end,'shear')"
   ]
  },
  {
   "cell_type": "markdown",
   "id": "46f5071f-ab7e-4b91-bbde-dfd7a0dc7648",
   "metadata": {
    "jp-MarkdownHeadingCollapsed": true,
    "tags": []
   },
   "source": [
    "<h2>Two Dimensional Representation of Vertical Profile Data</h2>\n",
    "Use the code in this section to plot the Underway CTD profiles on a 2D time-depth axis, colored by a physical measurement variable from the file (temperature, salinity)"
   ]
  },
  {
   "cell_type": "code",
   "execution_count": null,
   "id": "da8881ce-a983-4ab3-89c9-a56513b19b5f",
   "metadata": {},
   "outputs": [],
   "source": [
    "##MAKES A 2D PLOT OF THE CTD VARIABLES ON TIME-DEPTH AXIS (NO INTERPOLATION OF LAT/LON)\n",
    "def plot_ADCP_2D(start_time,end_time,var_min,var_max):\n",
    "    try:\n",
    "        \n",
    "        var = 'shear'\n",
    "        \n",
    "        #Cut the CTD data set down to the specified time range:\n",
    "        ds_limited = ds.sel(time=slice(start_time,end_time))\n",
    "\n",
    "        #load the CTD data within this time range\n",
    "        ADCP_time = ds_limited['time'].values\n",
    "        ADCP_depth = ds_limited['depth'].values\n",
    "        ADCP_var = ds_limited[var].values\n",
    "\n",
    "        #put time and depth into a 2D format\n",
    "        [depth,time] = np.meshgrid(ADCP_depth,ADCP_time)\n",
    "\n",
    "        ##SET UP THE 2D PLOT \n",
    "        colormap,var_label = define_variable_attributes(var)\n",
    "\n",
    "        dmin = min(ADCP_depth)\n",
    "        dmax = max(ADCP_depth)\n",
    "        tmin = min(ADCP_time)\n",
    "        tmax = max(ADCP_time)\n",
    "\n",
    "        fig = plt.figure(figsize=(10,4))\n",
    "\n",
    "        plt.title('ADCP '+' '+var_label+' '+'Readings \\nfrom '+str(start_time.year)+'/'+str(start_time.month).zfill(2)+'/'+str(start_time.day).zfill(2)+' to '+str(end_time.year)+'/'+str(end_time.month).zfill(2)+'/'+str(end_time.day).zfill(2),fontsize=15,pad=None)\n",
    "\n",
    "        plt.xlim(tmin, tmax); plt.ylim(dmin,100);\n",
    "        total_timedelta = tmax-tmin\n",
    "        third_of_timedelta = total_timedelta/3\n",
    "        plt.xticks([tmin,tmin+third_of_timedelta, tmin+ 2*third_of_timedelta, tmax])\n",
    "        ytick = list(np.arange(0,100,15))\n",
    "        plt.yticks(np.around(ytick,2))\n",
    "        plt.xlabel('Date',fontsize=16)\n",
    "        plt.ylabel('Depth(m)',fontsize=16)\n",
    "        plt.gca().invert_yaxis()\n",
    "\n",
    "        ##APPLY THE CTD DATA\n",
    "        ax = plt.scatter(time,depth,s=1,c=ADCP_var,cmap=colormap,vmin = var_min,vmax=var_max)\n",
    "\n",
    "        #add a colorbar\n",
    "        fig.colorbar(ax).set_label(label = var_label,size=15,weight='bold')\n",
    "\n",
    "        ##SAVE THE FIGURE:\n",
    "        if not os.path.exists(fig_dir+var+'/2d/'):\n",
    "            os.makedirs(fig_dir+var+'/2d/')\n",
    "\n",
    "        print('Saving Output Image:  '+fig_dir+var+'/2d/'+'ADCP_'+var+'_'+str(start_time.year)+str(start_time.month).zfill(2)+str(start_time.day).zfill(2)+str(start_time.hour).zfill(2)+str(start_time.minute).zfill(2)+'_'+str(end_time.year)+str(end_time.month).zfill(2)+str(end_time.day).zfill(2)+str(end_time.hour).zfill(2)+str(end_time.minute).zfill(2)+'.png')\n",
    "        plt.savefig(fig_dir+var+'/2d/'+'ADCP_'+var+'_'+str(start_time.year)+str(start_time.month).zfill(2)+str(start_time.day).zfill(2)+str(start_time.hour).zfill(2)+str(start_time.minute).zfill(2)+'_'+str(end_time.year)+str(end_time.month).zfill(2)+str(end_time.day).zfill(2)+str(end_time.hour).zfill(2)+str(end_time.minute).zfill(2)+'.png',dpi='figure',format='png',bbox_inches='tight')\n",
    "    except: \n",
    "        print('There is no ADCP data from ' + str(start_date.year)+'/'+str(start_date.month).zfill(2)+'/'+str(start_date.day).zfill(2)+' '+str(start_date.hour).zfill(2)+':'+str(start_date.minute).zfill(2)+' to '+str(end_date.year)+'/'+str(end_date.month).zfill(2)+'/'+str(end_date.day).zfill(2)+' '+str(end_date.hour).zfill(2)+':'+str(end_date.minute).zfill(2))\n",
    "       "
   ]
  },
  {
   "cell_type": "code",
   "execution_count": null,
   "id": "5a7ae475-fe2e-4a70-b0c4-fa4bd09d8358",
   "metadata": {},
   "outputs": [],
   "source": [
    "plot_ADCP_2D(play1_start,play5_end,-0.05,0.05)\n"
   ]
  },
  {
   "cell_type": "markdown",
   "id": "24cc1155-c524-49ae-9006-cb34f16ee9da",
   "metadata": {
    "jp-MarkdownHeadingCollapsed": true,
    "tags": []
   },
   "source": [
    "## Two Dimensional Time Series plot, Colored by Depth\n",
    "\n",
    "Use the code in this sectin to plot the ADCP data in more detail by ploting shear vs time, colored by depth. "
   ]
  },
  {
   "cell_type": "code",
   "execution_count": null,
   "id": "896bd2de-e457-467d-b750-665a6143305c",
   "metadata": {},
   "outputs": [],
   "source": [
    "##MAKES A 2D PLOT OF THE CTD VARIABLES ON TIME-DEPTH AXIS (NO INTERPOLATION OF LAT/LON)\n",
    "def plot_ADCP_2D_depth(start_time,end_time):\n",
    "    #try:\n",
    "    #Cut the CTD data set down to the specified time range:\n",
    "    ds_limited = ds.sel(time=slice(start_time,end_time))\n",
    "\n",
    "    #load the CTD data within this time range\n",
    "    ADCP_time = ds_limited['time'].values\n",
    "    ADCP_depth = ds_limited['depth'].values\n",
    "    ADCP_var = ds_limited['shear'].values\n",
    "\n",
    "    #put time and depth into a 2D format\n",
    "    [depth,time] = np.meshgrid(ADCP_depth,ADCP_time)\n",
    "\n",
    "    ##SET UP THE 2D PLOT\n",
    "    dmin = min(ADCP_depth)\n",
    "    dmax = max(ADCP_depth)\n",
    "    tmin = min(ADCP_time)\n",
    "    tmax = max(ADCP_time)\n",
    "\n",
    "    fig = plt.figure(figsize=(10,4))\n",
    "\n",
    "    plt.title('ADCP Vertical Current Shear Readings \\nfrom '+str(start_time.year)+'/'+str(start_time.month).zfill(2)+'/'+str(start_time.day).zfill(2)+' to '+str(end_time.year)+'/'+str(end_time.month).zfill(2)+'/'+str(end_time.day).zfill(2)+'\\n Colored By Depth',fontsize=15,pad=None)\n",
    "\n",
    "    plt.xlim(tmin, tmax); plt.ylim(-0.3,0.3);\n",
    "    total_timedelta = tmax-tmin\n",
    "    third_of_timedelta = total_timedelta/3\n",
    "    plt.xticks([tmin,tmin+third_of_timedelta, tmin+ 2*third_of_timedelta, tmax])\n",
    "    plt.xlabel('Date',fontsize=16)\n",
    "    plt.ylabel('Vertical Current Shear (1/s)',fontsize=16)\n",
    "    plt.gca().invert_yaxis()\n",
    "\n",
    "    ##APPLY THE CTD DATA\n",
    "    ax = plt.scatter(time,ADCP_var,s=1,c=depth,cmap='jet')\n",
    "\n",
    "    #add a colorbar\n",
    "    fig.colorbar(ax).set_label(label = 'Depth (m)',size=15,weight='bold')\n",
    "\n",
    "    ##SAVE THE FIGURE:\n",
    "    if not os.path.exists(fig_dir+'/2d/'):\n",
    "        os.makedirs(fig_dir+'/2d/')\n",
    "\n",
    "    print('Saving Output Image:  '+fig_dir+'2d/'+'ADCP_ShearVSTime_'+str(start_time.year)+str(start_time.month).zfill(2)+str(start_time.day).zfill(2)+str(start_time.hour).zfill(2)+str(start_time.minute).zfill(2)+'_'+str(end_time.year)+str(end_time.month).zfill(2)+str(end_time.day).zfill(2)+str(end_time.hour).zfill(2)+str(end_time.minute).zfill(2)+'.png')\n",
    "    plt.savefig(fig_dir+'2d/'+'ADCP_ShearVSTime_'+str(start_time.year)+str(start_time.month).zfill(2)+str(start_time.day).zfill(2)+str(start_time.hour).zfill(2)+str(start_time.minute).zfill(2)+'_'+str(end_time.year)+str(end_time.month).zfill(2)+str(end_time.day).zfill(2)+str(end_time.hour).zfill(2)+str(end_time.minute).zfill(2)+'.png',dpi='figure',format='png',bbox_inches='tight')\n",
    "    #except: \n",
    "     #   print('There is no ADCP data from ' + str(start_date.year)+'/'+str(start_date.month).zfill(2)+'/'+str(start_date.day).zfill(2)+' '+str(start_date.hour).zfill(2)+':'+str(start_date.minute).zfill(2)+' to '+str(end_date.year)+'/'+str(end_date.month).zfill(2)+'/'+str(end_date.day).zfill(2)+' '+str(end_date.hour).zfill(2)+':'+str(end_date.minute).zfill(2))\n",
    "       "
   ]
  },
  {
   "cell_type": "code",
   "execution_count": null,
   "id": "916332d9-f161-4d83-b253-b4bde35cd2a7",
   "metadata": {},
   "outputs": [],
   "source": [
    "plot_ADCP_2D_depth(play1_start,play5_end)"
   ]
  },
  {
   "cell_type": "markdown",
   "id": "fe033aa0-3db7-4001-883b-055ab3cd3019",
   "metadata": {
    "jp-MarkdownHeadingCollapsed": true,
    "tags": []
   },
   "source": [
    "## Make a Timeseries Line Plot of the ADCP Daa from a given time range at a Specific Depth"
   ]
  },
  {
   "cell_type": "code",
   "execution_count": null,
   "id": "d45d3d28-2b8b-430f-82dc-33754c9bae16",
   "metadata": {},
   "outputs": [],
   "source": [
    "def plot_ADCP_timeseries(play,depth):\n",
    "    \n",
    "    #SECLECT AND LOAD PLAY DATA\n",
    "    play_start = play_start_dates[play-1]\n",
    "    play_end = play_end_dates[play-1]\n",
    "    \n",
    "    time_data = np.squeeze(play_data_all[play-1]['time']).values\n",
    "    depth_data = np.squeeze(play_data_all[play-1]['depth']).values\n",
    "    shear_data = np.squeeze(play_data_all[play-1]['shear']).values\n",
    "    \n",
    "    depth_diff = abs(depth_data - depth)\n",
    "    indx_depth = np.argmin(depth_diff)\n",
    "    shear_data_at_depth = shear_data[indx_depth,:]\n",
    "\n",
    "    #MAKE A TWO PANNELED TIME SERIES PLOT\n",
    "    fig = plt.figure(figsize=(10,4))\n",
    "    \n",
    "    plt.plot(time_data,shear_data_at_depth,linewidth = 0.5,color='k')\n",
    "    plt.ylabel('Vertical Current Shear (1/s)')\n",
    "    plt.xlabel('Date')\n",
    "    \n",
    "    tmax = max(time_data)\n",
    "    tmin = min(time_data)\n",
    "    total_timedelta = tmax-tmin\n",
    "    third_of_timedelta = total_timedelta/3\n",
    "    plt.xticks([tmin,tmin+third_of_timedelta, tmin+ 2*third_of_timedelta, tmax])\n",
    "    \n",
    "    plt.ylim(-0.3,0.3)\n",
    "    \n",
    "    if play <=5:\n",
    "        plt.title('Play '+str(play)+' Vertical Current Shear from Shipboard ADCP at '+str(depth)+'m')\n",
    "    if play == 6: \n",
    "        plt.title('Vertical Current Shear from Shipboard ADCP (Entire Campaign) at '+str(depth)+'m')\n",
    "        \n",
    "    ##SAVE FIGURE \n",
    "    if not os.path.exists(fig_dir+'timeseries'):\n",
    "        os.makedirs(fig_dir+'timeseries')\n",
    "    if play==6: \n",
    "        print('Saving Output Image:  '+fig_dir+'timeseries/SASSIE_ADCP_VCS_Entire_Campaign_'+str(depth)+'m.png')\n",
    "     #   plt.savefig(fig_dir+'timeseries/SASSIE_ADCP_VCS_Entire_Campaign.png',dpi='figure',format='png')\n",
    "    else:\n",
    "        print('Saving Output Image:  '+fig_dir+'timeseries/SASSIE_ADCP_VCS_play'+'_'+str(play)+'_'+str(depth)+'m.png')\n",
    "      #  plt.savefig(fig_dir+'timeseries/SASSIE_ADCP_VCS_play'+'_'+str(play)+'.png',dpi='figure',format='png')\n",
    "    "
   ]
  },
  {
   "cell_type": "code",
   "execution_count": null,
   "id": "8831d461-1728-441a-83c5-92068c41c93d",
   "metadata": {},
   "outputs": [],
   "source": [
    "plot_ADCP_timeseries(4,30)"
   ]
  },
  {
   "cell_type": "code",
   "execution_count": null,
   "id": "65ebb063-100e-4fc9-bec7-7c3145cdf739",
   "metadata": {},
   "outputs": [],
   "source": []
  }
 ],
 "metadata": {
  "kernelspec": {
   "display_name": "Python 3 (ipykernel)",
   "language": "python",
   "name": "python3"
  },
  "language_info": {
   "codemirror_mode": {
    "name": "ipython",
    "version": 3
   },
   "file_extension": ".py",
   "mimetype": "text/x-python",
   "name": "python",
   "nbconvert_exporter": "python",
   "pygments_lexer": "ipython3",
   "version": "3.9.16"
  }
 },
 "nbformat": 4,
 "nbformat_minor": 5
}
