{
 "cells": [
  {
   "cell_type": "markdown",
   "id": "3e43fd2e-5ee7-4159-b8d2-3bd526f1e07e",
   "metadata": {
    "jp-MarkdownHeadingCollapsed": true,
    "tags": []
   },
   "source": [
    "# SASSIE Delta 18O Bottle Data\n",
    "<p>Bottles for Delta 18O analysis were collected from the ice and waters periodically throughout the SASSIE cruise to determine influence of freshwater sources on the SASSIE study area. Bottle data are downloaded and plotted using the code below! <b>Please run the 'Data Download and Metadata Viewing' and 'Supporting Code' sections in order before running the 'Figure Making Code'.</b> </p>\n",
    "\n",
    "<p>The aim of this notebook is to assist the end user in exploratory data analysis by downloading the SASSIE data from NASA's PODAAC, opening the dataset and displaying it's associated metadata, and creating a few visualizations. This notebook was created by Elizabeth Westbrook. For questions and trouble shooting, please email westbrooke@uncw.edu.</p>"
   ]
  },
  {
   "cell_type": "markdown",
   "id": "0e8b7e4e-5763-4b3c-baf4-6fc2d95ee900",
   "metadata": {
    "jp-MarkdownHeadingCollapsed": true,
    "tags": []
   },
   "source": [
    "# Credential Entry\n",
    "In this section, you shoud enter your EarthData username and password. <b> DO NOT enter usernames and passwords here which are sensitive.</b> If you do not already have an EarthData account, you can create one <a href=\"https://urs.earthdata.nasa.gov/\">here</a> . </p>\n",
    "    <p>Please enter your EarthData credentials below: </p>"
   ]
  },
  {
   "cell_type": "code",
   "execution_count": null,
   "id": "bed116cd-eb71-474f-a182-e34c8b3c6979",
   "metadata": {},
   "outputs": [],
   "source": [
    "#Enter Earthdata Credentials: \n",
    "username = 'your_username'\n",
    "password = 'your_password'"
   ]
  },
  {
   "cell_type": "markdown",
   "id": "4bbd55b9-c0ca-4c29-965f-5d0cdbfd0108",
   "metadata": {
    "jp-MarkdownHeadingCollapsed": true,
    "tags": []
   },
   "source": [
    "<h1>Data Download and Metadata Viewing</h1>\n",
    "The code in this section will download the dataset from PO.DAAC and open it as an xarray object for metadata and variable attribute viewing."
   ]
  },
  {
   "cell_type": "code",
   "execution_count": null,
   "id": "8d3e464b-d43a-4004-b83b-1996a589840f",
   "metadata": {
    "tags": []
   },
   "outputs": [],
   "source": [
    "import numpy as np\n",
    "import xarray as xr\n",
    "import glob \n",
    "from datetime import datetime, timedelta \n",
    "import matplotlib.pyplot as plt\n",
    "import cartopy\n",
    "import matplotlib\n",
    "import os\n",
    "import sys\n",
    "import pandas as pd\n",
    "import requests\n",
    "import cmasher as cmr"
   ]
  },
  {
   "cell_type": "markdown",
   "id": "cd08a2ef-f6c4-4902-984f-478e96e7a9f5",
   "metadata": {
    "jp-MarkdownHeadingCollapsed": true,
    "tags": []
   },
   "source": [
    "<h2>Download The Shipboard Bottle data from PO.DAAC</h2>\n",
    "<p> All data from the SASSIE campaign is stored on NASA's PO.DAAC. The code in this section of the notebook will download SASSIE Shipboard Bottle data from PO.DAAC, which is accessed through EarthData. "
   ]
  },
  {
   "cell_type": "code",
   "execution_count": null,
   "id": "45cacb61-1c74-44ed-a1e3-3334c245ab98",
   "metadata": {},
   "outputs": [],
   "source": [
    "##LOCAL DIRECTORY TO SAVE FLOAT DATA\n",
    "dir_in = 'Data/delta18O/'"
   ]
  },
  {
   "cell_type": "markdown",
   "id": "f1e1fc2c-07fc-47a1-9a9e-c1ec0cc7237e",
   "metadata": {},
   "source": [
    "The next block of code creates the directory specified above and downloads the shipboard bottle data file to your binder session if it has not already been downloaded.<b> To download the dataset to your local disk from here, right click on the file you want to download and click 'download'. </b>"
   ]
  },
  {
   "cell_type": "code",
   "execution_count": null,
   "id": "54a637d2-77ee-4b2e-be85-576625a2e6d4",
   "metadata": {},
   "outputs": [],
   "source": [
    "#if the file has not already been downloaded, it is downloaded here: \n",
    "if not os.path.isfile(dir_in+'SASSIE_Fall_2022_Shipboard_Delta18O.nc'):\n",
    "    os.makedirs(dir_in)\n",
    "    url = 'https://archive.podaac.earthdata.nasa.gov/podaac-ops-cumulus-protected/SASSIE_L2_SHIPBOARD_DELTA_18O_V1/SASSIE_Fall_2022_Shipboard_Delta18O.nc'\n",
    "    with requests.Session() as session:\n",
    "            session.auth = (username, password)\n",
    "            r1 = session.request('get', url)\n",
    "            r = session.get(r1.url, auth=(username, password))\n",
    "            if (r.status_code == 200) & (r.ok):\n",
    "                    with open(dir_in+'SASSIE_Fall_2022_Shipboard_Delta18O.nc', 'wb') as f:\n",
    "                        f.write(r.content) \n",
    "                        print('Saving Input File: ' + dir_in+'SASSIE_Fall_2022_Shipboard_Delta18O.nc') \n",
    "            else:\n",
    "                print(\"Error:\", r.status_code)\n",
    "                if r.status_code == 401:\n",
    "                    print ('Your Username and/or password are incorrect. Please try again')\n",
    "else: \n",
    "    print('Shipboard Delta 18O file is already in binder directory')"
   ]
  },
  {
   "cell_type": "markdown",
   "id": "f444eecf-4609-4587-85cb-819466ea9bd0",
   "metadata": {
    "jp-MarkdownHeadingCollapsed": true,
    "tags": []
   },
   "source": [
    "<h2> View The Metadata Inside the Delta 18O Files</h2>\n",
    "\n",
    "The netCDF file has global metadata attributes and attributes associated with each variable. This next block will load data and metadata of the netCDF file into an xarray object (ds). <br> The data set will then be displayed in a clickable HTML format. \n"
   ]
  },
  {
   "cell_type": "code",
   "execution_count": null,
   "id": "cf353fc9-4442-48d5-945f-1bc6dbdf9acc",
   "metadata": {},
   "outputs": [],
   "source": [
    "#See information about the entire dataset:\n",
    "file = dir_in + 'SASSIE_Fall_2022_Shipboard_Delta18O.nc'\n",
    "ds = xr.open_dataset(file)\n",
    "ds"
   ]
  },
  {
   "cell_type": "markdown",
   "id": "2315a5b9-b63c-476f-9067-7963ae870df3",
   "metadata": {
    "jp-MarkdownHeadingCollapsed": true,
    "tags": []
   },
   "source": [
    "# Supporting Code \n",
    "The code in this section provides a set up for the figure making code below by defining directories for data and figures and creating functions that will be called to actually make figures from the data"
   ]
  },
  {
   "cell_type": "markdown",
   "id": "2e5c1388-cf31-41ac-91db-90425d73bf30",
   "metadata": {
    "jp-MarkdownHeadingCollapsed": true,
    "tags": []
   },
   "source": [
    "<h3>Create a Directory to Save Figures</h3>"
   ]
  },
  {
   "cell_type": "code",
   "execution_count": null,
   "id": "69c23eae-79f4-4c7b-9365-297b359561ca",
   "metadata": {},
   "outputs": [],
   "source": [
    "#LOCAL DIRECTORY TO SAVE FIGURES\n",
    "fig_dir = 'Figures/Delta18O/'\n",
    "\n",
    "#Define the Delta symbol for use in figures: \n",
    "delta = \"\\u03B4\"\n",
    "\n",
    "#FIGURE DIR \n",
    "if not os.path.exists(fig_dir):\n",
    "    os.makedirs(fig_dir)"
   ]
  },
  {
   "cell_type": "markdown",
   "id": "82e84f7d-e1f8-4d38-b21b-bc63e35f296b",
   "metadata": {
    "jp-MarkdownHeadingCollapsed": true,
    "tags": []
   },
   "source": [
    "<h3>Define a Colormap and Label for Each Variable in the File</h3>\n",
    "Within SASSIE's collection of jupyter notebooks, the colormaps used for each variable are held as consistant as possible across all datasets. This function defines the colormap and a label for the variable of interest. "
   ]
  },
  {
   "cell_type": "code",
   "execution_count": null,
   "id": "36022050-85b3-4b27-8d99-516c2c984370",
   "metadata": {},
   "outputs": [],
   "source": [
    "#DEFINES COLORMAPS AND LABELS OF EACH VARIABLE IN THIS DATA SET\n",
    "def define_variable_attributes(var):\n",
    "    if var =='d18O':\n",
    "        colormap = cmr.tropical\n",
    "        var_label = delta+'$^1$$^8$O'\n",
    "    if var =='temperature':\n",
    "        colormap = 'plasma'\n",
    "        var_label = 'Water Temperature ($^{\\circ}$C)'\n",
    "    return colormap,var_label"
   ]
  },
  {
   "cell_type": "markdown",
   "id": "57b569d7-b743-4b9a-b4d9-2a31fea30635",
   "metadata": {
    "jp-MarkdownHeadingCollapsed": true,
    "tags": []
   },
   "source": [
    "<h3>Define a Function to Create a Map of the Study Area</h3>\n",
    "The following function creates a map of the SASSIE study area, which is defined by minimum and maximum lat/lon values. These ranges can be changed later when the function is called to zoom in/out on the study area."
   ]
  },
  {
   "cell_type": "code",
   "execution_count": null,
   "id": "51a82a12-917f-4936-bfb3-279b99c60774",
   "metadata": {},
   "outputs": [],
   "source": [
    "def map_study_area(latmin = 70, latmax =74,lonmin=-157,lonmax=-140):\n",
    "    global fig \n",
    "    global ax\n",
    "    \n",
    "    #create the map as a figure, set the lat and lon ranges, and add land + river data:\n",
    "    fig = plt.figure(figsize=(10,8))\n",
    "    ax = plt.axes(projection=cartopy.crs.NorthPolarStereo(central_longitude=-150))\n",
    "    ax.set_extent([lonmin,lonmax,latmin,latmax], crs=cartopy.crs.PlateCarree())\n",
    "    ax.coastlines(color='k')  \n",
    "    ax.add_feature(cartopy.feature.LAND, facecolor = '0.50',zorder=1)\n",
    "    ax.add_feature(cartopy.feature.RIVERS,facecolor='blue')\n",
    "    #Add lat and lon gridlines and labels:\n",
    "    gl = ax.gridlines(draw_labels=True, dms=True, x_inline=False, y_inline=False, alpha=0.3) #draw_labels=True gives lat labels.\n",
    "    gl.ylocator = matplotlib.ticker.FixedLocator(np.arange(60,75,1))\n",
    "    gl.xlocator = matplotlib.ticker.FixedLocator(np.arange(-170,-140,2))\n",
    "    gl.top_labels = False; gl.bottom_labels = True ; gl.right_labels = False\n",
    "    \n",
    "    #Add markers for reference cities on the coast:\n",
    "    if (latmin<71.2906) & (lonmin<-156.7886):\n",
    "        utqiagvik = ax.scatter(-156.7886,71.2906,s=100,transform=cartopy.crs.PlateCarree(),c='red',marker = '*',label='Utqiagvik, AK',zorder=2)\n",
    "    if (latmin<70.2002) & (lonmax>-148.4597):\n",
    "        deadhorse = ax.scatter(-148.4597,70.2002,s=100,c='cyan',transform=cartopy.crs.PlateCarree(),marker = '*',label='Deadhorse, AK',zorder=2)"
   ]
  },
  {
   "cell_type": "markdown",
   "id": "7bc8d819-a829-4f67-92da-218511aed3ce",
   "metadata": {
    "jp-MarkdownHeadingCollapsed": true,
    "tags": []
   },
   "source": [
    "<h3>Configure Supporting Data to Add to Maps</h3>\n",
    "<p>The functions for viewing and plotting this data set below have options to include bathymetry and/or AMSR ice data to add context to maps. If you are using these options, run\n",
    "    <br>the following code blocks to:\n",
    "    <br>1. Create a directory for AMSR ice data and acess bathymetry data from NOAA\n",
    "    <br>2. Download Ship Track data and define a function that will add it to the map fro reference. \n",
    "    <br>2. Define functions that add these data to your map when called.</p>"
   ]
  },
  {
   "cell_type": "markdown",
   "id": "df6e890d-7f4b-40c1-922a-4e68b5ffaa89",
   "metadata": {
    "jp-MarkdownHeadingCollapsed": true,
    "tags": []
   },
   "source": [
    "<h4>Create Directory for Ice Data</h4>"
   ]
  },
  {
   "cell_type": "code",
   "execution_count": null,
   "id": "7a23b638-bf1f-4be2-b92c-c1a4c81d1409",
   "metadata": {
    "tags": []
   },
   "outputs": [],
   "source": [
    "##LOCAL DIRECTORY TO SAVE AMSR SEA ICE DATA \n",
    "ice_dir = 'Ice_Data/'\n",
    "\n",
    "#ICE DATA DIR\n",
    "if not os.path.exists(ice_dir):\n",
    "    os.makedirs(ice_dir)"
   ]
  },
  {
   "cell_type": "markdown",
   "id": "c21a15a1-ff41-4b5e-990f-73f56263481b",
   "metadata": {
    "jp-MarkdownHeadingCollapsed": true,
    "tags": []
   },
   "source": [
    "<h4> Access Bathymetry Data</h4>"
   ]
  },
  {
   "cell_type": "code",
   "execution_count": null,
   "id": "c0e71526-5a68-4866-9206-158cf48d0d54",
   "metadata": {},
   "outputs": [],
   "source": [
    "##READ IN TOPOGRAPHY/BATHYMETRY DATA\n",
    "url = 'http://ferret.pmel.noaa.gov/thredds/dodsC/data/PMEL/etopo2.nc'\n",
    "etopodata = xr.open_dataset(url) "
   ]
  },
  {
   "cell_type": "markdown",
   "id": "25fdd434-8d16-49b5-9b6c-8ee0622dfa3a",
   "metadata": {
    "jp-MarkdownHeadingCollapsed": true,
    "tags": []
   },
   "source": [
    "<h4>Define a Function to Add Ice Data to a Map</h4>\n",
    "This function will download the AMSR ice product at the date specified specified and add it to the plot in blue. "
   ]
  },
  {
   "cell_type": "code",
   "execution_count": null,
   "id": "13cd7f62-8987-432b-8a2f-1ffae6b11bcd",
   "metadata": {},
   "outputs": [],
   "source": [
    "def add_ice_data(ice_date):\n",
    "        #get ice data at ice_date\n",
    "        play_start = ice_date\n",
    "        filename_si='AMSR_U2_L3_SeaIce12km_B04_'+str(play_start.year)+str(play_start.month).zfill(2)+str(play_start.day).zfill(2)+'.he5' \n",
    "        i=0\n",
    "        time_tmp=play_start - timedelta(days=i)\n",
    "        while os.path.isfile(ice_dir+filename_si)==False and i<15:\n",
    "            time_tmp=play_start - timedelta(days=i)\n",
    "            filename_si='AMSR_U2_L3_SeaIce12km_B04_'+str(time_tmp.year)+str(time_tmp.month).zfill(2)+str(time_tmp.day).zfill(2)+'.he5'\n",
    "            url = requests.get('https://n5eil01u.ecs.nsidc.org/AMSA/AU_SI12.001/'+str(time_tmp.year)+'.'+str(time_tmp.month).zfill(2)+'.'+str(time_tmp.day).zfill(2)+'/'+filename_si)\n",
    "            with requests.Session() as session:\n",
    "                session.auth = (username, password)\n",
    "                r = session.get(session.request('get', url).url, auth=(username, password))\n",
    "                if (r.status_code == 200) & (r.ok):\n",
    "                        with open(ice_dir+filename_si, 'wb') as f:\n",
    "                            f.write(r.content) \n",
    "                            print('Saving Input File: ' + ice_dir+filename_si) \n",
    "                else:\n",
    "                    print(\"Error:\", r.status_code)\n",
    "                    if r.status_code == 401:\n",
    "                        print ('Your Username and/or password are incorrect. Please try again')\n",
    "            i=i+1\n",
    "\n",
    "        #apply ice data at ice_date in blue\n",
    "        filename_si='AMSR_U2_L3_SeaIce12km_B04_'+str(play_start.year)+str(play_start.month).zfill(2)+str(play_start.day).zfill(2)+'.he5' \n",
    "        if os.path.isfile(ice_dir+filename_si):\n",
    "            dsc = xr.open_dataset(ice_dir+filename_si,group='HDFEOS/GRIDS/NpPolarGrid12km')\n",
    "            dsd = xr.open_dataset(ice_dir+filename_si,group='HDFEOS/GRIDS/NpPolarGrid12km/Data Fields') \n",
    "            var1 = np.array(dsd.SI_12km_NH_ICECON_DAY.squeeze().values)\n",
    "            indx = np.where((var1==120) | (var1==0))\n",
    "            var1[indx] = 0\n",
    "            ice_location = np.ma.masked_where(var1==0,var1)\n",
    "\n",
    "            pp = ax.pcolormesh(dsc.lon,dsc.lat,ice_location, \n",
    "                            vmin=0,vmax=100, # Set max and min values for plotting\n",
    "                            cmap='Blues_r', shading='auto',   # shading='auto' to avoid warning\n",
    "                            transform=cartopy.crs.PlateCarree())\n",
    "        "
   ]
  },
  {
   "cell_type": "markdown",
   "id": "f8358a74-38f9-47ea-b04d-2593f7013732",
   "metadata": {
    "jp-MarkdownHeadingCollapsed": true,
    "tags": []
   },
   "source": [
    "<h4>Create Directory for and Download Shiptrack Data</h4>"
   ]
  },
  {
   "cell_type": "code",
   "execution_count": null,
   "id": "2a14e52f-a9ae-4b30-9436-e7a80383f739",
   "metadata": {
    "tags": []
   },
   "outputs": [],
   "source": [
    "## DIRECTORY TO SHIP TRACK DATA\n",
    "ship_dir =  'Data/TSG/' \n",
    "\n",
    "#DOWLOAD SHIPTRACK DATA\n",
    "if not os.path.isfile(ship_dir+'SASSIE_Fall_2022_Shipboard_TSG.nc'):\n",
    "    os.makedirs(ship_dir)\n",
    "    url = 'https://archive.podaac.earthdata.nasa.gov/podaac-ops-cumulus-protected/SASSIE_L2_SHIPBOARD_TSG_V1/SASSIE_Fall_2022_Shipboard_TSG.nc'\n",
    "    with requests.Session() as session:\n",
    "            session.auth = (username, password)\n",
    "            r1 = session.request('get', url)\n",
    "            r = session.get(r1.url, auth=(username, password))\n",
    "            if r.status_code == 200:\n",
    "                if r.ok:\n",
    "                    with open(ship_dir+'SASSIE_Fall_2022_Shipboard_TSG.nc', 'wb') as f:\n",
    "                        f.write(r.content) \n",
    "                        print('Saving Input File: ' + ship_dir+'SASSIE_Fall_2022_Shipboard_TSG.nc') \n",
    "            else:\n",
    "                print(\"Error:\", r.status_code)\n",
    "                if r.status_code == 401:\n",
    "                    print ('Your Username and/or password are incorrect. Please try again')\n",
    "else: \n",
    "    print('Shipboard TSG file is already in binder directory')"
   ]
  },
  {
   "cell_type": "markdown",
   "id": "69514136-f154-41bd-b50a-a6f94969d841",
   "metadata": {
    "jp-MarkdownHeadingCollapsed": true,
    "tags": []
   },
   "source": [
    "<h4>Define a Function to Index Relevant Bathymetry Data and Add it to the Map</h4>\n",
    "This function will index bathymetry data from NOAA within the appropriate spatial range and add it to the map. \n"
   ]
  },
  {
   "cell_type": "code",
   "execution_count": null,
   "id": "101b05db-ba88-410f-b51b-d0383443740b",
   "metadata": {},
   "outputs": [],
   "source": [
    "def add_bathy_data(latmin = 70, latmax =74,lonmin=-157,lonmax=-140):\n",
    "        topoin = etopodata.rose.values[0:-1:5,1:-1:5]\n",
    "        lons = etopodata.etopo2_x.values[0:-1:5]\n",
    "        lats = etopodata.etopo2_y.values[0:-1:5]\n",
    "        lons_in_range = lons[np.where((lons >lonmin-1) & (lons<lonmax+1))]\n",
    "        lats_in_range = lats[np.where((lats >latmin-1) & (lats<latmax+1))]\n",
    "        topo_in_range = np.squeeze(topoin[np.squeeze(np.where((lats >latmin-1) & (lats<latmax+1))),:][:,np.where((lons >lonmin-1) & (lons<lonmax+1))])\n",
    "        [bathy_lon,bathy_lat] = np.meshgrid(lons_in_range,lats_in_range)\n",
    "        \n",
    "        bathy = ax.contour(bathy_lon,bathy_lat,topo_in_range,np.arange(-6000,-1000,300),transform=cartopy.crs.PlateCarree(),cmap='gray',alpha = 0.2,zorder = 0)"
   ]
  },
  {
   "cell_type": "markdown",
   "id": "4f0c91ec-4d23-47fe-9df5-5b8edd135457",
   "metadata": {
    "jp-MarkdownHeadingCollapsed": true,
    "tags": []
   },
   "source": [
    "<h4>Define a Function to Add Shiptrack Data to a Map</h4>\n",
    "This function will pull the lat/lon data from the SASSIE Shipboard TSG file and put it onto a map. "
   ]
  },
  {
   "cell_type": "code",
   "execution_count": null,
   "id": "a299a54b-4452-48bd-b012-5640bf04ca58",
   "metadata": {
    "tags": []
   },
   "outputs": [],
   "source": [
    "def add_ship_track():\n",
    "        ds_ship = xr.open_dataset(ship_dir+'/SASSIE_Fall_2022_Shipboard_TSG.nc')\n",
    "        ship_time = np.squeeze(ds_ship['time'])\n",
    "        ship_lat = np.squeeze(ds_ship['latitude'])\n",
    "        ship_lon = np.squeeze(ds_ship['longitude'])\n",
    "       \n",
    "        track = ax.plot(ship_lon, \n",
    "                     ship_lat,linewidth = 0.5,\n",
    "                     c='black',\n",
    "                       transform=cartopy.crs.PlateCarree(),label = 'Ship Track',zorder=1)"
   ]
  },
  {
   "cell_type": "markdown",
   "id": "efb851e2-7765-4de4-97be-923e4c6a4b1d",
   "metadata": {
    "jp-MarkdownHeadingCollapsed": true,
    "tags": []
   },
   "source": [
    "# Figure Making Code "
   ]
  },
  {
   "cell_type": "markdown",
   "id": "f52540d1-7b6a-42f2-8249-af345dd0b871",
   "metadata": {
    "jp-MarkdownHeadingCollapsed": true,
    "tags": []
   },
   "source": [
    "<h2>Make Maps of This Data</h2>\n",
    "<p>Using the code in this section, the user can plot the bottle data on a map colored by time, sea surface temperature, or Delta 18O. The code blocks in the 'supporting code' section should be run first. The user will need to input a local directory to save figures and ice data for these to work properly. </p>"
   ]
  },
  {
   "cell_type": "markdown",
   "id": "570ce804-3fcf-4271-9bd4-dba15caeea03",
   "metadata": {
    "jp-MarkdownHeadingCollapsed": true,
    "tags": []
   },
   "source": [
    "<h3> Mapping the Time and Location of Bottle Data Collection</h3>"
   ]
  },
  {
   "cell_type": "markdown",
   "id": "b238279c-4652-4ed4-9cb9-9d43df8fcc04",
   "metadata": {
    "jp-MarkdownHeadingCollapsed": true,
    "tags": []
   },
   "source": [
    "The map_d18O_samples function shows the locations of bottle data collection on a map, colored by time. Various features of this function: \n",
    "    <br>1. This function adds the track of the R/V Woldstad for reference in black. \n",
    "    <br>2. This function adds bathymetry contours showing the position of the continental shelf by default for reference. \n",
    "    <br>3. The user has the option to add the AMSR ice product at a specific date shown by inputting ice_data=datetime(yyyy,m,d) where yyyy,m,d is replaced with the date of interest. </p>"
   ]
  },
  {
   "cell_type": "code",
   "execution_count": null,
   "id": "240cdbc5-274f-467b-bbe0-0201622a3cc4",
   "metadata": {},
   "outputs": [],
   "source": [
    "##Map The D18O Samples and color by time. \n",
    "def map_d18o_samples(bathymetry_data=True,ice_date=False,shiptrack=True):\n",
    "    \n",
    "    ##LOAD DATA FOR SELECTED PLAY\n",
    "    \n",
    "    time_data = np.squeeze(ds['time'].values)\n",
    "    lat_data = np.squeeze(ds['latitude'].values)\n",
    "    lon_data = np.squeeze(ds['longitude'].values)\n",
    "    time_ice_data = np.squeeze(ds['time_ice'].values)\n",
    "    lat_ice_data = np.squeeze(ds['latitude_ice'].values)\n",
    "    lon_ice_data = np.squeeze(ds['longitude_ice'].values)\n",
    "    \n",
    "    ##CREATE A MAP WITH LAND, CITY MARKERS\n",
    "\n",
    "    map_study_area()\n",
    "    \n",
    "    #Give the Map a title \n",
    "    ax.set_title('Location and Time of '+delta+'$^1$$^8$O Sample Collection',fontsize=18) \n",
    "    \n",
    "    ##OPTIONAL MAP ADD-ONs\n",
    "    if bathymetry_data == True:    \n",
    "        add_bathy_data()\n",
    "    if ice_date !=False:\n",
    "        ##ADD ICE DATA\n",
    "        add_ice_data(ice_date)\n",
    "    if shiptrack==True:\n",
    "        add_ship_track()\n",
    "        \n",
    "    ##APPLY WATER LAT/LON DATA\n",
    "    track = ax.scatter(lon_data, \n",
    "             lat_data,s = 30, \n",
    "             c=time_data,cmap=cmr.neon,\n",
    "               transform=cartopy.crs.PlateCarree(),zorder=2)\n",
    "    cbar = fig.colorbar(track, ax=ax, orientation=\"horizontal\", pad=0.1)\n",
    "    cbar.set_label(label='Date',size='large',weight='bold')\n",
    "    cbar_tick_array=(np.linspace(min(time_data).astype('int64'),max(time_data).astype('int64'),4))\n",
    "    cbar.set_ticks(cbar_tick_array)\n",
    "    cbar.set_ticklabels(pd.to_datetime(cbar_tick_array).date)\n",
    "\n",
    "    ##APPLY ICE LAT/LON DATA\n",
    "    track = ax.scatter(lon_ice_data, \n",
    "             lat_ice_data,s = 30, \n",
    "             c=time_ice_data,cmap=cmr.neon,\n",
    "               transform=cartopy.crs.PlateCarree(),marker = 'D',vmin = min(time_data).astype('int64'),vmax = max(time_data).astype('int64'),zorder=2)    \n",
    "    \n",
    "    #MAKE DUMMY ICE AND WATER MARKERS FOR LEGEND \n",
    "    ax.scatter(0,0,s=30,c='k',transform=cartopy.crs.PlateCarree(),label = 'Water Sample')\n",
    "    ax.scatter(0,0,s=30,c='k',transform=cartopy.crs.PlateCarree(),marker='D',label = 'Ice Sample')\n",
    "    plt.legend(loc=2)\n",
    "\n",
    "    ##SAVE FIGURE\n",
    "    if not os.path.exists(fig_dir+'map'):\n",
    "        os.makedirs(fig_dir+'map')\n",
    "        print('Saving Output Image:  '+fig_dir+'map/SASSIE_DELTA_18O_LOCATION.png')\n",
    "        plt.savefig(fig_dir+'map/SASSIE_DELTA_18O_LOCATION.png',dpi='figure',format='png')"
   ]
  },
  {
   "cell_type": "code",
   "execution_count": null,
   "id": "ead11829-0f6b-49f4-830b-e0d8c5683d82",
   "metadata": {},
   "outputs": [],
   "source": [
    "map_d18o_samples()\n",
    "map_d18o_samples(ice_date = datetime(2022,9,20))"
   ]
  },
  {
   "cell_type": "markdown",
   "id": "0d3110c7-9bfe-407f-a064-ed2d73759d8a",
   "metadata": {
    "jp-MarkdownHeadingCollapsed": true,
    "tags": []
   },
   "source": [
    "<h3> Mapping the Temperature and Delta 18O of Bottle Data Collection</h3>"
   ]
  },
  {
   "cell_type": "markdown",
   "id": "727720b0-5d73-43ee-b23f-ed7afaae7e91",
   "metadata": {
    "jp-MarkdownHeadingCollapsed": true,
    "tags": []
   },
   "source": [
    "The map_d18O_samples function shows the locations of bottle data collection on a map, colored by a variable from the file. Various features of this function: \n",
    "    <br>1. This function adds the track of the R/V Woldstad for reference in black. \n",
    "    <br>2. This function adds bathymetry contours showing the position of the continental shelf by default for reference. \n",
    "    <br>3. The user has the option to add the AMSR ice product at a specific date shown by inputting ice_data=datetime(yyyy,m,d) where yyyy,m,d is replaced with the date of interest. </p>"
   ]
  },
  {
   "cell_type": "code",
   "execution_count": null,
   "id": "feaf6a3d-ebbb-46fd-8828-26252b903f38",
   "metadata": {},
   "outputs": [],
   "source": [
    "##Map The Ship Track and contour by time \n",
    "def map_d18o_sample_var(var,bathymetry_data=True,ice_date = False,shiptrack=True):\n",
    "    \n",
    "    ##LOAD DATA\n",
    "    time_data = np.squeeze(ds['time'].values)\n",
    "    var_data = np.squeeze(ds[var].values)\n",
    "    lat_data = np.squeeze(ds['latitude'].values)\n",
    "    lon_data = np.squeeze(ds['longitude'].values)\n",
    "    time_ice_data = np.squeeze(ds['time_ice'].values)\n",
    "    var_ice_data = np.squeeze(ds[var+'_ice'].values)\n",
    "    lat_ice_data = np.squeeze(ds['latitude_ice'].values)\n",
    "    lon_ice_data = np.squeeze(ds['longitude_ice'].values)\n",
    "    \n",
    "    ##CREATE A MAP WITH LAND, CITY MARKERS, BATHYMETRY DATA, AND AMSR ICE DATA AT START AND END OF PLAY.\n",
    "    \n",
    "    #set a color map and variable label\n",
    "    colormap,var_label = define_variable_attributes(var)\n",
    "    \n",
    "    #make the map \n",
    "    map_study_area()\n",
    "    \n",
    "    #add a title\n",
    "    ax.set_title(var_label +' Measurements from Sample Collection',fontsize=18) \n",
    "        \n",
    "    ##OPTIONAL MAP ADD-ONs\n",
    "    if bathymetry_data == True:    \n",
    "        add_bathy_data()\n",
    "    if ice_date !=False:\n",
    "        add_ice_data(ice_date)\n",
    "    if shiptrack==True:\n",
    "        add_ship_track()\n",
    "        \n",
    "    ##APPLY WATER LAT/LON DATA\n",
    "    track = ax.scatter(lon_data, \n",
    "             lat_data,s = 30, \n",
    "             c=var_data,cmap=colormap,\n",
    "               transform=cartopy.crs.PlateCarree(),zorder=2,vmin = min(var_data).astype('int64'),vmax = max(var_data).astype('int64'))\n",
    "    matplotlib.pyplot.colorbar(track, ax=ax, orientation=\"horizontal\", pad=0.1).set_label(label=var_label,size='large',weight='bold')\n",
    "    if var=='d18O':\n",
    "        ##APPLY ICE LAT/LON DATA\n",
    "        track = ax.scatter(lon_ice_data, \n",
    "                 lat_ice_data,s = 30, \n",
    "                 c=var_ice_data,cmap=colormap,\n",
    "                   transform=cartopy.crs.PlateCarree(),marker = 'D',vmin = min(var_data).astype('int64'),vmax = max(var_data).astype('int64'),zorder=2)    \n",
    "\n",
    "    #MAKE DUMMY ICE AND WATER MARKERS FOR LEGEND \n",
    "    ax.scatter(0,0,s=30,c='k',transform=cartopy.crs.PlateCarree(),label = 'Water Sample')\n",
    "    ax.scatter(0,0,s=30,c='k',transform=cartopy.crs.PlateCarree(),marker='D',label = 'Ice Sample')\n",
    "    plt.legend(loc=4)\n",
    "\n",
    "    ##SAVE FIGURE\n",
    "    if not os.path.exists(fig_dir+var):\n",
    "        os.makedirs(fig_dir+var)\n",
    "    print('Saving Output Image:  '+fig_dir+var+'/SASSIE_DELTA_18O_LOCATION.png')\n",
    "    plt.savefig(fig_dir+var+'/SASSIE_DELTA_18O_LOCATION.png',dpi='figure',format='png')"
   ]
  },
  {
   "cell_type": "code",
   "execution_count": null,
   "id": "5fc2b157-f9c9-441d-8c49-d332b82e30ab",
   "metadata": {},
   "outputs": [],
   "source": [
    "map_d18o_sample_var('d18O')"
   ]
  },
  {
   "cell_type": "markdown",
   "id": "071dd03c-7047-47c1-b0ff-f04cee5e0e2c",
   "metadata": {
    "jp-MarkdownHeadingCollapsed": true,
    "tags": []
   },
   "source": [
    "<h2> Making a Histogram of Delta 18O Ratio and Temperature</h2>"
   ]
  },
  {
   "cell_type": "code",
   "execution_count": null,
   "id": "ff916231-aef2-4f8d-b93f-c9d377920996",
   "metadata": {},
   "outputs": [],
   "source": [
    "##MAKE HISTOGRAM OF D18O Data \n",
    "def histogram_d18o(var):\n",
    "\n",
    "    ##LOAD DATA\n",
    "    d18O_data= np.squeeze(ds['d18O'].values)\n",
    "    temp_data = np.squeeze(ds['temperature'].values)\n",
    "     #MAKE A TWO PANNELED TIME SERIES PLOT\n",
    "    fig,axs = plt.subplots(1)\n",
    "    fig.tight_layout(pad=2.0)\n",
    "    fig.suptitle('Histogram of ' +delta+'$^1$$^8$O Bottle Data')\n",
    "    \n",
    " \n",
    " \n",
    "    axs.hist(d18O_data,bins=20,facecolor='k',edgecolor='white',linewidth=3)\n",
    "    axs.set(xlabel=delta+'$^1$$^8$O Ratio',ylabel='Number of \\n Measurements')\n",
    "\n",
    "    #axs[1].hist(temp_data,bins=20,facecolor='k',edgecolor='white',linewidth=3)\n",
    "    #axs[1].set(xlabel='Temperature ($^{\\circ}$C)',ylabel='Number of \\n Measurements')\n",
    "    \n",
    "    ##SAVE FIGURE\n",
    "    if not os.path.exists(fig_dir+'Histogram'):\n",
    "        os.makedirs(fig_dir+'Histogram')\n",
    "    print('Saving Output Image:  '+fig_dir+'Histogram'+'/SASSIE_DELTA_18O_Hist.png')\n",
    "    plt.savefig(fig_dir+'Histogram'+'/SASSIE_DELTA_18O_Hist.png',dpi='figure',format='png')"
   ]
  },
  {
   "cell_type": "code",
   "execution_count": null,
   "id": "5718d5c2-e4cb-4051-856c-808b5ec45f6b",
   "metadata": {},
   "outputs": [],
   "source": [
    "histogram_d18o('d18O')"
   ]
  },
  {
   "cell_type": "code",
   "execution_count": null,
   "id": "74a656c4-0f45-4308-9b03-cb709c734617",
   "metadata": {},
   "outputs": [],
   "source": []
  }
 ],
 "metadata": {
  "kernelspec": {
   "display_name": "Python 3 (ipykernel)",
   "language": "python",
   "name": "python3"
  },
  "language_info": {
   "codemirror_mode": {
    "name": "ipython",
    "version": 3
   },
   "file_extension": ".py",
   "mimetype": "text/x-python",
   "name": "python",
   "nbconvert_exporter": "python",
   "pygments_lexer": "ipython3",
   "version": "3.9.16"
  }
 },
 "nbformat": 4,
 "nbformat_minor": 5
}
